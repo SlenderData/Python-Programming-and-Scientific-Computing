{
 "cells": [
  {
   "cell_type": "code",
   "execution_count": 1,
   "id": "371bb995",
   "metadata": {
    "tags": []
   },
   "outputs": [],
   "source": [
    "#添加以下代码以显示单元格中的所有输出\n",
    "from IPython.core.interactiveshell import InteractiveShell\n",
    "InteractiveShell.ast_node_interactivity = \"all\""
   ]
  },
  {
   "cell_type": "markdown",
   "id": "63182935",
   "metadata": {
    "slideshow": {
     "slide_type": "slide"
    },
    "tags": []
   },
   "source": [
    "### § 0.2 开发环境的安装与配置"
   ]
  },
  {
   "cell_type": "markdown",
   "id": "d814c699",
   "metadata": {},
   "source": [
    "**1.语言解释器安装程序      \n",
    "2.检验Python是否装好   \n",
    "3.配置环境变量  \n",
    "4.示例程序：输出“Hello Python world!”    \n",
    "5.其他IDE简介**"
   ]
  },
  {
   "cell_type": "markdown",
   "id": "a9f79c19",
   "metadata": {
    "slideshow": {
     "slide_type": "subslide"
    }
   },
   "source": [
    "**1.语言解释器安装程序  \n",
    "a. Anaconda的安装**"
   ]
  },
  {
   "cell_type": "markdown",
   "id": "a46060bd",
   "metadata": {},
   "source": [
    " <img style=\"float:left;\" src=\"File&Figure\\0IDE1.jpg\" width=\"33%\">"
   ]
  },
  {
   "cell_type": "markdown",
   "id": "2c594cbe",
   "metadata": {
    "slideshow": {
     "slide_type": "subslide"
    }
   },
   "source": [
    "**b.Python程序的安装(https://www.python.org/)** "
   ]
  },
  {
   "cell_type": "markdown",
   "id": "77e4602c",
   "metadata": {},
   "source": [
    "<img style=\"float:center;\" src=\"File&Figure\\0PythonDown.jpg\" width=\"60%\"> "
   ]
  },
  {
   "cell_type": "markdown",
   "id": "4d03e701",
   "metadata": {
    "slideshow": {
     "slide_type": "subslide"
    }
   },
   "source": [
    "<img style=\"float:left;\" src=\"File&Figure\\0Pinstall1.png\" width=\"60%\">"
   ]
  },
  {
   "cell_type": "markdown",
   "id": "3b0be597",
   "metadata": {
    "slideshow": {
     "slide_type": "subslide"
    }
   },
   "source": [
    "<img style=\"float:left;\" src=\"File&Figure\\0Pinstall2.png\" width=\"60%\">"
   ]
  },
  {
   "cell_type": "markdown",
   "id": "dcadcb70",
   "metadata": {
    "slideshow": {
     "slide_type": "subslide"
    }
   },
   "source": [
    "<img style=\"float:center;\" src=\"File&Figure\\0Pinstall3.png\" width=\"60%\">"
   ]
  },
  {
   "cell_type": "markdown",
   "id": "d7d1923a",
   "metadata": {
    "slideshow": {
     "slide_type": "subslide"
    }
   },
   "source": [
    "**2.检验Python是否装好**"
   ]
  },
  {
   "cell_type": "markdown",
   "id": "500c1b6f",
   "metadata": {},
   "source": [
    "<img style=\"float:center;\" src=\"File&Figure\\0Pinstall8.jpg\" width=\"65%\">"
   ]
  },
  {
   "cell_type": "markdown",
   "id": "509b0002",
   "metadata": {
    "slideshow": {
     "slide_type": "subslide"
    }
   },
   "source": [
    "**3.配置环境变量**"
   ]
  },
  {
   "cell_type": "markdown",
   "id": "90a34b90",
   "metadata": {},
   "source": [
    "<img style=\"float:center;\" src=\"File&Figure\\0Pinstall4.jpg\" width=\"80%\"> "
   ]
  },
  {
   "cell_type": "markdown",
   "id": "8b8386ee",
   "metadata": {
    "slideshow": {
     "slide_type": "subslide"
    }
   },
   "source": [
    "<img style=\"float:center;\" src=\"File&Figure\\0Pinstall5.jpg\" width=\"40%\">"
   ]
  },
  {
   "cell_type": "markdown",
   "id": "135e877f",
   "metadata": {
    "slideshow": {
     "slide_type": "subslide"
    }
   },
   "source": [
    "<img style=\"float:center;\" src=\"File&Figure\\0Pinstall6.jpg\" width=\"50%\">"
   ]
  },
  {
   "cell_type": "markdown",
   "id": "e3fd0b0b",
   "metadata": {
    "slideshow": {
     "slide_type": "subslide"
    }
   },
   "source": [
    "<img style=\"float:center;\" src=\"File&Figure\\0Pinstall7.jpg\" width=\"55%\">"
   ]
  },
  {
   "cell_type": "markdown",
   "id": "76e36ef6",
   "metadata": {
    "slideshow": {
     "slide_type": "subslide"
    }
   },
   "source": [
    "**4.示例程序：输出“Hello Python world!”**"
   ]
  },
  {
   "cell_type": "markdown",
   "id": "b349a58a",
   "metadata": {},
   "source": [
    "<img style=\"float:center;\" src=\"File&Figure\\0Pinstall9.jpg\" width=\"75%\">"
   ]
  },
  {
   "cell_type": "markdown",
   "id": "758be9c7",
   "metadata": {
    "slideshow": {
     "slide_type": "subslide"
    }
   },
   "source": [
    "**5. 其他IDE简介**"
   ]
  },
  {
   "cell_type": "markdown",
   "id": "536e275b",
   "metadata": {},
   "source": [
    "<img style=\"float:left;\" src=\"File&Figure\\0Pinstall10.jpg\" width=\"58%\">"
   ]
  },
  {
   "cell_type": "markdown",
   "id": "d3701b0f",
   "metadata": {
    "slideshow": {
     "slide_type": "subslide"
    }
   },
   "source": [
    "<img style=\"float:center;\" src=\"File&Figure\\0Pinstall11.jpg\" width=\"60%\">"
   ]
  },
  {
   "cell_type": "markdown",
   "id": "01f28980",
   "metadata": {
    "slideshow": {
     "slide_type": "slide"
    }
   },
   "source": [
    "### 第2课 选择与流程控制"
   ]
  },
  {
   "cell_type": "markdown",
   "id": "03a2bda4",
   "metadata": {},
   "source": [
    "**§2.1 条件表达式  \n",
    "§2.2 选择结构  \n",
    "§2.3 循环结构   \n",
    "§2.4 random库**"
   ]
  },
  {
   "cell_type": "markdown",
   "id": "c115bbba",
   "metadata": {
    "slideshow": {
     "slide_type": "subslide"
    },
    "tags": []
   },
   "source": [
    "#### **§2.1 条件表达式**"
   ]
  },
  {
   "cell_type": "markdown",
   "id": "91735352",
   "metadata": {},
   "source": [
    "**1. 关系运算符  ==, !=, <>, >=, <=, >, <**"
   ]
  },
  {
   "cell_type": "code",
   "execution_count": 52,
   "id": "e3a6c33a",
   "metadata": {},
   "outputs": [
    {
     "data": {
      "text/plain": [
       "(10, 50)"
      ]
     },
     "execution_count": 52,
     "metadata": {},
     "output_type": "execute_result"
    },
    {
     "data": {
      "text/plain": [
       "(False, True, False)"
      ]
     },
     "execution_count": 52,
     "metadata": {},
     "output_type": "execute_result"
    },
    {
     "data": {
      "text/plain": [
       "(False, True)"
      ]
     },
     "execution_count": 52,
     "metadata": {},
     "output_type": "execute_result"
    }
   ],
   "source": [
    "a, b = 10, 50\n",
    "a, b\n",
    "a > b,   0 < a < b,  a == b\n",
    "a >= b,   a <= b"
   ]
  },
  {
   "cell_type": "markdown",
   "id": "5e0f03a1",
   "metadata": {
    "slideshow": {
     "slide_type": "subslide"
    }
   },
   "source": [
    "<img style=\"float:left;\" src=\"File&Figure\\3ASCII.jpg\" width=\"40%\">"
   ]
  },
  {
   "cell_type": "code",
   "execution_count": 53,
   "id": "94ad4437",
   "metadata": {
    "slideshow": {
     "slide_type": "-"
    }
   },
   "outputs": [
    {
     "data": {
      "text/plain": [
       "True"
      ]
     },
     "execution_count": 53,
     "metadata": {},
     "output_type": "execute_result"
    },
    {
     "data": {
      "text/plain": [
       "False"
      ]
     },
     "execution_count": 53,
     "metadata": {},
     "output_type": "execute_result"
    },
    {
     "data": {
      "text/plain": [
       "True"
      ]
     },
     "execution_count": 53,
     "metadata": {},
     "output_type": "execute_result"
    }
   ],
   "source": [
    "#1. 关系运算符 ==, !=, <>, >=, <=, >, <\n",
    "'a'>\"BC\"\n",
    "\"ABC\" > \"ab\"\n",
    "\"Python\" < \"python\""
   ]
  },
  {
   "cell_type": "markdown",
   "id": "28d34d4b",
   "metadata": {
    "slideshow": {
     "slide_type": "subslide"
    }
   },
   "source": [
    "**2.逻辑运算符 and(并且), or(或者), not(取反)**"
   ]
  },
  {
   "cell_type": "code",
   "execution_count": 54,
   "id": "bb2f9635",
   "metadata": {},
   "outputs": [
    {
     "data": {
      "text/plain": [
       "False"
      ]
     },
     "execution_count": 54,
     "metadata": {},
     "output_type": "execute_result"
    },
    {
     "data": {
      "text/plain": [
       "True"
      ]
     },
     "execution_count": 54,
     "metadata": {},
     "output_type": "execute_result"
    },
    {
     "data": {
      "text/plain": [
       "True"
      ]
     },
     "execution_count": 54,
     "metadata": {},
     "output_type": "execute_result"
    }
   ],
   "source": [
    "a, b = 10, 50\n",
    "a > 10 and b < 100 \n",
    "a > 10 or b < 100\n",
    "not(a > 10 and b < 100)"
   ]
  },
  {
   "cell_type": "markdown",
   "id": "498baad8",
   "metadata": {
    "slideshow": {
     "slide_type": "subslide"
    }
   },
   "source": [
    "**3. 条件表达式: 使用各种运算符可以构建不同的条件表达式。**"
   ]
  },
  {
   "cell_type": "markdown",
   "id": "fd9f2198",
   "metadata": {},
   "source": [
    "**假设有整数x，表示x为一个偶数。**"
   ]
  },
  {
   "cell_type": "code",
   "execution_count": 55,
   "id": "281ca78f",
   "metadata": {},
   "outputs": [
    {
     "data": {
      "text/plain": [
       "True"
      ]
     },
     "execution_count": 55,
     "metadata": {},
     "output_type": "execute_result"
    }
   ],
   "source": [
    "x = 30\n",
    "x % 2 == 0"
   ]
  },
  {
   "cell_type": "markdown",
   "id": "934ab0ee",
   "metadata": {
    "slideshow": {
     "slide_type": "subslide"
    }
   },
   "source": [
    "**假设有整数x，表示x是3的倍数且个位上数字为5。**"
   ]
  },
  {
   "cell_type": "code",
   "execution_count": 56,
   "id": "60813671",
   "metadata": {},
   "outputs": [
    {
     "data": {
      "text/plain": [
       "True"
      ]
     },
     "execution_count": 56,
     "metadata": {},
     "output_type": "execute_result"
    }
   ],
   "source": [
    "x = 15\n",
    "x % 3 == 0 and x % 10 == 5"
   ]
  },
  {
   "cell_type": "markdown",
   "id": "0082c1ef",
   "metadata": {
    "slideshow": {
     "slide_type": "subslide"
    }
   },
   "source": [
    "**3. 条件表达式: 使用各种运算符可以构建不同的条件表达式。**"
   ]
  },
  {
   "cell_type": "markdown",
   "id": "400982ce",
   "metadata": {},
   "source": [
    "**假设有三条线段，长度分别为a、b、c，表示a、b、c能构成一个三角形。**"
   ]
  },
  {
   "cell_type": "code",
   "execution_count": 57,
   "id": "70098ac6",
   "metadata": {},
   "outputs": [
    {
     "data": {
      "text/plain": [
       "True"
      ]
     },
     "execution_count": 57,
     "metadata": {},
     "output_type": "execute_result"
    }
   ],
   "source": [
    "a, b, c = 4, 5, 6\n",
    "(a+b>c)and(b+c>a)and(a+c>b)and(a>0)and(b>0)and(c>0)"
   ]
  },
  {
   "cell_type": "markdown",
   "id": "43041cfb",
   "metadata": {
    "slideshow": {
     "slide_type": "subslide"
    }
   },
   "source": [
    "**判断year为闰年的条件是：如果year是4的倍数且不是100的倍数，或者year是400的倍数。**"
   ]
  },
  {
   "cell_type": "code",
   "execution_count": 58,
   "id": "9b88811d",
   "metadata": {},
   "outputs": [
    {
     "data": {
      "text/plain": [
       "False"
      ]
     },
     "execution_count": 58,
     "metadata": {},
     "output_type": "execute_result"
    }
   ],
   "source": [
    "year = 2023\n",
    "(year % 4 == 0 and year % 100 != 0) or (year % 400 == 0)"
   ]
  },
  {
   "cell_type": "markdown",
   "id": "c512ad37",
   "metadata": {
    "slideshow": {
     "slide_type": "slide"
    },
    "tags": []
   },
   "source": [
    "#### §2.2 选择结构"
   ]
  },
  {
   "cell_type": "markdown",
   "id": "c0bc60ee",
   "metadata": {},
   "source": [
    "**1. 单分支结构：if语句      2.双分支结构：if-else语句**"
   ]
  },
  {
   "cell_type": "markdown",
   "id": "8909d77f",
   "metadata": {},
   "source": [
    "<img style=\"float: left;\" src=\"File&Figure/3singleswitch.png\" width=\"22%\"> \n",
    "<img style=\"float: left;\" src=\"File&Figure/sspace.png\" width=\"10%\">\n",
    "<img style=\"float: left;\" src=\"File&Figure/3doubleswitch.png\" width=\"27%\">"
   ]
  },
  {
   "cell_type": "markdown",
   "id": "bc570ba7",
   "metadata": {
    "slideshow": {
     "slide_type": "subslide"
    }
   },
   "source": [
    "**(1). 选择结构 百分制成绩**"
   ]
  },
  {
   "cell_type": "markdown",
   "id": "e95c21ed",
   "metadata": {},
   "source": [
    "**输入百分制成绩，输出相应的等级：  \n",
    "90分以上为‘A’；     80-89分为‘B’；     \n",
    "70-79分为‘C’；      60-69分为‘D’；  \n",
    "60分以下为‘E’；     \n",
    "如果分数大于100或者小于0.则输出“成绩有误”。**"
   ]
  },
  {
   "cell_type": "markdown",
   "id": "a467c69f",
   "metadata": {
    "slideshow": {
     "slide_type": "subslide"
    }
   },
   "source": [
    "<img style=\"float: left;\" src=\"File&Figure/3singleswitch.png\" width=\"22%\"> \n",
    "<img style=\"float: left;\" src=\"File&Figure/3doubleswitch.png\" width=\"27%\">\n",
    "<img style=\"float: left;\" src=\"File&Figure\\3scoeflow1.png\" width=\"51%\">"
   ]
  },
  {
   "cell_type": "code",
   "execution_count": 59,
   "id": "86d5c911",
   "metadata": {
    "slideshow": {
     "slide_type": "subslide"
    }
   },
   "outputs": [
    {
     "name": "stdout",
     "output_type": "stream",
     "text": [
      "请输入百分制成绩：89\n",
      "B\n"
     ]
    }
   ],
   "source": [
    "score = eval(input(\"请输入百分制成绩：\"))\n",
    "if 90 <= score <= 100:\n",
    "    print('A')\n",
    "elif 80 <= score <= 89:\n",
    "    print('B')\n",
    "elif 70 <= score <= 79:\n",
    "    print('C')\n",
    "elif 60 <= score <= 69:\n",
    "    print('D')\n",
    "elif 0 <= score <= 59:\n",
    "    print('E')\n",
    "else:\n",
    "    print('成绩有误！')"
   ]
  },
  {
   "cell_type": "markdown",
   "id": "557b1162",
   "metadata": {
    "slideshow": {
     "slide_type": "subslide"
    }
   },
   "source": [
    "**(2). 选择结构的另一种写法**"
   ]
  },
  {
   "cell_type": "code",
   "execution_count": 60,
   "id": "3f35854d",
   "metadata": {},
   "outputs": [
    {
     "name": "stdout",
     "output_type": "stream",
     "text": [
      "请输入百分制成绩：78\n"
     ]
    },
    {
     "data": {
      "text/plain": [
       "'C'"
      ]
     },
     "execution_count": 60,
     "metadata": {},
     "output_type": "execute_result"
    }
   ],
   "source": [
    "score = eval(input(\"请输入百分制成绩：\"))\n",
    "level = ('E' if 0<=score<60 else\n",
    "         'D' if 60<=score<70 else\n",
    "         'C' if 70<=score<80 else\n",
    "         'B' if 80<=score<90 else\n",
    "         'A' if 90<=score<=100 else       \n",
    "         \"请输入0-100以内的数\")\n",
    "level "
   ]
  },
  {
   "cell_type": "markdown",
   "id": "88bcb7b5",
   "metadata": {
    "slideshow": {
     "slide_type": "subslide"
    }
   },
   "source": [
    "**(3). 选择结构例题：简单的出租车计费系统**"
   ]
  },
  {
   "cell_type": "markdown",
   "id": "c60d2905",
   "metadata": {},
   "source": [
    "**当输入行程的总里程时，输出乘客应该付的车费(车费保留1位小数)。计费标准具体为:  \n",
    "起步价： 11元/3千米，  \n",
    "超过3千米， 每千米的费用为1.3元，  \n",
    "超过10千米以后， 每千米的费用为1.5元。**"
   ]
  },
  {
   "cell_type": "code",
   "execution_count": 63,
   "id": "0fd2f7cf",
   "metadata": {
    "slideshow": {
     "slide_type": "subslide"
    }
   },
   "outputs": [
    {
     "name": "stdout",
     "output_type": "stream",
     "text": [
      "请输入千米数:78\n",
      "您需要支付 122.1 元车费\n"
     ]
    }
   ],
   "source": [
    "km=float(input(\"请输入千米数:\"))\n",
    "if km<=0:\n",
    "    print(\"千米数输入错误，重新输入\")\n",
    "elif km<=3:\n",
    "    print(\"您需要支付11元车费\")\n",
    "elif km<=10:\n",
    "    cost=11 + (km-3)*1.3\n",
    "    print(\"您需要支付{:.1f}元车费\".format(cost))\n",
    "else:\n",
    "    cost=11 + 1.3*(10-3) + (km-10)*1.5\n",
    "    print(\"您需要支付 {:.1f} 元车费\".format(cost))"
   ]
  },
  {
   "cell_type": "markdown",
   "id": "17e6ae7e",
   "metadata": {
    "slideshow": {
     "slide_type": "subslide"
    }
   },
   "source": [
    "**(4). 选择结构例题：判断一个三位数中的最大数字**"
   ]
  },
  {
   "cell_type": "markdown",
   "id": "31411a3b",
   "metadata": {
    "slideshow": {
     "slide_type": "-"
    }
   },
   "source": [
    "<img style=\"float:left;\" src=\"File&Figure\\3maxnumberflow.jpg\" width=\"30%\">\n",
    "<img style=\"float:left;\" src=\"File&Figure\\3maxnumberprogram.png\" width=\"45%\">"
   ]
  },
  {
   "cell_type": "code",
   "execution_count": 64,
   "id": "3381da7e",
   "metadata": {
    "slideshow": {
     "slide_type": "subslide"
    },
    "tags": []
   },
   "outputs": [
    {
     "name": "stdout",
     "output_type": "stream",
     "text": [
      "请输入一个三位的正整数：789\n",
      "789中最大的数字是:9\n"
     ]
    }
   ],
   "source": [
    "num = input(\"请输入一个三位的正整数：\")\n",
    "if len(num)<3:\n",
    "    num = input(\"输入错误，请重新输入一个三位的正整数：\")\n",
    "a, b, c = num[0], num[1], num[2]\n",
    "if a>b:\n",
    "    if a>c:\n",
    "        max_num = a\n",
    "    else:\n",
    "        max_num = c\n",
    "else:\n",
    "    if b>c:\n",
    "        max_num = b\n",
    "    else:\n",
    "        max_num = c\n",
    "print(num + \"中最大的数字是:\" + max_num) "
   ]
  },
  {
   "cell_type": "markdown",
   "id": "5f11cd8b",
   "metadata": {
    "slideshow": {
     "slide_type": "subslide"
    }
   },
   "source": [
    "**(5). 选择结构例题：用户身份验证**"
   ]
  },
  {
   "cell_type": "markdown",
   "id": "2a4ca547",
   "metadata": {
    "slideshow": {
     "slide_type": "-"
    }
   },
   "source": [
    "<img style=\"float:left;\" src=\"File&Figure\\3usernamepassword.jpg\" width=\"30%\">\n",
    "<img style=\"float:right;\" src=\"File&Figure\\3usernamepasswordprog.png\" width=\"60%\">"
   ]
  },
  {
   "cell_type": "code",
   "execution_count": 65,
   "id": "70a946ec",
   "metadata": {
    "slideshow": {
     "slide_type": "subslide"
    }
   },
   "outputs": [
    {
     "name": "stdout",
     "output_type": "stream",
     "text": [
      "please input your username:admin\n",
      "please input your password:0000\n",
      "welcome admin!\n"
     ]
    }
   ],
   "source": [
    "username = input(\"please input your username:\")\n",
    "if (username != \"admin\"):\n",
    "    print(\"user name is fail\")\n",
    "else:\n",
    "    password = input(\"please input your password:\")\n",
    "    if password != \"0000\":\n",
    "        print(\"password is fail\")\n",
    "    else:\n",
    "        print(\"welcome admin!\")"
   ]
  },
  {
   "cell_type": "markdown",
   "id": "1aa78d00",
   "metadata": {
    "slideshow": {
     "slide_type": "slide"
    },
    "tags": []
   },
   "source": [
    "#### 动手试一试1"
   ]
  },
  {
   "cell_type": "markdown",
   "id": "a9156427",
   "metadata": {},
   "source": [
    "**（1）从键盘上输入一个字符，  \n",
    "当输入的是英文字母时，输出“输入的英文字母”；  \n",
    "当输入的是数字，输出“输入的是数字”；  \n",
    "当输入的是其他字符时，输出“输入的是什么？”。  \n",
    "    编程实现以上功能。**"
   ]
  },
  {
   "cell_type": "code",
   "execution_count": 2,
   "id": "94b833dd-1d4d-41a2-bf82-65647a33bb67",
   "metadata": {
    "tags": []
   },
   "outputs": [
    {
     "name": "stdin",
     "output_type": "stream",
     "text": [
      "请输入一个字符: 1\n"
     ]
    },
    {
     "name": "stdout",
     "output_type": "stream",
     "text": [
      "输入的是数字\n"
     ]
    }
   ],
   "source": [
    "ch = input(\"请输入一个字符:\")\n",
    "if ch.isdigit() == True:\n",
    "    print(\"输入的是数字\")\n",
    "elif ch.isalpha() == True:\n",
    "    print(\"输入的是英文字母\")\n",
    "else:\n",
    "    print(\"输入的是什么？\")"
   ]
  },
  {
   "cell_type": "markdown",
   "id": "9650d4d9",
   "metadata": {
    "slideshow": {
     "slide_type": "slide"
    },
    "tags": []
   },
   "source": [
    "#### §2.3 循环结构 "
   ]
  },
  {
   "cell_type": "markdown",
   "id": "6c320695",
   "metadata": {
    "slideshow": {
     "slide_type": "-"
    },
    "tags": []
   },
   "source": [
    "**有限循环结构：for语句   有限无限循环结构：while 语句**"
   ]
  },
  {
   "cell_type": "markdown",
   "id": "b070fcc0",
   "metadata": {},
   "source": [
    "<img style=\"float: left;\" src=\"File&Figure/3forloop.png\" width=\"26%\"> \n",
    "<img style=\"float: left;\" src=\"File&Figure/sspace.png\" width=\"15%\">\n",
    "<img style=\"float: left;\" src=\"File&Figure/3whileloop.png\" width=\"25%\"> "
   ]
  },
  {
   "cell_type": "markdown",
   "id": "96f912c3",
   "metadata": {
    "slideshow": {
     "slide_type": "subslide"
    }
   },
   "source": [
    "**1. for语句  \n",
    "迭代器是字符串、列表或数组**"
   ]
  },
  {
   "cell_type": "code",
   "execution_count": 66,
   "id": "8d108760",
   "metadata": {},
   "outputs": [
    {
     "name": "stdout",
     "output_type": "stream",
     "text": [
      "a   b   c   d   e   "
     ]
    }
   ],
   "source": [
    "for s in \"abcde\":\n",
    "    print(s, end='   ')"
   ]
  },
  {
   "cell_type": "code",
   "execution_count": 67,
   "id": "6a0193c7",
   "metadata": {},
   "outputs": [
    {
     "name": "stdout",
     "output_type": "stream",
     "text": [
      "30   35   40   50   100   "
     ]
    }
   ],
   "source": [
    "for s in [30, 35, 40, 50, 100]:\n",
    "    print(s, end='   ')"
   ]
  },
  {
   "cell_type": "markdown",
   "id": "c5603f8e",
   "metadata": {
    "slideshow": {
     "slide_type": "subslide"
    }
   },
   "source": [
    "**迭代器是 range(m,n,d)函数(整数)①②**"
   ]
  },
  {
   "cell_type": "code",
   "execution_count": 68,
   "id": "4df3ee62",
   "metadata": {},
   "outputs": [
    {
     "name": "stdout",
     "output_type": "stream",
     "text": [
      "0   1   2   3   4   5   6   7   8   9   "
     ]
    }
   ],
   "source": [
    "for s in range(10):\n",
    "    print(s, end='   ')"
   ]
  },
  {
   "cell_type": "code",
   "execution_count": 69,
   "id": "8c6ad036",
   "metadata": {
    "slideshow": {
     "slide_type": "-"
    }
   },
   "outputs": [
    {
     "name": "stdout",
     "output_type": "stream",
     "text": [
      "1   2   3   4   5   6   7   8   9   "
     ]
    }
   ],
   "source": [
    "for s in range(1,10):\n",
    "    print(s, end='   ')"
   ]
  },
  {
   "cell_type": "markdown",
   "id": "06161881",
   "metadata": {
    "slideshow": {
     "slide_type": "subslide"
    }
   },
   "source": [
    "**迭代器是 range(m,n,d)函数(整数)③④**"
   ]
  },
  {
   "cell_type": "code",
   "execution_count": 70,
   "id": "cc7093ff",
   "metadata": {},
   "outputs": [
    {
     "name": "stdout",
     "output_type": "stream",
     "text": [
      "1   3   5   7   9   "
     ]
    }
   ],
   "source": [
    "for s in range(1, 10, 2):\n",
    "    print(s, end='   ')"
   ]
  },
  {
   "cell_type": "code",
   "execution_count": 71,
   "id": "610c5d06",
   "metadata": {},
   "outputs": [
    {
     "name": "stdout",
     "output_type": "stream",
     "text": [
      "10   9   8   7   6   5   4   3   2   "
     ]
    }
   ],
   "source": [
    "for s in range(10, 1, -1):\n",
    "    print(s, end='   ')"
   ]
  },
  {
   "cell_type": "markdown",
   "id": "3cbc9274",
   "metadata": {
    "slideshow": {
     "slide_type": "subslide"
    }
   },
   "source": [
    "**2. 循环结构例题：循环用户身份验证**"
   ]
  },
  {
   "cell_type": "markdown",
   "id": "42d30ddb",
   "metadata": {},
   "source": [
    "<img style=\"float: left;\" src=\"File&Figure/3loopusernamepassword.jpg\" width=\"24%\"> \n",
    "<img style=\"float: center;\" src=\"File&Figure/3loopusernamepasswordprog.png\" width=\"44%\"> "
   ]
  },
  {
   "cell_type": "code",
   "execution_count": null,
   "id": "34dc7dcf",
   "metadata": {
    "slideshow": {
     "slide_type": "subslide"
    },
    "tags": []
   },
   "outputs": [],
   "source": [
    "yes, yes1 = True, True\n",
    "username = input(\"please input your username:\")\n",
    "while yes == True:\n",
    "    if (username != \"admin\"):\n",
    "        print(\"user name is fail\")\n",
    "        username = input(\"please input your username:\")\n",
    "    else: \n",
    "         yes = False\n",
    "password = input(\"please input your password:\")\n",
    "while yes1 == True: \n",
    "    if password != \"0000\":\n",
    "        print(\"password is fail\")\n",
    "        password = input(\"please input your password:\")\n",
    "else:\n",
    "        yes1 = False\n",
    "        print(\"welcome admin!\")        "
   ]
  },
  {
   "cell_type": "markdown",
   "id": "520ae44f",
   "metadata": {
    "slideshow": {
     "slide_type": "subslide"
    }
   },
   "source": [
    "**3. 循环语句中的break和continue语句**"
   ]
  },
  {
   "cell_type": "markdown",
   "id": "4e8c4534",
   "metadata": {},
   "source": [
    "<img style=\"float: left;\" src=\"File&Figure/3loopbreak.png\" width=\"30%\"> \n",
    "<img style=\"float: center;\" src=\"File&Figure/3loopcontinue.png\" width=\"30%\">"
   ]
  },
  {
   "cell_type": "markdown",
   "id": "f7368106",
   "metadata": {
    "slideshow": {
     "slide_type": "subslide"
    }
   },
   "source": [
    "**3.I 循环结构例题：找出所有小于等于N的素数。**"
   ]
  },
  {
   "cell_type": "code",
   "execution_count": 73,
   "id": "f4dde1e2",
   "metadata": {},
   "outputs": [
    {
     "name": "stdout",
     "output_type": "stream",
     "text": [
      "找出所有小于等于100的素数\n",
      "[97, 89, 83, 79, 73, 71, 67, 61, 59, 53, 47, 43, 41, 37, 31, 29, 23, 19, 17, 13, 11, 7, 5, 3, 2]\n"
     ]
    }
   ],
   "source": [
    "N=100\n",
    "print(\"找出所有小于等于\"+str(N)+\"的素数\")\n",
    "prime=[]\n",
    "for n in range(N,1,-1): #从大到小遍历\n",
    "    yes=True\n",
    "    for i in range(2,n): #遍历[2,n-1]区间的自然数\n",
    "        if n % i == 0: #如果n有因数，就不是素数\n",
    "            yes=False\n",
    "            break \n",
    "    if yes==True:\n",
    "        prime.append(n)\n",
    "print(prime)"
   ]
  },
  {
   "cell_type": "markdown",
   "id": "ff395025",
   "metadata": {
    "slideshow": {
     "slide_type": "subslide"
    }
   },
   "source": [
    "**3.II 循环结构例题：输出200以内最大的素数**"
   ]
  },
  {
   "cell_type": "code",
   "execution_count": 74,
   "id": "85a6673e",
   "metadata": {},
   "outputs": [
    {
     "name": "stdout",
     "output_type": "stream",
     "text": [
      "输出 100 以内最大的素数\n",
      "97\n"
     ]
    }
   ],
   "source": [
    "N=100\n",
    "print(\"输出 \"+str(N)+\" 以内最大的素数\")\n",
    "for n in range(N,1,-1): #从大到小遍历\n",
    "    yes=True\n",
    "    for i in range(2,n): #遍历[2,n-1]区间的自然数\n",
    "        if n % i == 0:  #如果n有因数，就不是素数\n",
    "            yes=False\n",
    "            break \n",
    "    if yes==True: \n",
    "        print(n)\n",
    "        break"
   ]
  },
  {
   "cell_type": "markdown",
   "id": "da313f60",
   "metadata": {
    "slideshow": {
     "slide_type": "slide"
    },
    "tags": []
   },
   "source": [
    "#### 动手试一试2"
   ]
  },
  {
   "cell_type": "markdown",
   "id": "a6d8273a",
   "metadata": {},
   "source": [
    "**2. 编写程序，从键盘上输入若干个整数，求出这些整数中所有奇数之和、偶数之和及所有数的平均值，  \n",
    "   当从键盘输入字符‘A’时，程序输出计算结果。    \n",
    "3.编写程序，产生两个0~100之间的随机整数RND1和RND2，求出这两个整数的最大公约数和最小公倍数。** "
   ]
  },
  {
   "cell_type": "markdown",
   "id": "9a37046a",
   "metadata": {
    "slideshow": {
     "slide_type": "slide"
    },
    "tags": []
   },
   "source": [
    "#### §2.4 random库"
   ]
  },
  {
   "cell_type": "markdown",
   "id": "53c4a3e7",
   "metadata": {},
   "source": [
    "<img style=\"float: left;\" src=\"File&Figure/2random1.png\" width=\"90%\"> "
   ]
  },
  {
   "cell_type": "markdown",
   "id": "da16c9c2",
   "metadata": {
    "slideshow": {
     "slide_type": "skip"
    }
   },
   "source": [
    "|函数|描述|\n",
    "|---|---|\n",
    "|seed(n)| 初始化随机种子个数|\n",
    "|random()|产生[0.0, 1.0)之间的随机浮点数|\n",
    "|randrange(n)||\n",
    "|randrange(m,n)|产生[m,n)之间以d为步长的随机整数|\n",
    "|randrange(m,n,d)||\n",
    "|randint(m,n)|产生[m,n]之间的随机整数|\n",
    "|uniform(m,n)| 产生[m n]之间的随机浮点数|\n",
    "|choice(s)| 从目标序列s类型中随机返回一个元素|\n",
    "|sample(pop,k)| 从pop类型中随机选取k个元素，以列表类型返回，如果k大于所有元素的个数，则报错|\n",
    "|shuffle(s)| 将序列类型中元素随机排列，返回打乱后的序列||"
   ]
  },
  {
   "cell_type": "markdown",
   "id": "009dc0a0",
   "metadata": {
    "slideshow": {
     "slide_type": "subslide"
    }
   },
   "source": [
    "|函数|描述|\n",
    "|---|---|\n",
    "|random()|产生[0.0, 1.0)之间的随机浮点数格|\n",
    "|seed(n)| 初始化随机种子个数|"
   ]
  },
  {
   "cell_type": "code",
   "execution_count": 76,
   "id": "a1e5fe8a",
   "metadata": {},
   "outputs": [
    {
     "data": {
      "text/plain": [
       "0.5714025946899135"
      ]
     },
     "execution_count": 76,
     "metadata": {},
     "output_type": "execute_result"
    },
    {
     "data": {
      "text/plain": [
       "0.4288890546751146"
      ]
     },
     "execution_count": 76,
     "metadata": {},
     "output_type": "execute_result"
    }
   ],
   "source": [
    "import random\n",
    "random.seed(10)\n",
    "random.random()\n",
    "\n",
    "random.random()"
   ]
  },
  {
   "cell_type": "code",
   "execution_count": 83,
   "id": "e75b6bda",
   "metadata": {},
   "outputs": [
    {
     "data": {
      "text/plain": [
       "0.5207"
      ]
     },
     "execution_count": 83,
     "metadata": {},
     "output_type": "execute_result"
    }
   ],
   "source": [
    "round(random.random(), 4)"
   ]
  },
  {
   "cell_type": "markdown",
   "id": "fc1bc0ce",
   "metadata": {
    "slideshow": {
     "slide_type": "subslide"
    }
   },
   "source": [
    "|函数|描述|\n",
    "|---|---|\n",
    "|randrange(m,n,d)|产生[m,n)之间以d为步长的随机整数|\n",
    "|randint(m,n)|产生[m,n]之间的随机整数|\n",
    "|uniform(m,n)| 产生[m n]之间的随机浮点数|"
   ]
  },
  {
   "cell_type": "code",
   "execution_count": 84,
   "id": "411a49d3",
   "metadata": {},
   "outputs": [
    {
     "data": {
      "text/plain": [
       "[5, 1, 3, 5, 0, 6, 2, 9, 5, 6]"
      ]
     },
     "execution_count": 84,
     "metadata": {},
     "output_type": "execute_result"
    }
   ],
   "source": [
    "[random.randrange(0, 10, 1) for i in range(10)]"
   ]
  },
  {
   "cell_type": "code",
   "execution_count": 85,
   "id": "3b65cc2a",
   "metadata": {},
   "outputs": [
    {
     "data": {
      "text/plain": [
       "[7, 5, 5, 8, 3, 5, 6, 3, 8, 4]"
      ]
     },
     "execution_count": 85,
     "metadata": {},
     "output_type": "execute_result"
    }
   ],
   "source": [
    "[random.randint(1, 10) for i in range(10)]"
   ]
  },
  {
   "cell_type": "code",
   "execution_count": 86,
   "id": "134ac1e0",
   "metadata": {},
   "outputs": [
    {
     "data": {
      "text/plain": [
       "[3.46, 2.96, 2.16, 2.11, 2.29, 3.42, 2.52, 2.61, 3.36, 2.54]"
      ]
     },
     "execution_count": 86,
     "metadata": {},
     "output_type": "execute_result"
    }
   ],
   "source": [
    "[round(random.uniform(2.1, 3.5), 2) for i in range(10)]"
   ]
  },
  {
   "cell_type": "markdown",
   "id": "c9ed9483",
   "metadata": {
    "slideshow": {
     "slide_type": "subslide"
    }
   },
   "source": [
    "|函数|描述|\n",
    "|---|---|\n",
    "|choice(s)| 从目标序列s类型中随机返回一个元素|"
   ]
  },
  {
   "cell_type": "code",
   "execution_count": 87,
   "id": "ddecd2fc",
   "metadata": {},
   "outputs": [
    {
     "data": {
      "text/plain": [
       "'draw'"
      ]
     },
     "execution_count": 87,
     "metadata": {},
     "output_type": "execute_result"
    },
    {
     "data": {
      "text/plain": [
       "'h'"
      ]
     },
     "execution_count": 87,
     "metadata": {},
     "output_type": "execute_result"
    }
   ],
   "source": [
    "random.choice(['win', 'lose', 'draw'])\n",
    "random.choice(\"python\")"
   ]
  },
  {
   "cell_type": "code",
   "execution_count": 88,
   "id": "ecfce6c3",
   "metadata": {},
   "outputs": [
    {
     "data": {
      "text/plain": [
       "['lose', 'win', 'lose', 'draw', 'win']"
      ]
     },
     "execution_count": 88,
     "metadata": {},
     "output_type": "execute_result"
    },
    {
     "data": {
      "text/plain": [
       "['lose', 'lose', 'win', 'lose', 'draw', 'draw', 'draw', 'draw', 'lose']"
      ]
     },
     "execution_count": 88,
     "metadata": {},
     "output_type": "execute_result"
    }
   ],
   "source": [
    "random.choices(['win', 'lose', 'draw'], k=5)\n",
    "random.choices(['win', 'lose', 'draw'], [0.1, 0.4, 0.5], k=9)#[0.1, 0.4, 0.5]被抽中概率"
   ]
  },
  {
   "cell_type": "markdown",
   "id": "32a53004",
   "metadata": {
    "slideshow": {
     "slide_type": "subslide"
    }
   },
   "source": [
    "|函数|描述|\n",
    "|---|---|\n",
    "|sample(pop,k)| 从pop类型中随机选取k个元素，以列表类型返回，如果k大于所有元素的个数，则报错|\n",
    "|shuffle(s)| 将序列类型中元素随机排列，返回打乱后的序列||"
   ]
  },
  {
   "cell_type": "code",
   "execution_count": 91,
   "id": "40e4daa9",
   "metadata": {},
   "outputs": [
    {
     "data": {
      "text/plain": [
       "['one', 'four', 'three', 'two']"
      ]
     },
     "execution_count": 91,
     "metadata": {},
     "output_type": "execute_result"
    },
    {
     "data": {
      "text/plain": [
       "[20, 50, 10]"
      ]
     },
     "execution_count": 91,
     "metadata": {},
     "output_type": "execute_result"
    }
   ],
   "source": [
    "number = ['one', 'two', 'three', 'four']\n",
    "random.shuffle(number)\n",
    "number\n",
    "random.sample([10, 20, 30, 40, 50], k=3)"
   ]
  },
  {
   "cell_type": "markdown",
   "id": "c1f9a27e",
   "metadata": {
    "slideshow": {
     "slide_type": "slide"
    },
    "tags": [],
    "toc-hr-collapsed": true
   },
   "source": [
    "#### §2.5 综合应用"
   ]
  },
  {
   "cell_type": "markdown",
   "id": "c9723d4f-4181-402e-a5bf-20a2cc49c036",
   "metadata": {
    "slideshow": {
     "slide_type": "slide"
    },
    "tags": [],
    "toc-hr-collapsed": true
   },
   "source": [
    "#### 动手试一试3\n",
    "**例2-1 赌场“幸运7”游戏过程模拟**"
   ]
  },
  {
   "cell_type": "markdown",
   "id": "7498067b",
   "metadata": {},
   "source": [
    "**例2-1 赌场中有一种称为“幸运7”的游戏，游戏规则：  \n",
    "玩家掷两枚骰子，如果其点数和为7，玩家赢4元；  \n",
    "不是7，玩家就输1元。  \n",
    "现玩家有10元，当全部输掉时游戏结束，请你编程模拟之。**"
   ]
  },
  {
   "cell_type": "markdown",
   "id": "7eae4c92",
   "metadata": {
    "slideshow": {
     "slide_type": "subslide"
    }
   },
   "source": [
    "<img style=\"float: left;\" src=\"File&Figure/3luck7.jpg\" width=\"25%\"> \n",
    "<img style=\"float: center;\" src=\"File&Figure/3luck7prog1.png\" width=\"31%\"> "
   ]
  },
  {
   "cell_type": "code",
   "execution_count": 93,
   "id": "bae5a2e2",
   "metadata": {
    "slideshow": {
     "slide_type": "subslide"
    }
   },
   "outputs": [
    {
     "name": "stdout",
     "output_type": "stream",
     "text": [
      "10 9 8 12 11 10 14 13 17 16 15 19 18 17 16 15 19 18 17 16 15 14 13 12 11 10 9 13 12 16 20 19 18 17 16 20 19 18 17 16 15 14 13 12 11 10 14 13 12 16 15 14 13 12 11 10 14 13 12 16 15 14 13 12 11 10 9 8 7 6 5 4 3 2 1 0 \n",
      "max= 20\n"
     ]
    }
   ],
   "source": [
    "from random import *\n",
    "money=10\n",
    "print(money,end=\" \")\n",
    "max=money\n",
    "while money>0:\n",
    "    num1=randint(1,6)\n",
    "    num2=randint(1,6)\n",
    "    if (num1+num2==7):\n",
    "        money += 4 \n",
    "        if money>max: max=money\n",
    "    else:\n",
    "        money -=1\n",
    "    print(money,end=\" \")\n",
    "print(\"\\nmax=\",max)"
   ]
  },
  {
   "cell_type": "markdown",
   "id": "731e7bee",
   "metadata": {
    "slideshow": {
     "slide_type": "subslide"
    }
   },
   "source": [
    "<img style=\"float: left;\" src=\"File&Figure/3luck7max3.png\" width=\"55%\"> "
   ]
  },
  {
   "cell_type": "markdown",
   "id": "807404ac",
   "metadata": {
    "slideshow": {
     "slide_type": "-"
    }
   },
   "source": [
    "**例2-2 赌场“幸运7”游戏,规则的公平性**"
   ]
  },
  {
   "cell_type": "markdown",
   "id": "f9260625",
   "metadata": {},
   "source": [
    "**例2-2赌场中有一种称为“幸运7”的游戏，游戏规则是玩家掷两枚骰子，如果其点数和为7，\n",
    "玩家赢4元；不是7，玩家就输1元。请你分析一下，这样的规则是否公平。**"
   ]
  },
  {
   "cell_type": "code",
   "execution_count": 95,
   "id": "618e4ed8",
   "metadata": {
    "slideshow": {
     "slide_type": "subslide"
    }
   },
   "outputs": [
    {
     "name": "stdout",
     "output_type": "stream",
     "text": [
      "幸运7的概率为： [0.16776, 0.16688, 0.16898, 0.16635, 0.16523, 0.1687]\n",
      "幸运7的概率为： 0.1673\n"
     ]
    }
   ],
   "source": [
    "from random import *\n",
    "probi, j, sum, N = {}, 0, 0, 100000\n",
    "while j<6:\n",
    "    count11=0\n",
    "    for i in range(N):\n",
    "        num1, num2 = randint(1,6), randint(1,6)\n",
    "        if (num1+num2==7):\n",
    "            count11 += 1 \n",
    "    probi[j]=count11/N\n",
    "    j+=1\n",
    "print(\"幸运7的概率为：\",[probi[j] for j in range(len(probi))])\n",
    "for i in range(len(probi)):\n",
    "    sum += probi[i]\n",
    "pro=sum/len(probi)\n",
    "print(\"幸运7的概率为：\",round(pro,4))"
   ]
  }
 ],
 "metadata": {
  "celltoolbar": "幻灯片",
  "kernelspec": {
   "display_name": "Python 3 (ipykernel)",
   "language": "python",
   "name": "python3"
  },
  "language_info": {
   "codemirror_mode": {
    "name": "ipython",
    "version": 3
   },
   "file_extension": ".py",
   "mimetype": "text/x-python",
   "name": "python",
   "nbconvert_exporter": "python",
   "pygments_lexer": "ipython3",
   "version": "3.11.1"
  }
 },
 "nbformat": 4,
 "nbformat_minor": 5
}
