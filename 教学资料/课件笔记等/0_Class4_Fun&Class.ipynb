{
 "cells": [
  {
   "cell_type": "code",
   "execution_count": 97,
   "id": "cb929a10",
   "metadata": {
    "tags": []
   },
   "outputs": [],
   "source": [
    "#添加以下代码以显示单元格中的所有输出\n",
    "from IPython.core.interactiveshell import InteractiveShell\n",
    "InteractiveShell.ast_node_interactivity = \"all\""
   ]
  },
  {
   "cell_type": "markdown",
   "id": "590260c9",
   "metadata": {
    "slideshow": {
     "slide_type": "slide"
    },
    "tags": []
   },
   "source": [
    "# **第4课 函数、类与文件**"
   ]
  },
  {
   "cell_type": "markdown",
   "id": "45fe9865",
   "metadata": {},
   "source": [
    "**§4.1 函数的概念与使用  \n",
    "§4.2 lambda函数、递归函数  \n",
    "§4.3 文件和文件操作  \n",
    "§4.4 异常  \n",
    "§4.5 创建与使用类  \n",
    "§4.7 继承类与导入类**"
   ]
  },
  {
   "cell_type": "markdown",
   "id": "f2aaa9d9",
   "metadata": {
    "slideshow": {
     "slide_type": "subslide"
    },
    "tags": []
   },
   "source": [
    "## **§4.1 函数的概念与使用**"
   ]
  },
  {
   "cell_type": "markdown",
   "id": "4a71451c-7091-483f-aa04-d1b9df6cfe46",
   "metadata": {},
   "source": [
    "**1. 函数、函数结构  \n",
    "2. 函数参数  \n",
    "3. 返回值  \n",
    "4. 在while 循环中使用函数  \n",
    "5.递归  \n",
    "6.函数模块**"
   ]
  },
  {
   "cell_type": "markdown",
   "id": "95b88a4a",
   "metadata": {
    "slideshow": {
     "slide_type": "subslide"
    },
    "tags": []
   },
   "source": [
    "###  **1. 函数、函数结构**"
   ]
  },
  {
   "cell_type": "markdown",
   "id": "b1deeb3e",
   "metadata": {
    "tags": [],
    "toc-hr-collapsed": true
   },
   "source": [
    "<img style=\"float: left;\" src=\"File&Figure\\6functionstructure.jpg\" width=\"56%\"> "
   ]
  },
  {
   "cell_type": "markdown",
   "id": "53d35b89",
   "metadata": {
    "slideshow": {
     "slide_type": "subslide"
    },
    "tags": [],
    "toc-hr-collapsed": true
   },
   "source": [
    "#### **(1). 函数模块命名应遵循变量命名约定。**"
   ]
  },
  {
   "cell_type": "markdown",
   "id": "8849c8dc",
   "metadata": {},
   "source": [
    "**(I).变量名只能包含字母、数字和下划线。变量名能以字母或下划线打头，但不能以数字打头。  \n",
    "(II).变量名不能包含空格，但能使用下划线来分隔其中的单词。  \n",
    "(III).不要将Python关键字和函数名用作变量名。**"
   ]
  },
  {
   "cell_type": "markdown",
   "id": "c92a1e28",
   "metadata": {
    "slideshow": {
     "slide_type": "subslide"
    }
   },
   "source": [
    "#### **(2) 例：简单函数**"
   ]
  },
  {
   "cell_type": "code",
   "execution_count": null,
   "id": "a17af4a0",
   "metadata": {
    "tags": []
   },
   "outputs": [],
   "source": [
    "def greet_user():\n",
    "    print(\"Hello!\")"
   ]
  },
  {
   "cell_type": "code",
   "execution_count": null,
   "id": "1b0f00e8",
   "metadata": {
    "tags": []
   },
   "outputs": [],
   "source": [
    "greet_user()"
   ]
  },
  {
   "cell_type": "markdown",
   "id": "8002d1fe",
   "metadata": {
    "slideshow": {
     "slide_type": "subslide"
    },
    "tags": []
   },
   "source": [
    "#### **(3) 例：向函数传递信息**"
   ]
  },
  {
   "cell_type": "code",
   "execution_count": null,
   "id": "61ec373c",
   "metadata": {
    "tags": []
   },
   "outputs": [],
   "source": [
    "def greet_user(username):\n",
    "    \"\"\"显示简单的问候语。\"\"\"\n",
    "    print(f\"Hello, {username.title()}!\")    "
   ]
  },
  {
   "cell_type": "code",
   "execution_count": null,
   "id": "79a8f1c9",
   "metadata": {
    "tags": []
   },
   "outputs": [],
   "source": [
    "greet_user('jesse')\n",
    "greet_user('sarah') "
   ]
  },
  {
   "cell_type": "markdown",
   "id": "2e890bf2",
   "metadata": {
    "slideshow": {
     "slide_type": "subslide"
    }
   },
   "source": [
    "### **2. 函数参数**"
   ]
  },
  {
   "cell_type": "markdown",
   "id": "001bd9f5-6215-479b-b5a0-5e9f2aade6d5",
   "metadata": {
    "slideshow": {
     "slide_type": "-"
    }
   },
   "source": [
    "<img style=\"float: left;\" src=\"File&Figure\\4functionparam1.png\" width=\"46%\">\n",
    "<img style=\"float: center;\" src=\"File&Figure\\4functionparam.png\" width=\"50%\">"
   ]
  },
  {
   "cell_type": "markdown",
   "id": "6222e4a7",
   "metadata": {
    "slideshow": {
     "slide_type": "subslide"
    }
   },
   "source": [
    "#### **(1) 位置实参**"
   ]
  },
  {
   "cell_type": "code",
   "execution_count": 98,
   "id": "763ebeff",
   "metadata": {
    "tags": []
   },
   "outputs": [],
   "source": [
    "def describe_pet(animal_type, pet_name):\n",
    "    \"\"\"显示宠物的信息。\"\"\"\n",
    "    print(f\"\\n我有一个宠物 {animal_type}.\")\n",
    "    print(f\"我的宠物 {animal_type}的名字是 {pet_name.title()}.\")"
   ]
  },
  {
   "cell_type": "code",
   "execution_count": 99,
   "id": "9c5ccb0a",
   "metadata": {
    "tags": []
   },
   "outputs": [
    {
     "name": "stdout",
     "output_type": "stream",
     "text": [
      "\n",
      "我有一个宠物 仓鼠.\n",
      "我的宠物 仓鼠的名字是 Harry.\n"
     ]
    }
   ],
   "source": [
    "describe_pet('仓鼠', 'harry')"
   ]
  },
  {
   "cell_type": "code",
   "execution_count": 100,
   "id": "636222ec",
   "metadata": {
    "tags": []
   },
   "outputs": [
    {
     "name": "stdout",
     "output_type": "stream",
     "text": [
      "\n",
      "我有一个宠物 harry.\n",
      "我的宠物 harry的名字是 仓鼠.\n"
     ]
    }
   ],
   "source": [
    "describe_pet('harry', '仓鼠')"
   ]
  },
  {
   "cell_type": "markdown",
   "id": "8182145c",
   "metadata": {
    "slideshow": {
     "slide_type": "subslide"
    }
   },
   "source": [
    "#### **(2) 函数调用过程中的可能错误**"
   ]
  },
  {
   "cell_type": "code",
   "execution_count": null,
   "id": "e19c66a8",
   "metadata": {
    "tags": []
   },
   "outputs": [],
   "source": [
    "def describe_pet(animal_type, pet_name): #显示宠物的信息。\n",
    "    print(f\"\\n我有一个宠物 {animal_type}.\")\n",
    "    print(f\"我的宠物 {animal_type}的名字是 {pet_name.title()}.\")"
   ]
  },
  {
   "cell_type": "code",
   "execution_count": 101,
   "id": "92d7b4d9",
   "metadata": {
    "tags": []
   },
   "outputs": [
    {
     "name": "stdout",
     "output_type": "stream",
     "text": [
      "\n",
      "我有一个宠物 仓鼠.\n",
      "我的宠物 仓鼠的名字是 Harry.\n"
     ]
    }
   ],
   "source": [
    "describe_pet('仓鼠', 'harry') "
   ]
  },
  {
   "cell_type": "code",
   "execution_count": 103,
   "id": "0663ef0a",
   "metadata": {
    "tags": []
   },
   "outputs": [
    {
     "ename": "TypeError",
     "evalue": "describe_pet() missing 2 required positional arguments: 'animal_type' and 'pet_name'",
     "output_type": "error",
     "traceback": [
      "\u001b[1;31m----------------------------------\u001b[0m",
      "\u001b[1;31mTypeError\u001b[0mTraceback (most recent call last)",
      "Cell \u001b[1;32mIn[103], line 1\u001b[0m\n\u001b[1;32m----> 1\u001b[0m \u001b[43mdescribe_pet\u001b[49m\u001b[43m(\u001b[49m\u001b[43m)\u001b[49m\n",
      "\u001b[1;31mTypeError\u001b[0m: describe_pet() missing 2 required positional arguments: 'animal_type' and 'pet_name'"
     ]
    }
   ],
   "source": [
    "describe_pet()"
   ]
  },
  {
   "cell_type": "code",
   "execution_count": 102,
   "id": "dd12df4b",
   "metadata": {
    "tags": []
   },
   "outputs": [
    {
     "ename": "TypeError",
     "evalue": "describe_pet() missing 1 required positional argument: 'pet_name'",
     "output_type": "error",
     "traceback": [
      "\u001b[1;31m----------------------------------\u001b[0m",
      "\u001b[1;31mTypeError\u001b[0mTraceback (most recent call last)",
      "Cell \u001b[1;32mIn[102], line 1\u001b[0m\n\u001b[1;32m----> 1\u001b[0m \u001b[43mdescribe_pet\u001b[49m\u001b[43m(\u001b[49m\u001b[38;5;124;43m'\u001b[39;49m\u001b[38;5;124;43mharry\u001b[39;49m\u001b[38;5;124;43m'\u001b[39;49m\u001b[43m)\u001b[49m\n",
      "\u001b[1;31mTypeError\u001b[0m: describe_pet() missing 1 required positional argument: 'pet_name'"
     ]
    }
   ],
   "source": [
    "describe_pet('harry')"
   ]
  },
  {
   "cell_type": "markdown",
   "id": "3ff03e20",
   "metadata": {
    "slideshow": {
     "slide_type": "subslide"
    }
   },
   "source": [
    "#### **(3). 名称参数  下述的三个调用等效**"
   ]
  },
  {
   "cell_type": "code",
   "execution_count": 106,
   "id": "5e48f46f",
   "metadata": {
    "tags": []
   },
   "outputs": [
    {
     "name": "stdout",
     "output_type": "stream",
     "text": [
      "\n",
      "我有一个宠物 仓鼠.\n",
      "我的宠物 仓鼠的名字是 Harry.\n"
     ]
    }
   ],
   "source": [
    "describe_pet('仓鼠', 'harry')"
   ]
  },
  {
   "cell_type": "code",
   "execution_count": 105,
   "id": "82d04464",
   "metadata": {
    "tags": []
   },
   "outputs": [
    {
     "name": "stdout",
     "output_type": "stream",
     "text": [
      "\n",
      "我有一个宠物 仓鼠.\n",
      "我的宠物 仓鼠的名字是 Harry.\n"
     ]
    }
   ],
   "source": [
    "describe_pet(animal_type='仓鼠', pet_name='harry')"
   ]
  },
  {
   "cell_type": "code",
   "execution_count": 104,
   "id": "5f6508c2",
   "metadata": {
    "tags": []
   },
   "outputs": [
    {
     "name": "stdout",
     "output_type": "stream",
     "text": [
      "\n",
      "我有一个宠物 仓鼠.\n",
      "我的宠物 仓鼠的名字是 Harry.\n"
     ]
    }
   ],
   "source": [
    "describe_pet(pet_name='harry', animal_type='仓鼠')"
   ]
  },
  {
   "cell_type": "markdown",
   "id": "ecefb828",
   "metadata": {
    "slideshow": {
     "slide_type": "subslide"
    }
   },
   "source": [
    "#### **(4) 默认值参数**"
   ]
  },
  {
   "cell_type": "code",
   "execution_count": 107,
   "id": "1adc8645",
   "metadata": {
    "tags": []
   },
   "outputs": [],
   "source": [
    "def describe_pet(pet_name, animal_type='dog'): #显示宠物的信息。\n",
    "    print(f\"\\n我有一个宠物 {animal_type}.\")\n",
    "    print(f\"我的宠物 {animal_type}的名字是 {pet_name.title()}.\")"
   ]
  },
  {
   "cell_type": "code",
   "execution_count": 108,
   "id": "6243a1fb",
   "metadata": {
    "slideshow": {
     "slide_type": "fragment"
    },
    "tags": []
   },
   "outputs": [
    {
     "name": "stdout",
     "output_type": "stream",
     "text": [
      "\n",
      "我有一个宠物 dog.\n",
      "我的宠物 dog的名字是 Willie.\n"
     ]
    }
   ],
   "source": [
    "describe_pet('willie')"
   ]
  },
  {
   "cell_type": "code",
   "execution_count": 109,
   "id": "7434d56d",
   "metadata": {
    "slideshow": {
     "slide_type": "fragment"
    },
    "tags": []
   },
   "outputs": [
    {
     "name": "stdout",
     "output_type": "stream",
     "text": [
      "\n",
      "我有一个宠物 dog.\n",
      "我的宠物 dog的名字是 Willie.\n"
     ]
    }
   ],
   "source": [
    "describe_pet(pet_name='willie')"
   ]
  },
  {
   "cell_type": "code",
   "execution_count": 110,
   "id": "0b21902d",
   "metadata": {
    "slideshow": {
     "slide_type": "fragment"
    },
    "tags": []
   },
   "outputs": [
    {
     "name": "stdout",
     "output_type": "stream",
     "text": [
      "\n",
      "我有一个宠物 仓鼠.\n",
      "我的宠物 仓鼠的名字是 Harry.\n"
     ]
    }
   ],
   "source": [
    "describe_pet(pet_name='harry', animal_type='仓鼠')"
   ]
  },
  {
   "cell_type": "markdown",
   "id": "4abf0192",
   "metadata": {
    "slideshow": {
     "slide_type": "subslide"
    }
   },
   "source": [
    "#### **(5) 可变参数**"
   ]
  },
  {
   "cell_type": "markdown",
   "id": "ffa2c4ea",
   "metadata": {},
   "source": [
    "**I.传递列表**"
   ]
  },
  {
   "cell_type": "code",
   "execution_count": 111,
   "id": "fca3b017",
   "metadata": {
    "tags": []
   },
   "outputs": [
    {
     "name": "stdout",
     "output_type": "stream",
     "text": [
      "设计线性相位FIR滤波器可使用的窗函数有： \n",
      "boxcar,  triang,  hann,  hamming,  blackman,  kaiser,  "
     ]
    }
   ],
   "source": [
    "def winnamefun(names):\n",
    "    print(f\"设计线性相位FIR滤波器可使用的窗函数有： \")\n",
    "    for name in names:\n",
    "        print(f\"{name}, \", end=\" \")\n",
    "\n",
    "winnames = [\"boxcar\", \"triang\", \"hann\", \"hamming\", \"blackman\", \"kaiser\"]        \n",
    "winnamefun(winnames)"
   ]
  },
  {
   "cell_type": "markdown",
   "id": "3b254a94",
   "metadata": {
    "slideshow": {
     "slide_type": "subslide"
    }
   },
   "source": [
    "**II.结合使用位置实参和任意数量实参**"
   ]
  },
  {
   "cell_type": "code",
   "execution_count": 112,
   "id": "21a3ba4d",
   "metadata": {
    "tags": []
   },
   "outputs": [
    {
     "name": "stdout",
     "output_type": "stream",
     "text": [
      "\n",
      "设计线性相位FIR滤波器可使用的窗函数有： \n",
      "--boxcar \n",
      "\n",
      "设计线性相位FIR滤波器可使用的窗函数有： \n",
      "--boxcar \n",
      "--triang \n",
      "--hann \n",
      "--hamming \n",
      "--blackman \n",
      "--kaiser \n"
     ]
    }
   ],
   "source": [
    "## 该程序error, 需在形参前加 *\n",
    "def winnamefun(names):\n",
    "    print(f\"\\n设计线性相位FIR滤波器可使用的窗函数有： \")\n",
    "    for name in names:        \n",
    "        print(f\"--{name} \") #, end=\" \"\n",
    "\n",
    "winnamefun(['boxcar'])\n",
    "winnamefun([\"boxcar\", \"triang\", \"hann\", \"hamming\", \"blackman\", \"kaiser\"])"
   ]
  },
  {
   "cell_type": "markdown",
   "id": "13c637b6",
   "metadata": {
    "slideshow": {
     "slide_type": "subslide"
    }
   },
   "source": [
    "**III.使用任意数量的名称实参**"
   ]
  },
  {
   "cell_type": "code",
   "execution_count": 113,
   "id": "ea6bb842",
   "metadata": {
    "tags": []
   },
   "outputs": [
    {
     "name": "stdout",
     "output_type": "stream",
     "text": [
      "{'location': 'princeton', 'field': 'physics', 'first_name': 'albert', 'last_name': 'einstein'}\n"
     ]
    }
   ],
   "source": [
    "def build_profile(first, last, **user_info):  #轮廓\n",
    "    \"\"\"创建一个字典，其中包含我们知道的有关用户的一切。\"\"\"\n",
    "    user_info['first_name'] = first\n",
    "    user_info['last_name'] = last\n",
    "    return user_info\n",
    "\n",
    "user_profile = build_profile('albert', 'einstein',\n",
    "                location='princeton', field='physics')\n",
    "print(user_profile)"
   ]
  },
  {
   "cell_type": "markdown",
   "id": "d335c2dd-fda1-4be3-9468-7eb9dc2b27a1",
   "metadata": {
    "slideshow": {
     "slide_type": "subslide"
    },
    "tags": [],
    "toc-hr-collapsed": true
   },
   "source": [
    "### **3. 返回值**"
   ]
  },
  {
   "cell_type": "markdown",
   "id": "c71829d5",
   "metadata": {
    "slideshow": {
     "slide_type": "-"
    },
    "tags": [],
    "toc-hr-collapsed": true
   },
   "source": [
    "**(1). 返回简单值  \n",
    "(2). 让实参变成可选的(默认实参)  \n",
    "(3). 返回值可以是字典**"
   ]
  },
  {
   "cell_type": "markdown",
   "id": "543e8dd3",
   "metadata": {
    "slideshow": {
     "slide_type": "subslide"
    }
   },
   "source": [
    "#### **(1). 返回简单值**"
   ]
  },
  {
   "cell_type": "code",
   "execution_count": 114,
   "id": "e337c701",
   "metadata": {
    "tags": []
   },
   "outputs": [
    {
     "name": "stdout",
     "output_type": "stream",
     "text": [
      "Jimi Hendrix\n"
     ]
    }
   ],
   "source": [
    "def get_formatted_name(first_name, last_name):\n",
    "    \"\"\"返回简洁的姓名。\"\"\"\n",
    "    full_name = f\"{first_name} {last_name}\"\n",
    "    return full_name.title()\n",
    "\n",
    "musician = get_formatted_name('jimi', 'hendrix')\n",
    "print(musician)"
   ]
  },
  {
   "cell_type": "markdown",
   "id": "6d729e4d",
   "metadata": {
    "slideshow": {
     "slide_type": "subslide"
    }
   },
   "source": [
    "#### **(2). 让实参变成可选的**"
   ]
  },
  {
   "cell_type": "code",
   "execution_count": 115,
   "id": "0c93f909",
   "metadata": {
    "tags": []
   },
   "outputs": [],
   "source": [
    "def get_formatted_name(first_name, last_name, middle_name=''):\n",
    "    \"\"\"返回整洁的姓名。\"\"\"\n",
    "    if middle_name:\n",
    "        full_name = f\"{first_name} {middle_name} {last_name}\"\n",
    "    else:\n",
    "        full_name = f\"{first_name} {last_name}\"\n",
    "    return full_name.title()"
   ]
  },
  {
   "cell_type": "code",
   "execution_count": 116,
   "id": "75badf3d",
   "metadata": {
    "slideshow": {
     "slide_type": "fragment"
    }
   },
   "outputs": [
    {
     "name": "stdout",
     "output_type": "stream",
     "text": [
      "Jimi Hendrix\n"
     ]
    }
   ],
   "source": [
    "musician = get_formatted_name('jimi', 'hendrix')\n",
    "print(musician)"
   ]
  },
  {
   "cell_type": "code",
   "execution_count": 117,
   "id": "a551f378",
   "metadata": {
    "slideshow": {
     "slide_type": "fragment"
    }
   },
   "outputs": [
    {
     "name": "stdout",
     "output_type": "stream",
     "text": [
      "John Lee Hooker\n"
     ]
    }
   ],
   "source": [
    "musician = get_formatted_name('john', 'hooker', 'lee')\n",
    "print(musician)"
   ]
  },
  {
   "cell_type": "markdown",
   "id": "165a05f6",
   "metadata": {
    "slideshow": {
     "slide_type": "subslide"
    }
   },
   "source": [
    "#### **(3). 返回值可以是字典**"
   ]
  },
  {
   "cell_type": "code",
   "execution_count": 118,
   "id": "cc4a0b4d",
   "metadata": {
    "tags": []
   },
   "outputs": [
    {
     "name": "stdout",
     "output_type": "stream",
     "text": [
      "{'first': 'jimi', 'last': 'hendrix'}\n"
     ]
    }
   ],
   "source": [
    "def build_person(first_name, last_name):\n",
    "    \"\"\"返回一个字典，其中包含有关一个人的信息。\"\"\"\n",
    "    person = {'first': first_name, 'last': last_name}\n",
    "    return person\n",
    "musician = build_person('jimi', 'hendrix')\n",
    "print(musician)"
   ]
  },
  {
   "cell_type": "markdown",
   "id": "b12f1398",
   "metadata": {
    "slideshow": {
     "slide_type": "subslide"
    }
   },
   "source": [
    "### **4. 在while 循环中使用函数**"
   ]
  },
  {
   "cell_type": "code",
   "execution_count": 119,
   "id": "0c4c8215",
   "metadata": {
    "tags": []
   },
   "outputs": [],
   "source": [
    "def get_formatted_name(first_name, last_name):\n",
    "    \"\"\"返回简洁的姓名。\"\"\"\n",
    "    full_name = f\"{first_name} {last_name}\"\n",
    "    return full_name.title()"
   ]
  },
  {
   "cell_type": "code",
   "execution_count": 120,
   "id": "da3798d1",
   "metadata": {
    "slideshow": {
     "slide_type": "subslide"
    }
   },
   "outputs": [
    {
     "name": "stdout",
     "output_type": "stream",
     "text": [
      "\n",
      "Please tell me your name:\n",
      "(enter 'q' at any time to quit)\n",
      "First name: hfgj\n",
      "Last name: hgjgjdf\n",
      "\n",
      "Hello, Hfgj Hgjgjdf!\n",
      "\n",
      "Please tell me your name:\n",
      "(enter 'q' at any time to quit)\n",
      "First name: q\n"
     ]
    }
   ],
   "source": [
    "while True:  ### 这是一个无限循环！\n",
    "    print(\"\\nPlease tell me your name:\")    \n",
    "    print(\"(enter 'q' at any time to quit)\") #####  加入退出指令\n",
    "    f_name = input(\"First name: \")\n",
    "    if f_name == 'q':\n",
    "        break\n",
    "    l_name = input(\"Last name: \")\n",
    "    if l_name == 'q':\n",
    "        break\n",
    "    formatted_name = get_formatted_name(f_name, l_name)\n",
    "    print(f\"\\nHello, {formatted_name}!\")"
   ]
  },
  {
   "cell_type": "markdown",
   "id": "e3a5541f",
   "metadata": {
    "slideshow": {
     "slide_type": "slide"
    },
    "tags": []
   },
   "source": [
    "### **5.递归**"
   ]
  },
  {
   "cell_type": "code",
   "execution_count": 121,
   "id": "6aab08cf",
   "metadata": {},
   "outputs": [
    {
     "name": "stdout",
     "output_type": "stream",
     "text": [
      "                    1                     2                     6                    24 \n",
      "                  120                   720                  5040                 40320 \n",
      "               362880               3628800              39916800             479001600 \n",
      "           6227020800           87178291200         1307674368000        20922789888000 \n",
      "      355687428096000      6402373705728000    121645100408832000   2432902008176640000 \n"
     ]
    }
   ],
   "source": [
    "##### 例6-13递归方法求阶乘\n",
    "def fact(n):\n",
    "    if n == 1:\n",
    "        return 1\n",
    "    else:\n",
    "        return n * fact(n-1)\n",
    "\n",
    "for i in range(1, 20+1):\n",
    "    #print(\"{}! = \".format(i), fact(i))\n",
    "    print(\"{:>21} \".format(fact(i)), end='' if i % 4 != 0 else \"\\n\")"
   ]
  },
  {
   "cell_type": "code",
   "execution_count": 122,
   "id": "7adc8c05",
   "metadata": {
    "slideshow": {
     "slide_type": "subslide"
    }
   },
   "outputs": [
    {
     "name": "stdout",
     "output_type": "stream",
     "text": [
      "     1      1      2      3      5 \n",
      "     8     13     21     34     55 \n",
      "    89    144    233    377    610 \n",
      "   987   1597   2584   4181   6765 \n"
     ]
    }
   ],
   "source": [
    "##### 例6-13例6-14 递归方法求斐波拉契数列\n",
    "def fibo(n):\n",
    "    if n == 1 or n == 2:\n",
    "        return 1\n",
    "    else:\n",
    "        return fibo(n-1)+fibo(n-2)\n",
    "for i in range(1, 20+1):\n",
    "     print(\"{:>6} \".format(fibo(i)), end='' if i % 5 != 0 else \"\\n\")"
   ]
  },
  {
   "cell_type": "markdown",
   "id": "9b0d3df9",
   "metadata": {
    "slideshow": {
     "slide_type": "subslide"
    }
   },
   "source": [
    "### **6.函数模块**\n",
    "**(1).导入整个模块  \n",
    "(2).使用as 给模块指定别名  \n",
    "(3).导入模块中特定的函数**"
   ]
  },
  {
   "cell_type": "code",
   "execution_count": 133,
   "id": "ed630f86",
   "metadata": {
    "slideshow": {
     "slide_type": "subslide"
    }
   },
   "outputs": [],
   "source": [
    "#### Class4_funcmodel.py\n",
    "def make_pizza(size, *toppings):\n",
    "    \"\"\"概述要制作的比萨。\"\"\"\n",
    "    print(f\"\\n使用下列配料制作 {size} 寸披萨:\")\n",
    "    for topping in toppings:\n",
    "        print(f\"- {topping}\")\n",
    "\n",
    "def print_models(unprinted_designs, completed_models): \n",
    "    \"\"\" 模拟打印每个设计，直到没有未打印的设计为止。 \n",
    "    打印每个设计后，都将其移到列表completed_models中。 \"\"\" \n",
    "    while unprinted_designs: \n",
    "        current_design = unprinted_designs.pop() \n",
    "    # 模拟根据设计制作3D打印模型的过程。 \n",
    "    print(f\"打印模型: {current_design}\") \n",
    "    completed_models.append(current_design)\n",
    "    \n",
    "def show_completed_models(completed_models): \n",
    "    \"\"\"显示打印好的所有模型。\"\"\" \n",
    "    print(\"\\n打印下列模型：\") \n",
    "    for completed_model in completed_models: \n",
    "        print(completed_model)"
   ]
  },
  {
   "cell_type": "markdown",
   "id": "c78ee4b3",
   "metadata": {
    "slideshow": {
     "slide_type": "subslide"
    }
   },
   "source": [
    "**def make_pizza(size, *toppings):  \n",
    "    --snip--  \n",
    "def print_models(unprinted_designs, completed_models):     \n",
    "    --snip--  \n",
    "def show_completed_models(completed_models):     \n",
    "    --snip--**"
   ]
  },
  {
   "cell_type": "code",
   "execution_count": 136,
   "id": "5a72cf44",
   "metadata": {
    "slideshow": {
     "slide_type": "-"
    },
    "tags": []
   },
   "outputs": [
    {
     "name": "stdout",
     "output_type": "stream",
     "text": [
      "\n",
      "Making a 16-inch pizza with the following toppings:\n",
      "- 意大利 辣味 香肠\n",
      "\n",
      "Making a 12-inch pizza with the following toppings:\n",
      "- 蘑菇\n",
      "- 青椒\n",
      "- 额外的奶酪\n"
     ]
    }
   ],
   "source": [
    "import Class4_funcmodel\n",
    "Class4_funcmodel.make_pizza(16, '意大利 辣味 香肠')\n",
    "Class4_funcmodel.make_pizza(12, '蘑菇', '青椒', '额外的奶酪')"
   ]
  },
  {
   "cell_type": "code",
   "execution_count": 138,
   "id": "d4274be9",
   "metadata": {
    "slideshow": {
     "slide_type": "subslide"
    }
   },
   "outputs": [
    {
     "name": "stdout",
     "output_type": "stream",
     "text": [
      "\n",
      "Making a 16-inch pizza with the following toppings:\n",
      "- 意大利 辣味 香肠\n",
      "\n",
      "Making a 12-inch pizza with the following toppings:\n",
      "- 蘑菇\n",
      "- 青椒\n",
      "- 额外的奶酪\n"
     ]
    }
   ],
   "source": [
    "import Class4_funcmodel as p\n",
    "p.make_pizza(16, '意大利 辣味 香肠')\n",
    "p.make_pizza(12, '蘑菇', '青椒', '额外的奶酪')"
   ]
  },
  {
   "cell_type": "code",
   "execution_count": 140,
   "id": "ba86a660",
   "metadata": {
    "slideshow": {
     "slide_type": "fragment"
    }
   },
   "outputs": [
    {
     "name": "stdout",
     "output_type": "stream",
     "text": [
      "\n",
      "Making a 16-inch pizza with the following toppings:\n",
      "- 意大利 辣味 香肠\n",
      "\n",
      "Making a 12-inch pizza with the following toppings:\n",
      "- 蘑菇\n",
      "- 青椒\n",
      "- 额外的奶酪\n"
     ]
    }
   ],
   "source": [
    "from Class4_funcmodel import make_pizza  ##, print_models, show_completed_models\n",
    "make_pizza(16, '意大利 辣味 香肠')\n",
    "make_pizza(12, '蘑菇', '青椒', '额外的奶酪')"
   ]
  },
  {
   "cell_type": "markdown",
   "id": "401948d8",
   "metadata": {
    "slideshow": {
     "slide_type": "slide"
    },
    "tags": []
   },
   "source": [
    "## **动手试一试1 函数**"
   ]
  },
  {
   "cell_type": "markdown",
   "id": "eae3ebe4-c575-4b66-9cf3-bef1ef841252",
   "metadata": {},
   "source": [
    "**例6-2 (1)找出2—100中所有的素数。  \n",
    "(2)找出2—100中所有的孪生素数。孪生素数是指相差2的素数对，如3和5、5和7、11和13等。  \n",
    "(3)将4—20中所有的偶数分解成两个素数的和。例如，6＝3+3、8=3+5、10=3+7。**"
   ]
  },
  {
   "cell_type": "code",
   "execution_count": 141,
   "id": "705f4f8b-9ac2-4c85-81fc-e54cb3b554fa",
   "metadata": {
    "slideshow": {
     "slide_type": "subslide"
    },
    "tags": []
   },
   "outputs": [
    {
     "name": "stdout",
     "output_type": "stream",
     "text": [
      "100以内的素数有：\n",
      " 2   3   5   7   11  13  17  19  23  29  31  37  41  43  47  53  59  61  67  71  73  79  83  89  97 "
     ]
    }
   ],
   "source": [
    "## (1)找出2—100中所有的素数\n",
    "def prime(n):\n",
    "    for i in range(2,n):\n",
    "        if n % i == 0:\n",
    "            return False\n",
    "    else:\n",
    "        return True\n",
    "N=100\n",
    "print(\"{}以内的素数有：\".format(N))\n",
    "for i in range(2, N+1):\n",
    "    if prime(i) == True:\n",
    "        print(\"{:^4}\".format(i), end='')"
   ]
  },
  {
   "cell_type": "code",
   "execution_count": 142,
   "id": "72320e72-0956-4cc2-8124-0a7490e9d2e0",
   "metadata": {
    "slideshow": {
     "slide_type": "subslide"
    }
   },
   "outputs": [
    {
     "name": "stdout",
     "output_type": "stream",
     "text": [
      "100以内的孪生素数有：\n",
      "( 3  和  5  )\n",
      "( 5  和  7  )\n",
      "( 11 和  13 )\n",
      "( 17 和  19 )\n",
      "( 29 和  31 )\n",
      "( 41 和  43 )\n",
      "( 59 和  61 )\n",
      "( 71 和  73 )\n"
     ]
    }
   ],
   "source": [
    "## (2)找出2—100中所有的孪生素数。孪生素数是指相差2的素数对，\n",
    "## 如3和5、5和7、11和13等\n",
    "N = 100\n",
    "print(\"{}以内的孪生素数有：\".format(N))\n",
    "for i in range(2, N+1):\n",
    "    if prime(i) == True and prime(i + 2) == True:\n",
    "        print(\"({:^4}和 {:^4})\".format(i, i+2))"
   ]
  },
  {
   "cell_type": "code",
   "execution_count": 143,
   "id": "147bc622-2288-4601-854d-b46065df239c",
   "metadata": {
    "slideshow": {
     "slide_type": "subslide"
    }
   },
   "outputs": [
    {
     "name": "stdout",
     "output_type": "stream",
     "text": [
      "20以内偶数可以分解成两个素数的和的有：\n",
      " 4   =  2   +  2  \n",
      " 6   =  3   +  3  \n",
      " 8   =  3   +  5  \n",
      " 10  =  3   +  7  \n",
      " 12  =  5   +  7  \n",
      " 14  =  3   +  11 \n",
      " 16  =  3   +  13 \n",
      " 18  =  5   +  13 \n",
      " 20  =  3   +  17 \n"
     ]
    }
   ],
   "source": [
    "## (3)将4—20中所有的偶数分解成两个素数的和\n",
    "N = 20\n",
    "print(\"{}以内偶数可以分解成两个素数的和的有：\".format(N))\n",
    "for i in range(4, N+1):\n",
    "    if i % 2 == 1:\n",
    "        continue\n",
    "    for j in range(2, i):\n",
    "        if prime(j) == True and prime(i-j) == True:\n",
    "            print(\"{:^4} = {:^4} + {:^4}\".format(i, j, i-j))\n",
    "            break"
   ]
  },
  {
   "cell_type": "markdown",
   "id": "b850b93c-9ce9-409a-8ac2-ac41e5c4a65c",
   "metadata": {
    "slideshow": {
     "slide_type": "subslide"
    }
   },
   "source": [
    "**练习4-1：城市名  \n",
    "编写一个名为city_country() 的函数，它接受城市的  \n",
    "名称及其所属的国家。这个函数应返回一个格式类似于下面的字符串：  \n",
    "\"成都 is in 中国\"  \n",
    "至少使用三个城市国家对来调用这个函数，并打印它返回的值。**\n",
    "**练习4-2：专辑  \n",
    "编写一个名为make_album() 的函数，它创建一个描述音乐专辑的字典。  \n",
    "这个函数应接受歌手的名字和专辑名，并返回一个包含这两项信息的字典。  \n",
    "使用这个函数创建三个表示不同专辑的字典，并打印每个返回的值，以核  \n",
    "实字典正确地存储了专辑的信息。  \n",
    "给函数make_album() 添加一个默认值为None 的可选形参，以便存储专辑  \n",
    "包含的歌曲数。如果调用这个函数时指定了歌曲数，就将该值添加到表示  \n",
    "专辑的字典中。调用这个函数，并至少在一次调用中指定专辑包含的歌曲数。**"
   ]
  },
  {
   "cell_type": "markdown",
   "id": "d4fdf257",
   "metadata": {
    "slideshow": {
     "slide_type": "subslide"
    }
   },
   "source": [
    "**练习4-1：城市名  \n",
    "编写一个名为city_country() 的函数，它接受城市的  \n",
    "名称及其所属的国家。这个函数应返回一个格式类似于下面的字符串：  \n",
    "\"成都 is in 中国\"  \n",
    "至少使用三个城市国家对来调用这个函数，并打印它返回的值。**"
   ]
  },
  {
   "cell_type": "code",
   "execution_count": 144,
   "id": "9ff2c81d-da58-42dd-bba7-ae92958dcd5e",
   "metadata": {
    "slideshow": {
     "slide_type": "subslide"
    }
   },
   "outputs": [
    {
     "name": "stdout",
     "output_type": "stream",
     "text": [
      "巴黎 在 法国\n",
      "莫斯科 在 俄罗斯\n",
      "华盛顿 在 美国\n"
     ]
    }
   ],
   "source": [
    "def city_country(city, country): \n",
    "    \"\"\"返回一个类似于 \"成都 在 中国\" 的字符串。\"\"\"      \n",
    "    return f\"{city.title()} 在 {country.title()}\" \n",
    "city = city_country('巴黎', '法国') \n",
    "print(city) \n",
    "city = city_country('莫斯科', '俄罗斯')\n",
    "print(city) \n",
    "city = city_country('华盛顿', '美国') \n",
    "print(city)"
   ]
  },
  {
   "cell_type": "markdown",
   "id": "e0608ed3-a2b4-4357-aba7-8ad2a12f9264",
   "metadata": {
    "slideshow": {
     "slide_type": "subslide"
    }
   },
   "source": [
    "**练习4-2：专辑  \n",
    "编写一个名为make_album() 的函数，它创建一个描述音乐专辑的字典。  \n",
    "这个函数应接受歌手的名字和专辑名，并返回一个包含这两项信息的字典。  \n",
    "使用这个函数创建三个表示不同专辑的字典，并打印每个返回的值，以核  \n",
    "实字典正确地存储了专辑的信息。  \n",
    "给函数make_album() 添加一个默认值为None 的可选形参，以便存储专辑  \n",
    "包含的歌曲数。如果调用这个函数时指定了歌曲数，就将该值添加到表示  \n",
    "专辑的字典中。调用这个函数，并至少在一次调用中指定专辑包含的歌曲数。**"
   ]
  },
  {
   "cell_type": "code",
   "execution_count": 145,
   "id": "950c060c-9444-4ddd-b5d9-10d97bf4aa7c",
   "metadata": {
    "slideshow": {
     "slide_type": "subslide"
    }
   },
   "outputs": [
    {
     "name": "stdout",
     "output_type": "stream",
     "text": [
      "{'艺术家': '李玟', '歌曲': \"Coco'S Party\"}\n",
      "{'艺术家': '刘德华', '歌曲': '爱在刻骨铭心时'}\n",
      "{'艺术家': '刘德华', '歌曲': '一起走过的日子'}\n"
     ]
    }
   ],
   "source": [
    "def make_album(artist, title): \n",
    "    \"\"\"创建一个包含专辑信息的字典。\"\"\" \n",
    "    album_dict = { \n",
    "        '艺术家': artist.title(), \n",
    "        '歌曲': title.title(), } \n",
    "    return album_dict \n",
    "album = make_album('李玟', \"CoCo's Party\") \n",
    "print(album) \n",
    "album = make_album('刘德华', '爱在刻骨铭心时') \n",
    "print(album) \n",
    "album = make_album('刘德华', '一起走过的日子')\n",
    "print(album)"
   ]
  },
  {
   "cell_type": "markdown",
   "id": "d59fbe60-1dea-4ef2-9366-146535668b68",
   "metadata": {
    "slideshow": {
     "slide_type": "subslide"
    }
   },
   "source": [
    "**练习4-3：微信红包  \n",
    "编写一个函数，简单模拟微信发红包算法。函数有两个参数：  \n",
    "一个参数表示红包总金额，默认值为100；另一个参数表示红包数量，  \n",
    "默认值为15。所有随机产生的红包金额（保留两位小数）存放在一个列表  \n",
    "（同时作为函数的返回值）中，单个红包金额最少为0.01元，所有红包  \n",
    "金额之和应等于红包总金额。在主程序中测试该函数，并思考，如何  \n",
    "设计出更公平的发红包算法。  \n",
    "random.uniform(a,b) #用于生成一个指定范围内的随机符点数  \n",
    "random.randint(a, b) 用于生成一个指定范围内的整数**"
   ]
  },
  {
   "cell_type": "code",
   "execution_count": null,
   "id": "548713da-0cc8-45cc-a077-6894d85c2fb3",
   "metadata": {},
   "outputs": [],
   "source": []
  },
  {
   "cell_type": "markdown",
   "id": "89a11dcb-a233-48bc-9958-ae48a39180f9",
   "metadata": {
    "slideshow": {
     "slide_type": "subslide"
    }
   },
   "source": [
    "**练习4-4：递归方法求斐波拉契数列。**"
   ]
  },
  {
   "cell_type": "code",
   "execution_count": 146,
   "id": "dc885c5a",
   "metadata": {},
   "outputs": [
    {
     "name": "stdout",
     "output_type": "stream",
     "text": [
      "     1      1      2      3      5 \n",
      "     8     13     21     34     55 \n",
      "    89    144    233    377    610 \n",
      "   987   1597   2584   4181   6765 \n"
     ]
    }
   ],
   "source": [
    "def fibo(n):\n",
    "    if n == 1 or n == 2:\n",
    "        return 1\n",
    "    else:\n",
    "        return fibo(n-1)+fibo(n-2)\n",
    "for i in range(1, 20+1):\n",
    "     print(\"{:>6} \".format(fibo(i)),\n",
    "           end='' if i % 5 != 0 else \"\\n\")"
   ]
  },
  {
   "cell_type": "markdown",
   "id": "8f7e4e29",
   "metadata": {
    "slideshow": {
     "slide_type": "slide"
    },
    "tags": []
   },
   "source": [
    "## **§4.2 lambda函数、递归函数**"
   ]
  },
  {
   "cell_type": "markdown",
   "id": "73d1ba98",
   "metadata": {
    "tags": []
   },
   "source": [
    "### **1.lambda()函数是一种小的匿名函数**"
   ]
  },
  {
   "cell_type": "markdown",
   "id": "d207bb27",
   "metadata": {
    "tags": [],
    "toc-hr-collapsed": true
   },
   "source": [
    "<img style=\"float: left;\" src=\"File&Figure\\4functionlambda.jpg\" width=\"50%\"> "
   ]
  },
  {
   "cell_type": "code",
   "execution_count": 147,
   "id": "96411b67",
   "metadata": {
    "slideshow": {
     "slide_type": "subslide"
    },
    "tags": []
   },
   "outputs": [
    {
     "data": {
      "text/plain": [
       "7"
      ]
     },
     "execution_count": 147,
     "metadata": {},
     "output_type": "execute_result"
    }
   ],
   "source": [
    "add = lambda x,y: x+y\n",
    "add(3, 4)"
   ]
  },
  {
   "cell_type": "markdown",
   "id": "1be5ca2b",
   "metadata": {
    "slideshow": {
     "slide_type": "subslide"
    },
    "tags": [],
    "toc-hr-collapsed": true
   },
   "source": [
    "### **2.lambda()函数的几种常见使用方法**"
   ]
  },
  {
   "cell_type": "markdown",
   "id": "e7a238e1",
   "metadata": {
    "tags": [],
    "toc-hr-collapsed": true
   },
   "source": [
    "#### **(1).赋值变量后调用 或者 直接调用**"
   ]
  },
  {
   "cell_type": "code",
   "execution_count": 148,
   "id": "f2531c92",
   "metadata": {
    "tags": []
   },
   "outputs": [
    {
     "data": {
      "text/plain": [
       "4950"
      ]
     },
     "execution_count": 148,
     "metadata": {},
     "output_type": "execute_result"
    }
   ],
   "source": [
    "#''' 赋值变量后调用 '''\n",
    "get_sum = lambda x,y: sum(range(x,y))\n",
    "get_sum(1, 100)"
   ]
  },
  {
   "cell_type": "code",
   "execution_count": 149,
   "id": "bcbe5c17",
   "metadata": {
    "slideshow": {
     "slide_type": "-"
    }
   },
   "outputs": [
    {
     "data": {
      "text/plain": [
       "4950"
      ]
     },
     "execution_count": 149,
     "metadata": {},
     "output_type": "execute_result"
    }
   ],
   "source": [
    "#''' 直接调用 '''\n",
    "(lambda x, y: sum(range(x, y)))(1, 100)"
   ]
  },
  {
   "cell_type": "markdown",
   "id": "18784628",
   "metadata": {
    "slideshow": {
     "slide_type": "subslide"
    },
    "tags": [],
    "toc-hr-collapsed": true
   },
   "source": [
    "#### **(2).在排序函数sort(), sorted() 的key中使用**"
   ]
  },
  {
   "cell_type": "code",
   "execution_count": 150,
   "id": "8ce613b9",
   "metadata": {
    "tags": []
   },
   "outputs": [
    {
     "data": {
      "text/plain": [
       "[1, 2, 5, 13, 14, 32, 34, 54, 67, 76]"
      ]
     },
     "execution_count": 150,
     "metadata": {},
     "output_type": "execute_result"
    }
   ],
   "source": [
    "list_num1 = [1, 2, 34, 5, 67, 54, 76, 32, 13, 14]\n",
    "list_num1.sort(key=lambda x: x)\n",
    "list_num1"
   ]
  },
  {
   "cell_type": "code",
   "execution_count": 151,
   "id": "c3445ef1",
   "metadata": {
    "slideshow": {
     "slide_type": "-"
    }
   },
   "outputs": [
    {
     "data": {
      "text/plain": [
       "{3: 'A', 2: 'June', 1: 'carry', 4: 'xiaoming'}"
      ]
     },
     "execution_count": 151,
     "metadata": {},
     "output_type": "execute_result"
    }
   ],
   "source": [
    "dic_data = {4: \"xiaoming\", 2: \"June\", 3: \"A\", 1: \"carry\"}\n",
    "list_num2 = dict(sorted(dic_data.items(), key=lambda x: x[1]))\n",
    "list_num2"
   ]
  },
  {
   "cell_type": "code",
   "execution_count": 152,
   "id": "694dfc20",
   "metadata": {
    "slideshow": {
     "slide_type": "subslide"
    },
    "tags": []
   },
   "outputs": [
    {
     "data": {
      "text/plain": [
       "('sDictdfsd', 9)"
      ]
     },
     "execution_count": 152,
     "metadata": {},
     "output_type": "execute_result"
    }
   ],
   "source": [
    "text = \"kdjk sd sDictdfsd giekd jksahj\"\n",
    "words = text.split()\n",
    "words = {i: len(i) for i in words}\n",
    "max_length_word = max(words.items(), key=lambda x: x[1])\n",
    "max_length_word"
   ]
  },
  {
   "cell_type": "code",
   "execution_count": 153,
   "id": "30d96a3a",
   "metadata": {
    "slideshow": {
     "slide_type": "-"
    }
   },
   "outputs": [
    {
     "data": {
      "text/plain": [
       "[('giekd', 5), ('jksahj', 6), ('kdjk', 4), ('sDictdfsd', 9), ('sd', 2)]"
      ]
     },
     "execution_count": 153,
     "metadata": {},
     "output_type": "execute_result"
    }
   ],
   "source": [
    "sorted_length_word = sorted(words.items(), key=lambda x: x[0])\n",
    "sorted_length_word"
   ]
  },
  {
   "cell_type": "markdown",
   "id": "11419f07",
   "metadata": {
    "slideshow": {
     "slide_type": "subslide"
    },
    "tags": [],
    "toc-hr-collapsed": true
   },
   "source": [
    "#### **(3).跟高阶函数 map()、filter()、reduce()等结合使用**"
   ]
  },
  {
   "cell_type": "code",
   "execution_count": 154,
   "id": "2789c8a2",
   "metadata": {},
   "outputs": [
    {
     "data": {
      "text/plain": [
       "[2, 3, 35, 6, 68, 55, 77, 33, 14, 15]"
      ]
     },
     "execution_count": 154,
     "metadata": {},
     "output_type": "execute_result"
    }
   ],
   "source": [
    "#''' map() '''\n",
    "list_num1 = [1, 2, 34, 5, 67, 54, 76, 32, 13, 14]\n",
    "map_list = map(lambda x: x+1, list_num1)\n",
    "list(map_list)"
   ]
  },
  {
   "cell_type": "code",
   "execution_count": 155,
   "id": "1c018761",
   "metadata": {
    "slideshow": {
     "slide_type": "-"
    }
   },
   "outputs": [
    {
     "data": {
      "text/plain": [
       "[2, 34, 54, 76, 32, 14]"
      ]
     },
     "execution_count": 155,
     "metadata": {},
     "output_type": "execute_result"
    }
   ],
   "source": [
    "#''' filter() '''\n",
    "list(filter(lambda x: x % 2 == 0, list_num1))"
   ]
  },
  {
   "cell_type": "code",
   "execution_count": 156,
   "id": "42206783",
   "metadata": {
    "slideshow": {
     "slide_type": "-"
    }
   },
   "outputs": [
    {
     "data": {
      "text/plain": [
       "298"
      ]
     },
     "execution_count": 156,
     "metadata": {},
     "output_type": "execute_result"
    }
   ],
   "source": [
    "#''' reduce() '''\n",
    "from functools import reduce\n",
    "reduce(lambda x, y: x + y, list_num1)"
   ]
  },
  {
   "cell_type": "markdown",
   "id": "07430222",
   "metadata": {
    "slideshow": {
     "slide_type": "slide"
    },
    "tags": [],
    "toc-hr-collapsed": true
   },
   "source": [
    "## **§4.3 文件和文件操作**"
   ]
  },
  {
   "cell_type": "markdown",
   "id": "7fa27b14",
   "metadata": {
    "slideshow": {
     "slide_type": "-"
    },
    "tags": []
   },
   "source": [
    "### **1.文件的基础知识**"
   ]
  },
  {
   "cell_type": "markdown",
   "id": "d0a759ce",
   "metadata": {
    "slideshow": {
     "slide_type": "-"
    },
    "tags": [],
    "toc-hr-collapsed": true
   },
   "source": [
    "|文件操作|方法|\n",
    "|---|---|\n",
    "|listdir |文件及目录列表|\n",
    "|getcwd |获取当前目录|\n",
    "|chdir |更换目录名|"
   ]
  },
  {
   "cell_type": "markdown",
   "id": "faf1b667-db13-4ed7-a012-e6570c4847b1",
   "metadata": {},
   "source": [
    "**获取当前目录,并列出当前目录下的所有文件  \n",
    "修改当前目录为上一级目录  \n",
    "列出 特定目录 的全部文件**"
   ]
  },
  {
   "cell_type": "code",
   "execution_count": 157,
   "id": "fa35ba9e",
   "metadata": {
    "slideshow": {
     "slide_type": "subslide"
    },
    "tags": []
   },
   "outputs": [
    {
     "data": {
      "text/plain": [
       "' 获取当前目录,并列出当前目录下的所有文件'"
      ]
     },
     "execution_count": 157,
     "metadata": {},
     "output_type": "execute_result"
    },
    {
     "data": {
      "text/plain": [
       "'E:\\\\JupyterlabPython\\\\JupyterWorkspace\\\\C_PythonPractice\\\\2024Spring'"
      ]
     },
     "execution_count": 157,
     "metadata": {},
     "output_type": "execute_result"
    },
    {
     "data": {
      "text/plain": [
       "['.ipynb_checkpoints',\n",
       " '0_Class0ClassExecise.ipynb',\n",
       " '0_Class1_Hello.ipynb',\n",
       " '0_Class2_FlowCtrl.ipynb',\n",
       " '0_Class3_List.ipynb',\n",
       " '0_Class4_Fun&Class.ipynb',\n",
       " '1_Class6_Alien1.ipynb',\n",
       " '1_Class7_Alien2.ipynb',\n",
       " '1_Class8_Alien3.ipynb',\n",
       " '2_Class5_numpy.ipynb',\n",
       " '2_Class6_matplotlib.ipynb',\n",
       " '2_Class7_scipy.ipynb',\n",
       " '2_Class8_scipy.ipynb',\n",
       " '2_Class8_sympy.ipynb',\n",
       " '2_Class91_Pandas.ipynb',\n",
       " 'Alieninvasion1',\n",
       " 'AlieninvasionEX',\n",
       " 'Class4_ClassAdmin.py',\n",
       " 'Class4_ClassCar.py',\n",
       " 'Class4_ClassUser.py',\n",
       " 'Class4_funcmodel.py',\n",
       " 'File&Figure',\n",
       " 'guido.jpg',\n",
       " 'random_walk.py',\n",
       " '__pycache__']"
      ]
     },
     "execution_count": 157,
     "metadata": {},
     "output_type": "execute_result"
    }
   ],
   "source": [
    "''' 获取当前目录,并列出当前目录下的所有文件'''\n",
    "import os\n",
    "os.getcwd()\n",
    "os.listdir()"
   ]
  },
  {
   "cell_type": "code",
   "execution_count": 158,
   "id": "5666dbaf-3436-4bd6-b0cf-6a0f4e6ae1ee",
   "metadata": {
    "slideshow": {
     "slide_type": "subslide"
    },
    "tags": []
   },
   "outputs": [
    {
     "data": {
      "text/plain": [
       "['.ipynb_checkpoints',\n",
       " '2023before',\n",
       " '2024Spring',\n",
       " '2024Spring.rar',\n",
       " 'guido.jpg',\n",
       " '__pycache__']"
      ]
     },
     "execution_count": 158,
     "metadata": {},
     "output_type": "execute_result"
    }
   ],
   "source": [
    "#### 列出 特定目录 的全部文件\n",
    "os.listdir(\"E:\\\\JupyterlabPython\\\\JupyterWorkspace\\\\C_PythonPractice\")"
   ]
  },
  {
   "cell_type": "code",
   "execution_count": 159,
   "id": "e0dd2486",
   "metadata": {
    "slideshow": {
     "slide_type": "-"
    },
    "tags": []
   },
   "outputs": [
    {
     "data": {
      "text/plain": [
       "'E:\\\\JupyterlabPython\\\\JupyterWorkspace\\\\C_PythonPractice\\\\2024Spring'"
      ]
     },
     "execution_count": 159,
     "metadata": {},
     "output_type": "execute_result"
    }
   ],
   "source": [
    "import os\n",
    "os.getcwd()"
   ]
  },
  {
   "cell_type": "code",
   "execution_count": 160,
   "id": "a3daae5f-5d86-4f6d-ba62-ed7799bbb952",
   "metadata": {
    "slideshow": {
     "slide_type": "-"
    },
    "tags": []
   },
   "outputs": [
    {
     "data": {
      "text/plain": [
       "' 修改当前目录为上一级目录'"
      ]
     },
     "execution_count": 160,
     "metadata": {},
     "output_type": "execute_result"
    },
    {
     "data": {
      "text/plain": [
       "'E:\\\\JupyterlabPython\\\\JupyterWorkspace\\\\C_PythonPractice'"
      ]
     },
     "execution_count": 160,
     "metadata": {},
     "output_type": "execute_result"
    }
   ],
   "source": [
    "''' 修改当前目录为上一级目录'''\n",
    "os.chdir('../')\n",
    "os.getcwd()"
   ]
  },
  {
   "cell_type": "code",
   "execution_count": null,
   "id": "766778a3-a367-4379-a8b7-1ac69820e754",
   "metadata": {
    "slideshow": {
     "slide_type": "-"
    },
    "tags": []
   },
   "outputs": [],
   "source": [
    "os.listdir()"
   ]
  },
  {
   "cell_type": "markdown",
   "id": "864af343",
   "metadata": {
    "slideshow": {
     "slide_type": "subslide"
    },
    "tags": []
   },
   "source": [
    "### **2. 文件写操作**"
   ]
  },
  {
   "cell_type": "markdown",
   "id": "2cb84209",
   "metadata": {
    "slideshow": {
     "slide_type": "-"
    },
    "tags": [],
    "toc-hr-collapsed": true
   },
   "source": [
    "|文件操作|方法|\n",
    "|---|---|\n",
    "|1. 文件的打开与关闭|File文件名= open(文件字符串, 模式字符)|\n",
    "||File文件名.close()|\n",
    "||With open(文件路径字符,模式字符) as 文件对象名|\n",
    "|2. 写文件|File对象. write(写入字符串)|\n",
    "||File对象. writelines (写入多个字符串)|"
   ]
  },
  {
   "cell_type": "code",
   "execution_count": 161,
   "id": "dfa88f3e",
   "metadata": {
    "slideshow": {
     "slide_type": "subslide"
    },
    "tags": []
   },
   "outputs": [
    {
     "data": {
      "text/plain": [
       "'文件单行、多行写操作 '"
      ]
     },
     "execution_count": 161,
     "metadata": {},
     "output_type": "execute_result"
    },
    {
     "data": {
      "text/plain": [
       "9"
      ]
     },
     "execution_count": 161,
     "metadata": {},
     "output_type": "execute_result"
    },
    {
     "data": {
      "text/plain": [
       "14"
      ]
     },
     "execution_count": 161,
     "metadata": {},
     "output_type": "execute_result"
    }
   ],
   "source": [
    "'''文件单行、多行写操作 '''\n",
    "os.chdir('E:\\\\JupyterlabPython\\\\JupyterWorkspace\\\\C_PythonPractice\\\\2024Spring\\\\File&Figure')\n",
    "file1 = open(\"mydata.csv\", \"w\")\n",
    "file1.write(\"ajfa;dj;\\n\")\n",
    "file1.write(\"dfsfsrfeswrew\\n\")\n",
    "file1.writelines([\"ajfa;dj;\\t\", \"uyeworiewour\\n\"])\n",
    "file1.writelines([\"ukyukfsreswrew\\n\",\"reswrew\"])\n",
    "file1.close()"
   ]
  },
  {
   "cell_type": "markdown",
   "id": "d6796b96",
   "metadata": {
    "slideshow": {
     "slide_type": "subslide"
    },
    "tags": []
   },
   "source": [
    "### **3.文件 读 操作**"
   ]
  },
  {
   "cell_type": "markdown",
   "id": "6d0afbf7",
   "metadata": {
    "slideshow": {
     "slide_type": "-"
    },
    "tags": [],
    "toc-hr-collapsed": true
   },
   "source": [
    "|文件操作|方法|\n",
    "|---|---|\n",
    "|1. 文件的打开与关闭|File文件名= open(文件字符串, 模式字符)|\n",
    "||File文件名.close()|\n",
    "||With open(文件路径字符,模式字符) as 文件对象名|\n",
    "|3. 读文件|字符串变量＝File对象. read()|\n",
    "||字符串变量＝File对象. readline()|\n",
    "||列表变量＝File对象. readlines()|"
   ]
  },
  {
   "cell_type": "code",
   "execution_count": 162,
   "id": "8d4d9017",
   "metadata": {
    "slideshow": {
     "slide_type": "subslide"
    },
    "tags": []
   },
   "outputs": [
    {
     "data": {
      "text/plain": [
       "'文件 读整体 操作 read()'"
      ]
     },
     "execution_count": 162,
     "metadata": {},
     "output_type": "execute_result"
    },
    {
     "data": {
      "text/plain": [
       "'ajfa;dj;\\tuyeworiewour\\ndfsfsrfeswrew\\nukyukfsreswrew\\nreswrew'"
      ]
     },
     "execution_count": 162,
     "metadata": {},
     "output_type": "execute_result"
    }
   ],
   "source": [
    "'''文件 读整体 操作 read()'''\n",
    "import os\n",
    "os.chdir('E:\\\\JupyterlabPython\\\\JupyterWorkspace\\\\C_PythonPractice\\\\2024Spring\\\\File&Figure')\n",
    "file1 = open(\"mydata.txt\", \"r\", encoding='UTF-8')\n",
    "text = file1.read()\n",
    "text\n",
    "file1.close()"
   ]
  },
  {
   "cell_type": "code",
   "execution_count": 163,
   "id": "5e904f34",
   "metadata": {
    "slideshow": {
     "slide_type": "subslide"
    },
    "tags": []
   },
   "outputs": [
    {
     "data": {
      "text/plain": [
       "'文件 读单行 操作 readline()'"
      ]
     },
     "execution_count": 163,
     "metadata": {},
     "output_type": "execute_result"
    },
    {
     "data": {
      "text/plain": [
       "'ajfa;dj;\\tuyeworiewour\\n'"
      ]
     },
     "execution_count": 163,
     "metadata": {},
     "output_type": "execute_result"
    },
    {
     "data": {
      "text/plain": [
       "'dfsfsrfeswrew\\n'"
      ]
     },
     "execution_count": 163,
     "metadata": {},
     "output_type": "execute_result"
    },
    {
     "data": {
      "text/plain": [
       "'文件 读多行 操作 readlines()'"
      ]
     },
     "execution_count": 163,
     "metadata": {},
     "output_type": "execute_result"
    },
    {
     "data": {
      "text/plain": [
       "['ajfa;dj;\\tuyeworiewour\\n', 'dfsfsrfeswrew\\n', 'ukyukfsreswrew\\n', 'reswrew']"
      ]
     },
     "execution_count": 163,
     "metadata": {},
     "output_type": "execute_result"
    }
   ],
   "source": [
    "'''文件 读单行 操作 readline()'''\n",
    "file1 = open(\"mydata.txt\", \"r\", encoding='UTF-8')\n",
    "text = file1.readline()\n",
    "text\n",
    "text = file1.readline()\n",
    "text\n",
    "\n",
    "'''文件 读多行 操作 readlines()'''\n",
    "file1 = open(\"mydata.txt\", \"r\", encoding='UTF-8')\n",
    "text = file1.readlines()\n",
    "text\n",
    "file1.close()"
   ]
  },
  {
   "cell_type": "code",
   "execution_count": 164,
   "id": "c32e4972",
   "metadata": {
    "slideshow": {
     "slide_type": "subslide"
    },
    "tags": []
   },
   "outputs": [
    {
     "data": {
      "text/plain": [
       "'文件读操作 循环单行readline()'"
      ]
     },
     "execution_count": 164,
     "metadata": {},
     "output_type": "execute_result"
    },
    {
     "data": {
      "text/plain": [
       "'ajfa;dj;\\tuyeworiewour\\n'"
      ]
     },
     "execution_count": 164,
     "metadata": {},
     "output_type": "execute_result"
    },
    {
     "data": {
      "text/plain": [
       "'dfsfsrfeswrew\\n'"
      ]
     },
     "execution_count": 164,
     "metadata": {},
     "output_type": "execute_result"
    }
   ],
   "source": [
    "'''文件读操作 循环单行readline()'''\n",
    "with open(\"mydata.txt\", \"r\", encoding='UTF-8') as file1:\n",
    "    file1.readline()\n",
    "    file1.readline()"
   ]
  },
  {
   "cell_type": "markdown",
   "id": "c1367ea9",
   "metadata": {
    "slideshow": {
     "slide_type": "subslide"
    },
    "tags": []
   },
   "source": [
    "### **4. CSV文件操作**"
   ]
  },
  {
   "cell_type": "markdown",
   "id": "c945af93",
   "metadata": {
    "slideshow": {
     "slide_type": "-"
    },
    "tags": []
   },
   "source": [
    "|文件操作|方法|\n",
    "|---|---|\n",
    "|1. 文件的打开与关闭|File文件名= open(文件字符串, 模式字符)|\n",
    "||File文件名.close()|\n",
    "||With open(文件路径字符,模式字符) as 文件对象名|\n",
    "|2. 写文件|函数writer():列表存储的一行数据写入文件|\n",
    "||writerows(): 方法可以一次写入多行|\n",
    "|3. 读文件|函数reader():读取一行数据|\n",
    "||类DictReader()：读一行字典键:值对|"
   ]
  },
  {
   "cell_type": "code",
   "execution_count": 165,
   "id": "7ae31c3d",
   "metadata": {
    "slideshow": {
     "slide_type": "subslide"
    },
    "tags": []
   },
   "outputs": [
    {
     "data": {
      "text/plain": [
       "14"
      ]
     },
     "execution_count": 165,
     "metadata": {},
     "output_type": "execute_result"
    },
    {
     "data": {
      "text/plain": [
       "16"
      ]
     },
     "execution_count": 165,
     "metadata": {},
     "output_type": "execute_result"
    },
    {
     "data": {
      "text/plain": [
       "['dfsd', 'dfsd', '20']"
      ]
     },
     "execution_count": 165,
     "metadata": {},
     "output_type": "execute_result"
    },
    {
     "data": {
      "text/plain": [
       "['sdfds', 'rtete', '18']"
      ]
     },
     "execution_count": 165,
     "metadata": {},
     "output_type": "execute_result"
    },
    {
     "data": {
      "text/plain": [
       "['s65dfds', 'rt78ete', '88']"
      ]
     },
     "execution_count": 165,
     "metadata": {},
     "output_type": "execute_result"
    },
    {
     "data": {
      "text/plain": [
       "['t78etfds', 'etfdete', '448']"
      ]
     },
     "execution_count": 165,
     "metadata": {},
     "output_type": "execute_result"
    }
   ],
   "source": [
    "import csv\n",
    "os.chdir('E:\\\\JupyterlabPython\\\\JupyterWorkspace\\\\C_PythonPractice\\\\2024Spring\\\\File&Figure')\n",
    "with open(\"mydata2.csv\", \"w\", newline='') as file1:\n",
    "    writer = csv.writer(file1)\n",
    "    writer.writerow([\"dfsd\", \"dfsd\", \"20\"])\n",
    "    writer.writerow([\"sdfds\", \"rtete\", \"18\"])\n",
    "    writer.writerows([[\"s65dfds\", \"rt78ete\", \"88\"],\n",
    "                      [\"t78etfds\", \"etfdete\", \"448\"]])\n",
    "\n",
    "with open(\"mydata2.csv\", \"r\") as file1:\n",
    "    reader = csv.reader(file1)\n",
    "    for row in reader:\n",
    "        row"
   ]
  },
  {
   "cell_type": "markdown",
   "id": "bae21e88",
   "metadata": {
    "slideshow": {
     "slide_type": "slide"
    },
    "tags": [],
    "toc-hr-collapsed": true
   },
   "source": [
    "## **动手试一试2 文件操作**"
   ]
  },
  {
   "cell_type": "markdown",
   "id": "424ae70f-3c97-41c5-84ad-429266ecccb7",
   "metadata": {},
   "source": [
    "**练习4-4：某文件data.txt中存放了整数：“34,12,78,56”，  \n",
    "各整数之间使用英文逗号分隔，编写程序读取该文件中的所有整数，  \n",
    "将其升序排列后保存至一个新的文件内。**"
   ]
  },
  {
   "cell_type": "code",
   "execution_count": 166,
   "id": "1b9d1994",
   "metadata": {
    "slideshow": {
     "slide_type": "subslide"
    }
   },
   "outputs": [
    {
     "name": "stdout",
     "output_type": "stream",
     "text": [
      "12,34,56,78\n"
     ]
    },
    {
     "data": {
      "text/plain": [
       "11"
      ]
     },
     "execution_count": 166,
     "metadata": {},
     "output_type": "execute_result"
    }
   ],
   "source": [
    "import os\n",
    "os.chdir('E:\\\\JupyterlabPython\\\\JupyterWorkspace\\\\C_PythonPractice\\\\2024Spring')\n",
    "with open('File&Figure\\data.txt', \"r\", encoding='utf-8') as file:\n",
    "    content = file.read()\n",
    "data = [int(d) for d in content.split(',')]\n",
    "data.sort()\n",
    "new_content = ','.join([str(d) for d in data])\n",
    "print(new_content)\n",
    "with open('File&Figure\\data_sort.txt', \"w\", encoding='utf-8') as file:\n",
    "    file.write(new_content)"
   ]
  },
  {
   "cell_type": "markdown",
   "id": "d9015251",
   "metadata": {
    "slideshow": {
     "slide_type": "slide"
    },
    "tags": []
   },
   "source": [
    "## **§4.4 异常**"
   ]
  },
  {
   "cell_type": "code",
   "execution_count": 167,
   "id": "34478b2b",
   "metadata": {
    "tags": []
   },
   "outputs": [],
   "source": [
    "def divide(x, y):\n",
    "    try:\n",
    "        result = x / y\n",
    "    except ZeroDivisionError:\n",
    "        print(\"除数为0!\")\n",
    "    except TypeError:\n",
    "        print(\"类型错误\")\n",
    "    else:\n",
    "        print(\"结果为\", result)\n",
    "    finally:\n",
    "        print(\"除法计算结束\\n\")"
   ]
  },
  {
   "cell_type": "code",
   "execution_count": 168,
   "id": "0365b726",
   "metadata": {
    "slideshow": {
     "slide_type": "subslide"
    }
   },
   "outputs": [
    {
     "name": "stdout",
     "output_type": "stream",
     "text": [
      "结果为 2.0\n",
      "除法计算结束\n",
      "\n",
      "除数为0!\n",
      "除法计算结束\n",
      "\n",
      "类型错误\n",
      "除法计算结束\n",
      "\n",
      "类型错误\n",
      "除法计算结束\n",
      "\n"
     ]
    }
   ],
   "source": [
    "divide(2, 1)\n",
    "divide(2, 0)\n",
    "divide(\"2\", \"1\")\n",
    "divide(\"2\", 1)"
   ]
  },
  {
   "cell_type": "markdown",
   "id": "7505018e",
   "metadata": {
    "slideshow": {
     "slide_type": "slide"
    },
    "tags": [],
    "toc-hr-collapsed": true
   },
   "source": [
    "## **§4.5 创建与使用类**"
   ]
  },
  {
   "cell_type": "markdown",
   "id": "8ed83a8a",
   "metadata": {
    "tags": []
   },
   "source": [
    "### **1. 创建类**"
   ]
  },
  {
   "cell_type": "code",
   "execution_count": 169,
   "id": "13ff8a5d",
   "metadata": {
    "tags": []
   },
   "outputs": [],
   "source": [
    "class Dog:\n",
    "    \"\"\"一次模拟小狗的简单尝试。\"\"\"\n",
    "    def __init__(self, name, age):\n",
    "        '''创建新实例时，Python都会自动运行它'''\n",
    "        \"\"\"初始化属性name和age。\"\"\"\n",
    "        self.name = name\n",
    "        self.age = age\n",
    "    def sit(self):\n",
    "        \"\"\"模拟小狗收到命令时蹲下。\"\"\"\n",
    "        print(f\"{self.name} is now sitting.\")\n",
    "    def roll_over(self):\n",
    "        \"\"\"模拟小狗收到命令时打滚。\"\"\"\n",
    "        print(f\"{self.name} rolled over!\")"
   ]
  },
  {
   "cell_type": "markdown",
   "id": "4105ac29",
   "metadata": {
    "slideshow": {
     "slide_type": "subslide"
    },
    "tags": []
   },
   "source": [
    "### **2.实例化－根据类创建对象**"
   ]
  },
  {
   "cell_type": "code",
   "execution_count": 170,
   "id": "f5825a49",
   "metadata": {
    "tags": []
   },
   "outputs": [],
   "source": [
    "my_dog = Dog('Willie', 6)"
   ]
  },
  {
   "cell_type": "markdown",
   "id": "5168abb1",
   "metadata": {
    "slideshow": {
     "slide_type": "fragment"
    },
    "tags": []
   },
   "source": [
    "#### **(1).访问属性**"
   ]
  },
  {
   "cell_type": "code",
   "execution_count": 171,
   "id": "7c8cb0f7",
   "metadata": {
    "tags": []
   },
   "outputs": [
    {
     "data": {
      "text/plain": [
       "'Willie'"
      ]
     },
     "execution_count": 171,
     "metadata": {},
     "output_type": "execute_result"
    },
    {
     "data": {
      "text/plain": [
       "6"
      ]
     },
     "execution_count": 171,
     "metadata": {},
     "output_type": "execute_result"
    }
   ],
   "source": [
    "my_dog.name\n",
    "my_dog.age"
   ]
  },
  {
   "cell_type": "markdown",
   "id": "93440dfb",
   "metadata": {
    "slideshow": {
     "slide_type": "-"
    },
    "tags": []
   },
   "source": [
    "#### **(2).调用方法**"
   ]
  },
  {
   "cell_type": "code",
   "execution_count": 172,
   "id": "77115309",
   "metadata": {
    "tags": []
   },
   "outputs": [
    {
     "name": "stdout",
     "output_type": "stream",
     "text": [
      "Willie is now sitting.\n",
      "Willie rolled over!\n"
     ]
    }
   ],
   "source": [
    "my_dog.sit()\n",
    "my_dog.roll_over()"
   ]
  },
  {
   "cell_type": "markdown",
   "id": "7de6f79f",
   "metadata": {
    "slideshow": {
     "slide_type": "subslide"
    },
    "tags": []
   },
   "source": [
    "#### **(3).调创建多个实例**"
   ]
  },
  {
   "cell_type": "code",
   "execution_count": 173,
   "id": "79525808",
   "metadata": {
    "tags": []
   },
   "outputs": [
    {
     "name": "stdout",
     "output_type": "stream",
     "text": [
      "My dog's name is Willie.\n",
      "My dog is 6 years old.\n",
      "Willie is now sitting.\n",
      "\n",
      "Your dog's name is Lucy.\n",
      "Your dog is 3 years old.\n",
      "Lucy is now sitting.\n"
     ]
    }
   ],
   "source": [
    "my_dog = Dog('Willie', 6)\n",
    "your_dog = Dog('Lucy', 3)\n",
    "\n",
    "print(f\"My dog's name is {my_dog.name}.\")\n",
    "print(f\"My dog is {my_dog.age} years old.\")\n",
    "my_dog.sit()\n",
    "print(f\"\\nYour dog's name is {your_dog.name}.\")\n",
    "print(f\"Your dog is {your_dog.age} years old.\")\n",
    "your_dog.sit()"
   ]
  },
  {
   "cell_type": "markdown",
   "id": "b40a11b5",
   "metadata": {
    "slideshow": {
     "slide_type": "subslide"
    },
    "tags": []
   },
   "source": [
    "### **3.使用类**"
   ]
  },
  {
   "cell_type": "markdown",
   "id": "265bdd83",
   "metadata": {
    "tags": []
   },
   "source": [
    "#### **(1). 创建类**"
   ]
  },
  {
   "cell_type": "code",
   "execution_count": 174,
   "id": "6a544908",
   "metadata": {
    "slideshow": {
     "slide_type": "subslide"
    },
    "tags": []
   },
   "outputs": [],
   "source": [
    "class Car:\n",
    "    \"\"\"一次模拟汽车的简单尝试。\"\"\"\n",
    "    def __init__(self, make, model, year):\n",
    "        \"\"\"初始化描述汽车的属性。\"\"\"\n",
    "        self.make = make\n",
    "        self.model = model\n",
    "        self.year = year        \n",
    "        self.odometer_reading = 0        \n",
    "    def get_descriptive_name(self):\n",
    "        \"\"\"返回整洁的描述性信息。\"\"\"\n",
    "        long_name = f\"{self.year} {self.make} {self.model}\"\n",
    "        return long_name.title()\n",
    "    def read_odometer(self):\n",
    "        \"\"\"打印一条指出汽车里程的消息。\"\"\"\n",
    "        print(f\"This car has {self.odometer_reading} miles on it.\")\n",
    "    def update_odometer(self, mileage):\n",
    "        \"\"\"  将里程表读数设置为指定的值。禁止将里程表读数往回调。\"\"\"\n",
    "        if mileage >= self.odometer_reading:\n",
    "            self.odometer_reading = mileage\n",
    "        else:\n",
    "            print(\"You can't roll back an odometer!\")\n",
    "    def increment_odometer(self, miles):\n",
    "        \"\"\"将里程表读数增加指定的量。\"\"\"\n",
    "        self.odometer_reading += miles"
   ]
  },
  {
   "cell_type": "markdown",
   "id": "8e967f9f",
   "metadata": {
    "slideshow": {
     "slide_type": "subslide"
    }
   },
   "source": [
    "#### **(2). 实例化**"
   ]
  },
  {
   "cell_type": "code",
   "execution_count": 175,
   "id": "d632655c",
   "metadata": {
    "tags": []
   },
   "outputs": [],
   "source": [
    "my_new_car = Car('audi', 'a4', 2019)"
   ]
  },
  {
   "cell_type": "markdown",
   "id": "be11d854",
   "metadata": {
    "slideshow": {
     "slide_type": "-"
    },
    "tags": []
   },
   "source": [
    "#### **(3). 调用方法**"
   ]
  },
  {
   "cell_type": "code",
   "execution_count": 71,
   "id": "bdfba269",
   "metadata": {
    "tags": []
   },
   "outputs": [
    {
     "data": {
      "text/plain": [
       "'2019 Audi A4'"
      ]
     },
     "execution_count": 71,
     "metadata": {},
     "output_type": "execute_result"
    },
    {
     "name": "stdout",
     "output_type": "stream",
     "text": [
      "This car has 0 miles on it.\n"
     ]
    }
   ],
   "source": [
    "my_new_car.get_descriptive_name()\n",
    "my_new_car.read_odometer()"
   ]
  },
  {
   "cell_type": "markdown",
   "id": "d0c0b63f",
   "metadata": {
    "slideshow": {
     "slide_type": "subslide"
    },
    "tags": []
   },
   "source": [
    "#### **(4-1). 直接修改属性的值**"
   ]
  },
  {
   "cell_type": "code",
   "execution_count": 72,
   "id": "036497ae",
   "metadata": {
    "tags": []
   },
   "outputs": [
    {
     "name": "stdout",
     "output_type": "stream",
     "text": [
      "This car has 23 miles on it.\n"
     ]
    }
   ],
   "source": [
    "my_new_car.odometer_reading = 23\n",
    "my_new_car.read_odometer()"
   ]
  },
  {
   "cell_type": "markdown",
   "id": "2e6340e3",
   "metadata": {
    "tags": []
   },
   "source": [
    "#### **(4-2). 通过方法修改属性的值**"
   ]
  },
  {
   "cell_type": "code",
   "execution_count": 73,
   "id": "e72e5c4f",
   "metadata": {
    "tags": []
   },
   "outputs": [
    {
     "name": "stdout",
     "output_type": "stream",
     "text": [
      "This car has 123 miles on it.\n"
     ]
    }
   ],
   "source": [
    "my_new_car.update_odometer(123)\n",
    "my_new_car.read_odometer()"
   ]
  },
  {
   "cell_type": "markdown",
   "id": "37c68b24",
   "metadata": {
    "slideshow": {
     "slide_type": "subslide"
    },
    "tags": []
   },
   "source": [
    "#### **(4-3). 通过方法对属性的值进行递增**"
   ]
  },
  {
   "cell_type": "code",
   "execution_count": 74,
   "id": "004685e5",
   "metadata": {
    "tags": []
   },
   "outputs": [
    {
     "name": "stdout",
     "output_type": "stream",
     "text": [
      "This car has 23500 miles on it.\n",
      "This car has 23600 miles on it.\n"
     ]
    }
   ],
   "source": [
    "my_used_car = Car('subaru', 'outback', 2015)\n",
    "my_used_car.update_odometer(23_500)\n",
    "my_used_car.read_odometer()\n",
    "my_used_car.increment_odometer(100)\n",
    "my_used_car.read_odometer()"
   ]
  },
  {
   "cell_type": "markdown",
   "id": "8ddb9ac2",
   "metadata": {
    "slideshow": {
     "slide_type": "slide"
    }
   },
   "source": [
    "## **动手试一试3 类**"
   ]
  },
  {
   "cell_type": "markdown",
   "id": "d73d56e3-abdd-4c80-a1d7-78dd15fdee49",
   "metadata": {},
   "source": [
    "**练习5：创建一个名为User 的类，其中包含属性first_name和last_name，  \n",
    "以及用户简介通常会存储的其他几个属性。在类User中:  \n",
    "定义一个名为describe_user()的方法，用于打印用户信息摘要。  \n",
    "再定义一个名为greet_user()的方法，用于向用户发出个性化的问候。  \n",
    "添加一个名为login_attempts 的属性。  \n",
    "编写一个名为Increment_login_attempts()的方法:将属性login_attempts的值加1。 \n",
    "再编写一个名为reset_login_attempts()的方法: 将属性login_attempts的值重置为0。 \n",
    "创建多个表示不同用户的实例，并对每个实例调用上述4个方法。  \n",
    "创建一个实例，调用方法increment_login_attempts()多次。  \n",
    "打印属性login_attempts 的值，确认它被正确地递增。  \n",
    "调用方法reset_login_attempts()，再次打印属性login_attempts的值，确认它被重置为0。**"
   ]
  },
  {
   "cell_type": "code",
   "execution_count": 76,
   "id": "6199e233",
   "metadata": {
    "slideshow": {
     "slide_type": "subslide"
    }
   },
   "outputs": [],
   "source": [
    "class User:\n",
    "    \"\"\"用户情况。\"\"\"\n",
    "    def __init__(self, first_name, last_name, username, phone, weichat):\n",
    "        \"\"\"初始化属性name和type。\"\"\"\n",
    "        self.first_name = first_name\n",
    "        self.last_name = last_name\n",
    "        self.username = username\n",
    "        self.phone = phone\n",
    "        self.weichat = weichat        \n",
    "        self.full_name = f\"{self.first_name} {self.last_name}\"        \n",
    "        self.login_attempts = 0\n",
    "    def describe_user(self):\n",
    "        \"\"\"打印用户信息摘要。\"\"\"        \n",
    "        print(f\"\\n{self.first_name} {self.last_name}\") \n",
    "        print(f\"  Username: {self.username}\") \n",
    "        print(f\"  phone: {self.phone}\") \n",
    "        print(f\"  weichat: {self.weichat}\")\n",
    "    def print_login_attempts(self):\n",
    "        \"\"\"打印打印用户信息摘要。\"\"\"\n",
    "        print(f\"  Login attempts: {self.login_attempts}\")        \n",
    "    def greet_user(self):\n",
    "        \"\"\"打印一条消息，向用户发出个性化的问候。\"\"\"\n",
    "        print(f\"\\nWelcome back, {self.username}!\")        \n",
    "    def reset_login_attempts(self):\n",
    "        \"\"\"属性login_attempts 的值重置为0。\"\"\"\n",
    "        self.login_attempts = 0\n",
    "    def increment_login_attempts(self):\n",
    "        \"\"\"属性login_attempts 的值加1。\"\"\"\n",
    "        self.login_attempts += 1"
   ]
  },
  {
   "cell_type": "code",
   "execution_count": 77,
   "id": "143877c6-c225-42a5-b8dd-25a1ad0dbfce",
   "metadata": {
    "slideshow": {
     "slide_type": "subslide"
    }
   },
   "outputs": [
    {
     "name": "stdout",
     "output_type": "stream",
     "text": [
      "\n",
      "HJ Wang\n",
      "  Username: dlhjwang\n",
      "  phone: 18605113399\n",
      "  weichat: 18605113399\n",
      "  Login attempts: 0\n",
      "\n",
      "Making 3 login attempts...\n",
      "  Login attempts: 3\n",
      "Resetting login attempts...\n",
      "  Login attempts: 0\n"
     ]
    }
   ],
   "source": [
    "Wang = User('HJ', 'Wang', 'dlhjwang', '18605113399', '18605113399')\n",
    "Wang.describe_user()\n",
    "Wang.print_login_attempts()\n",
    "\n",
    "print(\"\\nMaking 3 login attempts...\")\n",
    "Wang.increment_login_attempts()\n",
    "Wang.increment_login_attempts()\n",
    "Wang.increment_login_attempts()\n",
    "Wang.print_login_attempts()\n",
    "\n",
    "print(\"Resetting login attempts...\")\n",
    "Wang.reset_login_attempts()\n",
    "Wang.print_login_attempts()"
   ]
  },
  {
   "cell_type": "markdown",
   "id": "555903c0",
   "metadata": {
    "slideshow": {
     "slide_type": "slide"
    },
    "toc-hr-collapsed": true
   },
   "source": [
    "## **§4.6 继承**"
   ]
  },
  {
   "cell_type": "markdown",
   "id": "9ea675d4-7752-49b6-b52f-dc3bf59fb96e",
   "metadata": {
    "tags": []
   },
   "source": [
    "**(1) 如果要编写的类是另一个现成类的特殊版本，可使用继承。  \n",
    "(2) 一个类继承另一个类时，将自动获得另一个类的所有属性和方法。  \n",
    "(3) 原有的类称为父类 ，而新类称为子类。  \n",
    "(4) 子类继承了父类的所有属性和方法，同时还可以定义自己的属性和方法。**"
   ]
  },
  {
   "cell_type": "markdown",
   "id": "9a9e5be9",
   "metadata": {
    "slideshow": {
     "slide_type": "subslide"
    }
   },
   "source": [
    "### **1.父类**"
   ]
  },
  {
   "cell_type": "code",
   "execution_count": 176,
   "id": "60d06dd0",
   "metadata": {
    "tags": []
   },
   "outputs": [],
   "source": [
    "class Car:\n",
    "    \"\"\"一次模拟汽车的简单尝试。\"\"\"\n",
    "    def __init__(self, make, model, year):\n",
    "        \"\"\"初始化描述汽车的属性。\"\"\"\n",
    "        self.make = make\n",
    "        self.model = model\n",
    "        self.year = year        \n",
    "        self.odometer_reading = 0        \n",
    "    def get_descriptive_name(self):\n",
    "        \"\"\"返回整洁的描述性信息。\"\"\"\n",
    "        long_name = f\"{self.year} {self.make} {self.model}\"\n",
    "        return long_name.title()\n",
    "    def read_odometer(self):\n",
    "        \"\"\"打印一条指出汽车里程的消息。\"\"\"\n",
    "        print(f\"This car has {self.odometer_reading} miles on it.\")\n",
    "    def update_odometer(self, mileage):\n",
    "        \"\"\"  将里程表读数设置为指定的值。\n",
    "        禁止将里程表读数往回调。\"\"\"\n",
    "        if mileage >= self.odometer_reading:\n",
    "            self.odometer_reading = mileage\n",
    "        else:\n",
    "            print(\"You can't roll back an odometer!\")\n",
    "    def increment_odometer(self, miles):\n",
    "        \"\"\"将里程表读数增加指定的量。\"\"\"\n",
    "        self.odometer_reading += miles"
   ]
  },
  {
   "cell_type": "markdown",
   "id": "be9aca4f",
   "metadata": {
    "slideshow": {
     "slide_type": "subslide"
    }
   },
   "source": [
    "### **2.子类的方法__init__()中， 加入语句：super()**"
   ]
  },
  {
   "cell_type": "markdown",
   "id": "7ffc4a3b-c164-4f82-9993-45d79a35c138",
   "metadata": {
    "slideshow": {
     "slide_type": "-"
    }
   },
   "source": [
    "**子类名称， 类命名之后加括号，括号中是父类命名**"
   ]
  },
  {
   "cell_type": "code",
   "execution_count": 177,
   "id": "3e4ab641",
   "metadata": {
    "tags": []
   },
   "outputs": [],
   "source": [
    "class ElectricCar(Car):\n",
    "    \"\"\"电动汽车的独特之处。\"\"\"\n",
    "    def __init__(self, make, model, year):\n",
    "        \"\"\"初始化父类的属性。\"\"\"\n",
    "        super().__init__(make, model, year)\n",
    "        ## 给子类定义属性和方法\n",
    "        self.battery_size = 75\n",
    "        \n",
    "    def describe_battery(self):\n",
    "        \"\"\"打印一条描述电瓶容量的消息。\"\"\"\n",
    "        print(f\"This car has a {self.battery_size}-kWh battery.\")"
   ]
  },
  {
   "cell_type": "markdown",
   "id": "d257cafe",
   "metadata": {
    "slideshow": {
     "slide_type": "subslide"
    }
   },
   "source": [
    "### **3. 实例化**"
   ]
  },
  {
   "cell_type": "code",
   "execution_count": 178,
   "id": "6a6ba5dc",
   "metadata": {
    "tags": []
   },
   "outputs": [
    {
     "name": "stdout",
     "output_type": "stream",
     "text": [
      "2019 Tesla Model S\n",
      "This car has a 75-kWh battery.\n"
     ]
    }
   ],
   "source": [
    "my_tesla = ElectricCar('tesla', 'model s', 2019)\n",
    "print(my_tesla.get_descriptive_name())\n",
    "my_tesla.describe_battery()"
   ]
  },
  {
   "cell_type": "markdown",
   "id": "96a703ec",
   "metadata": {
    "slideshow": {
     "slide_type": "subslide"
    }
   },
   "source": [
    "### **4.将实例用作属性**"
   ]
  },
  {
   "cell_type": "code",
   "execution_count": 179,
   "id": "7f587b0f",
   "metadata": {
    "tags": []
   },
   "outputs": [],
   "source": [
    "class Battery:\n",
    "    \"\"\"一次模拟电动汽车电瓶的简单尝试。\"\"\"\n",
    "    def __init__(self, battery_size=75):\n",
    "        \"\"\"初始化电瓶的属性。\"\"\"\n",
    "        self.battery_size = battery_size\n",
    "    def describe_battery(self):\n",
    "        \"\"\"打印一条描述电瓶容量的消息。\"\"\"\n",
    "        print(f\"This car has a {self.battery_size}-kWh battery.\")\n",
    "    def get_range(self):\n",
    "        \"\"\"打印一条消息，指出电瓶的续航里程。\"\"\"\n",
    "        if self.battery_size == 75:\n",
    "            range = 260\n",
    "        elif self.battery_size == 100:\n",
    "            range = 315\n",
    "        print(f\"This car can go about {range} miles on a full charge.\")"
   ]
  },
  {
   "cell_type": "code",
   "execution_count": 180,
   "id": "016467a4",
   "metadata": {
    "slideshow": {
     "slide_type": "-"
    }
   },
   "outputs": [],
   "source": [
    "class ElectricCar(Car):\n",
    "    \"\"\"电动汽车的独特之处。\"\"\"\n",
    "    def __init__(self, make, model, year):\n",
    "        \"\"\"初始化父类的属性。  再初始化电动汽车特有的属性。  \"\"\"\n",
    "        super().__init__(make, model, year)        \n",
    "        self.battery = Battery()\n",
    "        \n",
    "    def describe_battery(self):\n",
    "        \"\"\"打印一条描述电瓶容量的消息。\"\"\"\n",
    "        print(f\"This car has a {self.battery_size}-kWh battery.\")"
   ]
  },
  {
   "cell_type": "code",
   "execution_count": 83,
   "id": "18797096",
   "metadata": {
    "slideshow": {
     "slide_type": "subslide"
    },
    "tags": []
   },
   "outputs": [
    {
     "name": "stdout",
     "output_type": "stream",
     "text": [
      "2019 Tesla Model S\n",
      "This car has a 75-kWh battery.\n"
     ]
    }
   ],
   "source": [
    "my_tesla = ElectricCar('tesla', 'model s', 2019)\n",
    "print(my_tesla.get_descriptive_name())\n",
    "my_tesla.battery.describe_battery()"
   ]
  },
  {
   "cell_type": "markdown",
   "id": "e828b74b",
   "metadata": {
    "slideshow": {
     "slide_type": "slide"
    }
   },
   "source": [
    "## **动手试一试5**"
   ]
  },
  {
   "cell_type": "markdown",
   "id": "a68f8fa6-cd10-4773-a15b-914194b60870",
   "metadata": {},
   "source": [
    "**练习6：管理员。  \n",
    "    管理员是一种特殊的用户。编写一个名为Admin 的类，  \n",
    "让它继承为完成练习5而编写的User 类。  \n",
    "添加一个名为privileges 的属性，用于存储一个由字符串  \n",
    "（如\"can add post\"、\"candelete post\"、   \n",
    "\"can ban user\" 等）组成的列表。   \n",
    "    编写一个名为show_privileges() 的方法，显示管理员的权限。  \n",
    "创建一个Admin 实例，并调用这个方法。**"
   ]
  },
  {
   "cell_type": "code",
   "execution_count": 84,
   "id": "d302a70e",
   "metadata": {
    "slideshow": {
     "slide_type": "subslide"
    }
   },
   "outputs": [],
   "source": [
    "class User:\n",
    "    \"\"\"用户情况。\"\"\"\n",
    "    def __init__(self, first_name, last_name, username, phone, weichat):\n",
    "        \"\"\"初始化属性name和type。\"\"\"\n",
    "        self.first_name = first_name\n",
    "        self.last_name = last_name\n",
    "        self.username = username\n",
    "        self.phone = phone\n",
    "        self.weichat = weichat        \n",
    "        self.full_name = f\"{self.first_name} {self.last_name}\"        \n",
    "        self.login_attempts = 0\n",
    "    def describe_user(self):\n",
    "        \"\"\"打印用户信息摘要。\"\"\"        \n",
    "        print(f\"\\n{self.first_name} {self.last_name}\") \n",
    "        print(f\"  Username: {self.username}\") \n",
    "        print(f\"  phone: {self.phone}\") \n",
    "        print(f\"  weichat: {self.weichat}\")\n",
    "    def print_login_attempts(self):\n",
    "        \"\"\"打印打印用户信息摘要。\"\"\"\n",
    "        print(f\"  Login attempts: {self.login_attempts}\")        \n",
    "    def greet_user(self):\n",
    "        \"\"\"打印一条消息，向用户发出个性化的问候。\"\"\"\n",
    "        print(f\"\\nWelcome back, {self.username}!\")        \n",
    "    def reset_login_attempts(self):\n",
    "        \"\"\"属性login_attempts 的值重置为0。\"\"\"\n",
    "        self.login_attempts = 0\n",
    "    def increment_login_attempts(self):\n",
    "        \"\"\"属性login_attempts 的值加1。\"\"\"\n",
    "        self.login_attempts += 1"
   ]
  },
  {
   "cell_type": "code",
   "execution_count": 85,
   "id": "99eecebf-bec4-4c74-a1bd-c326a9122ba9",
   "metadata": {
    "slideshow": {
     "slide_type": "subslide"
    }
   },
   "outputs": [],
   "source": [
    "class Admin(User):\n",
    "    def __init__(self, first_name, last_name, username, phone, weichat):\n",
    "        super().__init__(first_name, last_name, username, phone, weichat)\n",
    "        self.privileges = []\n",
    "    def show_privileges(self):\n",
    "        \"\"\"显示管理员的权限。\"\"\"\n",
    "        print(\"Privileges:\")\n",
    "        for privilege in self.privileges: \n",
    "            print(f\"  - {privilege.title()}\")"
   ]
  },
  {
   "cell_type": "code",
   "execution_count": 86,
   "id": "fa4242dd-4f34-428e-8af4-ac1a3c66fca9",
   "metadata": {},
   "outputs": [
    {
     "name": "stdout",
     "output_type": "stream",
     "text": [
      "\n",
      "HJ Wang\n",
      "  Username: dlhjwang\n",
      "  phone: 18605113399\n",
      "  weichat: 18605113399\n",
      "  Login attempts: 0\n",
      "Privileges:\n",
      "  - Can Add Post\n",
      "  - Can Delete Post\n",
      "  - Can Ban User\n"
     ]
    }
   ],
   "source": [
    "Wang = Admin('HJ', 'Wang', 'dlhjwang', '18605113399', '18605113399')\n",
    "Wang.privileges = [\"can add post\", \"can delete post\", \"can ban user\"] \n",
    "Wang.describe_user()\n",
    "Wang.print_login_attempts()\n",
    "Wang.show_privileges()"
   ]
  },
  {
   "cell_type": "markdown",
   "id": "a7e06a9d-4b93-448e-98e5-39512c3a0e07",
   "metadata": {
    "slideshow": {
     "slide_type": "subslide"
    }
   },
   "source": [
    "**练习7：权限  \n",
    "    编写一个名为Privileges 的类，它只有一个属性privileges，  \n",
    "其中存储了练习4-4所述的字符串列表。将方法show_privileges()  \n",
    "移到这个类中。在Admin 类中，将一个Privileges实例用作其属性。  \n",
    "创建一个Admin 实例，并使用方法show_privileges()来显示其权限。  \n",
    "    将User类、Privileges 类和Admin 类存储在一个模块中，再创建  \n",
    "一个文件，在其中创建一个Admin 实例并对其调用方法show_privileges()，  \n",
    "以确认一切都能正确运行。**"
   ]
  },
  {
   "cell_type": "code",
   "execution_count": 87,
   "id": "7b4372cc-71a0-4889-96b4-abb60b2a9924",
   "metadata": {
    "slideshow": {
     "slide_type": "subslide"
    }
   },
   "outputs": [],
   "source": [
    "class Privileges:\n",
    "    \"\"\"一个存储管理员权限的类。\"\"\"\n",
    "    def __init__(self, privileges=[]): \n",
    "        self.privileges = privileges\n",
    "    def show_privileges(self): \n",
    "        print(\"\\nPrivileges:\") \n",
    "        if self.privileges:\n",
    "            for privilege in self.privileges: \n",
    "                print(f\"- {privilege}\")\n",
    "        else: \n",
    "            print(\" -- This user has no privileges.\")"
   ]
  },
  {
   "cell_type": "code",
   "execution_count": 88,
   "id": "1e27b882-c6b3-41f4-96bd-a4f1e3e805ad",
   "metadata": {
    "slideshow": {
     "slide_type": "subslide"
    }
   },
   "outputs": [],
   "source": [
    "class Admin(User):\n",
    "    def __init__(self, first_name, last_name, username, phone, weichat):\n",
    "        super().__init__(first_name, last_name, username, phone, weichat)\n",
    "        self.privileges = Privileges()\n",
    "    #privileges = [\"can add post\", \"can delete post\", \"can ban user\"]\n",
    "\n",
    "    def show_privileges(self):\n",
    "        \"\"\"显示管理员的权限。\"\"\"\n",
    "        print(\"\\nPrivileges:\")\n",
    "        for privilege in self.privileges: \n",
    "            print(f\" -- {privilege.title()}\")"
   ]
  },
  {
   "cell_type": "code",
   "execution_count": 89,
   "id": "6e542137-d4fd-4f07-a9d9-87befc9e8c38",
   "metadata": {
    "slideshow": {
     "slide_type": "subslide"
    }
   },
   "outputs": [
    {
     "name": "stdout",
     "output_type": "stream",
     "text": [
      "\n",
      "HJ Wang\n",
      "  Username: dlhjwang\n",
      "  phone: 18605113399\n",
      "  weichat: 18605113399\n",
      "\n",
      "Privileges:\n",
      " -- This user has no privileges.\n",
      "\n",
      "Adding privileges...\n",
      "\n",
      "Privileges:\n",
      "- can reset passwords\n",
      "- can moderate discussions\n",
      "- can suspend accounts\n"
     ]
    }
   ],
   "source": [
    "Wang = Admin('HJ', 'Wang', 'dlhjwang', '18605113399', '18605113399')\n",
    "Wang.describe_user()\n",
    "Wang.privileges.show_privileges()\n",
    "print(\"\\nAdding privileges...\") \n",
    "Wang_privileges = ['can reset passwords', \n",
    "                   'can moderate discussions',\n",
    "                   'can suspend accounts', ]\n",
    "Wang.privileges.privileges = Wang_privileges \n",
    "Wang.privileges.show_privileges()"
   ]
  },
  {
   "cell_type": "markdown",
   "id": "9b16c3b3",
   "metadata": {
    "slideshow": {
     "slide_type": "slide"
    }
   },
   "source": [
    "## **§4.7 导入类**"
   ]
  },
  {
   "cell_type": "markdown",
   "id": "342da290-60c1-4140-b921-e7905d2f1e7e",
   "metadata": {
    "slideshow": {
     "slide_type": "-"
    }
   },
   "source": [
    "**1.导入单个类  \n",
    "2.在一个模块中存储多个类,从一个模块中导入多个类  \n",
    "3.导入整个模块  \n",
    "4.导入模块中的所有类  \n",
    "5.在一个模块中导入另一个模块  \n",
    "6.使用别名**"
   ]
  },
  {
   "cell_type": "markdown",
   "id": "12bf92bb",
   "metadata": {
    "slideshow": {
     "slide_type": "subslide"
    }
   },
   "source": [
    "##### **Class4_ClassCar.py**"
   ]
  },
  {
   "cell_type": "code",
   "execution_count": null,
   "id": "ab6b13cd",
   "metadata": {},
   "outputs": [],
   "source": [
    "class Car:\n",
    "       --snip--\n",
    "class Battery:\n",
    "       --snip--\n",
    "class ElectricCar(Car):\n",
    "       --snip--"
   ]
  },
  {
   "cell_type": "markdown",
   "id": "f79c6389-9af7-4090-8b0c-2a51920b26f1",
   "metadata": {
    "slideshow": {
     "slide_type": "fragment"
    }
   },
   "source": [
    "##### **Class4_ClassUser.py**"
   ]
  },
  {
   "cell_type": "code",
   "execution_count": null,
   "id": "c98d267b",
   "metadata": {},
   "outputs": [],
   "source": [
    "class User:\n",
    "       --snip--"
   ]
  },
  {
   "cell_type": "markdown",
   "id": "79092ff3-bef1-4dcf-a67b-51f7cd6bdb9d",
   "metadata": {
    "slideshow": {
     "slide_type": "fragment"
    }
   },
   "source": [
    "##### **Class4_ClassAdmin.py**"
   ]
  },
  {
   "cell_type": "code",
   "execution_count": null,
   "id": "6af4a421",
   "metadata": {},
   "outputs": [],
   "source": [
    "class Admin(User):\n",
    "       --snip--\n",
    "class Privileges():\n",
    "       --snip--"
   ]
  },
  {
   "cell_type": "markdown",
   "id": "9ff8be35",
   "metadata": {
    "slideshow": {
     "slide_type": "subslide"
    }
   },
   "source": [
    "### **1.导入单个类**"
   ]
  },
  {
   "cell_type": "code",
   "execution_count": 90,
   "id": "09658e35",
   "metadata": {},
   "outputs": [
    {
     "data": {
      "text/plain": [
       "'2019 Audi A4'"
      ]
     },
     "execution_count": 90,
     "metadata": {},
     "output_type": "execute_result"
    },
    {
     "name": "stdout",
     "output_type": "stream",
     "text": [
      "This car has 23 miles on it.\n"
     ]
    }
   ],
   "source": [
    "from Class4_ClassCar import Car\n",
    "\n",
    "my_new_car = Car('audi', 'a4', 2019)\n",
    "my_new_car.get_descriptive_name()\n",
    "my_new_car.odometer_reading = 23\n",
    "my_new_car.read_odometer()"
   ]
  },
  {
   "cell_type": "markdown",
   "id": "2300c750",
   "metadata": {
    "slideshow": {
     "slide_type": "subslide"
    }
   },
   "source": [
    "### **2.在一个模块中存储多个类,从一个模块中导入多个类**"
   ]
  },
  {
   "cell_type": "code",
   "execution_count": 91,
   "id": "f5e1d82d",
   "metadata": {},
   "outputs": [
    {
     "data": {
      "text/plain": [
       "'2019 Tesla Model S'"
      ]
     },
     "execution_count": 91,
     "metadata": {},
     "output_type": "execute_result"
    },
    {
     "name": "stdout",
     "output_type": "stream",
     "text": [
      "This car has a 75-kWh battery.\n",
      "This car can go about 260 miles on a full charge.\n"
     ]
    }
   ],
   "source": [
    "from Class4_ClassCar import Car, ElectricCar\n",
    "\n",
    "my_tesla = ElectricCar('tesla', 'model s', 2019)\n",
    "my_tesla.get_descriptive_name()\n",
    "my_tesla.battery.describe_battery()\n",
    "my_tesla.battery.get_range()"
   ]
  },
  {
   "cell_type": "markdown",
   "id": "8a79c337",
   "metadata": {
    "slideshow": {
     "slide_type": "subslide"
    }
   },
   "source": [
    "### **3.导入整个模块**"
   ]
  },
  {
   "cell_type": "code",
   "execution_count": 92,
   "id": "6ecfe5f2",
   "metadata": {},
   "outputs": [
    {
     "name": "stdout",
     "output_type": "stream",
     "text": [
      "2019 Volkswagen Beetle\n",
      "2019 Tesla Roadster\n"
     ]
    }
   ],
   "source": [
    "import Class4_ClassCar\n",
    "\n",
    "my_beetle = Class4_ClassCar.Car('volkswagen', 'beetle', 2019)\n",
    "print(my_beetle.get_descriptive_name())\n",
    "\n",
    "my_tesla = Class4_ClassCar.ElectricCar('tesla', 'roadster', 2019)\n",
    "print(my_tesla.get_descriptive_name())"
   ]
  },
  {
   "cell_type": "markdown",
   "id": "5b2cf5bf",
   "metadata": {
    "slideshow": {
     "slide_type": "subslide"
    }
   },
   "source": [
    "### **4.导入模块中的所有类**"
   ]
  },
  {
   "cell_type": "code",
   "execution_count": 93,
   "id": "c15405d6",
   "metadata": {},
   "outputs": [
    {
     "name": "stdout",
     "output_type": "stream",
     "text": [
      "2019 Volkswagen Beetle\n",
      "2019 Tesla Roadster\n"
     ]
    }
   ],
   "source": [
    "from Class4_ClassCar import *\n",
    "\n",
    "my_beetle = Car('volkswagen', 'beetle', 2019)\n",
    "print(my_beetle.get_descriptive_name())\n",
    "\n",
    "my_tesla = ElectricCar('tesla', 'roadster', 2019)\n",
    "print(my_tesla.get_descriptive_name())"
   ]
  },
  {
   "cell_type": "markdown",
   "id": "b132eac1",
   "metadata": {
    "slideshow": {
     "slide_type": "subslide"
    }
   },
   "source": [
    "### **5.在一个模块中导入另一个模块**"
   ]
  },
  {
   "cell_type": "code",
   "execution_count": 94,
   "id": "70b9e9a2",
   "metadata": {},
   "outputs": [],
   "source": [
    "from Class4_ClassUser import User \n",
    "from Class4_ClassAdmin import Admin"
   ]
  },
  {
   "cell_type": "markdown",
   "id": "bc9ac058",
   "metadata": {},
   "source": [
    "### **6.使用别名**"
   ]
  },
  {
   "cell_type": "code",
   "execution_count": 95,
   "id": "7d48fc08",
   "metadata": {},
   "outputs": [],
   "source": [
    "from Class4_ClassUser import User as User\n",
    "from Class4_ClassAdmin import Admin as Admin"
   ]
  },
  {
   "cell_type": "markdown",
   "id": "c8e3add7",
   "metadata": {
    "slideshow": {
     "slide_type": "slide"
    }
   },
   "source": [
    "## **动手试一试6**"
   ]
  },
  {
   "cell_type": "markdown",
   "id": "ab86ef2a-e607-47e8-bf0d-dec209ec3b74",
   "metadata": {},
   "source": [
    "**练习8：导入Admin 类  \n",
    "以为完成练习7而做的工作为基础。将User类、Privileges 类  \n",
    "和Admin 类存储在一个模块中，再创建一个文件，在其中创建  \n",
    "一个Admin 实例并对其调用方法show_privileges() ，以确认  \n",
    "一切都能正确运行。**"
   ]
  },
  {
   "cell_type": "code",
   "execution_count": 96,
   "id": "717ca798-b92e-42ea-a83f-0ae2d1b96243",
   "metadata": {
    "slideshow": {
     "slide_type": "subslide"
    }
   },
   "outputs": [
    {
     "name": "stdout",
     "output_type": "stream",
     "text": [
      "\n",
      "eric matthes\n",
      "  Username: e_matthes\n",
      "  phone: e_matthes@example.com\n",
      "  weichat: alaska\n",
      "\n",
      "The admin e_matthes has these privileges: \n",
      "\n",
      "Privileges:\n",
      "- can reset passwords\n",
      "- can moderate discussions\n",
      "- can suspend accounts\n"
     ]
    }
   ],
   "source": [
    "from Class4_ClassAdmin import Admin \n",
    "\n",
    "eric = Admin('eric', 'matthes', 'e_matthes', 'e_matthes@example.com', 'alaska') \n",
    "eric.describe_user() \n",
    "eric_privileges = ['can reset passwords', 'can moderate discussions', 'can suspend accounts', ] \n",
    "eric.privileges.privileges = eric_privileges \n",
    "print(f\"\\nThe admin {eric.username} has these privileges: \") \n",
    "eric.privileges.show_privileges()"
   ]
  },
  {
   "cell_type": "code",
   "execution_count": null,
   "id": "2e7ea039-b9c5-4055-93ff-184ce4c55d54",
   "metadata": {},
   "outputs": [],
   "source": []
  }
 ],
 "metadata": {
  "celltoolbar": "Slideshow",
  "kernelspec": {
   "display_name": "Python 3 (ipykernel)",
   "language": "python",
   "name": "python3"
  },
  "language_info": {
   "codemirror_mode": {
    "name": "ipython",
    "version": 3
   },
   "file_extension": ".py",
   "mimetype": "text/x-python",
   "name": "python",
   "nbconvert_exporter": "python",
   "pygments_lexer": "ipython3",
   "version": "3.11.1"
  }
 },
 "nbformat": 4,
 "nbformat_minor": 5
}
