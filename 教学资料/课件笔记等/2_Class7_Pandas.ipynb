{
 "cells": [
  {
   "cell_type": "code",
   "execution_count": null,
   "id": "a7bfd27e-25c5-45e6-9f6b-86380053d3b2",
   "metadata": {
    "tags": []
   },
   "outputs": [],
   "source": [
    "#添加以下代码以显示单元格中的所有输出\n",
    "from IPython.core.interactiveshell import InteractiveShell\n",
    "InteractiveShell.ast_node_interactivity = \"all\"\n",
    "from matplotlib import pyplot as plt\n",
    "plt.rcParams['font.sans-serif'] = ['SimHei'] #显示中文\n",
    "plt.rcParams['axes.unicode_minus'] = False #显示负号"
   ]
  },
  {
   "cell_type": "markdown",
   "id": "20690301-45d8-42df-b27c-27a98dce3af5",
   "metadata": {
    "slideshow": {
     "slide_type": "slide"
    }
   },
   "source": [
    "# **第7课 科学计算基础 Pandas**"
   ]
  },
  {
   "cell_type": "markdown",
   "id": "de94909f-e7cb-4eac-927c-78b12231a8fe",
   "metadata": {},
   "source": [
    "## **§7.1 pandas库的简介** "
   ]
  },
  {
   "cell_type": "markdown",
   "id": "8f576687-03fa-4505-a235-35b967b84e9b",
   "metadata": {},
   "source": [
    "  **Pandas 是一个开源的第三方 Python 库，从 Numpy 和 Matplotlib   \n",
    "的基础上构建而来，享有数据分析“三剑客之一”的盛名(NumPy、Matplotlib、Pandas)。  \n",
    "  Pandas 库的主要应用方向：针对多维结构化数据集的分析处理。  \n",
    "  Pandas 库为 Python 语言提供了高性能、易于使用的数据结构和数据  \n",
    "分析工具集，它的目标是成为强大、灵活、可以支持任何编程语言的数据分析工具。**"
   ]
  },
  {
   "cell_type": "raw",
   "id": "962c6ebc-9b05-4a52-844b-be4f55e7c949",
   "metadata": {
    "slideshow": {
     "slide_type": "subslide"
    }
   },
   "source": [
    "pandas模块的导入:\n",
    "  import numpy as np\n",
    "  import pandas as pd "
   ]
  },
  {
   "cell_type": "markdown",
   "id": "3bcb5c63-2a85-4829-96dc-1a3f708d79d6",
   "metadata": {},
   "source": [
    "  **Pandas 库是以Numpy库为基础构建的，通常用来处理表格型(关系型)的数据集  \n",
    "或与时间序列相关的数据集。  \n",
    "  Series对象有着与一维数组相似的结构，是带标签(索引)的一维同构数组。  \n",
    "  DataFrame是一个表格型的数据结构，是带标签的，大小可变的，二维异构表格。**"
   ]
  },
  {
   "cell_type": "markdown",
   "id": "fe7a3611-8de8-407f-bc3a-f060bbc5e167",
   "metadata": {
    "slideshow": {
     "slide_type": "slide"
    }
   },
   "source": [
    "## **§7.2 Series对象的应用** "
   ]
  },
  {
   "cell_type": "markdown",
   "id": "946147d5-7df7-410a-8991-6d71ddd7110e",
   "metadata": {},
   "source": [
    "### **1. Series对象的创建**"
   ]
  },
  {
   "cell_type": "markdown",
   "id": "f1b069bf-989b-42b3-8ecc-f33e40dda0ee",
   "metadata": {},
   "source": [
    "**Series创建语句：pd.Series(data, index, dtype, name, copy)**"
   ]
  },
  {
   "cell_type": "markdown",
   "id": "5e0511ff-bfcd-41a9-8f51-330949a6ad53",
   "metadata": {},
   "source": [
    "#### **(1). ndarray创建,默认索引**"
   ]
  },
  {
   "cell_type": "code",
   "execution_count": null,
   "id": "bf9a5e0c-0a14-48ce-b200-df5e7100882c",
   "metadata": {
    "tags": []
   },
   "outputs": [],
   "source": [
    "import numpy as np\n",
    "import pandas as pd "
   ]
  },
  {
   "cell_type": "code",
   "execution_count": null,
   "id": "57bb7cd1-2eff-4cb5-be73-5f2216af0a3e",
   "metadata": {
    "tags": []
   },
   "outputs": [],
   "source": [
    "data = np.array([2, 4, 6, 8])\n",
    "s1 = pd.Series(data)\n",
    "print('默认索引: ')\n",
    "s1"
   ]
  },
  {
   "cell_type": "markdown",
   "id": "f05c8e17-555c-4c36-adff-870d902c6a4f",
   "metadata": {
    "slideshow": {
     "slide_type": "subslide"
    }
   },
   "source": [
    "#### **(2). ndarray创建,自定义索引**"
   ]
  },
  {
   "cell_type": "code",
   "execution_count": null,
   "id": "83d210d7-6de5-4286-b16b-629fb5bf1103",
   "metadata": {
    "tags": []
   },
   "outputs": [],
   "source": [
    "### 自定义索引\n",
    "data = np.array([2, 4, 6, 8])\n",
    "s2 = pd.Series(data, index=[100, 101, 102, 103])\n",
    "print(\"自定义索引：\")\n",
    "s2"
   ]
  },
  {
   "cell_type": "markdown",
   "id": "861418b4-32de-4fdc-80f0-6b1e5b8ca19b",
   "metadata": {},
   "source": [
    "#### **(3) dict创建**"
   ]
  },
  {
   "cell_type": "code",
   "execution_count": null,
   "id": "a67196fc-eb0a-4dca-93ea-86958340c5fc",
   "metadata": {
    "tags": []
   },
   "outputs": [],
   "source": [
    "data = {'a': 0, 'b': 1, 'c': 2}\n",
    "s1_dict = pd.Series(data)\n",
    "print('没有传递索引:')\n",
    "s1_dict"
   ]
  },
  {
   "cell_type": "markdown",
   "id": "a4555916-076f-4407-8609-d466e11cd05d",
   "metadata": {
    "slideshow": {
     "slide_type": "subslide"
    }
   },
   "source": [
    "#### **(4) dict创建,传递索引**"
   ]
  },
  {
   "cell_type": "code",
   "execution_count": null,
   "id": "811fe1ce-00c6-445b-b746-fddbfb8a88ff",
   "metadata": {
    "tags": []
   },
   "outputs": [],
   "source": [
    "data = {'a': 0, 'b': 1, 'c': 2}\n",
    "s2_dict = pd.Series(data, index=['a', 'b', 'c', 'd'])\n",
    "print('传递索引:')\n",
    "s2_dict"
   ]
  },
  {
   "cell_type": "markdown",
   "id": "e70dddc2-c8f5-481a-b278-3554b0564c9f",
   "metadata": {},
   "source": [
    "#### **(5). 标量创建，则必须提供索引**"
   ]
  },
  {
   "cell_type": "code",
   "execution_count": null,
   "id": "f637ca98-3f27-4fed-83ce-75873996430a",
   "metadata": {
    "tags": []
   },
   "outputs": [],
   "source": [
    "s3 = pd.Series(6, index=[0, 1, 2, 3])\n",
    "print('标量值:')\n",
    "s3"
   ]
  },
  {
   "cell_type": "markdown",
   "id": "c36d5503-de59-42c8-bfaa-b3c1c3809e40",
   "metadata": {
    "slideshow": {
     "slide_type": "subslide"
    }
   },
   "source": [
    "#### **(6). Series的属性**"
   ]
  },
  {
   "cell_type": "code",
   "execution_count": null,
   "id": "d14ce3ba-076b-4788-812b-f941cabf33b7",
   "metadata": {
    "tags": []
   },
   "outputs": [],
   "source": [
    "s1.axes\n",
    "s1.dtype\n",
    "s1.empty\n",
    "s1.ndim"
   ]
  },
  {
   "cell_type": "code",
   "execution_count": null,
   "id": "509e1d4b-41de-4449-9bc1-938adc3c811a",
   "metadata": {
    "tags": []
   },
   "outputs": [],
   "source": [
    "s1.size\n",
    "s1.values\n",
    "s1.index\n",
    "s1.name = \"Integers\"\n",
    "s1.name"
   ]
  },
  {
   "cell_type": "markdown",
   "id": "01ed1a30-f06f-4659-b8da-95f0e571a2ad",
   "metadata": {
    "slideshow": {
     "slide_type": "subslide"
    }
   },
   "source": [
    "### **2. Series的常见运算**"
   ]
  },
  {
   "cell_type": "markdown",
   "id": "028188d0-a32c-4f1c-82e2-3960ec4699cf",
   "metadata": {},
   "source": [
    "**Series对象可以在对象上做常见的数组运算，如标量代数运算、  \n",
    "数据过滤、应用数学函数等。**"
   ]
  },
  {
   "cell_type": "markdown",
   "id": "2efd3391-556c-49d7-9ce1-9fa854c774eb",
   "metadata": {},
   "source": [
    "#### **(1).代数运算**"
   ]
  },
  {
   "cell_type": "code",
   "execution_count": null,
   "id": "7898b85d-3ae3-4508-beb1-35a4d554714e",
   "metadata": {
    "tags": []
   },
   "outputs": [],
   "source": [
    "ls = ['a', 'b', 'c', 'd']\n",
    "data = [10, 20, 30, 10]\n",
    "s2 = pd.Series(data, index=ls)\n",
    "s2"
   ]
  },
  {
   "cell_type": "code",
   "execution_count": null,
   "id": "0c383b2d-ebbb-4491-b31d-0a1181db302b",
   "metadata": {
    "slideshow": {
     "slide_type": "subslide"
    },
    "tags": []
   },
   "outputs": [],
   "source": [
    "s2+s2\n",
    "s2*s2\n",
    "s2**2"
   ]
  },
  {
   "cell_type": "markdown",
   "id": "174a9257-a0c6-4e24-94e6-cced3533d635",
   "metadata": {
    "slideshow": {
     "slide_type": "subslide"
    }
   },
   "source": [
    "#### **(2).筛选数据**"
   ]
  },
  {
   "cell_type": "code",
   "execution_count": null,
   "id": "fcd96280-6c54-4541-992a-55c4a6d5f338",
   "metadata": {
    "tags": []
   },
   "outputs": [],
   "source": [
    "s2[s2 > 10]"
   ]
  },
  {
   "cell_type": "markdown",
   "id": "4f385432-268d-44df-b558-600fc0a31a04",
   "metadata": {},
   "source": [
    "#### **(3).函数(节选)**"
   ]
  },
  {
   "cell_type": "code",
   "execution_count": null,
   "id": "025b876b-4582-45e0-928d-ba9e6f0f1064",
   "metadata": {
    "tags": []
   },
   "outputs": [],
   "source": [
    "s2.rank(method='dense')\n",
    "'''\n",
    "method{'average', 'min', 'max', 'first', 'dense'}, default 'average'\n",
    "      How to rank the group of records that have the same value (i.e. ties):\n",
    "dense: like 'min', but rank always increases by 1 between groups.\n",
    "'''"
   ]
  },
  {
   "cell_type": "code",
   "execution_count": null,
   "id": "adeafcea-f2dc-4325-9169-c7040f807695",
   "metadata": {
    "tags": []
   },
   "outputs": [],
   "source": [
    "np.sqrt(s2)\n",
    "s2.sort_values()\n",
    "s2.rank(method='dense')##对数据进行排序操作\n",
    "s2.value_counts()"
   ]
  },
  {
   "cell_type": "markdown",
   "id": "b6faf988-345f-4d73-baad-d23041fc39a7",
   "metadata": {
    "slideshow": {
     "slide_type": "subslide"
    }
   },
   "source": [
    "### **3. Series的索引与访问**"
   ]
  },
  {
   "cell_type": "markdown",
   "id": "26e32083-281e-4c0c-bb2e-e414ec949814",
   "metadata": {},
   "source": [
    "**Series 访问数据分为两种方式: 一种是位置索引；另一种是标签索引**"
   ]
  },
  {
   "cell_type": "markdown",
   "id": "9ca383b7-a712-45a2-875b-e696a3437b4d",
   "metadata": {},
   "source": [
    "#### **(1). 位置索引**"
   ]
  },
  {
   "cell_type": "code",
   "execution_count": null,
   "id": "53427a3a-78c8-4c4f-8304-4b9e5b0e60f9",
   "metadata": {
    "tags": []
   },
   "outputs": [],
   "source": [
    "s = pd.Series([1, 2, 3, 4, 5],\n",
    "    index=['a', 'b', 'c', 'd', 'e'])\n",
    "print('Series数据')\n",
    "s"
   ]
  },
  {
   "cell_type": "code",
   "execution_count": null,
   "id": "8d650f79-0634-4923-b1a4-d688cc6e0d6a",
   "metadata": {
    "tags": []
   },
   "outputs": [],
   "source": [
    "print('位置索引 = ' + str(s[0]))\n",
    "print('\\n前两个元素:')\n",
    "s[:2]\n",
    "print('\\n最后三个元素:')\n",
    "s[-3:]"
   ]
  },
  {
   "cell_type": "markdown",
   "id": "5f99a94e-9bb3-48d3-bebc-3505da55d18f",
   "metadata": {
    "slideshow": {
     "slide_type": "subslide"
    }
   },
   "source": [
    "#### **(2). 标签索引**"
   ]
  },
  {
   "cell_type": "code",
   "execution_count": null,
   "id": "8b501415-ca03-4e76-89dc-fb5c096772e5",
   "metadata": {
    "tags": []
   },
   "outputs": [],
   "source": [
    "print('\\n访问单个元素 = ' + str(s[\"a\"]))\n",
    "print('\\n访问多个元素: ')\n",
    "s[[\"a\", \"b\", \"c\"]]\n",
    "print('\\n访问不包括的标签g,会报异常: ')\n",
    "#s[\"g\"]"
   ]
  },
  {
   "cell_type": "markdown",
   "id": "5046c8de-9464-4422-8a13-cf6ca9ba51f5",
   "metadata": {
    "slideshow": {
     "slide_type": "slide"
    }
   },
   "source": [
    "## **§7.3 DataFrame对象的应用** "
   ]
  },
  {
   "cell_type": "markdown",
   "id": "5c3792a1-7606-4b6b-a0a8-7a9a88fc936c",
   "metadata": {
    "tags": []
   },
   "source": [
    "### **1. DataFrame的属性(节选)**"
   ]
  },
  {
   "cell_type": "markdown",
   "id": "382ebc4a-b45c-4a36-aa96-61150a0f28c8",
   "metadata": {},
   "source": [
    "|名称|属性描述|\n",
    "|---|---|\n",
    "|T|行和列转置|\n",
    "|index|返回一个仅以行轴标签和列轴标签为成员的列表。|\n",
    "|dtypes|返回每列数据的数据类型。|\n",
    "|empty|DataFrame中没有数据或者任意坐标轴的长度为0，则返回True。|\n",
    "|ndim|轴的数量，也指数组的维数。|\n",
    "|shape|返回一个元组，表示了 DataFrame 维度。|\n",
    "|size|DataFrame中的元素数量。|\n",
    "|values|使用 numpy 数组表示 DataFrame 中的元素值。|taFrame 中的元素值。\n"
   ]
  },
  {
   "cell_type": "markdown",
   "id": "5d29a101-8623-49f0-81fc-d62935e07aec",
   "metadata": {
    "slideshow": {
     "slide_type": "subslide"
    },
    "tags": []
   },
   "source": [
    "### **2. DataFrame的统计方法(节选)**"
   ]
  },
  {
   "cell_type": "markdown",
   "id": "193a38ac-f458-424a-8b6c-58d5eca8a8e0",
   "metadata": {},
   "source": [
    "|名称|方法描述|\n",
    "|---|---|\n",
    "|head()|返回前n行数据。|\n",
    "|tail()|返回后n行数据。|\n",
    "|shift()|将行或列移动指定的步幅长度|\n",
    "|count()|统计某个非空值的数量。|\n",
    "|sum()|求和|\n",
    "|mean()|求均值|\n",
    "|std()|求标准差|\n",
    "|min()|求最小值|\n",
    "|max()|求最大值|\n",
    "|abs()|求绝对值|"
   ]
  },
  {
   "cell_type": "markdown",
   "id": "62b30332-c12a-4b37-919a-e8ec272b61e4",
   "metadata": {
    "slideshow": {
     "slide_type": "subslide"
    }
   },
   "source": [
    "### **3. 数据文件的导入和导出**"
   ]
  },
  {
   "cell_type": "markdown",
   "id": "291bc8e9-a5e7-41d5-b454-71c710b16f33",
   "metadata": {},
   "source": [
    "#### **(1). csv文件的读写**"
   ]
  },
  {
   "cell_type": "code",
   "execution_count": null,
   "id": "ff6136fb-e668-4901-9f01-8c2f15314a6d",
   "metadata": {
    "tags": []
   },
   "outputs": [],
   "source": [
    "import numpy as np\n",
    "import pandas as pd \n",
    "df = pd.read_csv('File&Figure/data1.csv', header=0)\n",
    "df.to_csv('File&Figure/result2.csv')"
   ]
  },
  {
   "cell_type": "markdown",
   "id": "09021248-3fbd-492b-b9d5-9bad7909f0ad",
   "metadata": {
    "slideshow": {
     "slide_type": "subslide"
    }
   },
   "source": [
    "#### **(2). excel文件的读**"
   ]
  },
  {
   "cell_type": "code",
   "execution_count": null,
   "id": "488c2151-e3c9-4dc7-b12a-3f0d3c888303",
   "metadata": {},
   "outputs": [],
   "source": [
    "df1 = pd.read_excel('File&Figure/data3.xlsx')\n",
    "df1.to_excel('File&Figure/result1.xlsx', sheet_name='sheet1')"
   ]
  },
  {
   "cell_type": "markdown",
   "id": "54a5ad0c-8c21-47b5-8f98-3b5bfcf30b42",
   "metadata": {},
   "source": [
    "#### **(3). html文件的读写**"
   ]
  },
  {
   "cell_type": "code",
   "execution_count": null,
   "id": "940eecf5-9835-443c-9823-07e065a08f93",
   "metadata": {},
   "outputs": [],
   "source": [
    "df2 = pd.read_html('File&Figure\\Advanced\\mobile1.html')\n",
    "df.to_html('File&Figure\\Advanced\\result4.html')"
   ]
  },
  {
   "cell_type": "markdown",
   "id": "1c88a7be-220d-49d6-89f6-04b24536af7d",
   "metadata": {
    "slideshow": {
     "slide_type": "fragment"
    }
   },
   "source": [
    "<img style=\"float:left;\" src=\"File&Figure\\Advanced\\71pandasfile1.png\" width=\"75%\">"
   ]
  },
  {
   "cell_type": "markdown",
   "id": "a651f058-b7c9-4090-9317-7d962b3dbaf5",
   "metadata": {
    "slideshow": {
     "slide_type": "subslide"
    }
   },
   "source": [
    "### **4. 创建DataFrame对象**"
   ]
  },
  {
   "cell_type": "markdown",
   "id": "5a50bb4b-486e-447f-a1d8-e5613355554c",
   "metadata": {},
   "source": [
    "**创建DataFrame语法格式：pd.DataFrame( data, index, columns, dtype, copy)**"
   ]
  },
  {
   "cell_type": "markdown",
   "id": "8a454636-7121-4697-9bd5-1eaabe2e66fe",
   "metadata": {},
   "source": [
    "#### **(1). 由字典创建，字典中每个键对应的数据是等长的列表或Numpy数组。**"
   ]
  },
  {
   "cell_type": "code",
   "execution_count": null,
   "id": "aeb62366-7a43-4954-a5d3-476142197492",
   "metadata": {},
   "outputs": [],
   "source": [
    "import numpy as np\n",
    "import pandas as pd \n",
    "dic ={'城市':['北京','上海','广州','深圳','重庆'],\n",
    "      '人口':[2171,2418,1090,1404,3372],\n",
    "      'GDP':[28000,30133,21500,22286,19530]}\n",
    "df =pd.DataFrame(dic)\n",
    "df"
   ]
  },
  {
   "cell_type": "code",
   "execution_count": null,
   "id": "5b91f056-925f-472d-b370-c36ae3c5a9bb",
   "metadata": {},
   "outputs": [],
   "source": [
    "df1 = pd.DataFrame(dic, index=[i for i in range(len(dic['城市']))])\n",
    "df1"
   ]
  },
  {
   "cell_type": "markdown",
   "id": "2f00313d-92e5-40eb-98fe-fc91ef11a89e",
   "metadata": {
    "slideshow": {
     "slide_type": "subslide"
    }
   },
   "source": [
    "#### **(2). 由字典创建，自定义索引**"
   ]
  },
  {
   "cell_type": "code",
   "execution_count": null,
   "id": "de761200-3b88-4f48-a39d-b22993053a8c",
   "metadata": {},
   "outputs": [],
   "source": [
    "df =pd.DataFrame(dic,    index=[2,1,4,3,5],\n",
    "                 columns=['城市','GDP','人口'])\n",
    "df"
   ]
  },
  {
   "cell_type": "markdown",
   "id": "ca140692-30f4-4bf9-959d-00259e3fdf33",
   "metadata": {},
   "source": [
    "#### **(3). 由Series创建**"
   ]
  },
  {
   "cell_type": "code",
   "execution_count": null,
   "id": "c25fbd00-fe0b-4a49-a556-84de510e7257",
   "metadata": {},
   "outputs": [],
   "source": [
    "dic = {'城市': pd.Series(['北京', '上海', '广州', '深圳', '重庆']),\n",
    "    '人口': pd.Series([2171, 2418, 1090, 1404, 3372]),\n",
    "    'GDP': pd.Series([28000, 30133, 21500, 22286, 19530])}\n",
    "df1 = pd.DataFrame(dic)\n",
    "df1"
   ]
  },
  {
   "cell_type": "markdown",
   "id": "e772d0e1-12c4-4df3-a5f1-8f7294cd7267",
   "metadata": {
    "slideshow": {
     "slide_type": "subslide"
    }
   },
   "source": [
    "#### **(4). 由Series创建，自定义索引**"
   ]
  },
  {
   "cell_type": "code",
   "execution_count": null,
   "id": "ccf69905-fbc7-439a-a4e8-6240349e1455",
   "metadata": {},
   "outputs": [],
   "source": [
    "df1 = pd.DataFrame(dic, index=[2, 1, 4, 3, 0])\n",
    "df1"
   ]
  },
  {
   "cell_type": "markdown",
   "id": "e70808c2-82d7-4e62-8a8e-f0bc2b891227",
   "metadata": {
    "slideshow": {
     "slide_type": "subslide"
    }
   },
   "source": [
    "#### **(5). DataFrame的属性**"
   ]
  },
  {
   "cell_type": "raw",
   "id": "ab81c4cd",
   "metadata": {},
   "source": [
    "df1.shape\n",
    "df1.index\n",
    "df1.columns\n",
    "df1.values\n",
    "df1.dtypes\n",
    "df1.ndim\n",
    "df1.size\n",
    "df1.T"
   ]
  },
  {
   "cell_type": "code",
   "execution_count": null,
   "id": "e7a395e5-793d-487c-932f-15749d2c43de",
   "metadata": {},
   "outputs": [],
   "source": [
    "df1.shape"
   ]
  },
  {
   "cell_type": "code",
   "execution_count": null,
   "id": "e7804ee1-e04f-48e6-9e02-5098559b6302",
   "metadata": {},
   "outputs": [],
   "source": [
    "df1.ndim"
   ]
  },
  {
   "cell_type": "code",
   "execution_count": null,
   "id": "fddb020f-6d49-4d38-9d33-622b31a486fe",
   "metadata": {},
   "outputs": [],
   "source": [
    "df1.info"
   ]
  },
  {
   "cell_type": "markdown",
   "id": "c9b1bee2-0f82-4c42-85ee-36309e32ef1e",
   "metadata": {
    "slideshow": {
     "slide_type": "subslide"
    },
    "tags": []
   },
   "source": [
    "#### **(6). 统计计算(节选)**"
   ]
  },
  {
   "cell_type": "raw",
   "id": "d8df908d",
   "metadata": {},
   "source": [
    "df1.max()\n",
    "df1.count()\n",
    "df1.sum()\n",
    "df1.mean()\n",
    "df1['人口'].abs()\n",
    "df1.cumsum()"
   ]
  },
  {
   "cell_type": "code",
   "execution_count": null,
   "id": "aedf0f69-9158-49f4-aa8e-5754efc28a1c",
   "metadata": {},
   "outputs": [],
   "source": [
    "df1['人口'].abs()"
   ]
  },
  {
   "cell_type": "code",
   "execution_count": null,
   "id": "c164c027-56ab-4c9d-901f-ab9d304b7c36",
   "metadata": {},
   "outputs": [],
   "source": [
    "df1.count()"
   ]
  },
  {
   "cell_type": "markdown",
   "id": "6fe48d17-68ef-4b41-a1ce-d9457f15184c",
   "metadata": {
    "slideshow": {
     "slide_type": "slide"
    }
   },
   "source": [
    "## **§7.5. DataFrame对象的数据操作**"
   ]
  },
  {
   "cell_type": "markdown",
   "id": "702eb9ed-055a-4d71-b24a-bd4959c0e5f3",
   "metadata": {},
   "source": [
    "#### **行与列的增删改查、数据清洗等操作**\n",
    "#### **数据操作时，又分索引和不索引两种，例如：**"
   ]
  },
  {
   "cell_type": "code",
   "execution_count": null,
   "id": "33789cc0-3624-48ac-b484-f9e1d5e03f9f",
   "metadata": {},
   "outputs": [],
   "source": [
    "import numpy as np\n",
    "import pandas as pd\n",
    "dic = {'城市': pd.Series(['北京', '上海', '广州', '深圳', '重庆']),\n",
    "    '人口': pd.Series([2171, 2418, 1090, 1404, 3372]),\n",
    "    'GDP': pd.Series([28000, 30133, 21500, 22286, 19530])}\n",
    "df = pd.DataFrame(dic)\n",
    "df"
   ]
  },
  {
   "cell_type": "markdown",
   "id": "83edb557-fb38-4f5a-bf35-a0c855814a9a",
   "metadata": {
    "slideshow": {
     "slide_type": "subslide"
    }
   },
   "source": [
    "### **不加索引时，默认以序号为关键字操作，例如：**"
   ]
  },
  {
   "cell_type": "markdown",
   "id": "6f0ef01e-be4c-4072-9c65-1962695d3e3a",
   "metadata": {},
   "source": [
    "#### **增加与修改**"
   ]
  },
  {
   "cell_type": "code",
   "execution_count": null,
   "id": "6dc67cde-b182-4c82-910d-6db85fd23909",
   "metadata": {},
   "outputs": [],
   "source": [
    "df.loc[10] = ['镇江', 285, 910]\n",
    "df.loc[0] = 1  # 第一行都改成 1\n",
    "df"
   ]
  },
  {
   "cell_type": "markdown",
   "id": "18ba08d8-b271-4b22-9e9e-3c5ea3e1fa9c",
   "metadata": {
    "slideshow": {
     "slide_type": "subslide"
    }
   },
   "source": [
    "#### **查询**"
   ]
  },
  {
   "cell_type": "code",
   "execution_count": null,
   "id": "400bc795-b90b-4584-84af-017ae0d6abe3",
   "metadata": {},
   "outputs": [],
   "source": [
    "df.loc[10]\n",
    "df.iloc[1:3]"
   ]
  },
  {
   "cell_type": "markdown",
   "id": "66d10d8f-0b52-489b-b7b4-22e31add39eb",
   "metadata": {},
   "source": [
    "#### **删除**"
   ]
  },
  {
   "cell_type": "code",
   "execution_count": null,
   "id": "587b9d8e-55ca-4a16-92f1-7179bd27f1ed",
   "metadata": {},
   "outputs": [],
   "source": [
    "df.drop(10, inplace=False)\n",
    "print(\"\\n删除记录 10(True)：\\n\")\n",
    "df"
   ]
  },
  {
   "cell_type": "code",
   "execution_count": null,
   "id": "22803a58-798f-411a-beba-0eeab062e1ab",
   "metadata": {},
   "outputs": [],
   "source": [
    "df.drop(1, inplace=False)\n",
    "print(\"\\n删除记录 1(False)：\\n\")\n",
    "df"
   ]
  },
  {
   "cell_type": "markdown",
   "id": "4f9bd3f1-b631-472b-8765-0852d36e4b1b",
   "metadata": {
    "slideshow": {
     "slide_type": "subslide"
    }
   },
   "source": [
    "### **下面操作以‘城市’标签索引为例**"
   ]
  },
  {
   "cell_type": "code",
   "execution_count": null,
   "id": "4147201b-cfd0-4b92-9fc6-b44336fd2f17",
   "metadata": {},
   "outputs": [],
   "source": [
    "import numpy as np\n",
    "import pandas as pd\n",
    "dic = {'城市': pd.Series(['北京', '上海', '广州', '深圳', '重庆']),\n",
    "    '人口': pd.Series([2171, 2418, 1090, 1404, 3372]),\n",
    "    'GDP': pd.Series([28000, 30133, 21500, 22286, 19530])}\n",
    "df =pd.DataFrame(dic, columns=['城市','GDP','人口'])\n",
    "#'城市'索引\n",
    "df = df.set_index(['城市'])\n",
    "df"
   ]
  },
  {
   "cell_type": "markdown",
   "id": "c3d5b686-3370-4569-bcd4-fd6594001e82",
   "metadata": {
    "slideshow": {
     "slide_type": "subslide"
    }
   },
   "source": [
    "### **1. 增加**"
   ]
  },
  {
   "cell_type": "markdown",
   "id": "2296fbf6-d10f-465e-bc51-06d889d036f0",
   "metadata": {},
   "source": [
    "#### **(1). 增加新行**"
   ]
  },
  {
   "cell_type": "code",
   "execution_count": null,
   "id": "7725e42b-e180-44f6-ab47-7ead165cf2ac",
   "metadata": {},
   "outputs": [],
   "source": [
    "df.loc['镇江'] = [285, 910]\n",
    "df"
   ]
  },
  {
   "cell_type": "markdown",
   "id": "add1930b-d1bf-4336-992a-b0c1511a1705",
   "metadata": {
    "slideshow": {
     "slide_type": "subslide"
    }
   },
   "source": [
    "#### **(2). 增加新列**"
   ]
  },
  {
   "cell_type": "code",
   "execution_count": null,
   "id": "3ee08aeb-abb9-4c22-bd7f-3957a10676c9",
   "metadata": {},
   "outputs": [],
   "source": [
    "### I. \n",
    "df['新增的列'] = range(1,len(df)+1)\n",
    "df['新增的列2'] = range(10,len(df)+10)\n",
    "df['新增的列5'] = [i*20 for i in range(1,len(df)+1)]\n",
    "df['新增的列3'] = ['abc','bc',np.nan,'addc','efsgs',np.nan]\n",
    "df['新增的列4'] = ['fabc','fdgbc','cdgfdd',np.nan,'efsgs','toefsgs']\n",
    "df"
   ]
  },
  {
   "cell_type": "markdown",
   "id": "f1e94030-def0-4a33-affd-edda6c2259eb",
   "metadata": {
    "slideshow": {
     "slide_type": "subslide"
    }
   },
   "source": [
    "### **2. 修改**"
   ]
  },
  {
   "cell_type": "markdown",
   "id": "50822b9e-9e7f-48e5-b2cf-3bb94e748875",
   "metadata": {},
   "source": [
    "#### **(1). 修改一个元素**"
   ]
  },
  {
   "cell_type": "code",
   "execution_count": null,
   "id": "8c03599e-e70c-4fbc-8e36-b413c10baef6",
   "metadata": {},
   "outputs": [],
   "source": [
    "df.loc['深圳', '新增的列2'] = 5\n",
    "df.at['上海', '新增的列2'] = 2841\n",
    "df.loc['广州', '新增的列2'] = 25100\n",
    "df"
   ]
  },
  {
   "cell_type": "markdown",
   "id": "04291039-dd72-4288-b810-f330713b6506",
   "metadata": {
    "slideshow": {
     "slide_type": "subslide"
    }
   },
   "source": [
    "#### **(2). 修改一行**"
   ]
  },
  {
   "cell_type": "code",
   "execution_count": null,
   "id": "45aa8442-9259-4782-8fcb-6b05b040e824",
   "metadata": {},
   "outputs": [],
   "source": [
    "df.loc['广州'] = [1100, 22000, 7, 87, 88, 'jkjkkj', 'trdfh']\n",
    "df"
   ]
  },
  {
   "cell_type": "markdown",
   "id": "a7deccd8-b65e-4293-830d-75c287a62d1d",
   "metadata": {
    "slideshow": {
     "slide_type": "subslide"
    }
   },
   "source": [
    "#### **(3). 修改一列**"
   ]
  },
  {
   "cell_type": "code",
   "execution_count": null,
   "id": "64d4bc5e-81d8-46b8-aff9-2f0bbf7552c2",
   "metadata": {},
   "outputs": [],
   "source": [
    "df['新增的列5'] = [i*55 for i in range(len(df))]### 修改\n",
    "df"
   ]
  },
  {
   "cell_type": "markdown",
   "id": "9250af1f-b731-476f-996f-e038245fedf3",
   "metadata": {
    "slideshow": {
     "slide_type": "subslide"
    }
   },
   "source": [
    "#### **(4). 修改区间(闭区间)**"
   ]
  },
  {
   "cell_type": "code",
   "execution_count": null,
   "id": "d8a68125-84f3-417b-be14-58a742b98ab9",
   "metadata": {},
   "outputs": [],
   "source": [
    "df.loc['广州', '新增的列':'新增的列5'] = [3, 4, 5]\n",
    "df.loc['上海': '重庆', '新增的列'] = [12300, 9800, 23000, 7]\n",
    "df"
   ]
  },
  {
   "cell_type": "markdown",
   "id": "2e1c4ad2-c3fe-4cd8-979a-fd08162953ed",
   "metadata": {
    "slideshow": {
     "slide_type": "subslide"
    }
   },
   "source": [
    "### **3. 删除**"
   ]
  },
  {
   "cell_type": "raw",
   "id": "3bbdc163-deb8-496c-8668-6745f1e158a5",
   "metadata": {},
   "source": [
    "DataFrame.drop(labels=None, *, axis=0, index=None, columns=None,\n",
    "               level=None, inplace=False, errors='raise')\n",
    "     axis=1表示针对列的操作，inplace为True"
   ]
  },
  {
   "cell_type": "markdown",
   "id": "81bfef76-46bb-4a11-83a3-ab8818aa6e50",
   "metadata": {},
   "source": [
    "#### (1). 删除指定行与列、多列 drop()"
   ]
  },
  {
   "cell_type": "code",
   "execution_count": null,
   "id": "36f539a9-5696-4c07-b750-e0f1a5fb4b20",
   "metadata": {},
   "outputs": [],
   "source": [
    "df.drop('镇江',axis=0, inplace=True) # axis=0代表删除行\n",
    "df"
   ]
  },
  {
   "cell_type": "code",
   "execution_count": null,
   "id": "3ef34ece-01b2-4311-8062-733317700ea6",
   "metadata": {
    "slideshow": {
     "slide_type": "subslide"
    }
   },
   "outputs": [],
   "source": [
    "#删除多列\n",
    "df.drop('新增的列5',axis=1, inplace=True) # axis=1代表删除列\n",
    "df.drop(['新增的列','新增的列2'],axis=1, inplace=True) # axis=1代表删除列\n",
    "df"
   ]
  },
  {
   "cell_type": "markdown",
   "id": "e3b144b7-5896-4848-9524-ad576fab128a",
   "metadata": {
    "slideshow": {
     "slide_type": "subslide"
    }
   },
   "source": [
    "#### **(2). 删除字段为空的行与列，dropna函数**"
   ]
  },
  {
   "cell_type": "markdown",
   "id": "2204260f-3e18-4197-8475-4e1690f6f969",
   "metadata": {},
   "source": [
    "**dropna函数默认删除所有出现空的行，即一行中任意一个字段为空，就会被删除。  \n",
    "当只需要删除某一列的空行时，需要设置subset参数，例如dropna(subset=['city'])**"
   ]
  },
  {
   "cell_type": "code",
   "execution_count": null,
   "id": "b94ae71b-155f-41df-9669-daad5b738c3f",
   "metadata": {},
   "outputs": [],
   "source": [
    "df.dropna(subset=[\"新增的列4\"],inplace=True) \n",
    "df"
   ]
  },
  {
   "cell_type": "markdown",
   "id": "12ad4f0e-ddab-40ef-a9b7-84640746466b",
   "metadata": {},
   "source": [
    "#### **(3). 删除字段重复的行**"
   ]
  },
  {
   "cell_type": "raw",
   "id": "ff1977e1",
   "metadata": {},
   "source": [
    "# drop_duplicates(subset = '列名',keep='first')"
   ]
  },
  {
   "cell_type": "markdown",
   "id": "ea96c4d1-b1c0-4d89-ac25-e4f0691bdabc",
   "metadata": {
    "slideshow": {
     "slide_type": "subslide"
    }
   },
   "source": [
    "### **4. 查找**"
   ]
  },
  {
   "cell_type": "markdown",
   "id": "5d4e3a64-2732-4fb6-adc9-0031f69fe930",
   "metadata": {},
   "source": [
    "#### **(1). 点**"
   ]
  },
  {
   "cell_type": "code",
   "execution_count": null,
   "id": "2f7de71f-6a1a-4c36-8894-bbdecfaa5f3a",
   "metadata": {},
   "outputs": [],
   "source": [
    "df.at['上海', '人口']"
   ]
  },
  {
   "cell_type": "markdown",
   "id": "56f07922-39a7-4d0c-ae70-52e9c94cf533",
   "metadata": {},
   "source": [
    "#### **(2). 行**"
   ]
  },
  {
   "cell_type": "code",
   "execution_count": null,
   "id": "67f67d13-e370-44eb-a55c-49df14a5e352",
   "metadata": {},
   "outputs": [],
   "source": [
    "df.loc['北京']"
   ]
  },
  {
   "cell_type": "markdown",
   "id": "12a47414-1a4e-429b-8f46-389c39bb4bc5",
   "metadata": {
    "slideshow": {
     "slide_type": "subslide"
    }
   },
   "source": [
    "#### **(3). 列**"
   ]
  },
  {
   "cell_type": "code",
   "execution_count": null,
   "id": "ba3b9bc9-3dc7-4bbd-87e8-4a6e060bd1ff",
   "metadata": {},
   "outputs": [],
   "source": [
    "df['GDP']"
   ]
  },
  {
   "cell_type": "markdown",
   "id": "1af49c16-765c-4f5e-a040-f185790f61db",
   "metadata": {
    "slideshow": {
     "slide_type": "subslide"
    }
   },
   "source": [
    "#### **(4). 区间**"
   ]
  },
  {
   "cell_type": "code",
   "execution_count": null,
   "id": "f5be82b6-7757-47d7-9313-ab454ea210de",
   "metadata": {},
   "outputs": [],
   "source": [
    "### 行区间\n",
    "df.loc['北京':'广州']"
   ]
  },
  {
   "cell_type": "code",
   "execution_count": null,
   "id": "a8046aa4-78aa-4321-b538-c109ecba1a3d",
   "metadata": {},
   "outputs": [],
   "source": [
    "## 特定字符行\n",
    "df.loc[['北京', '广州', '重庆']]"
   ]
  },
  {
   "cell_type": "code",
   "execution_count": null,
   "id": "51be943b-038d-4e18-b37e-0bd3b1304764",
   "metadata": {
    "slideshow": {
     "slide_type": "subslide"
    }
   },
   "outputs": [],
   "source": [
    "df.loc['北京':'广州', 'GDP']"
   ]
  },
  {
   "cell_type": "code",
   "execution_count": null,
   "id": "1b165d14-caec-432f-9a42-e786cd3dbbb8",
   "metadata": {},
   "outputs": [],
   "source": [
    "df.loc['北京':'广州', 'GDP':'人口']"
   ]
  },
  {
   "cell_type": "markdown",
   "id": "c639b143-3b03-4194-852d-a0cae91f6516",
   "metadata": {
    "slideshow": {
     "slide_type": "subslide"
    }
   },
   "source": [
    "#### **(5) 数据筛选**"
   ]
  },
  {
   "cell_type": "code",
   "execution_count": null,
   "id": "a76c92f6-0a80-4030-866b-19c001987764",
   "metadata": {},
   "outputs": [],
   "source": [
    "df[df['人口'] > 3000]\n",
    "df.loc[(df['GDP'] > 20000) & (df['人口'] > 2000)]"
   ]
  },
  {
   "cell_type": "markdown",
   "id": "bd4574c4-b524-4135-adda-69bedb77d8c7",
   "metadata": {
    "slideshow": {
     "slide_type": "subslide"
    }
   },
   "source": [
    "### **5. 排序**"
   ]
  },
  {
   "cell_type": "code",
   "execution_count": null,
   "id": "24c4452d-9602-41a4-8537-8a0566a365a1",
   "metadata": {},
   "outputs": [],
   "source": [
    "dic = {'城市': ['广州', '苏州', '杭州',\n",
    "                '南京','宁波','深圳'],\n",
    "       '人口': [1090, 1065, 919,  827, 788, 1404],\n",
    "       'GDP': [21500, 17319, 12556, 11715, 9846, 22286],\n",
    "       '省份': ['广东','江苏','浙江','江苏','浙江','广东']}\n",
    "df = pd.DataFrame(dic, columns=['省份', '城市', 'GDP', '人口'])\n",
    "#df = df.set_index(['城市'])\n",
    "df"
   ]
  },
  {
   "cell_type": "code",
   "execution_count": null,
   "id": "97ba88b9-dc23-4d8d-aeb0-812e04e66acc",
   "metadata": {
    "slideshow": {
     "slide_type": "subslide"
    }
   },
   "outputs": [],
   "source": [
    "print('按城市GDP从高到低排序')\n",
    "df.sort_values('GDP', ascending=False)"
   ]
  },
  {
   "cell_type": "code",
   "execution_count": null,
   "id": "557a9dd6",
   "metadata": {},
   "outputs": [],
   "source": [
    "print('按城市人口从高到低排序')\n",
    "df.sort_values(by='人口', ascending=False)"
   ]
  },
  {
   "cell_type": "markdown",
   "id": "d878054f-8385-4f1d-a19b-b48ad89e089e",
   "metadata": {
    "slideshow": {
     "slide_type": "subslide"
    }
   },
   "source": [
    "### **6. 数据的分组**"
   ]
  },
  {
   "cell_type": "code",
   "execution_count": null,
   "id": "6ae6c399-c15b-4133-80c1-e51bf0ac78b1",
   "metadata": {},
   "outputs": [],
   "source": [
    "group = df.groupby('省份')\n",
    "group"
   ]
  },
  {
   "cell_type": "code",
   "execution_count": null,
   "id": "71352a26-ad9f-4176-ab11-6720ee73e8e2",
   "metadata": {
    "slideshow": {
     "slide_type": "-"
    }
   },
   "outputs": [],
   "source": [
    "print('各省GDP值最高的城市')\n",
    "group.max()"
   ]
  },
  {
   "cell_type": "code",
   "execution_count": null,
   "id": "3a26e3a7-7a50-49e6-8e3c-1cae3562394e",
   "metadata": {
    "slideshow": {
     "slide_type": "subslide"
    }
   },
   "outputs": [],
   "source": [
    "total = group.sum()\n",
    "print('各省人均GDP值(2位小数)')\n",
    "(total['GDP']/total['人口']).round(2)"
   ]
  },
  {
   "cell_type": "markdown",
   "id": "de5783e9-cbd6-4b23-b451-727216566473",
   "metadata": {
    "slideshow": {
     "slide_type": "subslide"
    }
   },
   "source": [
    "### **7. 给数据打标签**"
   ]
  },
  {
   "cell_type": "code",
   "execution_count": null,
   "id": "fb27cd95-531b-47f9-82d6-a29f968e4ddb",
   "metadata": {},
   "outputs": [],
   "source": [
    "df['等级'] = pd.cut(df['GDP'], bins=[0, 10000, 20000, 30000, 40000], labels=['D','C','B','A'])\n",
    "df"
   ]
  },
  {
   "cell_type": "markdown",
   "id": "cab5d424-bd2e-4e67-8589-6051c49a3a10",
   "metadata": {
    "slideshow": {
     "slide_type": "subslide"
    }
   },
   "source": [
    "### **8. 绘制GDP及人口柱形图**"
   ]
  },
  {
   "cell_type": "code",
   "execution_count": null,
   "id": "03501554-c58f-4c96-9554-acafedb70a6a",
   "metadata": {},
   "outputs": [],
   "source": [
    "from matplotlib import  pyplot as plt\n",
    "import pandas as pd\n",
    "plt.rcParams['font.sans-serif'] = ['SimHei']   #显示中文\n",
    "dic = {'城市': ['广州', '苏州', '杭州', '南京', '宁波', '深圳'],\n",
    "       '人口': [1090, 1065, 919,  827, 788, 1404],\n",
    "       'GDP': [21500, 17319, 12556, 11715, 9846, 22286],\n",
    "       '省份': ['广东', '江苏', '浙江', '江苏', '浙江', '广东']}\n",
    "df = pd.DataFrame(dic, columns=['省份', '城市', 'GDP', '人口'])\n",
    "df = df.set_index(['城市'])\n",
    "df['GDP'] = df['GDP']/10\n",
    "df.rename({'GDP': 'GDP/10'}, axis='columns', inplace=True)\n",
    "df.plot(kind='bar', title='2017年城市GDP及人口数据', figsize=(4.5, 3))\n",
    "plt.show()"
   ]
  },
  {
   "cell_type": "markdown",
   "id": "db58f3bb-22f0-4457-8314-0a21f2699952",
   "metadata": {
    "slideshow": {
     "slide_type": "subslide"
    }
   },
   "source": [
    "### **9. 数据清洗**"
   ]
  },
  {
   "cell_type": "markdown",
   "id": "f76c4612-92fd-49f2-81fd-725733ff2461",
   "metadata": {},
   "source": [
    "**① 删除缺失数据行: df.dropna(how='any', inplace=False)  \n",
    "② 数据填充--用平均值填充缺失的价格: df.fillna(avg_price)  \n",
    "③ 统一数据格式: rename()函数：重命名某些选定列;   \n",
    "               使用.replace()、 .astype()、  .str.replace()、  \n",
    "               .str.replace().astype()方法统一数据格式。  \n",
    "④ 去除重复数据: pd.concat([df1, df1])**"
   ]
  },
  {
   "cell_type": "code",
   "execution_count": null,
   "id": "9bdf8a40-7428-4612-b8f4-e7251f4ce984",
   "metadata": {},
   "outputs": [],
   "source": [
    "#添加以下代码以显示单元格中的所有输出\n",
    "from IPython.core.interactiveshell import InteractiveShell\n",
    "InteractiveShell.ast_node_interactivity = \"all\"\n",
    "# 让notebook宽屏显示\n",
    "from IPython.display import display, HTML\n",
    "display(HTML('<style>.container{width:100% !important;}</style>'))\n",
    "import numpy as np\n",
    "import pandas as pd"
   ]
  },
  {
   "cell_type": "code",
   "execution_count": null,
   "id": "8d1e1ae1-c0c0-4de2-aeb2-d5e44876294a",
   "metadata": {
    "slideshow": {
     "slide_type": "subslide"
    }
   },
   "outputs": [],
   "source": [
    "datadic1 = {'编号': [1001, 1002, 1003, 1004, 1005, 1006, 1007, 1008, 1009],\n",
    "            '日期': pd.date_range('20181001', periods=9),\n",
    "            '品牌': ['HW', 'Apple', 'samsung', 'HuaWei', 'xiaomi', 'oppo',\n",
    "                    'APPLE', 'NOLIA', 'vivo'],\n",
    "            '型号': ['P20 Pro', 'iPhone XR', 'Note 9', 'Mate 20', ' ',\n",
    "                   'Find X', 'iPhone XS', 'NOLIA 8 Sirocco', 'NEX'],\n",
    "            '配置/GB': ['6~128G', '4~128G', '6~128G', '6~128G', '8~128G',\n",
    "                  '8~256G', '4~256G', '6~128G', '8~128G', ],\n",
    "            '价格/元': [4988, 6999, 6999, np.nan  , 3599, 5999, 10165, 3499, 4298]}\n",
    "df1 = pd.DataFrame(datadic1,\n",
    "                   columns=['编号', '日期', '品牌', '型号', '配置/GB', '价格/元'])\n",
    "df1 = df1.set_index('编号')#设置索引\n",
    "df1"
   ]
  },
  {
   "cell_type": "code",
   "execution_count": null,
   "id": "ad9ec2f4",
   "metadata": {
    "slideshow": {
     "slide_type": "subslide"
    }
   },
   "outputs": [],
   "source": [
    "datadic2 = {'编号': [1001, 1002, 1003, 1004, 1005, 1006, 1007, 1008, 1010],\n",
    "            '国家': ['China', 'USA', 'Korea', 'China', 'China', 'China',\n",
    "                     'USA', 'Finland', 'Japan', ], \n",
    "            '系统': ['Android', 'ISO', 'Android', 'Android', 'Android',\n",
    "                     'Android', 'ISO', 'Android', 'Android', ], \n",
    "            '屏幕尺寸': [6.1, 6.1, 6.4, 6.5, 6.2, 6.4, 5.8, 5.5, 6.0]}\n",
    "df2 = pd.DataFrame(datadic2)\n",
    "df2 = df2.set_index('编号')\n",
    "df2"
   ]
  },
  {
   "cell_type": "markdown",
   "id": "276b96b6-6839-424b-bc55-206f566e5663",
   "metadata": {
    "slideshow": {
     "slide_type": "subslide"
    }
   },
   "source": [
    "#### **数据清洗. ① 删除缺失数据行**"
   ]
  },
  {
   "cell_type": "code",
   "execution_count": null,
   "id": "7a3a9c49-6164-4239-a1c7-a718e7eb973c",
   "metadata": {},
   "outputs": [],
   "source": [
    "df1.dropna(how='any', inplace=False)"
   ]
  },
  {
   "cell_type": "markdown",
   "id": "515ceee4-9f27-4ef2-81ae-ba79ef5281f3",
   "metadata": {
    "slideshow": {
     "slide_type": "subslide"
    }
   },
   "source": [
    "#### **数据清洗. ② 数据填充--用平均值填充缺失的价格**"
   ]
  },
  {
   "cell_type": "code",
   "execution_count": null,
   "id": "326509e1-8db1-4478-b2d9-8d3e613e15df",
   "metadata": {},
   "outputs": [],
   "source": [
    "avg_price = df1['价格/元'].mean() \n",
    "df1.fillna(avg_price)"
   ]
  },
  {
   "cell_type": "markdown",
   "id": "c05e8e81-765d-419d-93bc-968bf2b7e1c4",
   "metadata": {
    "slideshow": {
     "slide_type": "subslide"
    }
   },
   "source": [
    "#### **数据清洗. ③ 统一数据格式**"
   ]
  },
  {
   "cell_type": "code",
   "execution_count": null,
   "id": "9ac1268b-1103-441c-97f9-445a3c7b1284",
   "metadata": {},
   "outputs": [],
   "source": [
    "df1['配置/GB'] = df1['配置/GB'].str.replace('G', '')\n",
    "df_split = pd.DataFrame((x.split('~') for x in df1['配置/GB']),\n",
    "                        index=df1.index,\n",
    "                        columns=['运行内存/GB','存储容量'])\n",
    "df1 = pd.merge(df1, df_split, right_index= True, left_index= True)\n",
    "df1.drop('配置/GB', axis=1, inplace=True)\n",
    "df1"
   ]
  },
  {
   "cell_type": "markdown",
   "id": "3922e360-31a1-49ac-b7d9-33bccdbe7d95",
   "metadata": {
    "slideshow": {
     "slide_type": "subslide"
    }
   },
   "source": [
    "#### **数据清洗. ④ 合并两个表格**"
   ]
  },
  {
   "cell_type": "code",
   "execution_count": null,
   "id": "723a4252-9c26-49ee-b982-682e619ece6d",
   "metadata": {},
   "outputs": [],
   "source": [
    "df1 = pd.merge(df1,df2['屏幕尺寸'],  right_index= True, left_index= True)\n",
    "df1"
   ]
  },
  {
   "cell_type": "markdown",
   "id": "38b80072-fbcb-433c-b495-d7398a326757",
   "metadata": {
    "slideshow": {
     "slide_type": "subslide"
    }
   },
   "source": [
    "#### **数据清洗. ⑤​​​ ​去除重复数据**"
   ]
  },
  {
   "cell_type": "code",
   "execution_count": null,
   "id": "f22eebef-ed83-49f4-894c-56ce23ee51c8",
   "metadata": {},
   "outputs": [],
   "source": [
    "repeat = pd.concat([df1, df1])\n",
    "print('两个数据帧合并后：')\n",
    "repeat"
   ]
  },
  {
   "cell_type": "code",
   "execution_count": null,
   "id": "a1f90a46",
   "metadata": {
    "slideshow": {
     "slide_type": "subslide"
    }
   },
   "outputs": [],
   "source": [
    "print('删除重复数据后数据帧：')\n",
    "repeat.drop_duplicates()"
   ]
  },
  {
   "cell_type": "markdown",
   "id": "8c413dd1-e4ab-431a-a658-1c0bf3da69d7",
   "metadata": {
    "slideshow": {
     "slide_type": "subslide"
    }
   },
   "source": [
    "### **10. 表格的合并**"
   ]
  },
  {
   "cell_type": "markdown",
   "id": "ff37cda3-0bb8-4eec-8200-4d3cf1d704a1",
   "metadata": {},
   "source": [
    "|方法|简介|\n",
    "|---|---|\n",
    "|concat()|提供行方向和列方向进行内联或外联的拼接操作|\n",
    "|join()|提供类似于SQL数据库中的join连接功能，支持左联、右联、内联和外联等全部四种SQL连接操作类型|\n",
    "|merge()|提供行方向的拼接操作|\n",
    "|append()|提供列方向的拼接操作，支持左联、右联、内联和外联四种操作类型。|"
   ]
  },
  {
   "cell_type": "markdown",
   "id": "65c621ef-3225-4ab1-b98d-130937688007",
   "metadata": {},
   "source": [
    "|参数值|连接方式|功能描述|\n",
    "|---|---|---|\n",
    "|inner|内连接(默认)|根据数据对象之间连接主键的交集进行合并|\n",
    "|outer|外连接|根据数据对象之间连接主键的并集进行合并|\n",
    "|left|左连接|只根据左数据表(第一个参数对象)的主键进行合并|\n",
    "|right|右连接|只根据右数据表(第二个参数对象)的主键进行合并|"
   ]
  },
  {
   "cell_type": "markdown",
   "id": "bbef0005-a2f1-4f98-83db-c7cc1d375500",
   "metadata": {
    "slideshow": {
     "slide_type": "slide"
    },
    "tags": []
   },
   "source": [
    "## **§7.7 数据分析相关库应用实例** "
   ]
  },
  {
   "cell_type": "markdown",
   "id": "5725e221-f9f6-40ab-8ec7-740d0f2e86b5",
   "metadata": {},
   "source": [
    "## End"
   ]
  }
 ],
 "metadata": {
  "celltoolbar": "Slideshow",
  "kernelspec": {
   "display_name": "Python 3 (ipykernel)",
   "language": "python",
   "name": "python3"
  },
  "language_info": {
   "codemirror_mode": {
    "name": "ipython",
    "version": 3
   },
   "file_extension": ".py",
   "mimetype": "text/x-python",
   "name": "python",
   "nbconvert_exporter": "python",
   "pygments_lexer": "ipython3",
   "version": "3.11.1"
  }
 },
 "nbformat": 4,
 "nbformat_minor": 5
}
