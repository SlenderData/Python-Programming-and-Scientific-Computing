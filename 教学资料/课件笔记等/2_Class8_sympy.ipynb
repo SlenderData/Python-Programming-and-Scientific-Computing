{
 "cells": [
  {
   "cell_type": "code",
   "execution_count": null,
   "id": "1dd45d57-303a-4c38-9cc4-1066a4de289e",
   "metadata": {
    "tags": []
   },
   "outputs": [],
   "source": [
    "#添加以下代码以显示单元格中的所有输出\n",
    "from IPython.core.interactiveshell import InteractiveShell\n",
    "InteractiveShell.ast_node_interactivity = \"all\"\n",
    "from matplotlib import pyplot as plt\n",
    "plt.rcParams['font.sans-serif'] = ['SimHei']   #显示中文\n",
    "plt.rcParams['axes.unicode_minus'] = False       #显示负号"
   ]
  },
  {
   "cell_type": "markdown",
   "id": "ca050c4f-89ea-4800-931d-4e48ad8ac57a",
   "metadata": {
    "slideshow": {
     "slide_type": "slide"
    }
   },
   "source": [
    "# **第7课 符号计算：Sympy库**"
   ]
  },
  {
   "cell_type": "markdown",
   "id": "433f8427-038a-4b8e-9d02-2ebf5238b634",
   "metadata": {
    "tags": []
   },
   "source": [
    "## **§7.1 SymPy 简介**"
   ]
  },
  {
   "cell_type": "markdown",
   "id": "eaedb69a-d344-41ed-8225-337371541776",
   "metadata": {},
   "source": [
    "### **1. SymPy 库简介**"
   ]
  },
  {
   "cell_type": "markdown",
   "id": "c1ebe49c-251d-4c8e-bf58-b35ddbb52122",
   "metadata": {},
   "source": [
    "**sympy是一个Python的科学计算库，用一套强大的符号计算体系完成  \n",
    "诸如多项式求值、求极限、解方程、求积分、微分方程、级数展开、矩阵  \n",
    "运算等等计算问题。  \n",
    "    符号计算中数学对象是精确表示的，未计算的数学表达式以符号形式  \n",
    "展现的。**"
   ]
  },
  {
   "cell_type": "markdown",
   "id": "bcf95b17-ad38-4d0e-b3bc-0e1228f872df",
   "metadata": {
    "slideshow": {
     "slide_type": "subslide"
    },
    "toc-hr-collapsed": true
   },
   "source": [
    "### **2. 安装、升级与导入**"
   ]
  },
  {
   "cell_type": "markdown",
   "id": "9adb2a35-1f07-4956-8feb-39ff1310b5d2",
   "metadata": {},
   "source": [
    "#### **(1). 安装SymPy包**"
   ]
  },
  {
   "cell_type": "markdown",
   "id": "43f29d41-0357-4755-87ad-7e44d3fca09b",
   "metadata": {},
   "source": [
    "① pip install sympy  \n",
    "② pip install sympy-1.20.3+mkl-cp39-cp39-win_ amd64.whl  \n",
    "③ python.exe setup.py install  "
   ]
  },
  {
   "cell_type": "markdown",
   "id": "cf0b8272-c24b-4508-9075-2f25d3adf129",
   "metadata": {
    "slideshow": {
     "slide_type": "subslide"
    }
   },
   "source": [
    "#### **(2). Python第三方包的升级**"
   ]
  },
  {
   "cell_type": "code",
   "execution_count": null,
   "id": "70c6bf8e-b47a-49aa-a1e8-d59ab93532f5",
   "metadata": {},
   "outputs": [],
   "source": [
    "pip install --upgrade sympy -i https://pypi.tuna.tsinghua.edu.cn/simple/"
   ]
  },
  {
   "cell_type": "markdown",
   "id": "ba7cc3aa-3237-4042-9cac-9e93cff0596d",
   "metadata": {},
   "source": [
    "#### **(3). 卸载第三方包**"
   ]
  },
  {
   "cell_type": "code",
   "execution_count": null,
   "id": "0ecf8562-cdfb-40b2-ac5e-5dd8476297d4",
   "metadata": {},
   "outputs": [],
   "source": [
    "pip uninstall sympy"
   ]
  },
  {
   "cell_type": "markdown",
   "id": "3dbd4d53-9ba7-49c1-837c-40d15ac29125",
   "metadata": {
    "slideshow": {
     "slide_type": "subslide"
    }
   },
   "source": [
    "#### **(4). 判断 SymPy 版本**"
   ]
  },
  {
   "cell_type": "code",
   "execution_count": null,
   "id": "a4e98dce-0f6f-4fa1-a72b-f66a50b11a47",
   "metadata": {
    "tags": []
   },
   "outputs": [],
   "source": [
    "import sympy\n",
    "sympy.__version__"
   ]
  },
  {
   "cell_type": "markdown",
   "id": "0f585bff-3900-4b9b-abdd-bf2b4015cf7e",
   "metadata": {},
   "source": [
    "#### **(5). 使用时，需要导入模块：**"
   ]
  },
  {
   "cell_type": "code",
   "execution_count": null,
   "id": "9570f664-7c2b-4985-a6db-e2832dab95cc",
   "metadata": {},
   "outputs": [],
   "source": [
    "from sympy import *"
   ]
  },
  {
   "cell_type": "markdown",
   "id": "6ad910fb-4c96-454e-816f-fad2502b21f1",
   "metadata": {
    "slideshow": {
     "slide_type": "slide"
    },
    "tags": []
   },
   "source": [
    "## **§ 7.2 sympy的常数**"
   ]
  },
  {
   "cell_type": "markdown",
   "id": "66026d6f",
   "metadata": {
    "jupyter": {
     "source_hidden": true
    },
    "tags": []
   },
   "source": [
    "<img style=\"float:left;\" src=\"File&Figure\\Advanced\\7sympycont1.png\" width=\"35%\">"
   ]
  },
  {
   "cell_type": "code",
   "execution_count": null,
   "id": "bbe14fb2-e579-48f3-8c6a-a0c8ff8acb61",
   "metadata": {
    "slideshow": {
     "slide_type": "skip"
    },
    "tags": []
   },
   "outputs": [],
   "source": [
    "#from sympy import *\n",
    "import sympy\n",
    "#数学符合\n",
    "#虚数单位i\n",
    "sympy.I\n",
    "#自然对数低e\n",
    "sympy.E\n",
    "#无穷大\n",
    "sympy.oo\n",
    "#圆周率\n",
    "sympy.pi\n",
    "#求n次方根\n",
    "sympy.root(8, 3)\n",
    "#求对数\n",
    "sympy.log(1024, 2)\n",
    "#求阶乘\n",
    "sympy.factorial(4)\n",
    "#三角函数\n",
    "sympy.sin(sympy.pi)\n",
    "sympy.tan(sympy.pi/4)\n",
    "sympy.cos(sympy.pi/2)"
   ]
  },
  {
   "cell_type": "markdown",
   "id": "d6477351-2087-4780-96e7-f53be5566188",
   "metadata": {
    "slideshow": {
     "slide_type": "slide"
    },
    "tags": []
   },
   "source": [
    "## **§ 7.3 符号说明语句**"
   ]
  },
  {
   "cell_type": "markdown",
   "id": "706acec0-2737-4f78-83e7-e65b2f1042c2",
   "metadata": {
    "tags": []
   },
   "source": [
    "### **1. 符号说明语句**"
   ]
  },
  {
   "cell_type": "markdown",
   "id": "dfd12041-e396-4bb1-8589-189fa8b2fad6",
   "metadata": {},
   "source": [
    "#### **(1). 使用symbols()函数或Symbol()函数创建符号变量。**"
   ]
  },
  {
   "cell_type": "code",
   "execution_count": null,
   "id": "60634dc3-63db-40b0-8a61-c89f96720760",
   "metadata": {},
   "outputs": [],
   "source": [
    "from sympy import *\n",
    "x, y, z, t = symbols('x,y,z,t')\n",
    "k, m, n = symbols('k,m,n', integer=True)\n",
    "f, g, h = symbols('f,g,h', cls=Function)\n",
    "p = Symbol(\"p\", positive=True)"
   ]
  },
  {
   "cell_type": "markdown",
   "id": "00fb72ee-2e94-4036-aacf-ae9d58669683",
   "metadata": {
    "slideshow": {
     "slide_type": "-"
    }
   },
   "source": [
    "**说明：  \n",
    "左边的x是一个符号对象，而右边用引号包着的x是符号对象的name属性，    \n",
    "两个x不要求一样，但为了理解，通常将符号对象和name属性显示成一样，   \n",
    "name属性是引号包起来的。  \n",
    "从SymPy库载入所有符号，并且定义了四个通用的数学符号x,y,z,t，  \n",
    "三个表示整数的符号k、m、n， 以及三个表示数学函数的符号f、g、h,  \n",
    "这是通过关键字参数指定所创建符号的假设条件。**"
   ]
  },
  {
   "cell_type": "code",
   "execution_count": null,
   "id": "4422f968-285d-4e88-b704-6e512cdb215e",
   "metadata": {
    "slideshow": {
     "slide_type": "subslide"
    }
   },
   "outputs": [],
   "source": [
    "x.is_Symbol\n",
    "p.is_positive\n",
    "x.is_imaginary\n",
    "x.is_complex"
   ]
  },
  {
   "cell_type": "markdown",
   "id": "c46cf7ca-875c-4b81-9f7a-5ed87283aec3",
   "metadata": {
    "slideshow": {
     "slide_type": "subslide"
    }
   },
   "source": [
    "#### **(2). 变量名和符号名也可以是不一样的：**"
   ]
  },
  {
   "cell_type": "code",
   "execution_count": null,
   "id": "db3fa909-78ac-4091-b248-d00c550e95df",
   "metadata": {},
   "outputs": [],
   "source": [
    "a, b = symbols(\"alpha, beta\")\n",
    "a, b"
   ]
  },
  {
   "cell_type": "markdown",
   "id": "84eea10c-5d88-4d6d-9d2c-7bd376710ecc",
   "metadata": {},
   "source": [
    "#### **(3). 若符号对象名和name属性名一致，可以使用var()函数定义**"
   ]
  },
  {
   "cell_type": "code",
   "execution_count": null,
   "id": "a4dd540f-8a97-4334-addc-53c63ae5dffa",
   "metadata": {},
   "outputs": [],
   "source": [
    "var(\"x0,y0,x1,y1\")\n",
    "type(x0)\n",
    "x0.name\n",
    "type(x0.name)"
   ]
  },
  {
   "cell_type": "markdown",
   "id": "ffbbfe56-0b5c-4c15-9f05-2d765b6b7657",
   "metadata": {
    "slideshow": {
     "slide_type": "subslide"
    },
    "toc-hr-collapsed": true
   },
   "source": [
    "### **2. 欧拉恒等式和欧拉公式：**\n",
    "<img style='' src='File&Figure\\Advanced\\7sympyoula.png' width='15%'>\n",
    "<img style='' src='File&Figure\\Advanced\\7sympyoula2.png' width='25%'>"
   ]
  },
  {
   "cell_type": "code",
   "execution_count": null,
   "id": "98e422c7-8098-4f99-aafc-19e60db8a991",
   "metadata": {
    "tags": []
   },
   "outputs": [],
   "source": [
    "#from sympy import *\n",
    "from sympy import E, I, pi\n",
    "E**(I*pi)+1"
   ]
  },
  {
   "cell_type": "code",
   "execution_count": null,
   "id": "3c8d6795-ead0-4cef-bc92-48bacdee2ff9",
   "metadata": {
    "tags": []
   },
   "outputs": [],
   "source": [
    "x = Symbol(\"x\", real=True)\n",
    "expand(exp(I*x), complex=True)"
   ]
  },
  {
   "cell_type": "markdown",
   "id": "f794b776-a1c0-49a0-87b8-c6b8b91f3904",
   "metadata": {
    "slideshow": {
     "slide_type": "subslide"
    }
   },
   "source": [
    "### **3. 符号运算中的赋值**\n",
    "#### **(1).subs() 替换函数**"
   ]
  },
  {
   "cell_type": "markdown",
   "id": "63a42158-0b41-4ebb-878b-7fbb786ced55",
   "metadata": {},
   "source": [
    "**subs() 可以将算式中的符号进行替换，它有3种调用方式：  \n",
    "1.expression.subs(x, y): 将算式中的x替换成y。  \n",
    "2.expression.subs({x:y,u:v}):使用字典进行多次替换。  \n",
    "3.expression.subs([(x,y),(u,v)]):使用列表进行多次替换。**"
   ]
  },
  {
   "cell_type": "code",
   "execution_count": null,
   "id": "7cb5df5e-a0c7-421e-8895-6b831353f1b3",
   "metadata": {},
   "outputs": [],
   "source": [
    "from sympy import *\n",
    "x = symbols('x')\n",
    "expr = cos(x) + 1\n",
    "expr\n",
    "expr.subs(x, 0)"
   ]
  },
  {
   "cell_type": "markdown",
   "id": "363bd6b5-0488-4d8f-b0aa-cc0dbc2a1917",
   "metadata": {
    "slideshow": {
     "slide_type": "subslide"
    }
   },
   "source": [
    "#### **(2). evalf() 赋值**\n",
    "**evalf()将表达式表示为浮点数，用SymPy做计算器。**"
   ]
  },
  {
   "cell_type": "code",
   "execution_count": null,
   "id": "57de265a-45dd-4149-af8d-2db4e388cad3",
   "metadata": {},
   "outputs": [],
   "source": [
    "pi**2\n",
    "pi.evalf()\n",
    "(pi+exp(1)).evalf(50)"
   ]
  },
  {
   "cell_type": "markdown",
   "id": "61eaeabe-f59f-475f-9159-0190ed12a821",
   "metadata": {
    "slideshow": {
     "slide_type": "subslide"
    }
   },
   "source": [
    "#### **(3). 数值**"
   ]
  },
  {
   "cell_type": "code",
   "execution_count": null,
   "id": "8908aa74-6cf2-4ee0-9364-9b2b8bf7b075",
   "metadata": {
    "tags": []
   },
   "outputs": [],
   "source": [
    "1/2+1/3\n",
    "S(1)/2 + 1/S(3) #符号运算"
   ]
  },
  {
   "cell_type": "markdown",
   "id": "1ab390f3-513d-430d-91f3-aa81e4e8a3b3",
   "metadata": {},
   "source": [
    "#### **(4). 声明分数**"
   ]
  },
  {
   "cell_type": "code",
   "execution_count": null,
   "id": "828d5395-5fc7-4172-b304-6747e2ed3585",
   "metadata": {
    "tags": []
   },
   "outputs": [],
   "source": [
    "Rational(1, 3)"
   ]
  },
  {
   "cell_type": "markdown",
   "id": "c0f2a485-9193-4e74-afff-3efe06d912c9",
   "metadata": {
    "slideshow": {
     "slide_type": "slide"
    }
   },
   "source": [
    "## **§ 7.4 基本操作(Elementary)**"
   ]
  },
  {
   "cell_type": "code",
   "execution_count": null,
   "id": "38cc0683-9795-49a8-b01c-c642c655260e",
   "metadata": {
    "tags": []
   },
   "outputs": [],
   "source": [
    "x, y, z, a, b, c = symbols('x y z a b c')"
   ]
  },
  {
   "cell_type": "markdown",
   "id": "a7ed46e2-24c3-4add-8b9f-f351db9ff448",
   "metadata": {
    "tags": [],
    "toc-hr-collapsed": true
   },
   "source": [
    "### **1.数论**"
   ]
  },
  {
   "cell_type": "markdown",
   "id": "fe34b01e-1cfe-4665-ad13-423f3d7c53e5",
   "metadata": {
    "tags": []
   },
   "source": [
    "#### **(1).阶乘**"
   ]
  },
  {
   "cell_type": "code",
   "execution_count": null,
   "id": "8735a62f-1bbe-464d-ac06-628c978d12e1",
   "metadata": {
    "tags": []
   },
   "outputs": [],
   "source": [
    "from sympy.ntheory import *\n",
    "factorial(5)"
   ]
  },
  {
   "cell_type": "markdown",
   "id": "776253fb-c4c5-4494-8507-229ddfdab9aa",
   "metadata": {
    "slideshow": {
     "slide_type": "subslide"
    },
    "tags": []
   },
   "source": [
    "#### **(2).分解质因数**"
   ]
  },
  {
   "cell_type": "code",
   "execution_count": null,
   "id": "c1c4693c-55a5-4fa1-b769-5f05377d8c16",
   "metadata": {
    "tags": []
   },
   "outputs": [],
   "source": [
    "factorint(300)\n",
    "factorint(300, visual=True)"
   ]
  },
  {
   "cell_type": "markdown",
   "id": "16eaeb64-a9ca-4cbd-833f-2e216b40ed9c",
   "metadata": {
    "tags": []
   },
   "source": [
    "#### **(3).求因子**"
   ]
  },
  {
   "cell_type": "code",
   "execution_count": null,
   "id": "c3e8451c-024e-49b2-835c-558be4129fa9",
   "metadata": {
    "tags": []
   },
   "outputs": [],
   "source": [
    "divisors(36)"
   ]
  },
  {
   "cell_type": "markdown",
   "id": "d1562a9a-b8b3-410b-ac74-65dfef141872",
   "metadata": {
    "slideshow": {
     "slide_type": "subslide"
    },
    "tags": []
   },
   "source": [
    "#### **(4). 二项式**"
   ]
  },
  {
   "cell_type": "code",
   "execution_count": null,
   "id": "eac0283b-495b-4512-82d7-d0713f6a815a",
   "metadata": {
    "tags": []
   },
   "outputs": [],
   "source": [
    "from sympy import *\n",
    "k, m, n = symbols('k m n')\n",
    "binomial(n, k)"
   ]
  },
  {
   "cell_type": "markdown",
   "id": "6fbe12e9-67c0-444a-b423-aabf4a93f5bd",
   "metadata": {
    "slideshow": {
     "slide_type": "subslide"
    },
    "tags": []
   },
   "source": [
    "### **2.多项式变换和化简**"
   ]
  },
  {
   "cell_type": "markdown",
   "id": "4bd37490-e398-42ab-8453-88344204beec",
   "metadata": {},
   "source": [
    "#### **(1). simplify(), radsimp(),combsimp()对数学表达式进行化简**"
   ]
  },
  {
   "cell_type": "code",
   "execution_count": null,
   "id": "db9c7c05-ccbf-4eff-8f85-644693ec8c74",
   "metadata": {
    "tags": []
   },
   "outputs": [],
   "source": [
    "from sympy import *\n",
    "x, y = symbols('x y')\n",
    "a, b, n = symbols('a b n')\n",
    "z, t, c = symbols('z t c')"
   ]
  },
  {
   "cell_type": "code",
   "execution_count": null,
   "id": "7125cb3d-dbb2-43db-a725-7a898a534c81",
   "metadata": {
    "tags": []
   },
   "outputs": [],
   "source": [
    "simplify((x+2)**2 - (x+1)**2)\n",
    "radsimp(1/(y*sqrt(x)+x*sqrt(y)))"
   ]
  },
  {
   "cell_type": "code",
   "execution_count": null,
   "id": "36323a39-2acb-4706-987d-6939f58f6ac3",
   "metadata": {
    "slideshow": {
     "slide_type": "subslide"
    }
   },
   "outputs": [],
   "source": [
    "simplify((x**3 + x**2 - x - 1)/(x**2 + 2*x + 1))"
   ]
  },
  {
   "cell_type": "code",
   "execution_count": null,
   "id": "7155509a-7fda-422f-9ede-039b0ce0954e",
   "metadata": {
    "tags": []
   },
   "outputs": [],
   "source": [
    "combsimp(factorial(n)/factorial(n - 3))"
   ]
  },
  {
   "cell_type": "markdown",
   "id": "9c45dbe5-266f-4f11-8e03-62d6c2f307cd",
   "metadata": {
    "slideshow": {
     "slide_type": "subslide"
    }
   },
   "source": [
    "#### **(2). powsimp(): 幂化简**"
   ]
  },
  {
   "cell_type": "code",
   "execution_count": null,
   "id": "ba17e791-2cd7-44ad-9584-5dc2d9e71b58",
   "metadata": {
    "tags": []
   },
   "outputs": [],
   "source": [
    "powsimp(x**a*x**b)\n",
    "powsimp(x**a*y**a)\n",
    "powsimp(t**c*z**c)\n",
    "powsimp(t**c*z**c, force=True)"
   ]
  },
  {
   "cell_type": "markdown",
   "id": "2f81dfc8-894f-4a5f-b90b-d1a3c1d6f328",
   "metadata": {
    "slideshow": {
     "slide_type": "subslide"
    }
   },
   "source": [
    "#### **(3). cancel()：约分, 对表达式的分子分母进行约分运算。**\n",
    "**对纯符号的分式表达式及自定义进行约分，不能对内部函数的表达式进行约分。**"
   ]
  },
  {
   "cell_type": "code",
   "execution_count": null,
   "id": "f788eb2e-ff6f-4cd0-bfa9-0113272a89b2",
   "metadata": {
    "tags": []
   },
   "outputs": [],
   "source": [
    "f, g, h = symbols('f,g,h', cls=Function)\n",
    "cancel((x**2-1)/(1+x))\n",
    "cancel(sin((x**2-1)/(1+x))) \n",
    "cancel((f(x)**2-1)/(f(x)+1))"
   ]
  },
  {
   "cell_type": "code",
   "execution_count": null,
   "id": "aac37a1a-72c5-4bed-814d-dfd2941be320",
   "metadata": {},
   "outputs": [],
   "source": [
    "cancel((x**2 + 2*x + 1)/(x**2 + x))"
   ]
  },
  {
   "cell_type": "markdown",
   "id": "a4c26222-ce71-4100-85af-31133c6c87b7",
   "metadata": {
    "slideshow": {
     "slide_type": "subslide"
    },
    "tags": []
   },
   "source": [
    "#### **(4). factor():提取公因式**"
   ]
  },
  {
   "cell_type": "code",
   "execution_count": null,
   "id": "094c72cf-b0d5-484a-a355-973bb35c822f",
   "metadata": {},
   "outputs": [],
   "source": [
    "factor(x**3 - x**2 + x - 1)"
   ]
  },
  {
   "cell_type": "markdown",
   "id": "23290237-090a-44f6-8d9e-65067bcd62e8",
   "metadata": {
    "tags": []
   },
   "source": [
    "#### **(5). apart():部分分式展开**"
   ]
  },
  {
   "cell_type": "code",
   "execution_count": null,
   "id": "127669a6-3846-45b8-8feb-d3813e2f6ca7",
   "metadata": {},
   "outputs": [],
   "source": [
    "expr = (4*x**3 + 21*x**2 + 10*x + 12)/(x**4 + 5*x**3 + 5*x**2 + 4*x)\n",
    "expr\n",
    "apart(expr)"
   ]
  },
  {
   "cell_type": "markdown",
   "id": "78885459-c60e-402d-aafa-0ab535891cb0",
   "metadata": {
    "slideshow": {
     "slide_type": "subslide"
    }
   },
   "source": [
    "#### **(6). expand():通用的展开运算**\n",
    "**expand_log()、expand mul()、expand_complex()、expand_func   \n",
    "通过将相应的标志参数设置为True,对expand()进行封装()**"
   ]
  },
  {
   "cell_type": "code",
   "execution_count": null,
   "id": "0748dd14-ecb1-47e4-a9ef-f008cb633833",
   "metadata": {
    "tags": []
   },
   "outputs": [],
   "source": [
    "x, y, z = symbols(\"x,y,z\", positive=True)\n",
    "expand(log(x*y**2))\n",
    "expand((x+y)**3)\n",
    "expand(x**(y+z))\n",
    "expand(x*log(y*z), mul=False)\n",
    "expand(x*y, complex=True)\n",
    "expand(gamma(1+x), func=True)"
   ]
  },
  {
   "cell_type": "markdown",
   "id": "5bf16ac3-7dab-452b-8cbe-96d38dc8bb98",
   "metadata": {
    "slideshow": {
     "slide_type": "subslide"
    }
   },
   "source": [
    "#### **(7). factor(): 因式分解**"
   ]
  },
  {
   "cell_type": "code",
   "execution_count": null,
   "id": "6397fafb-2ed5-4dc5-ad17-e8eef7c0b79f",
   "metadata": {
    "tags": []
   },
   "outputs": [],
   "source": [
    "factor(15*x**2+2*y-3*x-10*x*y)\n",
    "factor(expand((x+y)**20))"
   ]
  },
  {
   "cell_type": "markdown",
   "id": "4518f6ff-f43e-4957-b0b6-092c8d3e0283",
   "metadata": {
    "slideshow": {
     "slide_type": "subslide"
    }
   },
   "source": [
    "#### **(8). collect():合并同类项。**"
   ]
  },
  {
   "cell_type": "markdown",
   "id": "83043dcb-0fd9-46ae-8207-34676e593205",
   "metadata": {},
   "source": [
    "**collect()返回的是一个整理之后的表达式，如果希望得到x的  \n",
    "各次幂的系数，可以设置evaluate参数为False, 让它返回一个以  \n",
    "x的幂为键、值为系数的字典。**"
   ]
  },
  {
   "cell_type": "code",
   "execution_count": null,
   "id": "d6a277c4-8372-4471-a0e5-d26449162945",
   "metadata": {
    "tags": []
   },
   "outputs": [],
   "source": [
    "a, b = symbols('a,b')\n",
    "eq = (1+a*x)**3 + (1+b*x)**2\n",
    "eq2 = expand(eq)\n",
    "eq2\n",
    "collect(eq2, x)"
   ]
  },
  {
   "cell_type": "code",
   "execution_count": null,
   "id": "c22a850a-bc86-4583-9545-5f879e7992d1",
   "metadata": {
    "slideshow": {
     "slide_type": "subslide"
    },
    "tags": []
   },
   "outputs": [],
   "source": [
    "eq2\n",
    "p = collect(eq2, x, evaluate=False)\n",
    "p[S(1)] #常数项\n",
    "p[x**0] #常数项\n",
    "p[x**2] #x2项的系数"
   ]
  },
  {
   "cell_type": "code",
   "execution_count": null,
   "id": "4a85a32c-c37b-4dc2-b8ba-065d4991cc53",
   "metadata": {
    "tags": []
   },
   "outputs": [],
   "source": [
    "collect(a*sin(2*x) + b*sin(2*x), sin(2*x)) #表达式'sin(2x)'的系数"
   ]
  },
  {
   "cell_type": "markdown",
   "id": "7b37b3ce-074c-46f5-ba75-537e54c55600",
   "metadata": {
    "slideshow": {
     "slide_type": "subslide"
    }
   },
   "source": [
    "#### **(9). together(): 分式合并**"
   ]
  },
  {
   "cell_type": "code",
   "execution_count": null,
   "id": "c00c600c-6555-4d05-b1a5-4581bf5df2ab",
   "metadata": {
    "tags": []
   },
   "outputs": [],
   "source": [
    "from sympy import *\n",
    "x, y, z = symbols(\"x y z\", real=True)\n",
    "f = symbols(\"f\", cls=Function)\n",
    "f = (x+2)/(x+1)\n",
    "ff = apart(f)\n",
    "ff\n",
    "#公式折叠用tegother方法\n",
    "f = (1/x+1/y)\n",
    "ff = together(f)\n",
    "ff"
   ]
  },
  {
   "cell_type": "markdown",
   "id": "5532bcb9-24f5-4b93-943a-e8f63f990ee1",
   "metadata": {
    "slideshow": {
     "slide_type": "subslide"
    },
    "toc-hr-collapsed": true
   },
   "source": [
    "### **3.序列与级数**"
   ]
  },
  {
   "cell_type": "markdown",
   "id": "e39753b9-9bc2-4df2-acdb-9e4396fcf873",
   "metadata": {
    "toc-hr-collapsed": true
   },
   "source": [
    "#### **(1).数列求和**"
   ]
  },
  {
   "cell_type": "markdown",
   "id": "498da2fe-f43f-43a1-b934-d5f4fa91aa84",
   "metadata": {
    "slideshow": {
     "slide_type": "-"
    }
   },
   "source": [
    "**summation(f, (i, a, b)): 求和**\n",
    "**计算给定求和变量界限的f 的总和。**"
   ]
  },
  {
   "cell_type": "code",
   "execution_count": null,
   "id": "9663cff0-020e-4f8f-a4b4-88757ec785e3",
   "metadata": {},
   "outputs": [],
   "source": [
    "Sum(x ** 2, (x, 1, a))\n",
    "Sum(x ** 2, (x, 1, a)).doit()\n",
    "summation(x**2, (x, 1, a))"
   ]
  },
  {
   "cell_type": "code",
   "execution_count": null,
   "id": "815d7594-adad-4756-81fa-1cddf874215a",
   "metadata": {
    "slideshow": {
     "slide_type": "subslide"
    }
   },
   "outputs": [],
   "source": [
    "Sum(x, (x, 1, a))\n",
    "Sum(x, (x, 1, a)).doit()\n",
    "summation(x, (x, 0, n))"
   ]
  },
  {
   "cell_type": "code",
   "execution_count": null,
   "id": "5a378dee-c63d-4a58-9748-7fd98bc2a490",
   "metadata": {
    "slideshow": {
     "slide_type": "subslide"
    },
    "tags": []
   },
   "outputs": [],
   "source": [
    "i, n, m = symbols('i n m', integer=True)\n",
    "summation(2*i - 1, (i, 1, n))\n",
    "summation(1/2**i, (i, 0, oo))\n",
    "summation(1/log(n)**n, (n, 2, oo))\n",
    "summation(x**n/factorial(n), (n, 0, oo))"
   ]
  },
  {
   "cell_type": "markdown",
   "id": "ec6c07a6-aa77-4bbd-8c2e-86322d13513d",
   "metadata": {
    "slideshow": {
     "slide_type": "subslide"
    },
    "toc-hr-collapsed": true
   },
   "source": [
    "#### **(2).数列求积**"
   ]
  },
  {
   "cell_type": "code",
   "execution_count": null,
   "id": "25ef85e9-58ba-4b89-9c28-1577f8102c06",
   "metadata": {
    "tags": []
   },
   "outputs": [],
   "source": [
    "Product(x**2, (x, 1, a))\n",
    "Product(x**2, (x, 1, a)).doit()"
   ]
  },
  {
   "cell_type": "markdown",
   "id": "0a1f985e-d152-4f9d-a90b-2787088ef982",
   "metadata": {
    "slideshow": {
     "slide_type": "subslide"
    },
    "toc-hr-collapsed": true
   },
   "source": [
    "#### **(3).limit()：极限**"
   ]
  },
  {
   "cell_type": "code",
   "execution_count": null,
   "id": "0de0866a-6070-43de-acf9-47881e262278",
   "metadata": {},
   "outputs": [],
   "source": [
    "from sympy import *\n",
    "x = Symbol(\"x\")\n",
    "Limit(sin(x)/x, x, 0)\n",
    "limit(sin(x)/x, x, 0)\n",
    "limit(sin(x)/x, x, oo)"
   ]
  },
  {
   "cell_type": "markdown",
   "id": "2a3f1c98-b470-4c71-bde3-a3e75ec35ff2",
   "metadata": {
    "slideshow": {
     "slide_type": "subslide"
    },
    "toc-hr-collapsed": true
   },
   "source": [
    "#### **(4).series(var, point, order): 级数展开**"
   ]
  },
  {
   "cell_type": "code",
   "execution_count": null,
   "id": "0616aaf2-e7f7-4215-b40e-830ed6977656",
   "metadata": {},
   "outputs": [],
   "source": [
    "e = 1/(x + y)\n",
    "e\n",
    "s = e.series(x, 0, 5)\n",
    "s"
   ]
  },
  {
   "cell_type": "markdown",
   "id": "8ef1b13e-1970-4916-b937-2bed45c96d27",
   "metadata": {
    "slideshow": {
     "slide_type": "subslide"
    },
    "toc-hr-collapsed": true
   },
   "source": [
    "#### **(7).fourier_series(): 傅里叶级数展开**"
   ]
  },
  {
   "cell_type": "markdown",
   "id": "73bbc96e-f720-4fc5-b23f-3f48d379b9ab",
   "metadata": {
    "toc-hr-collapsed": true
   },
   "source": [
    "<img style='float:left;' src='File&Figure\\Advanced\\7sympyFourierSeries1.png' width='30%'>"
   ]
  },
  {
   "cell_type": "code",
   "execution_count": null,
   "id": "4029a4bf-ec44-488a-a866-8fb4cb43f514",
   "metadata": {},
   "outputs": [],
   "source": [
    "from sympy import fourier_series, pi\n",
    "from sympy.abc import x\n",
    "f = x**2\n",
    "s = fourier_series(f, (x, -pi, pi))\n",
    "s1 = s.truncate(n=3)\n",
    "s1"
   ]
  },
  {
   "cell_type": "code",
   "execution_count": null,
   "id": "e83b4303-a3e5-4c29-868a-4dc7f931d12f",
   "metadata": {
    "slideshow": {
     "slide_type": "subslide"
    }
   },
   "outputs": [],
   "source": [
    "f = x\n",
    "s = fourier_series(f, (x, -pi, pi))\n",
    "s1 = s.truncate(n=3)\n",
    "s1"
   ]
  },
  {
   "cell_type": "markdown",
   "id": "36b176f0-9555-4785-9a9b-85a83c96cb42",
   "metadata": {
    "slideshow": {
     "slide_type": "subslide"
    },
    "toc-hr-collapsed": true
   },
   "source": [
    "### **4.微积分**"
   ]
  },
  {
   "cell_type": "markdown",
   "id": "a7c59924-063d-424b-a3ac-d6001f258fc6",
   "metadata": {},
   "source": [
    "#### **(1). 微分Derivative()和 diff()**"
   ]
  },
  {
   "cell_type": "markdown",
   "id": "b83d893e-8abc-47af-a611-afbe0f18d968",
   "metadata": {},
   "source": [
    "**Derivative是表示导函数的类，它的第一个参数是需要进行求导运算：  \n",
    "也可以直接使用 diff()函数或表达式的 diff()的方法来计算导函数**"
   ]
  },
  {
   "cell_type": "code",
   "execution_count": 71,
   "id": "683e953f-459b-4c6f-a39e-2a14057aeacb",
   "metadata": {
    "slideshow": {
     "slide_type": "subslide"
    },
    "tags": []
   },
   "outputs": [
    {
     "data": {
      "text/latex": [
       "$\\displaystyle \\frac{d}{d x} \\sin{\\left(x \\right)}$"
      ],
      "text/plain": [
       "Derivative(sin(x), x)"
      ]
     },
     "execution_count": 71,
     "metadata": {},
     "output_type": "execute_result"
    },
    {
     "data": {
      "text/latex": [
       "$\\displaystyle \\cos{\\left(x \\right)}$"
      ],
      "text/plain": [
       "cos(x)"
      ]
     },
     "execution_count": 71,
     "metadata": {},
     "output_type": "execute_result"
    },
    {
     "data": {
      "text/latex": [
       "$\\displaystyle \\cos{\\left(x \\right)}$"
      ],
      "text/plain": [
       "cos(x)"
      ]
     },
     "execution_count": 71,
     "metadata": {},
     "output_type": "execute_result"
    },
    {
     "data": {
      "text/latex": [
       "$\\displaystyle \\cos{\\left(x \\right)}$"
      ],
      "text/plain": [
       "cos(x)"
      ]
     },
     "execution_count": 71,
     "metadata": {},
     "output_type": "execute_result"
    }
   ],
   "source": [
    "t = Derivative(sin(x), x)\n",
    "t\n",
    "t.doit()\n",
    "diff(sin(x), x)\n",
    "sin(x).diff(x)"
   ]
  },
  {
   "cell_type": "code",
   "execution_count": 72,
   "id": "6b7d3d01-d257-4255-af7c-37580daee629",
   "metadata": {
    "slideshow": {
     "slide_type": "subslide"
    },
    "tags": []
   },
   "outputs": [
    {
     "data": {
      "text/latex": [
       "$\\displaystyle \\frac{d}{d x} \\sin{\\left(2 x \\right)}$"
      ],
      "text/plain": [
       "Derivative(sin(2*x), x)"
      ]
     },
     "execution_count": 72,
     "metadata": {},
     "output_type": "execute_result"
    },
    {
     "data": {
      "text/latex": [
       "$\\displaystyle 2 \\cos{\\left(2 x \\right)}$"
      ],
      "text/plain": [
       "2*cos(2*x)"
      ]
     },
     "execution_count": 72,
     "metadata": {},
     "output_type": "execute_result"
    },
    {
     "data": {
      "text/latex": [
       "$\\displaystyle - 4 \\sin{\\left(2 x \\right)}$"
      ],
      "text/plain": [
       "-4*sin(2*x)"
      ]
     },
     "execution_count": 72,
     "metadata": {},
     "output_type": "execute_result"
    },
    {
     "data": {
      "text/latex": [
       "$\\displaystyle - 8 \\cos{\\left(2 x \\right)}$"
      ],
      "text/plain": [
       "-8*cos(2*x)"
      ]
     },
     "execution_count": 72,
     "metadata": {},
     "output_type": "execute_result"
    },
    {
     "data": {
      "text/latex": [
       "$\\displaystyle x \\left(x^{2} y^{2} \\cos{\\left(x y \\right)} + 6 x y \\sin{\\left(x y \\right)} - 6 \\cos{\\left(x y \\right)}\\right)$"
      ],
      "text/plain": [
       "x*(x**2*y**2*cos(x*y) + 6*x*y*sin(x*y) - 6*cos(x*y))"
      ]
     },
     "execution_count": 72,
     "metadata": {},
     "output_type": "execute_result"
    }
   ],
   "source": [
    "Derivative(sin(2*x), x)\n",
    "sin(2*x).diff(x)\n",
    "diff(sin(2*x), x, 2) #二阶导数\n",
    "diff(sin(2*x), x, 3) #三阶导数\n",
    "diff(sin(x*y), x, 2, y, 3) #x的二阶导数和y的三阶导数"
   ]
  },
  {
   "cell_type": "markdown",
   "id": "51d06b59-21cc-4c10-a110-cfdcee4f8305",
   "metadata": {
    "slideshow": {
     "slide_type": "subslide"
    }
   },
   "source": [
    "#### **(2). integrate(): 积分**"
   ]
  },
  {
   "cell_type": "markdown",
   "id": "20fad11a",
   "metadata": {},
   "source": [
    "**不定积分：integrate(f,x)  \n",
    "定积分：integrate(f,(x,a,b))  \n",
    "双重不定积分：integrate(f,x,y)  \n",
    "双重定积分：integrate(f,(x,a,b),(y,c,d))  \n",
    "由于无法进行符号定积分，可用evalf()和N()对其进行数值运算  \n",
    "as_sum()方法可以将定积分转换为近似求和公式，它将积分区域分割成N个小矩形的面积之和**"
   ]
  },
  {
   "cell_type": "code",
   "execution_count": 73,
   "id": "443fd965-145e-4ce3-a47b-ee12c84100ea",
   "metadata": {
    "slideshow": {
     "slide_type": "-"
    },
    "tags": []
   },
   "outputs": [],
   "source": [
    "from IPython.core.interactiveshell import InteractiveShell\n",
    "InteractiveShell.ast_node_interactivity = \"all\"\n",
    "from sympy import *\n",
    "x = symbols(\"x\", real=True)\n",
    "f = Function(\"f\")"
   ]
  },
  {
   "cell_type": "code",
   "execution_count": 74,
   "id": "fbc0c20d",
   "metadata": {
    "slideshow": {
     "slide_type": "subslide"
    }
   },
   "outputs": [
    {
     "data": {
      "text/latex": [
       "$\\displaystyle - e^{- x}$"
      ],
      "text/plain": [
       "-exp(-x)"
      ]
     },
     "execution_count": 74,
     "metadata": {},
     "output_type": "execute_result"
    },
    {
     "data": {
      "text/latex": [
       "$\\displaystyle 1$"
      ],
      "text/plain": [
       "1"
      ]
     },
     "execution_count": 74,
     "metadata": {},
     "output_type": "execute_result"
    },
    {
     "data": {
      "text/latex": [
       "$\\displaystyle \\int x \\sin{\\left(x \\right)}\\, dx$"
      ],
      "text/plain": [
       "Integral(x*sin(x), x)"
      ]
     },
     "execution_count": 74,
     "metadata": {},
     "output_type": "execute_result"
    },
    {
     "data": {
      "text/latex": [
       "$\\displaystyle - x \\cos{\\left(x \\right)} + \\sin{\\left(x \\right)}$"
      ],
      "text/plain": [
       "-x*cos(x) + sin(x)"
      ]
     },
     "execution_count": 74,
     "metadata": {},
     "output_type": "execute_result"
    }
   ],
   "source": [
    "integrate(exp(-x), x)\n",
    "\n",
    "integrate(exp(-x), (x, 0, oo))\n",
    "\n",
    "e = Integral(x*sin(x), x)#表达式\n",
    "e\n",
    "e.doit()"
   ]
  },
  {
   "cell_type": "code",
   "execution_count": null,
   "id": "06fb3289-3d5d-460b-8f63-4bfa44fe6b86",
   "metadata": {
    "slideshow": {
     "slide_type": "subslide"
    },
    "tags": []
   },
   "outputs": [],
   "source": [
    "e2 = Integral(x*sin(x), (x, 0, 1))\n",
    "e2 #表达式\n",
    "e2.doit() #表达式\n",
    "e2.evalf() #值\n",
    "N(e2) #值\n",
    "N(e2, 4) #值\n",
    "e2.as_sum(5) #表达式\n",
    "N(e2.as_sum(5)) #值"
   ]
  },
  {
   "cell_type": "code",
   "execution_count": 75,
   "id": "3c9f4ba3",
   "metadata": {
    "slideshow": {
     "slide_type": "subslide"
    },
    "tags": []
   },
   "outputs": [
    {
     "data": {
      "text/latex": [
       "$\\displaystyle -4.0$"
      ],
      "text/plain": [
       "-0.e+0"
      ]
     },
     "execution_count": 75,
     "metadata": {},
     "output_type": "execute_result"
    },
    {
     "data": {
      "text/latex": [
       "$\\displaystyle 1.0$"
      ],
      "text/plain": [
       "0.e+0"
      ]
     },
     "execution_count": 75,
     "metadata": {},
     "output_type": "execute_result"
    },
    {
     "data": {
      "text/latex": [
       "$\\displaystyle 1.56222546688906$"
      ],
      "text/plain": [
       "1.56222546688906"
      ]
     },
     "execution_count": 75,
     "metadata": {},
     "output_type": "execute_result"
    },
    {
     "data": {
      "text/latex": [
       "$\\displaystyle \\frac{2 \\left(x + 1\\right)^{\\frac{3}{2}}}{3}$"
      ],
      "text/plain": [
       "2*(x + 1)**(3/2)/3"
      ]
     },
     "execution_count": 75,
     "metadata": {},
     "output_type": "execute_result"
    },
    {
     "data": {
      "text/latex": [
       "$\\displaystyle \\frac{2 \\left(x + 1\\right)^{\\frac{3}{2}}}{3} - \\frac{2}{3}$"
      ],
      "text/plain": [
       "2*(x + 1)**(3/2)/3 - 2/3"
      ]
     },
     "execution_count": 75,
     "metadata": {},
     "output_type": "execute_result"
    },
    {
     "data": {
      "text/latex": [
       "$\\displaystyle \\pi$"
      ],
      "text/plain": [
       "pi"
      ]
     },
     "execution_count": 75,
     "metadata": {},
     "output_type": "execute_result"
    }
   ],
   "source": [
    "from sympy import sqrt\n",
    "x, y = symbols(\"x y\", real=True)\n",
    "### 数值计算的局限\n",
    "N(Integral(sin(x)/x, (x, 0, oo)))\n",
    "N(Integral(sin(x)/x, (x, 0, 10000)))\n",
    "N(Integral(sin(x)/x, (x, 0, 100)))\n",
    "\n",
    "integrate(sqrt(1 + x), x)\n",
    "integrate(sqrt(1 + x), (x, 0, x))\n",
    "integrate(exp(-x**2 - y**2), (x, -oo, oo), (y, -oo, oo))"
   ]
  },
  {
   "cell_type": "markdown",
   "id": "8eda410a-811c-4a34-86e3-26c02d97e476",
   "metadata": {
    "slideshow": {
     "slide_type": "subslide"
    },
    "toc-hr-collapsed": true
   },
   "source": [
    "### **5.方程. Eq(), solve()**"
   ]
  },
  {
   "cell_type": "markdown",
   "id": "eef0c540-1191-4c39-8278-116f2a22f4f2",
   "metadata": {},
   "source": [
    "#### **(1).解方程函数. Eq(), solve()**"
   ]
  },
  {
   "cell_type": "markdown",
   "id": "dbf5f4e8-f031-4e53-97f6-ecdb08e5ef1e",
   "metadata": {},
   "source": [
    "**在SymPy中，表达式可以直接表示值为0的方程，也可以使用Eq()创建方程。  \n",
    "solve()可以对方程进行符号求解，它的第一个参数是表示方程的表达式，  \n",
    "其后的参数是表示方程中未知变量的符号。**"
   ]
  },
  {
   "cell_type": "code",
   "execution_count": 76,
   "id": "5d12e69c-3de5-4afa-895a-f27262b47982",
   "metadata": {},
   "outputs": [
    {
     "data": {
      "text/plain": [
       "[(-b - sqrt(-4*a*c + b**2))/(2*a), (-b + sqrt(-4*a*c + b**2))/(2*a)]"
      ]
     },
     "execution_count": 76,
     "metadata": {},
     "output_type": "execute_result"
    },
    {
     "data": {
      "text/plain": [
       "[(-b - sqrt(-4*a*c + b**2))/(2*a), (-b + sqrt(-4*a*c + b**2))/(2*a)]"
      ]
     },
     "execution_count": 76,
     "metadata": {},
     "output_type": "execute_result"
    }
   ],
   "source": [
    "from sympy import *\n",
    "a, b, c, x, y, z = symbols(\"a, b, c, x, y, z\")\n",
    "solve(a*x**2+b*x+c, x)\n",
    "my_eq = Eq(a*x**2+b*x+c, 0)\n",
    "solve(my_eq, x)"
   ]
  },
  {
   "cell_type": "markdown",
   "id": "190ec686-a88f-442f-a750-177509f16921",
   "metadata": {
    "slideshow": {
     "slide_type": "subslide"
    }
   },
   "source": [
    "#### **(2). 线性方程组, solve(),linsolve(),nonlinsolve()**\n",
    "**用元组将几个方程组成一个方程组。**"
   ]
  },
  {
   "cell_type": "code",
   "execution_count": 77,
   "id": "d485abe4-5099-425f-81a1-b7d0ea7f7497",
   "metadata": {},
   "outputs": [
    {
     "data": {
      "text/plain": [
       "{x: -1, y: 4}"
      ]
     },
     "execution_count": 77,
     "metadata": {},
     "output_type": "execute_result"
    },
    {
     "data": {
      "text/latex": [
       "$\\displaystyle \\left\\{\\left( - y - 1, \\  y, \\  2\\right)\\right\\}$"
      ],
      "text/plain": [
       "{(-y - 1, y, 2)}"
      ]
     },
     "execution_count": 77,
     "metadata": {},
     "output_type": "execute_result"
    },
    {
     "data": {
      "text/latex": [
       "$\\displaystyle \\left\\{\\left( - y - 1, \\  y, \\  2\\right)\\right\\}$"
      ],
      "text/plain": [
       "{(-y - 1, y, 2)}"
      ]
     },
     "execution_count": 77,
     "metadata": {},
     "output_type": "execute_result"
    }
   ],
   "source": [
    "### 方程组2\n",
    "f1 = x+y-3\n",
    "f2 = x-y+5\n",
    "solve([f1, f2], [x, y])\n",
    "\n",
    "linsolve([x + y + z - 1, x + y + 2*z - 3], (x, y, z))\n",
    "linsolve(Matrix(([1, 1, 1, 1], [1, 1, 2, 3])), (x, y, z))"
   ]
  },
  {
   "cell_type": "code",
   "execution_count": null,
   "id": "aa8591db",
   "metadata": {
    "slideshow": {
     "slide_type": "subslide"
    }
   },
   "outputs": [],
   "source": [
    "## 方程组的另种写法\n",
    "def solve_function():\n",
    "    return [\n",
    "        x**2+y**2-10,\n",
    "        y**2+z**2-34,\n",
    "        x**2+z**2-26,]\n",
    "\n",
    "solved_value = solve(solve_function(), [x, y, z])\n",
    "solved_value"
   ]
  },
  {
   "cell_type": "markdown",
   "id": "662739b2-73b3-417d-90e6-ca9c12cd9b7b",
   "metadata": {
    "slideshow": {
     "slide_type": "subslide"
    }
   },
   "source": [
    "#### **(3). 求解一元n次方程, solveset(),roots(()**"
   ]
  },
  {
   "cell_type": "markdown",
   "id": "a63f6935",
   "metadata": {},
   "source": [
    "**一元二次方程** "
   ]
  },
  {
   "cell_type": "code",
   "execution_count": null,
   "id": "976ce190",
   "metadata": {},
   "outputs": [],
   "source": [
    "solveset(Eq(x**2 - x, 0), x, domain=S.Reals)\n",
    "solveset(Eq(x**2 - x, 0))\n",
    "solveset(x**2 - x)\n",
    "solve(Eq(x**2 - x, 0))\n",
    "roots(x**2 - x, x)#后一个x是表示自变量是x\n",
    "roots(x**2 - x)"
   ]
  },
  {
   "cell_type": "markdown",
   "id": "69dd4594",
   "metadata": {
    "slideshow": {
     "slide_type": "subslide"
    }
   },
   "source": [
    "**一元n次方程**"
   ]
  },
  {
   "cell_type": "code",
   "execution_count": null,
   "id": "19168a06-eecf-4ddc-be0b-e6e15ef0550a",
   "metadata": {},
   "outputs": [],
   "source": [
    "solve(x**3 - 4*x**2 - 3*x + 18)\n",
    "roots(x**3 - 4*x**2 - 3*x + 18)  #如果要求多重根重复次数可以用roots\n",
    "roots(x**3 - 6*x**2 + 9*x, x)#后一个x是表示自变量是x"
   ]
  },
  {
   "cell_type": "markdown",
   "id": "ca61cbb1",
   "metadata": {
    "slideshow": {
     "slide_type": "subslide"
    }
   },
   "source": [
    "**n元n次方程** "
   ]
  },
  {
   "cell_type": "code",
   "execution_count": null,
   "id": "44742198-34a0-495e-8b79-7f803b3f4013",
   "metadata": {},
   "outputs": [],
   "source": [
    "solve((x**2+x*y+1, y**2+x*y+2), x, y)"
   ]
  },
  {
   "cell_type": "markdown",
   "id": "966289e2-e0a0-4be1-b1c7-66f9cc78348f",
   "metadata": {
    "slideshow": {
     "slide_type": "subslide"
    }
   },
   "source": [
    "#### **(5). dsolve()： 微分方程求解**\n",
    "**dsolve() 可以对微分方程进行符号求解。它的第一个参数是一个  \n",
    "带未知函数的表达式，第二个参数是需要进行求解的未知函数。**   \n",
    "<img style='float:left;' src='File&Figure\\Advanced\\7sympydsolve1.png' width='30%'>"
   ]
  },
  {
   "cell_type": "code",
   "execution_count": null,
   "id": "93f66768-6333-4dfb-b9ca-6e9704977620",
   "metadata": {
    "tags": []
   },
   "outputs": [],
   "source": [
    "from sympy import *\n",
    "x = Symbol(\"x\")\n",
    "f = Function(\"f\")\n",
    "dsolve(Derivative(f(x), x) + f(x), f(x))"
   ]
  },
  {
   "cell_type": "markdown",
   "id": "dcf57fdd-3245-4cba-88a2-c172aa69c6f0",
   "metadata": {
    "slideshow": {
     "slide_type": "subslide"
    }
   },
   "source": [
    "**微分方程2**  \n",
    "<img style='float:left;' src='File&Figure\\Advanced\\7sympydsolve2.png' width='40%'>"
   ]
  },
  {
   "cell_type": "code",
   "execution_count": null,
   "id": "ec0b3eec-fd07-423f-b9c2-1015ff7ce5bb",
   "metadata": {
    "tags": []
   },
   "outputs": [],
   "source": [
    "x = symbols(\"x\", real=True)\n",
    "eq1 = dsolve(f(x).diff(x) + f(x)**2 + f(x), f(x))\n",
    "eq1"
   ]
  },
  {
   "cell_type": "markdown",
   "id": "40a277fe-9b78-4f0a-97ba-ee5588780af7",
   "metadata": {
    "slideshow": {
     "slide_type": "subslide"
    }
   },
   "source": [
    "**微分方程3**  \n",
    "<img style='float:left;' src='File&Figure\\Advanced\\7sympydsolve4.png' width='40%'>"
   ]
  },
  {
   "cell_type": "code",
   "execution_count": null,
   "id": "8e9d793c-25f1-4899-b995-dd5b15e6c00d",
   "metadata": {
    "tags": []
   },
   "outputs": [],
   "source": [
    "from sympy import *\n",
    "x = symbols(\"x\", real=True)\n",
    "f = symbols('f', cls=Function)\n",
    "diffeq = Eq(f(x).diff(x, 2) - 2*f(x).diff(x) + f(x), sin(x))\n",
    "diffeq\n",
    "dsolve(diffeq, f(x))"
   ]
  },
  {
   "cell_type": "markdown",
   "id": "530f6d3f-285e-4f1f-bf70-36359b9bad0b",
   "metadata": {
    "slideshow": {
     "slide_type": "subslide"
    },
    "toc-hr-collapsed": true
   },
   "source": [
    "### **6. 三角函数**"
   ]
  },
  {
   "cell_type": "markdown",
   "id": "7963046d-3b97-40a5-b25d-b71fdda66acc",
   "metadata": {},
   "source": [
    "#### **(1). 三角函数化简**"
   ]
  },
  {
   "cell_type": "code",
   "execution_count": null,
   "id": "85fddce2-7ead-4cb8-8e3e-81a58b8b1bb2",
   "metadata": {},
   "outputs": [],
   "source": [
    "from sympy import *\n",
    "from sympy.abc import x\n",
    "\n",
    "trigsimp(sin(x)**4 - 2*cos(x)**2*sin(x)**2 + cos(x)**4)\n",
    "trigsimp(cosh(x)**2 + sinh(x)**2)"
   ]
  },
  {
   "cell_type": "markdown",
   "id": "5c41ef24-19a2-42fc-aec0-32b166141eb7",
   "metadata": {
    "slideshow": {
     "slide_type": "subslide"
    }
   },
   "source": [
    "#### **(2). 三角函数展开**"
   ]
  },
  {
   "cell_type": "code",
   "execution_count": null,
   "id": "61f062cc-334a-44bc-a5d4-22d26c0c586f",
   "metadata": {
    "tags": []
   },
   "outputs": [],
   "source": [
    "from sympy import *\n",
    "from sympy.abc import x,y\n",
    "expand_trig(sin(x + y))\n",
    "expand_trig(tan(2*x))\n",
    "expand(sin(x+y), trig=True)"
   ]
  },
  {
   "cell_type": "markdown",
   "id": "e11c27f4-1e58-4515-9dff-5470dbb59d55",
   "metadata": {},
   "source": [
    "#### **(3).变换形式**"
   ]
  },
  {
   "cell_type": "code",
   "execution_count": null,
   "id": "a091d0fb-9873-43f9-9f15-7680066fed25",
   "metadata": {},
   "outputs": [],
   "source": [
    "tan(x).rewrite(sin)"
   ]
  },
  {
   "cell_type": "markdown",
   "id": "a44199ee-004f-4689-bc52-76a5f27bbf30",
   "metadata": {
    "slideshow": {
     "slide_type": "subslide"
    }
   },
   "source": [
    "### **7.矩阵操作**"
   ]
  },
  {
   "cell_type": "markdown",
   "id": "2a6693f8-c58a-4c6e-8000-b14c09717291",
   "metadata": {},
   "source": [
    "#### **(1). 矩阵的创建**"
   ]
  },
  {
   "cell_type": "code",
   "execution_count": null,
   "id": "a26e7bb5-80af-4862-a3ca-5db58c2dab46",
   "metadata": {},
   "outputs": [],
   "source": [
    "eye(3)\n",
    "zeros(2, 3)\n",
    "ones(3, 2)"
   ]
  },
  {
   "cell_type": "markdown",
   "id": "985de7ba-881c-4029-af03-5d12968ce327",
   "metadata": {
    "slideshow": {
     "slide_type": "subslide"
    }
   },
   "source": [
    "#### **(3). 矩阵与矩阵的幂, 对角阵**"
   ]
  },
  {
   "cell_type": "code",
   "execution_count": null,
   "id": "260680ed-0006-4dda-944b-b35fb7600201",
   "metadata": {},
   "outputs": [],
   "source": [
    "from sympy import *\n",
    "#from sympy.abc import x,y\n",
    "x = Symbol('x')\n",
    "y = Symbol('y')\n",
    "A = Matrix([[1,x], [y,1]])\n",
    "A\n",
    "A**2"
   ]
  },
  {
   "cell_type": "markdown",
   "id": "8cfc30e4",
   "metadata": {
    "slideshow": {
     "slide_type": "subslide"
    }
   },
   "source": [
    "**矩阵与矩阵的对角阵**"
   ]
  },
  {
   "cell_type": "code",
   "execution_count": null,
   "id": "913d2d05-0e94-4e19-a580-1a40377f09a4",
   "metadata": {
    "slideshow": {
     "slide_type": "-"
    }
   },
   "outputs": [],
   "source": [
    "M = Matrix([[3, -2,  4, -2], [5,  3, -3, -2], [5, -2,  2, -2], [5, -2, -3,  3]])\n",
    "M\n",
    "P, D = M.diagonalize() #对角化\n",
    "P ## 特征向量\n",
    "D  ## 特征值的对角阵"
   ]
  },
  {
   "cell_type": "markdown",
   "id": "c0ac408e-5394-44b9-8232-caf95c2d2d38",
   "metadata": {
    "slideshow": {
     "slide_type": "subslide"
    }
   },
   "source": [
    "#### **(4). 矩阵的行列式**"
   ]
  },
  {
   "cell_type": "code",
   "execution_count": null,
   "id": "920837aa-60bb-48f2-b154-16cffbbf30fd",
   "metadata": {
    "tags": []
   },
   "outputs": [],
   "source": [
    "M = Matrix([[3, -2,  4, -2], [5,  3, -3, -2], [5, -2,  2, -2], [5, -2, -3,  3]])\n",
    "M\n",
    "shape(M)\n",
    "M.det()"
   ]
  },
  {
   "cell_type": "markdown",
   "id": "e7b06492-544b-4178-80d7-e8196edb80b2",
   "metadata": {
    "slideshow": {
     "slide_type": "subslide"
    }
   },
   "source": [
    "#### **(5). 矩阵的逆、转置**"
   ]
  },
  {
   "cell_type": "code",
   "execution_count": null,
   "id": "f962edc7-c079-4275-bdba-f50903cadd8a",
   "metadata": {},
   "outputs": [],
   "source": [
    "M = Matrix([[1, 2, 3], [4, 5, 6], [4, 7, 8]])\n",
    "M\n",
    "M.T #矩阵的转置\n",
    "M**-1 #矩阵的逆"
   ]
  },
  {
   "cell_type": "markdown",
   "id": "7bbbe22c-deca-4e70-84e7-6c681d6f555a",
   "metadata": {
    "slideshow": {
     "slide_type": "subslide"
    }
   },
   "source": [
    "#### **(6). 矩阵的特征值和特征多项式、特征向量**"
   ]
  },
  {
   "cell_type": "code",
   "execution_count": null,
   "id": "6583cddb-9d38-4e3c-9880-90afcc784d12",
   "metadata": {
    "slideshow": {
     "slide_type": "-"
    }
   },
   "outputs": [],
   "source": [
    "M = Matrix([[3, -2,  4, -2], [5,  3, -3, -2], [5, -2,  2, -2], [5, -2, -3,  3]])\n",
    "#M\n",
    "M.eigenvals() # {3: 1, -2: 1, 5: 2} 特征值分别为：3, -2, 5，个数为1，1，2\n",
    "print(M.eigenvects())"
   ]
  },
  {
   "cell_type": "markdown",
   "id": "ed71a1e9",
   "metadata": {
    "slideshow": {
     "slide_type": "slide"
    }
   },
   "source": [
    "# **End**"
   ]
  }
 ],
 "metadata": {
  "celltoolbar": "Slideshow",
  "kernelspec": {
   "display_name": "Python 3 (ipykernel)",
   "language": "python",
   "name": "python3"
  },
  "language_info": {
   "codemirror_mode": {
    "name": "ipython",
    "version": 3
   },
   "file_extension": ".py",
   "mimetype": "text/x-python",
   "name": "python",
   "nbconvert_exporter": "python",
   "pygments_lexer": "ipython3",
   "version": "3.11.1"
  }
 },
 "nbformat": 4,
 "nbformat_minor": 5
}
