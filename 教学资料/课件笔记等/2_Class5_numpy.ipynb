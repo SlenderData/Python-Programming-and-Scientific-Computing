{
 "cells": [
  {
   "cell_type": "code",
   "execution_count": 1,
   "id": "a7bfd27e-25c5-45e6-9f6b-86380053d3b2",
   "metadata": {
    "tags": []
   },
   "outputs": [],
   "source": [
    "#添加以下代码以显示单元格中的所有输出\n",
    "from IPython.core.interactiveshell import InteractiveShell\n",
    "InteractiveShell.ast_node_interactivity = \"all\"\n",
    "from matplotlib import pyplot as plt\n",
    "plt.rcParams['font.sans-serif'] = ['SimHei']   #显示中文\n",
    "plt.rcParams['axes.unicode_minus']=False       #显示负号\n",
    "#https://blog.csdn.net/weixin_68789096/article/details/132275547"
   ]
  },
  {
   "cell_type": "markdown",
   "id": "20690301-45d8-42df-b27c-27a98dce3af5",
   "metadata": {
    "slideshow": {
     "slide_type": "slide"
    }
   },
   "source": [
    "# **第5课 科学计算基础 numpy** "
   ]
  },
  {
   "cell_type": "markdown",
   "id": "de94909f-e7cb-4eac-927c-78b12231a8fe",
   "metadata": {},
   "source": [
    "**§5.0 简介  \n",
    "§5.1 numpy库的使用  \n",
    "§5.2 numpy库的常见操作出  \n",
    "§5.3 numpy的专门应用  \n",
    "§5.4 数组的文件输入与输出**"
   ]
  },
  {
   "cell_type": "markdown",
   "id": "39768101-f999-4dc3-a460-ab431513e1fc",
   "metadata": {
    "slideshow": {
     "slide_type": "slide"
    }
   },
   "source": [
    "## **§5.0 简介** "
   ]
  },
  {
   "cell_type": "markdown",
   "id": "11089e57-8433-4214-a0e8-1ca3d031b1a7",
   "metadata": {},
   "source": [
    "  **科学计算即是数值计算，是指应用计算处理科学研究和工程技术中所遇到的数值计算。**"
   ]
  },
  {
   "cell_type": "markdown",
   "id": "ea2346c1-dfd8-47c2-a9c0-8cc158dc578d",
   "metadata": {},
   "source": [
    "  **numpy是Python语言中科学计算的基础库，重点在于数值计算，也是大部分   \n",
    "Python科学计算库的基础，多用于在大型、多维数组上执行的数值运算。**"
   ]
  },
  {
   "cell_type": "markdown",
   "id": "d4fc3f3f-3c61-4d14-8e30-455721a52a14",
   "metadata": {
    "slideshow": {
     "slide_type": "subslide"
    }
   },
   "source": [
    "**First Image of a Black Hole(2019.4.10)# # # # # #Discovery of Gravitational Waves(2017.12.17)**"
   ]
  },
  {
   "cell_type": "markdown",
   "id": "649ddc79-08c3-41a9-878a-83a3f6d99739",
   "metadata": {
    "tags": []
   },
   "source": [
    "<img style='float:left;' src='File&Figure\\Advanced\\5npblackhole.png' width='40%'>\n",
    "<img style='float:left;' src='File&Figure\\Advanced\\5npgravitional.png' width='40%'>"
   ]
  },
  {
   "cell_type": "markdown",
   "id": "24e4cdf6-12e7-44c9-89e5-e0ebc432538f",
   "metadata": {},
   "source": [
    "   **NumPy ( Numerical Python 的缩写)是一个开源的 Python 科学计算库,  \n",
    "包含很多实用的数学函数,涵盖线性代数运算、傅里叶变换和随机数生成等功能。**"
   ]
  },
  {
   "cell_type": "markdown",
   "id": "8bf41e77-c45d-4231-a311-e9b3b89d1ec5",
   "metadata": {
    "slideshow": {
     "slide_type": "subslide"
    }
   },
   "source": [
    "**I. 安装numpy包**"
   ]
  },
  {
   "cell_type": "markdown",
   "id": "87baa315-a634-44f2-931d-4e4329e9f917",
   "metadata": {},
   "source": [
    "**① pip install numpy  \n",
    "② pip install numpy-1.20.3+mkl-cp39-cp39-win_ amd64.whl  \n",
    "③ python.exe setup.py install  \n",
    "②③方法需在文件所在目录中运行。(%comspec%)**"
   ]
  },
  {
   "cell_type": "markdown",
   "id": "be08863d-6b2f-4cf2-a7b2-9f3aa5ad318b",
   "metadata": {
    "slideshow": {
     "slide_type": "subslide"
    }
   },
   "source": [
    "**II. Python第三方包的升级**"
   ]
  },
  {
   "cell_type": "markdown",
   "id": "a78e28cb-ba5e-456e-8c5c-621380bac3b9",
   "metadata": {},
   "source": [
    "pip install --upgrade numpy"
   ]
  },
  {
   "cell_type": "markdown",
   "id": "defeba9e-f61a-401f-8b45-db2addf1a229",
   "metadata": {},
   "source": [
    "**III. 卸载第三方包**"
   ]
  },
  {
   "cell_type": "markdown",
   "id": "a42bcff0-8254-4a0e-b2da-8a8d6e702f52",
   "metadata": {},
   "source": [
    "pip uninstall numpy"
   ]
  },
  {
   "cell_type": "markdown",
   "id": "b1272b95-c664-4891-9364-b3b3244598c2",
   "metadata": {
    "slideshow": {
     "slide_type": "subslide"
    }
   },
   "source": [
    "**IV. numpy包 和matplotlib包的调用**"
   ]
  },
  {
   "cell_type": "markdown",
   "id": "d563f9da-c451-43b8-9c80-c60c26cab879",
   "metadata": {},
   "source": [
    "**import 某包 as 通用简称  \n",
    "import 包名称 as 通用别名  \n",
    "from 包 import 函数名​​  \n",
    "例：  \n",
    "import numpy as np  \n",
    "import matplotlib.pyplot as plt**"
   ]
  },
  {
   "cell_type": "markdown",
   "id": "c93e90c7-87ef-4742-80ec-f8545e3bffa2",
   "metadata": {
    "slideshow": {
     "slide_type": "slide"
    }
   },
   "source": [
    "## **§5.1 numpy库的使用**"
   ]
  },
  {
   "cell_type": "markdown",
   "id": "0220d278",
   "metadata": {},
   "source": [
    "**NumPy的子模块**"
   ]
  },
  {
   "cell_type": "markdown",
   "id": "01eae10f-2534-41a6-b999-e204125d2f6b",
   "metadata": {},
   "source": [
    "<img style='float:left;' src='File&Figure\\Advanced\\5npstructure.png' width='45%'>"
   ]
  },
  {
   "cell_type": "markdown",
   "id": "dca12e7f",
   "metadata": {
    "slideshow": {
     "slide_type": "subslide"
    }
   },
   "source": [
    "**numpy.core是NumPy的核心，包含ndarray、 ufuncs和dtypes等，numpy.lib提供NumPy的函数。**"
   ]
  },
  {
   "cell_type": "markdown",
   "id": "6d0c3918",
   "metadata": {
    "slideshow": {
     "slide_type": "-"
    }
   },
   "source": [
    "**Ndarray的数据类型有：  \n",
    "bool,   \n",
    "int, int8, int16, int32, int64,   \n",
    "uint8, uint16, uint32, uint64,   \n",
    "float16, float32, float64或float,   \n",
    "complex64, complex128或complex**"
   ]
  },
  {
   "cell_type": "markdown",
   "id": "a41d0d0c-38c3-4258-ba44-ff325736b1da",
   "metadata": {
    "slideshow": {
     "slide_type": "slide"
    },
    "toc-hr-collapsed": true
   },
   "source": [
    "## **§5.2 numpy库的常见操作出** "
   ]
  },
  {
   "cell_type": "markdown",
   "id": "4feb2262-8988-4ccd-b30a-3466d101bc90",
   "metadata": {
    "slideshow": {
     "slide_type": "-"
    },
    "toc-hr-collapsed": true
   },
   "source": [
    "**§5.2.1.  数组操作  \n",
    "§5.2.2.  矩阵操作  \n",
    "§5.2.3.  Numpy的运算** "
   ]
  },
  {
   "cell_type": "markdown",
   "id": "9f97e8a7-7c2f-4704-9b6c-622e149c29ca",
   "metadata": {
    "slideshow": {
     "slide_type": "subslide"
    }
   },
   "source": [
    "### **§5.2.1.  数组操作**"
   ]
  },
  {
   "cell_type": "markdown",
   "id": "cdfa0eaa-66ac-4bde-a7c1-b4b6402509ba",
   "metadata": {},
   "source": [
    "**1. 数组的创建  \n",
    "2. 数组的属性  \n",
    "3. 数组索引与切片  \n",
    "4. 数组的变形  \n",
    "5. 数组的拼接与分裂  \n",
    "6. 数组元素操作  \n",
    "7. 排序与遍历**"
   ]
  },
  {
   "cell_type": "markdown",
   "id": "2789ecaf-321a-40eb-814a-9b474e90d3a7",
   "metadata": {
    "slideshow": {
     "slide_type": "subslide"
    }
   },
   "source": [
    "**1. 数组的创建**\n",
    "|函数|功能描述|\n",
    "|---|---|\n",
    "|np.array()|创建自由数组|\n",
    "|np.arange()|创建数字序列数组|\n",
    "|np.linspace()|创建等差数列|\n",
    "|np.logspace() |创建等比数列|\n",
    "|np.ones()、||\n",
    "|np.zeros()、| 创建全1,0,val的数组 |\n",
    "|np.full(val)||\n",
    "|np.ones_like(a)、||\n",
    "|np.zeros_like(a)、|创建数组类a的形状全1、全0、全val的数组|\n",
    "|np.full_like(a,val)||\n",
    "|np.eye()|创建单位矩阵|\n",
    "|np.empty() |创建空数组|\n",
    "|np.random.rand()|创建随机小数的eat()数t制\n",
    "|np.repeat() |复制创建|\n",
    "|np.frombuffer) |将缓冲区解释为一维数组|\n"
   ]
  },
  {
   "cell_type": "markdown",
   "id": "33da5838-4886-4c61-b05a-b161c65e7495",
   "metadata": {
    "slideshow": {
     "slide_type": "subslide"
    }
   },
   "source": [
    "**1. 数组的创建** "
   ]
  },
  {
   "cell_type": "code",
   "execution_count": null,
   "id": "5e48f79c-7bef-4c28-b080-1ad6ce81d0d9",
   "metadata": {
    "slideshow": {
     "slide_type": "-"
    },
    "tags": []
   },
   "outputs": [],
   "source": [
    "import numpy as np\n",
    "np.array([2, 3, 8, 34, 5, 6])"
   ]
  },
  {
   "cell_type": "code",
   "execution_count": null,
   "id": "82bea384-a70c-4e2a-8c02-02ef07386a36",
   "metadata": {},
   "outputs": [],
   "source": [
    "np.arange(10.0)\n",
    "np.linspace(1, 10, 4)"
   ]
  },
  {
   "cell_type": "code",
   "execution_count": null,
   "id": "80c9684d-a8a5-4cfc-af66-a444d7d2c2b8",
   "metadata": {
    "slideshow": {
     "slide_type": "subslide"
    }
   },
   "outputs": [],
   "source": [
    "np.ones(5)\n",
    "np.ones((2, 3))\n",
    "np.zeros((2, 3))\n",
    "np.full((3, 4), 5)"
   ]
  },
  {
   "cell_type": "code",
   "execution_count": null,
   "id": "39b51bf8-4170-4705-85fb-b0947634d94b",
   "metadata": {
    "slideshow": {
     "slide_type": "subslide"
    }
   },
   "outputs": [],
   "source": [
    "np.eye(3, dtype=int)\n",
    "np.eye(3, 5, dtype=int)"
   ]
  },
  {
   "cell_type": "code",
   "execution_count": null,
   "id": "51139da6-8a3d-4f37-90e2-12c3ea8a6a0e",
   "metadata": {},
   "outputs": [],
   "source": [
    "np.random.rand(3, 4)"
   ]
  },
  {
   "cell_type": "markdown",
   "id": "494de6a5-667f-406d-9e86-834ef8d3c6ab",
   "metadata": {
    "slideshow": {
     "slide_type": "subslide"
    }
   },
   "source": [
    "#### **2. 数组的属性**"
   ]
  },
  {
   "cell_type": "markdown",
   "id": "6755149e-b69e-4034-9df8-098e1f0cd975",
   "metadata": {},
   "source": [
    "|属性|说明|\n",
    "|---|---|\n",
    "|轴(axes)|Ndarray中的数组维度称为轴|\n",
    "|秩(rank)|秩是数组的维度，也是轴的数量，通过数组的ndim属性可以获得数组的维数。|\n",
    "|大小(size)|数组的大小指数组中的元素个数，相当于.shape中n*m的值|\n",
    "|形状(shape)|数组的形状|\n",
    "|类型(dtype)|数组中元素的类型|\n",
    "|元素大小(itemsize)|数组中的元素占用的字节数|\n",
    "|.ndim| ndarray对象的维度|\n",
    "|.flags|返回它们的当前值|"
   ]
  },
  {
   "cell_type": "markdown",
   "id": "d4be3b9c-60b5-4b9a-aa3b-86cd4d9aa675",
   "metadata": {
    "slideshow": {
     "slide_type": "subslide"
    },
    "tags": []
   },
   "source": [
    "**数组ab的定义**"
   ]
  },
  {
   "cell_type": "code",
   "execution_count": null,
   "id": "7d8f07ef",
   "metadata": {},
   "outputs": [],
   "source": [
    "a = np.array([1, 2, 3, 4])\n",
    "b = np.array((5, 6, 7, 8))\n",
    "print(a)\n",
    "print(b)"
   ]
  },
  {
   "cell_type": "markdown",
   "id": "62798ed0",
   "metadata": {
    "slideshow": {
     "slide_type": "subslide"
    }
   },
   "source": [
    "**数组c的定义**"
   ]
  },
  {
   "cell_type": "code",
   "execution_count": null,
   "id": "9358c1e7-62d8-4c01-8b5f-e3acf45166f5",
   "metadata": {
    "slideshow": {
     "slide_type": "-"
    },
    "tags": []
   },
   "outputs": [],
   "source": [
    "c = np.array(\n",
    "       [[1, 2, 3, 4],\n",
    "        [4, 5, 6, 7], \n",
    "        [7, 8, 9, 10]])\n",
    "#c"
   ]
  },
  {
   "cell_type": "markdown",
   "id": "4d9e696f-4a24-4597-be91-201c02c4a32f",
   "metadata": {},
   "source": [
    "<img style='float:left;' src='File&Figure\\Advanced\\5npattrib1.png' width='35%'>"
   ]
  },
  {
   "cell_type": "markdown",
   "id": "b1ae74f8",
   "metadata": {
    "slideshow": {
     "slide_type": "subslide"
    }
   },
   "source": [
    "**数组d的定义**"
   ]
  },
  {
   "cell_type": "code",
   "execution_count": null,
   "id": "b9ed1f75",
   "metadata": {},
   "outputs": [],
   "source": [
    "d = np.array(\n",
    " [[[1, 2, 3], [4, 5, 6]],\n",
    "  [[7, 8, 9], [10, 11, 12]],\n",
    "  [[13, 14, 15], [16, 17, 18]]])"
   ]
  },
  {
   "cell_type": "markdown",
   "id": "2494ae0a-7dc6-4139-b499-75de3b32dbd7",
   "metadata": {},
   "source": [
    "<img style='float:left;' src='File&Figure\\Advanced\\5npattrib2.png' width='45%'>"
   ]
  },
  {
   "cell_type": "markdown",
   "id": "894c3999",
   "metadata": {
    "slideshow": {
     "slide_type": "subslide"
    }
   },
   "source": [
    "**数组a,b,c,d的属性**"
   ]
  },
  {
   "cell_type": "code",
   "execution_count": null,
   "id": "f7730400-46aa-44ce-abf9-ac4165048d79",
   "metadata": {
    "slideshow": {
     "slide_type": "-"
    }
   },
   "outputs": [],
   "source": [
    "c\n",
    "print(\"'c'类型是：\", type(c)) \n",
    "print(\"'c'秩大小是：\", c.ndim)\n",
    "print(\"'c'数组形状：\", c.shape) \n",
    "print(\"'c'数组元素个数：\", c.size) \n",
    "print(\"'c'的组元素类型：\", c.dtype) \n",
    "print(\"'c'元素占用字节数：\", c.itemsize)"
   ]
  },
  {
   "cell_type": "markdown",
   "id": "2d8fa21a-2fda-4b98-ab3c-dcfa816b17c9",
   "metadata": {
    "slideshow": {
     "slide_type": "subslide"
    }
   },
   "source": [
    "#### **3. 数组索引与切片(数组元素的查询)**"
   ]
  },
  {
   "cell_type": "markdown",
   "id": "88a9eb15-410b-4e91-aecb-9363707fc93c",
   "metadata": {},
   "source": [
    "##### **①索引：获取数组中特定位置元素值的过程；**  \n",
    "##### **②切片：获取数组元素子集的过程**"
   ]
  },
  {
   "cell_type": "code",
   "execution_count": null,
   "id": "ead173ee-c840-4eb8-ba2a-0c616c29e052",
   "metadata": {
    "tags": []
   },
   "outputs": [],
   "source": [
    "import numpy as np\n",
    "array = np.array(\n",
    "      [[1, 2, 3, 4],\n",
    "       [4, 5, 6, 7], \n",
    "       [7, 8, 9, 10],\n",
    "       [2, 5, 7, 9]])\n",
    "array"
   ]
  },
  {
   "cell_type": "markdown",
   "id": "7a4f3e43-ca97-4a1c-b5a2-4416a15a0bab",
   "metadata": {
    "slideshow": {
     "slide_type": "subslide"
    }
   },
   "source": [
    "<img style='float:left;' src='File&Figure\\Advanced\\5npindex01.png' width='80%'>"
   ]
  },
  {
   "cell_type": "markdown",
   "id": "692bb932-2a3d-490e-ab00-c0aff8d4d4dd",
   "metadata": {
    "slideshow": {
     "slide_type": "subslide"
    }
   },
   "source": [
    "<img style='float:left;' src='File&Figure\\Advanced\\5npindex02.png' width='80%'>"
   ]
  },
  {
   "cell_type": "code",
   "execution_count": null,
   "id": "b035ccf1-b671-40c8-9fa9-d574e33508e5",
   "metadata": {
    "slideshow": {
     "slide_type": "subslide"
    },
    "tags": []
   },
   "outputs": [],
   "source": [
    "array\n",
    "array[2]\n",
    "array[1][1]\n",
    "array[1, 1]\n",
    "array[1][1] = 10\n",
    "array[1][1]\n",
    "array[-1][-1]\n",
    "array[1] = [10, 11, 12, 47]\n",
    "array[1]"
   ]
  },
  {
   "cell_type": "markdown",
   "id": "8c1a968a-e77c-4d3b-bcf6-5f746a6410e4",
   "metadata": {
    "slideshow": {
     "slide_type": "subslide"
    }
   },
   "source": [
    "## **动手试一试1：索引与切片**\n",
    "### **1.试写出下列数组索引的元素值**"
   ]
  },
  {
   "cell_type": "markdown",
   "id": "fd898895-6f25-47e2-acab-c350e0fe5611",
   "metadata": {
    "slideshow": {
     "slide_type": "subslide"
    }
   },
   "source": [
    "<img style='float:left;' src='File&Figure\\Advanced\\5npindex03.png' width='80%'>"
   ]
  },
  {
   "cell_type": "code",
   "execution_count": null,
   "id": "689c2a76-8908-4493-b29d-7676667f749b",
   "metadata": {},
   "outputs": [],
   "source": [
    "import numpy as np\n",
    "array = np.array(\n",
    "      [[1, 2, 3, 4],\n",
    "       [4, 5, 6, 7], \n",
    "       [7, 8, 9, 10],\n",
    "       [2, 5, 7, 9]])\n",
    "array"
   ]
  },
  {
   "cell_type": "code",
   "execution_count": null,
   "id": "13581525-5544-4bf9-9fa5-bae91a2c13bb",
   "metadata": {
    "slideshow": {
     "slide_type": "subslide"
    }
   },
   "outputs": [],
   "source": [
    "array\n",
    "array[:2, 1:]\n",
    "array[2:, :]\n",
    "array[:, :2]"
   ]
  },
  {
   "cell_type": "code",
   "execution_count": null,
   "id": "d9b84080-fd49-4bb4-be53-148a238f57b8",
   "metadata": {
    "slideshow": {
     "slide_type": "subslide"
    }
   },
   "outputs": [],
   "source": [
    "array\n",
    "array[1, :2]\n",
    "array[1:2, :2]\n",
    "array[::2, ::2]\n",
    "array[::-2, ::-2]"
   ]
  },
  {
   "cell_type": "markdown",
   "id": "0ff31ba5-c9e9-4ab7-a458-7a647800a1cb",
   "metadata": {
    "slideshow": {
     "slide_type": "subslide"
    }
   },
   "source": [
    "### **2.试写出下列3级维数组索引的元素值**"
   ]
  },
  {
   "cell_type": "markdown",
   "id": "8046fb43-012f-4329-b0fb-c8953807398d",
   "metadata": {
    "slideshow": {
     "slide_type": "subslide"
    }
   },
   "source": [
    "<img style='float:left;' src='File&Figure\\Advanced\\5npindex05.png' width='80%'>"
   ]
  },
  {
   "cell_type": "code",
   "execution_count": null,
   "id": "2734b9df-6ffe-4a3d-9b8d-1f90ae67dd80",
   "metadata": {
    "slideshow": {
     "slide_type": "-"
    },
    "tags": []
   },
   "outputs": [],
   "source": [
    "import numpy as np\n",
    "room = np.array(\n",
    "      [[[1, 2, 3, 4],\n",
    "       [4, 5, 6, 7], \n",
    "       [7, 8, 9, 10]],\n",
    "      [[11, 12, 13, 14],\n",
    "       [14, 15, 16, 17],\n",
    "       [17, 18, 19, 20]]])\n",
    "room"
   ]
  },
  {
   "cell_type": "code",
   "execution_count": null,
   "id": "449c554e",
   "metadata": {
    "slideshow": {
     "slide_type": "subslide"
    }
   },
   "outputs": [],
   "source": [
    "room\n",
    "room[0, 0, 0]\n",
    "room[:, 0, 0]\n",
    "room[0, :, :]\n",
    "room[0, 1, :]\n",
    "room[0, 0, 0:4:2]"
   ]
  },
  {
   "cell_type": "markdown",
   "id": "3c19587d-8a1e-45dd-b848-46fffcf5875a",
   "metadata": {
    "slideshow": {
     "slide_type": "subslide"
    }
   },
   "source": [
    "##### **③花式索引:使用ix_()函数，选出方形索引区域**"
   ]
  },
  {
   "cell_type": "markdown",
   "id": "d2287a4c-5d00-4131-b0aa-ae29bb3b1b13",
   "metadata": {},
   "source": [
    "<img style='float:left;' src='File&Figure\\Advanced\\5npindex6.png' width='90%'>"
   ]
  },
  {
   "cell_type": "markdown",
   "id": "b30302a3-1818-42a9-a085-596cce0a20ff",
   "metadata": {
    "slideshow": {
     "slide_type": "fragment"
    }
   },
   "source": [
    "<img style='float:left;' src='File&Figure\\Advanced\\5npindex7.png' width='90%'>"
   ]
  },
  {
   "cell_type": "code",
   "execution_count": null,
   "id": "61e6537e-b3aa-4fde-aacc-c6d3940a8b64",
   "metadata": {
    "tags": []
   },
   "outputs": [],
   "source": [
    "print(\"\\n数组'room([0],[0,2],[1,3])':\")\n",
    "print(room[np.ix_([0], [0, 2], [1, 3])])\n",
    "\n",
    "print(\"\\n数组'room([0],[0,1,2],[1,3])':\")\n",
    "print(room[np.ix_([0], [0, 1, 2], [1, 3])])\n",
    "\n",
    "print(\"\\n数组'room([0],[0, 2])': \")\n",
    "room[np.ix_([0], [0, 2])]"
   ]
  },
  {
   "cell_type": "markdown",
   "id": "7e4add07-3d48-4a96-b373-28adf1102db4",
   "metadata": {
    "slideshow": {
     "slide_type": "subslide"
    },
    "tags": []
   },
   "source": [
    "## **动手试一试2 花式索引**"
   ]
  },
  {
   "cell_type": "markdown",
   "id": "37030d22-fa8f-4d5a-ac97-71b8eee51ff1",
   "metadata": {
    "slideshow": {
     "slide_type": "subslide"
    },
    "tags": []
   },
   "source": [
    "**(1).生成一个15之内的随机数的(4,4)维数组(使用随机种子)；  \n",
    "(2).生成(1)数组的0行和2行元素的数组；  \n",
    "(3).生成(1)数组的0行和2行、1列和3列元素组成的数组；**"
   ]
  },
  {
   "cell_type": "code",
   "execution_count": null,
   "id": "3c29820c-21ef-41a3-8b8f-701a6d39ab5e",
   "metadata": {
    "slideshow": {
     "slide_type": "-"
    },
    "tags": []
   },
   "outputs": [],
   "source": [
    "import numpy as np\n",
    "np.random.seed(51)\n",
    "n1 = np.random.randint(15, size=(4, 4))\n",
    "print(\"数组'n1': \\n\", n1)\n",
    "print(\"\\n数组'n1([0, 2])': \")\n",
    "print(n1[np.ix_([0, 2])])\n",
    "print(\"\\n数组'n1([0, 2], [1, 3])': \")\n",
    "n1[np.ix_([0, 2], [1, 3])]"
   ]
  },
  {
   "cell_type": "markdown",
   "id": "9dba63d8-5a01-433b-bcc6-60fd54f45649",
   "metadata": {
    "slideshow": {
     "slide_type": "subslide"
    },
    "toc-hr-collapsed": true
   },
   "source": [
    "#### **4. 数组的变形** "
   ]
  },
  {
   "cell_type": "markdown",
   "id": "c78acdc2-e6eb-45cc-8852-fa32cd13b977",
   "metadata": {},
   "source": [
    "| 方   法|          说   明|\n",
    "|---|---|\n",
    "|np.reshape(shape)|不改变数组元素，返回一个shape形状的数组，原数组不变|\n",
    "|np.resize(shape)|与.reshape()功能一样，但修改原数组|\n",
    "|np.flatten()|对数组进行降维，返回折叠后的一维数组，原数组不变，深拷贝|\n",
    "|np.swapaxes(ax1, ax2)|将数组n个维度中两个维度进行调换|\n",
    "|np.ravel()|对数组进行降维，返回折叠后的一维数组，原数组改\n",
    "|np. transpose()|转置函数|变，浅拷贝|"
   ]
  },
  {
   "cell_type": "markdown",
   "id": "4a4e057a-31a6-4c1a-a0b8-70a28a04e1ae",
   "metadata": {
    "slideshow": {
     "slide_type": "subslide"
    }
   },
   "source": [
    "##### **I.变形**"
   ]
  },
  {
   "cell_type": "code",
   "execution_count": null,
   "id": "75ba2b02-9d15-4ba1-9edc-fed1b9560682",
   "metadata": {
    "tags": []
   },
   "outputs": [],
   "source": [
    "Array1 = np.array([1, 2, 3, 4, 4, 5, 6, 7, 7, 8, 9, 10])\n",
    "print(\"'Array1:' \", Array1)\n",
    "print(\"'Array1.reshape(4,3):'\\n \", Array1.reshape(4, 3))#不修改原数组\n",
    "Array2 = Array1.resize(3, 4) #修改原数组\n",
    "print(\"'Array1.resize(3,4):'\\n \", Array1)\n",
    "print(\"\\n .flatten():\\n\", Array1.flatten())"
   ]
  },
  {
   "cell_type": "markdown",
   "id": "2401dd2a-05d2-414f-bd86-b06826c71f46",
   "metadata": {
    "slideshow": {
     "slide_type": "subslide"
    }
   },
   "source": [
    "##### **II.转置**"
   ]
  },
  {
   "cell_type": "code",
   "execution_count": null,
   "id": "da3fa652-7476-475d-a7e3-1c363801fcf7",
   "metadata": {
    "tags": []
   },
   "outputs": [],
   "source": [
    "Array1 = np.array([1, 2, 3, 4, 4, 5, 6, 7, 7, 8, 9, 10])\n",
    "Array2 = Array1.reshape(2, 2, 3)\n",
    "print(\"'Array2:'\\n \", Array2)\n",
    "print(\"'Array2.T:'\\n \", Array2.T)"
   ]
  },
  {
   "cell_type": "code",
   "execution_count": null,
   "id": "17dbb402",
   "metadata": {
    "slideshow": {
     "slide_type": "subslide"
    }
   },
   "outputs": [],
   "source": [
    "Array2 # （2，2，3）\n",
    "print(\"'Array2.transpose(1,2,0)):'\\n \", Array2.transpose(1, 2, 0))\n",
    "#print(\"'Array2.transpose(1,0,2)):'\\n \", Array2.transpose(1, 0, 2))\n",
    "print(\"'Array2.transpose(2,0,1)):'\\n \", Array2.transpose(2, 0, 1))"
   ]
  },
  {
   "cell_type": "markdown",
   "id": "5c035c2e",
   "metadata": {
    "slideshow": {
     "slide_type": "subslide"
    }
   },
   "source": [
    "<img style='float:left;' src='File&Figure\\Advanced\\5nparray01.png' width='70%'>"
   ]
  },
  {
   "cell_type": "markdown",
   "id": "4a105634-8a56-4ae4-b31a-c61cad53b601",
   "metadata": {
    "slideshow": {
     "slide_type": "subslide"
    },
    "toc-hr-collapsed": true
   },
   "source": [
    "#### **5.数组的拼接与分裂** "
   ]
  },
  {
   "cell_type": "markdown",
   "id": "c4c55c7f-729d-4079-a61f-c0da8dbd7335",
   "metadata": {
    "slideshow": {
     "slide_type": "-"
    }
   },
   "source": [
    "||方   法|说   明|\n",
    "|---|---|---|\n",
    "|类型变换|. astype()|一定会创建新的数组|\n",
    "|转换成列表|. tolist()|转换成数组|\n",
    "|数组的拼接|. vstack()|垂直堆叠，列数必须相等，axis=0|\n",
    "||. hstack()|水平堆叠，列数必须相等, axis=1|\n",
    "||. concatenate([], axis)|根据axis值进行垂直或水平堆叠|\n",
    "||np.c_[a,b]|将a, b看成单位，放置于不同的列。（水平合并)|\n",
    "||np.r_[a,b]|将a, b看成单位，放置于不同的行。（垂直合并）|\n",
    "|数组的分割|. vsplit()|分成多个垂直子数组|\n",
    "||. hsplit()|水平方向分成多个水平子数组|\n",
    "||split/array_split|根据axis值进行垂直或水平分割|"
   ]
  },
  {
   "cell_type": "code",
   "execution_count": null,
   "id": "20b500c9-9fb6-43d6-8f65-f2e4ca172b73",
   "metadata": {
    "slideshow": {
     "slide_type": "subslide"
    },
    "tags": []
   },
   "outputs": [],
   "source": [
    "import numpy as np\n",
    "np.random.seed(10)\n",
    "n1 = np.random.randint(10, size=(4, 6))\n",
    "n2 = np.random.randint(10, size=(4, 6))\n",
    "display(n1, n2)"
   ]
  },
  {
   "cell_type": "markdown",
   "id": "69667eef-8da0-4135-b974-58dfa2b0dc9b",
   "metadata": {
    "slideshow": {
     "slide_type": "subslide"
    }
   },
   "source": [
    "##### **I.行操作**"
   ]
  },
  {
   "cell_type": "code",
   "execution_count": null,
   "id": "c0c6a8e3-2330-41de-bd5f-510fc16ba167",
   "metadata": {
    "slideshow": {
     "slide_type": "-"
    },
    "tags": []
   },
   "outputs": [],
   "source": [
    "n1\n",
    "n2\n",
    "### (1).行合并\n",
    "np.concatenate([n1, n2], axis=0)"
   ]
  },
  {
   "cell_type": "code",
   "execution_count": null,
   "id": "d4f93a9b-ef7b-4948-825b-49e85ecc4743",
   "metadata": {
    "slideshow": {
     "slide_type": "subslide"
    },
    "tags": []
   },
   "outputs": [],
   "source": [
    "### (2). 行分割, [1, 3]用列表代表分割的索引\n",
    "n1\n",
    "np.array_split(n1, [1, 3], axis=0)"
   ]
  },
  {
   "cell_type": "code",
   "execution_count": null,
   "id": "8d726611-fd01-40a5-997f-9ed7c461c3bb",
   "metadata": {
    "slideshow": {
     "slide_type": "subslide"
    },
    "tags": []
   },
   "outputs": [],
   "source": [
    "### (3). vsplit：分割成多个垂直子数组\n",
    "### vsplit(ndarray, x), x指定：均匀分成几部分，不可均分则报错\n",
    "### vsplit(ndarray, [x, y]), 用列表代表分割的索引\n",
    "n1\n",
    "np.vsplit(n1, 2)\n",
    "np.vsplit(n1, [1, 3])"
   ]
  },
  {
   "cell_type": "markdown",
   "id": "8f10c2c8-a0ec-41a6-83b0-31096fbbe087",
   "metadata": {
    "slideshow": {
     "slide_type": "subslide"
    }
   },
   "source": [
    "##### **II.列操作**"
   ]
  },
  {
   "cell_type": "code",
   "execution_count": null,
   "id": "00d2e979-5e8f-41a3-abd6-b598279d683a",
   "metadata": {
    "tags": []
   },
   "outputs": [],
   "source": [
    "### (4). 列合并\n",
    "np.concatenate([n1, n2], axis=1)"
   ]
  },
  {
   "cell_type": "code",
   "execution_count": null,
   "id": "aaf8379c-08b7-4979-ad00-3269435c0006",
   "metadata": {
    "slideshow": {
     "slide_type": "subslide"
    },
    "tags": []
   },
   "outputs": [],
   "source": [
    "### (5). 列分割, [1, 3]用列表代表分割的索引\n",
    "n1\n",
    "np.array_split(n1, [1, 3], axis=1)"
   ]
  },
  {
   "cell_type": "code",
   "execution_count": null,
   "id": "29724923-9c31-4818-a691-2ad83577033c",
   "metadata": {
    "slideshow": {
     "slide_type": "subslide"
    },
    "tags": []
   },
   "outputs": [],
   "source": [
    "### (6). 列均匀分割 hsplit(ndarray, x), 不可均分则报错\n",
    "n1  \n",
    "np.hsplit(n1, 2)\n",
    "np.hsplit(n1, [1, 3])"
   ]
  },
  {
   "cell_type": "markdown",
   "id": "b67e5d07-769c-4ff6-a515-bdf285ef3379",
   "metadata": {
    "slideshow": {
     "slide_type": "subslide"
    },
    "toc-hr-collapsed": true
   },
   "source": [
    "#### **6. 数组元素操作** "
   ]
  },
  {
   "cell_type": "markdown",
   "id": "81c329bc-b34d-4001-b6b0-795138b720b8",
   "metadata": {},
   "source": [
    "##### **I. 增加元素： 末尾添加np.append()，任意位置添加np.insert()**"
   ]
  },
  {
   "cell_type": "code",
   "execution_count": null,
   "id": "fa4101d2-b9b6-40b7-a8b2-69b8c1fcce6c",
   "metadata": {
    "tags": []
   },
   "outputs": [],
   "source": [
    "import numpy as np\n",
    "# 创建数组a, b\n",
    "a = np.arange(1, 7).reshape(2, 3)\n",
    "b = np.arange(7, 10).reshape(1, 3) # a,b维度相同才能追加  \n",
    "# 将数组b追加到数组a后\n",
    "c = np.append(a, b) # 不指定axis时\n",
    "a\n",
    "b\n",
    "c"
   ]
  },
  {
   "cell_type": "code",
   "execution_count": null,
   "id": "a504f21d",
   "metadata": {
    "slideshow": {
     "slide_type": "subslide"
    },
    "tags": []
   },
   "outputs": [],
   "source": [
    "d = np.append(a, b, axis=0) #增加行\n",
    "a\n",
    "b\n",
    "d"
   ]
  },
  {
   "cell_type": "markdown",
   "id": "d93a1367-52c5-4673-b52e-1cc057730c76",
   "metadata": {
    "slideshow": {
     "slide_type": "subslide"
    }
   },
   "source": [
    "**增加元素： np.insert()**"
   ]
  },
  {
   "cell_type": "code",
   "execution_count": null,
   "id": "b7f11420-bb02-41a3-b339-def30999e785",
   "metadata": {},
   "outputs": [],
   "source": [
    "g = np.ones(shape=(2, 1))\n",
    "e = np.insert(a, 1, g, axis=0)\n",
    "f = np.insert(a, 2, g, axis=1)\n",
    "g\n",
    "e\n",
    "f"
   ]
  },
  {
   "cell_type": "markdown",
   "id": "9090e764-d6e3-4e23-8bef-fb171e8f56bf",
   "metadata": {
    "slideshow": {
     "slide_type": "subslide"
    }
   },
   "source": [
    "##### **II. 删除元素： np.delete(arr, columnnumber)**"
   ]
  },
  {
   "cell_type": "code",
   "execution_count": null,
   "id": "45b80b39-50c9-4db5-9dd9-1a3906a45a13",
   "metadata": {},
   "outputs": [],
   "source": [
    "a = np.arange(1, 7).reshape(2, 3)\n",
    "a\n",
    "np.delete(a, 2, axis=1)"
   ]
  },
  {
   "cell_type": "markdown",
   "id": "64ad954c-5025-4cba-837d-a9090ecfcbdb",
   "metadata": {
    "slideshow": {
     "slide_type": "subslide"
    }
   },
   "source": [
    "##### **III. 修改元素：直接修改； np.put()函数**"
   ]
  },
  {
   "cell_type": "code",
   "execution_count": null,
   "id": "a6628fb6-7c8b-4962-9b18-1b2cbcc0c34f",
   "metadata": {},
   "outputs": [],
   "source": [
    "a = np.arange(1, 7).reshape(2, 3)\n",
    "a\n",
    "a[0, 1] = 100\n",
    "a"
   ]
  },
  {
   "cell_type": "code",
   "execution_count": null,
   "id": "1e0286ac-0fb5-46c7-824f-2219e0dd4ac3",
   "metadata": {},
   "outputs": [],
   "source": [
    "arr = np.array([1, 2, 3, 4, 5])\n",
    "np.put(arr, [1, 3], [10, 20])\n",
    "print(arr)  \n"
   ]
  },
  {
   "cell_type": "markdown",
   "id": "5fae6f56-52cd-4fed-ad30-faa26bbe8055",
   "metadata": {
    "slideshow": {
     "slide_type": "subslide"
    },
    "toc-hr-collapsed": true
   },
   "source": [
    "#### **7. 排序与遍历** "
   ]
  },
  {
   "cell_type": "markdown",
   "id": "b395f500-ff02-4bb8-9eb5-2558bbd44abc",
   "metadata": {},
   "source": [
    "|函数|描述|\n",
    "|---|---|\n",
    "|np.sort()：|返回排序后数组的拷贝,临时排序|\n",
    "|array.sort()：|原地排序数组而不是返回拷贝,永久排序|\n",
    "|np.argsort()：|间接排序，返回的是排序后的数字索引,临时排序|\n",
    "|sorted(array)|返回的是排序后的数字索引,临时排序|"
   ]
  },
  {
   "cell_type": "code",
   "execution_count": null,
   "id": "7432a411-0157-4336-ac79-ce84ce9b7f80",
   "metadata": {
    "tags": []
   },
   "outputs": [],
   "source": [
    "import numpy as np\n",
    "arr = np.array([3, 2, 4, 5, 9, 7, 1, 8, 6])\n",
    "arr\n",
    "arr2 = arr.copy()\n",
    "arr2"
   ]
  },
  {
   "cell_type": "markdown",
   "id": "4f40a49c-f7ed-4318-967b-4649e0f36ed8",
   "metadata": {
    "slideshow": {
     "slide_type": "subslide"
    }
   },
   "source": [
    "##### **I. np.sort()(临时排序)**"
   ]
  },
  {
   "cell_type": "code",
   "execution_count": null,
   "id": "32ea42a1-2a8c-446f-a32e-d6f5dbf2e388",
   "metadata": {
    "tags": []
   },
   "outputs": [],
   "source": [
    "arr\n",
    "np.sort(arr)\n",
    "arr"
   ]
  },
  {
   "cell_type": "markdown",
   "id": "1f495282-9365-4925-b2b8-8eb4efdae9e8",
   "metadata": {},
   "source": [
    "##### **II. array.sort()(永久排序)**"
   ]
  },
  {
   "cell_type": "code",
   "execution_count": null,
   "id": "f8cb6d93-ddd7-4605-8d4f-f9326775bb98",
   "metadata": {
    "tags": []
   },
   "outputs": [],
   "source": [
    "arr2\n",
    "arr2.sort()\n",
    "arr2"
   ]
  },
  {
   "cell_type": "markdown",
   "id": "6730c0b5-6465-4824-8edd-c21304cc328c",
   "metadata": {
    "slideshow": {
     "slide_type": "subslide"
    }
   },
   "source": [
    "##### **III. numpy.argsort()--索引排序(临时排序)**"
   ]
  },
  {
   "cell_type": "code",
   "execution_count": null,
   "id": "f7740881-0611-42b5-94a1-5a3adc6e725b",
   "metadata": {
    "tags": []
   },
   "outputs": [],
   "source": [
    "arr\n",
    "np.argsort(arr) ##索引排序\n",
    "arr"
   ]
  },
  {
   "cell_type": "markdown",
   "id": "299e58f8-6784-4713-a967-e701becb4066",
   "metadata": {
    "slideshow": {
     "slide_type": "subslide"
    },
    "toc-hr-collapsed": true
   },
   "source": [
    "#### **8. 遍历** "
   ]
  },
  {
   "cell_type": "markdown",
   "id": "1fa4e627-6657-4ee8-8fc8-f9d9f6e4b28c",
   "metadata": {
    "slideshow": {
     "slide_type": "-"
    }
   },
   "source": [
    "**内置for循环  \n",
    "flat迭代器  \n",
    "nditer迭代器**"
   ]
  },
  {
   "cell_type": "markdown",
   "id": "7c524e4e-ad3b-4a77-8082-89d70b6bcd10",
   "metadata": {
    "slideshow": {
     "slide_type": "subslide"
    }
   },
   "source": [
    "##### **I. 遍历--内置for循环**"
   ]
  },
  {
   "cell_type": "code",
   "execution_count": null,
   "id": "8df020c3-263b-4623-b1b7-22c20f7ab338",
   "metadata": {
    "tags": []
   },
   "outputs": [],
   "source": [
    "import numpy as np\n",
    "arr = np.arange(12).reshape(3,4)\n",
    "arr"
   ]
  },
  {
   "cell_type": "code",
   "execution_count": null,
   "id": "87b8c300-4716-4dbd-a7e7-69c919d4eee5",
   "metadata": {},
   "outputs": [],
   "source": [
    "for i in arr:\n",
    "    print(i)"
   ]
  },
  {
   "cell_type": "markdown",
   "id": "7a389aa8-6a8a-4874-823f-a525a771436f",
   "metadata": {
    "slideshow": {
     "slide_type": "subslide"
    }
   },
   "source": [
    "##### **II. 遍历--flat迭代器**"
   ]
  },
  {
   "cell_type": "code",
   "execution_count": null,
   "id": "99c66466-0c4c-4548-8ea5-1ddc400d417b",
   "metadata": {},
   "outputs": [],
   "source": [
    "for i in arr.flat:\n",
    "    print(i)"
   ]
  },
  {
   "cell_type": "markdown",
   "id": "86b6f310-f893-4c73-9f95-80c26395950a",
   "metadata": {
    "slideshow": {
     "slide_type": "subslide"
    }
   },
   "source": [
    "##### **III. 遍历--nditer迭代器(order=\"C\", or order=\"F\")**"
   ]
  },
  {
   "cell_type": "code",
   "execution_count": null,
   "id": "a2065970-951b-44d4-bacd-6cbe55222a01",
   "metadata": {},
   "outputs": [],
   "source": [
    "arr\n",
    "for i in np.nditer(arr, order=\"C\"):  # C语言的风格，优先处理行\n",
    "    print(i)"
   ]
  },
  {
   "cell_type": "code",
   "execution_count": null,
   "id": "c1bfa414",
   "metadata": {
    "slideshow": {
     "slide_type": "subslide"
    }
   },
   "outputs": [],
   "source": [
    "arr\n",
    "for i in np.nditer(arr, order=\"F\"):  # F表示Fortran语言的风格，优先处理列\n",
    "    print(i)"
   ]
  },
  {
   "cell_type": "markdown",
   "id": "dabcfc49-6c3c-49c6-9357-4ffe868f0ae3",
   "metadata": {
    "slideshow": {
     "slide_type": "subslide"
    }
   },
   "source": [
    "##### **IV. nditer在遍历的同时修改原始数组中的元素，根据op_flags参数**"
   ]
  },
  {
   "cell_type": "code",
   "execution_count": null,
   "id": "fcd1f193-d98d-4f72-95d3-412b4507461b",
   "metadata": {
    "tags": []
   },
   "outputs": [],
   "source": [
    "arr\n",
    "for i in np.nditer(arr, op_flags=['readwrite']):\n",
    "    i *= 2\n",
    "arr"
   ]
  },
  {
   "cell_type": "code",
   "execution_count": null,
   "id": "e3ada214-f24f-481d-991d-0d632247e426",
   "metadata": {
    "slideshow": {
     "slide_type": "subslide"
    },
    "tags": []
   },
   "outputs": [],
   "source": [
    "arr\n",
    "for i in np.nditer(arr, op_flags=['writeonly']):\n",
    "    i *= 2\n",
    "arr"
   ]
  },
  {
   "cell_type": "markdown",
   "id": "b1a1b896-6826-422b-9ba0-b387dedd5d75",
   "metadata": {
    "slideshow": {
     "slide_type": "subslide"
    }
   },
   "source": [
    "##### **V. nditer可以广播遍历，通过内置的广播机制，可以实现两个数组的组合**"
   ]
  },
  {
   "cell_type": "code",
   "execution_count": null,
   "id": "7193f9f7-85cb-4401-9682-d22043004e4c",
   "metadata": {
    "tags": []
   },
   "outputs": [],
   "source": [
    "arr\n",
    "barr = np.arange(4)\n",
    "barr\n",
    "for x, y in np.nditer([arr, barr]):\n",
    "    print(x, y)"
   ]
  },
  {
   "cell_type": "code",
   "execution_count": null,
   "id": "9c8e1fd2-f223-4f4b-a53f-e4f43a1acbb2",
   "metadata": {
    "slideshow": {
     "slide_type": "subslide"
    },
    "tags": []
   },
   "outputs": [],
   "source": [
    "#arr = np.arange(12).reshape(3, 4)\n",
    "arr\n",
    "barr = np.arange(3).reshape(-1, 1)\n",
    "barr\n",
    "for x, y in np.nditer([arr, barr]):\n",
    "    print(x, y)"
   ]
  },
  {
   "cell_type": "markdown",
   "id": "e6c7c860-ae91-41dd-96a9-57391b32bd96",
   "metadata": {
    "slideshow": {
     "slide_type": "subslide"
    }
   },
   "source": [
    "## **动手试一试3 数组元素操作**"
   ]
  },
  {
   "cell_type": "markdown",
   "id": "22b364ca-a55e-4a4a-bd4f-8406d1b7b7af",
   "metadata": {},
   "source": [
    "**已知数组 x = np.array([1, 2, 5, 6, 7])，Y = np.array([[1,2,3],[7,8,9]])，  \n",
    "对数组x,Y进行如下操作：  \n",
    "(1). 将值8添加到数组x的后面；  \n",
    "(2). 将整数3和4插入到数组x的2与5 之间；  \n",
    "(3). 删除数组x的0，4索引的元素；  \n",
    "(4). 将[10，11，12]作为新行添加到数组Y下面；  \n",
    "(5). 将9，10作为新列添加到数组Y后面；  \n",
    "(6). 将数组[4,5,6]插入到数组Y的0，1两行之间；  \n",
    "(7). 将5作为新列插入到数组Y的0，1列之间；  \n",
    "(8). 删除数组Y的第0行元素；  \n",
    "(9). 删除数组Y的第0，3列元素。**"
   ]
  },
  {
   "cell_type": "markdown",
   "id": "9db0f19c-060a-41c0-86c0-7774a12ee365",
   "metadata": {
    "slideshow": {
     "slide_type": "subslide"
    }
   },
   "source": [
    "### **§5.2.2.  矩阵操作**"
   ]
  },
  {
   "cell_type": "markdown",
   "id": "d146ab67-7f77-4a2f-b26a-5c283e9530d0",
   "metadata": {
    "slideshow": {
     "slide_type": "-"
    }
   },
   "source": [
    "**1. 矩阵逐元相乘：是两个矩阵中对应元素乘积。  \n",
    "2. 矩阵点积。**"
   ]
  },
  {
   "cell_type": "markdown",
   "id": "064cd64c-ee29-420c-b8b9-81a3b33ad8dc",
   "metadata": {
    "slideshow": {
     "slide_type": "-"
    }
   },
   "source": [
    "#### **1. 各矩阵**"
   ]
  },
  {
   "cell_type": "code",
   "execution_count": null,
   "id": "9ed99d61-3b8e-438c-8732-e12489c6ce5a",
   "metadata": {},
   "outputs": [],
   "source": [
    "import numpy as np\n",
    "A1 = np.array([[1, 2, 3],[4, 4, 5]])\n",
    "A2 = np.array([[6, 7, 7],[8, 9, 10]])\n",
    "print(\"'Ndarray A1: '\\n\", A1)\n",
    "print(\"'Ndarray A2: '\\n\", A2)"
   ]
  },
  {
   "cell_type": "markdown",
   "id": "b017e510-5e32-4c45-992c-4a6fdeb4c341",
   "metadata": {
    "slideshow": {
     "slide_type": "subslide"
    }
   },
   "source": [
    "#### **2. 矩阵逐元相乘**"
   ]
  },
  {
   "cell_type": "markdown",
   "id": "e353af0b-4757-4ef9-9172-46206090eb08",
   "metadata": {},
   "source": [
    "<img style=\"float:left;\" src=\"File&Figure\\Advanced\\5npmatrixmultiply.png\" width=\"65%\">"
   ]
  },
  {
   "cell_type": "code",
   "execution_count": null,
   "id": "b4b9828a-0c0f-4dc9-9091-1b9e4c7f4fdc",
   "metadata": {},
   "outputs": [],
   "source": [
    "import numpy as np\n",
    "print(\"'np.multiply(A1,A2):' \\n\", np.multiply(A1, A2))"
   ]
  },
  {
   "cell_type": "markdown",
   "id": "67582f66-ff60-406d-b258-556827fd763a",
   "metadata": {
    "slideshow": {
     "slide_type": "subslide"
    }
   },
   "source": [
    "#### **3. 矩阵点乘**"
   ]
  },
  {
   "cell_type": "markdown",
   "id": "cf8f2381-236d-4a57-92ea-449c9347ceea",
   "metadata": {},
   "source": [
    "<img style=\"float:left;\" src=\"File&Figure\\Advanced\\5npmatrixdot.png\" width=\"45%\">"
   ]
  },
  {
   "cell_type": "code",
   "execution_count": null,
   "id": "0299bea4-bea0-4e73-b2f6-da0f8f591a18",
   "metadata": {},
   "outputs": [],
   "source": [
    "import numpy as np\n",
    "print(\"'np.dot(A1,A2):' \\n\", np.dot(A1,A2.T))"
   ]
  },
  {
   "cell_type": "markdown",
   "id": "1f7382f5-6d21-4a97-b910-a530f2966a1e",
   "metadata": {
    "slideshow": {
     "slide_type": "subslide"
    }
   },
   "source": [
    "### **§5.2.3.  Numpy的运算**"
   ]
  },
  {
   "cell_type": "markdown",
   "id": "ac2fa49c-aaa5-48bc-b190-a3d2e371eb8d",
   "metadata": {
    "slideshow": {
     "slide_type": "-"
    }
   },
   "source": [
    "**1. 常用的统计运算  \n",
    "2. 数组之间的代数与逻辑运算  \n",
    "3. 数组与单个数值的运算  \n",
    "4. 二维数组与单行/列的运算  \n",
    "5. 绝对值、三角函数、指数、对数运算  \n",
    "6. 比较运算和掩码**"
   ]
  },
  {
   "cell_type": "markdown",
   "id": "113e9075-fbf1-41c3-86c7-8e98e268ad5f",
   "metadata": {
    "slideshow": {
     "slide_type": "subslide"
    }
   },
   "source": [
    "**1. 常用的统计运算**"
   ]
  },
  {
   "cell_type": "markdown",
   "id": "e59bc119-6c94-4a38-8561-e9ba5731e6d6",
   "metadata": {},
   "source": [
    "|函数|描述|\n",
    "|---|---|\n",
    "|np.sum()|按指定轴返回数组元素的和|\n",
    "|np.mean()|按指定轴返回数组元素的均值|\n",
    "|np.median()|按指定轴返回数组元素的中值|\n",
    "|np.max()|按指定轴返回数组元素的最大值|\n",
    "|np.min()|按指定轴返回数组元素的最小值|\n",
    "|np.std()|按指定轴返回数组元素的标准差(方差的算术平方根)|\n",
    "|np.ptp()|用于计算数组元素中最值之差值，也就是(最大值 - 最小值)|\n",
    "|np.prod()|计算所有元素的乘积|\n",
    "|np.diff()|计算数组相邻元素之间的差|\n",
    "|np.var()|方差|\n",
    "|np.argmin()|按指定轴返回数组中最小元素的对应索引构成的数组|\n",
    "|np.sqrt()|计算各元素的平方根|\n",
    "|np.argmax()|按指定轴返回数组中最大元素的对应索引构成的数组|\n",
    "|np.cumsum()|按指定轴返回数组元素的累积的和|\n",
    "|np.cumprod()|按指定轴返回数组元素的累积的积|"
   ]
  },
  {
   "cell_type": "markdown",
   "id": "ad9a3898",
   "metadata": {
    "slideshow": {
     "slide_type": "subslide"
    }
   },
   "source": [
    "#### **1. 常用的统计运算**"
   ]
  },
  {
   "cell_type": "code",
   "execution_count": null,
   "id": "a32ad4b5",
   "metadata": {
    "slideshow": {
     "slide_type": "-"
    }
   },
   "outputs": [],
   "source": [
    "# 常用的统计运算\n",
    "A6 = np.arange(12).reshape(4, 3)\n",
    "print(\"'Ndarray A6:'\\n\", A6)\n",
    "print(\"'A6.sum():'\", A6.sum())\n",
    "print(\"'A6.sum(axis=0):'\", A6.sum(axis=0))\n",
    "print(\"'A6.sum(axis=1):'\", A6.sum(axis=1))\n",
    "print(\"'A6.max(axis=0):'\", A6.max(axis=0))\n",
    "print(\"'A6.max(axis=1):'\", A6.max(axis=1))"
   ]
  },
  {
   "cell_type": "markdown",
   "id": "f026a0ce-7205-4f6b-b65a-b0b64cbee821",
   "metadata": {
    "slideshow": {
     "slide_type": "subslide"
    }
   },
   "source": [
    "#### **2. 数组之间的代数与逻辑运算  --同维度**"
   ]
  },
  {
   "cell_type": "code",
   "execution_count": null,
   "id": "3cf96c8b-2847-4e01-b209-c27de6df7e49",
   "metadata": {},
   "outputs": [],
   "source": [
    "Array1 = np.ones((2, 3))\n",
    "Array2 = np.ones((2, 3)) + np.random.rand(2, 3).round(2)\n",
    "print('Array1:\\n', Array1)\n",
    "print('Array2：\\n', Array2)\n",
    "print('Array1 + Array2：\\n', Array1+Array2)\n",
    "print('Array1 * Array2：\\n', Array1*Array2)"
   ]
  },
  {
   "cell_type": "code",
   "execution_count": null,
   "id": "13e803f0",
   "metadata": {
    "slideshow": {
     "slide_type": "subslide"
    }
   },
   "outputs": [],
   "source": [
    "## 2. 数组之间的代数与逻辑运算\n",
    "print('Array1:\\n', Array1)\n",
    "print('Array2：\\n', Array2)\n",
    "print('Array1 + Array2 > 2.5：\\n', Array1+Array2 > 2.5)\n",
    "print('Array1+0.5 > Array2：\\n', Array1 > Array2)"
   ]
  },
  {
   "cell_type": "markdown",
   "id": "8f5c5b7e-3593-4b50-97f1-020f761fded5",
   "metadata": {
    "slideshow": {
     "slide_type": "subslide"
    }
   },
   "source": [
    "#### **3. 数组与单个数值的运算**"
   ]
  },
  {
   "cell_type": "code",
   "execution_count": null,
   "id": "db93d516-28d9-4abf-8a92-e08113827ad9",
   "metadata": {},
   "outputs": [],
   "source": [
    "Array1 = np.ones((2, 3))\n",
    "print('Array1:\\n', Array1)\n",
    "print('Array1 + 1：\\n', Array1+1)\n",
    "print('Array1 * 5：\\n', Array1*5)\n",
    "print('Array1 - 2：\\n', Array1-2)\n",
    "print('Array1/5：\\n', Array1/5)"
   ]
  },
  {
   "cell_type": "markdown",
   "id": "49324ff2-0cd2-4681-84c1-c63e302003b9",
   "metadata": {
    "slideshow": {
     "slide_type": "subslide"
    }
   },
   "source": [
    "#### **4. 二维数组与单行/列的运算**"
   ]
  },
  {
   "cell_type": "code",
   "execution_count": null,
   "id": "9ae8abe8",
   "metadata": {
    "tags": []
   },
   "outputs": [],
   "source": [
    "Array1 = np.ones((3, 4))\n",
    "Array2 = np.array([1, 2, 3, 4])\n",
    "print('Array1:\\n', Array1)\n",
    "print('Array2：\\n', Array2)\n",
    "print('Array1 + Array2：\\n', Array1+Array2)"
   ]
  },
  {
   "cell_type": "code",
   "execution_count": null,
   "id": "7c770f61",
   "metadata": {
    "slideshow": {
     "slide_type": "subslide"
    },
    "tags": []
   },
   "outputs": [],
   "source": [
    "## 4. 二维数组与单行/列的运算\n",
    "Array3 = np.array([[1], [2], [3]])\n",
    "print('Array1:\\n', Array1)\n",
    "print('Array2：\\n', Array2)\n",
    "print('Array3：\\n', Array3)\n",
    "print('Array1 + Array3：\\n', Array1+Array3)\n",
    "print('Array2 + Array3：\\n', Array2+Array3)"
   ]
  },
  {
   "cell_type": "markdown",
   "id": "5e48b749",
   "metadata": {
    "slideshow": {
     "slide_type": "subslide"
    }
   },
   "source": [
    "**5. 绝对值、三角函数、指数、对数运算**"
   ]
  },
  {
   "cell_type": "markdown",
   "id": "fb7afc0e-611f-4bb8-8698-c1f52adfe17f",
   "metadata": {},
   "source": [
    "|函数|描述|\n",
    "|---|---|\n",
    "|np.abs()|取各元素的绝对值|\n",
    "|np.sin()|正弦|\n",
    "|np.cos()|余弦|\n",
    "|np.tan()|正切|\n",
    "|np.arcsin()|反正弦|\n",
    "|np.arccos()|反余弦|\n",
    "|np.arctan()|反正切|\n",
    "|np.exp()|指数|\n",
    "|np.log()|以e为底的对数|\n",
    "|np.log2()|以2为底的对数|\n",
    "|np.log10()|以10为底的对数|"
   ]
  },
  {
   "cell_type": "markdown",
   "id": "b71282d0-a1f4-4b94-98e3-f5dd57a840d3",
   "metadata": {
    "slideshow": {
     "slide_type": "subslide"
    }
   },
   "source": [
    "#### **5. 绝对值、三角函数、指数、对数运算**"
   ]
  },
  {
   "cell_type": "code",
   "execution_count": null,
   "id": "9a18e01b-6338-46bb-b59c-61e8594a91fe",
   "metadata": {
    "slideshow": {
     "slide_type": "-"
    }
   },
   "outputs": [],
   "source": [
    "import numpy as np\n",
    "np.e\n",
    "np.log(np.e)\n",
    "np.pi\n",
    "np.cos(np.pi)"
   ]
  },
  {
   "cell_type": "markdown",
   "id": "917b9862-9544-4280-8815-e8bc029c92d1",
   "metadata": {
    "slideshow": {
     "slide_type": "subslide"
    }
   },
   "source": [
    "#### **6. 比较运算和掩码**"
   ]
  },
  {
   "cell_type": "markdown",
   "id": "5afe0ef7-7198-4be7-ac83-b9ec0ab9de5c",
   "metadata": {},
   "source": [
    "##### **I. 比较运算**"
   ]
  },
  {
   "cell_type": "code",
   "execution_count": null,
   "id": "d8f4dc28-cbe5-4059-9ac2-dfb47c04cd28",
   "metadata": {
    "tags": []
   },
   "outputs": [],
   "source": [
    "np.random.seed(10)\n",
    "x1 = np.random.randint(100, size=(3, 4))\n",
    "x1\n",
    "x1 > 50"
   ]
  },
  {
   "cell_type": "markdown",
   "id": "023a409a-6ca1-4312-9c71-b0aaa57b5602",
   "metadata": {
    "slideshow": {
     "slide_type": "subslide"
    }
   },
   "source": [
    "##### **II. 操作布尔数组**"
   ]
  },
  {
   "cell_type": "code",
   "execution_count": null,
   "id": "1dbba51c-4d04-44e2-95b0-d66d3d267193",
   "metadata": {
    "tags": []
   },
   "outputs": [],
   "source": [
    "np.random.seed(12)\n",
    "x2 = np.random.randint(10, size=(3, 4))\n",
    "x2\n",
    "x2 > 5\n",
    "np.sum(x2 > 5)\n",
    "np.all(x2 > 0)"
   ]
  },
  {
   "cell_type": "code",
   "execution_count": null,
   "id": "0da69890",
   "metadata": {
    "slideshow": {
     "slide_type": "subslide"
    }
   },
   "outputs": [],
   "source": [
    "## II. 操作布尔数组\n",
    "x2\n",
    "\n",
    "np.any(x2 == 6)\n",
    "np.all(x2 < 9, axis=1)   # 按行进行判断 axis = 1。而如果是按列判断，则axis= 0;\n",
    "(x2 < 9) & (x2 > 5)\n",
    "np.sum((x2 < 9) & (x2 > 5))"
   ]
  },
  {
   "cell_type": "markdown",
   "id": "be2bebff-b9b3-4eda-b4ad-cb749e3c7491",
   "metadata": {
    "slideshow": {
     "slide_type": "subslide"
    }
   },
   "source": [
    "##### **III. 将布尔数组作为掩码**"
   ]
  },
  {
   "cell_type": "code",
   "execution_count": null,
   "id": "e36f3620-d084-4fca-a8f1-98c24d757624",
   "metadata": {},
   "outputs": [],
   "source": [
    "x2 = np.random.randint(10, size=(3, 4))\n",
    "x2[x2 > 5]"
   ]
  },
  {
   "cell_type": "markdown",
   "id": "94ff0220-c7e9-49a3-bdd7-8933357a2166",
   "metadata": {
    "slideshow": {
     "slide_type": "fragment"
    }
   },
   "source": [
    "#### **7. 比较函数**"
   ]
  },
  {
   "cell_type": "markdown",
   "id": "165177ee",
   "metadata": {},
   "source": [
    "**numpy.allclose(a, b, rtol=1e-05, atol=1e-08, equal_nan=False)**"
   ]
  },
  {
   "cell_type": "code",
   "execution_count": null,
   "id": "15088b4e-81d1-4621-a9e0-85b5e0da3775",
   "metadata": {},
   "outputs": [],
   "source": [
    "import numpy as np\n",
    "a = np.array([1.23456891, 1.23456892])\n",
    "b = np.array([1.23456895, 1.23456893])\n",
    "print(np.allclose(a, b, rtol=1e-08, atol=1e-08)) #返回False，因为两个数组不相等\n",
    "print(np.allclose(a, b, rtol=1e-3, atol=1e-3)) #返回True，因为我们增大了容忍度"
   ]
  },
  {
   "cell_type": "markdown",
   "id": "41b24377-1db1-46a3-8513-b6f8087b1f0f",
   "metadata": {
    "slideshow": {
     "slide_type": "slide"
    }
   },
   "source": [
    "## **动手试一试4：numpy的运算** "
   ]
  },
  {
   "cell_type": "markdown",
   "id": "7080c025-5756-430d-bc88-aefcbc49ceae",
   "metadata": {},
   "source": [
    "### **(1).统计计算**"
   ]
  },
  {
   "cell_type": "markdown",
   "id": "a9ab38bb-bae0-4226-8724-67e0995cf48f",
   "metadata": {},
   "source": [
    "**已知数组：Array1 = np.array(range(12)).reshape(3, 4),求：  \n",
    "(1).求元素之和;  \n",
    "(2).求平均值;  \n",
    "(3).求最大、最小值;  \n",
    "(4).求最大、最小值的下标索引;  \n",
    "(5).求标准差;  \n",
    "(6).求方差;  \n",
    "(7).求中位数;  \n",
    "(8).求大于6的元素个数；  \n",
    "(9).判断是否所有的元素全部大于0；**"
   ]
  },
  {
   "cell_type": "code",
   "execution_count": null,
   "id": "d5cbc6cb-d4af-40da-a78f-6dfc09d95054",
   "metadata": {
    "tags": []
   },
   "outputs": [],
   "source": []
  },
  {
   "cell_type": "markdown",
   "id": "cad37829-744f-4326-aeee-188831679323",
   "metadata": {
    "tags": []
   },
   "source": [
    "### **(2).数组元素操作**\n",
    "**有一个二维numpy数组，将数组中小于0的元素置零、  \n",
    "大于零的元素保留原值，但是不用for循环。**"
   ]
  },
  {
   "cell_type": "code",
   "execution_count": null,
   "id": "6554bd9f-e26f-4c8c-8b73-8e1667fc700e",
   "metadata": {},
   "outputs": [],
   "source": []
  },
  {
   "cell_type": "markdown",
   "id": "09eb33f1-e059-4fe8-973b-6ec6c6c39c2c",
   "metadata": {
    "slideshow": {
     "slide_type": "slide"
    },
    "toc-hr-collapsed": true
   },
   "source": [
    "## **§5.3 numpy的专门应用** "
   ]
  },
  {
   "cell_type": "markdown",
   "id": "4e15927a-4929-482a-a92e-434aa2da4732",
   "metadata": {},
   "source": [
    "### **1.随机模块(np.random)**"
   ]
  },
  {
   "cell_type": "markdown",
   "id": "4542a838-872b-49b2-be87-922f7f3f80a7",
   "metadata": {},
   "source": [
    "|函数|描述|\n",
    "|---|---|\n",
    "|np.random.rand()| 生成指定维度的的[0,1)范围之间的随机数，输入参数为维度|\n",
    "|np.random.randint()|random.randint(low, high=None, size=None, dtype=int)|\n",
    "|np.random.randn()|生成指定维度的服从标准正态分布的随机数，输入参数为维度|\n",
    "|np.random.random_integers()|返回范围为[low,high] 闭区间 随机整数；可放回的抽样取数|\n",
    "|np.random.random()|返回0-1之间指定维度下的随机数|\n",
    "|np.random.seed()|设置随机种子，保证每次的结果相同|\n",
    "|np.random.choice()| 从序列中随机选择数据，放回或者不放回可指定|\n",
    "|np.random.choice(a, size = None, replace = True, p = None)|可以指定a中每个元素被选择的概率|\n",
    "|np.random.standard_normal()| 标准正态分布随机取数，就一个可选参数size，用来指定维度|\n",
    "|np.random.random_sample()|用于生成0-1之间的随机浮点数或者数组|\n",
    "|np.random.shuffle()| 对给定的数据进行重排序，如果数据为为多维数组，只沿第一条轴洗牌|\n",
    "|np.random.permutation()| 同样也是洗牌的过程，只是不会打乱原数据的顺序|"
   ]
  },
  {
   "cell_type": "markdown",
   "id": "4240ab12-ed04-4a6f-b957-5085412fb271",
   "metadata": {
    "slideshow": {
     "slide_type": "subslide"
    }
   },
   "source": [
    "#### **I. random.standard_normal()**"
   ]
  },
  {
   "cell_type": "code",
   "execution_count": null,
   "id": "aa7668b7-4a8f-4a37-bfd3-0003cf7ddac7",
   "metadata": {
    "tags": []
   },
   "outputs": [],
   "source": [
    "import numpy as np\n",
    "np.random.standard_normal()\n",
    "np.random.standard_normal(10)\n",
    "np.random.standard_normal(size=(3, 2))"
   ]
  },
  {
   "cell_type": "markdown",
   "id": "5891d94a-3c86-4990-8623-374df45b7081",
   "metadata": {
    "slideshow": {
     "slide_type": "subslide"
    }
   },
   "source": [
    "#### **II. random.randint()**"
   ]
  },
  {
   "cell_type": "code",
   "execution_count": null,
   "id": "41d2f8b1-d955-4537-809f-c951778023ce",
   "metadata": {},
   "outputs": [],
   "source": [
    "import numpy as np\n",
    "np.random.randint(1,6,size=8)"
   ]
  },
  {
   "cell_type": "markdown",
   "id": "9ea8a398-7846-4705-96b3-d14e7465124c",
   "metadata": {
    "slideshow": {
     "slide_type": "subslide"
    }
   },
   "source": [
    "### **2.线性代数(np.linalg)**"
   ]
  },
  {
   "cell_type": "markdown",
   "id": "3e30a5b9-7fd6-4aa1-83e2-3e773295215a",
   "metadata": {},
   "source": [
    "|函数|描述|\n",
    "|---|---|\n",
    "|np.linalg.det()|计算行列式|\n",
    "|np.linalg.inv()|计算逆矩阵|\n",
    "|np.linalg.solve()|多元一次方程组求根|\n",
    "|np.linalg.eig()|返回由特征值和特征向量构成的元组|\n",
    "|np.linalg.eigvals()|计算特征值|\n",
    "|np.linalg.svd()|矩阵的奇异值分解|\n",
    "|np.linalg.pinv()|广义逆矩阵|"
   ]
  },
  {
   "cell_type": "markdown",
   "id": "c1faff99",
   "metadata": {
    "slideshow": {
     "slide_type": "subslide"
    }
   },
   "source": [
    "**在线性代数的应用(np.linalg)**"
   ]
  },
  {
   "cell_type": "code",
   "execution_count": null,
   "id": "9fd5cab8-045d-4764-a294-9c6347ee324c",
   "metadata": {
    "slideshow": {
     "slide_type": "-"
    }
   },
   "outputs": [],
   "source": [
    "import numpy as np\n",
    "np.random.seed(90)\n",
    "Array8 = np.random.randint(10, size=(3, 3))\n",
    "detArray8 = np.linalg.det(Array8)\n",
    "IArray8 = np.linalg.inv(Array8)\n",
    "print(\"'Array8': \\n\", Array8)\n",
    "print(\"'np.linalg.det(Array8)': \", round(detArray8, 2))\n",
    "print(\"'np.linalg.inv(Array8)':\\n\", IArray8)"
   ]
  },
  {
   "cell_type": "markdown",
   "id": "5970e85f",
   "metadata": {
    "slideshow": {
     "slide_type": "subslide"
    }
   },
   "source": [
    "**在线性代数的应用(numpy.linalg)**"
   ]
  },
  {
   "cell_type": "code",
   "execution_count": null,
   "id": "ee8e6e23",
   "metadata": {
    "slideshow": {
     "slide_type": "-"
    }
   },
   "outputs": [],
   "source": [
    "print(\"'Array8': \\n\", Array8)\n",
    "eigenvalues, eigenvector = np.linalg.eig(Array8)\n",
    "print(\"'eigenvalues' :\\n \", eigenvalues)\n",
    "print(\"'eigenvector' :\\n\", eigenvector)"
   ]
  },
  {
   "cell_type": "markdown",
   "id": "269b4421-32f9-4a8a-b8a3-555eef113526",
   "metadata": {
    "slideshow": {
     "slide_type": "subslide"
    }
   },
   "source": [
    "**线性方程的解： AX=b    X=inv(A)b**"
   ]
  },
  {
   "cell_type": "markdown",
   "id": "54fe44dd-5164-4791-adf2-aeba93083251",
   "metadata": {},
   "source": [
    "**例 “鸡兔同笼”问题：今有雉兔同笼，上有三十五头，下有九十四足。问雉兔各几何。**"
   ]
  },
  {
   "cell_type": "code",
   "execution_count": null,
   "id": "9e11b53b-ac84-4a88-8bb1-b110a69ab959",
   "metadata": {},
   "outputs": [],
   "source": [
    "heads, foots = 35, 94\n",
    "A = np.array(([[1, 1], [2, 4]]))\n",
    "b = np.array([heads, foots])\n",
    "X = np.linalg.solve(A, b)\n",
    "print(\"鸡:{} 兔:{}\".format(X[0], X[1]))"
   ]
  },
  {
   "cell_type": "code",
   "execution_count": null,
   "id": "41ddf2c9-37cf-41d7-accb-b71189931337",
   "metadata": {},
   "outputs": [],
   "source": [
    "X = np.linalg.inv(A).dot(b)\n",
    "X"
   ]
  },
  {
   "cell_type": "markdown",
   "id": "6cd058b9-11b5-4a4f-a3dc-864b1b2631ff",
   "metadata": {
    "slideshow": {
     "slide_type": "subslide"
    }
   },
   "source": [
    "### **3.多项式的应用(np.poly)**"
   ]
  },
  {
   "cell_type": "markdown",
   "id": "88a528d0-090e-4959-9a50-0a50e6d6fe4c",
   "metadata": {},
   "source": [
    "|函数|描述|\n",
    "|---|---|\n",
    "|poly1d(A)|利用系数数组A生成多项式|\n",
    "|polycal(p,k)|求多项式p在x=k时的值|\n",
    "|polyder(p,m=1)|求多项式p的m阶导数，m默认值为1|\n",
    "|polyint(p,m=1)|求多项式p的m重积分，m默认值为1|\n",
    "|polyadd(p1,p2)|多项式求和，等价于p1+p2|\n",
    "|polysub(p1,p2)|多项式求差，等价于p1-p2|\n",
    "|polymul(p1,p2)|多项式求积，等价于p1*p2|\n",
    "|polydiv(p1,p2)|多项式求商，等价于p1/p2，结果为高和余数构成的元组，商和余数都用多项式表示|\n",
    "|polyfit(x,y,k)|多项式拟合，x,y分别为要拟合的丙级数据，k为拟合多项式中最高次幂|"
   ]
  },
  {
   "cell_type": "markdown",
   "id": "a6ce2aaa-7215-4ea6-bd87-44558809e647",
   "metadata": {
    "slideshow": {
     "slide_type": "subslide"
    }
   },
   "source": [
    "#### **I. 创建多项式 poly1d(A)函数**"
   ]
  },
  {
   "cell_type": "code",
   "execution_count": null,
   "id": "3480caf6-b8ec-43b8-bfb7-f30539279ef7",
   "metadata": {
    "scrolled": true
   },
   "outputs": [],
   "source": [
    "A = np.array([1, 0, -2, 1])\n",
    "f = np.poly1d(A)\n",
    "print('数组A:  ', A)\n",
    "print('函数f: \\n', f)\n",
    "print('函数f的类型:', type(f))\n",
    "print('函数f在x=1时的值: ', f(1))\n",
    "print('函数f在x=1和x=2时的值: ', f([1, 2]))"
   ]
  },
  {
   "cell_type": "markdown",
   "id": "c7cad286-0e49-42e8-8233-1965ca9f4382",
   "metadata": {
    "slideshow": {
     "slide_type": "subslide"
    }
   },
   "source": [
    "#### **II. 多项式p在k时的值 polyval(p,k)**"
   ]
  },
  {
   "cell_type": "markdown",
   "id": "9475d916-1d3d-4be9-a65d-b17bcdd4af08",
   "metadata": {},
   "source": [
    "<img style=\"float:left;\" src=\"File&Figure\\Advanced\\5nplinalgpoly01.png\" width=\"25%\">"
   ]
  },
  {
   "cell_type": "code",
   "execution_count": null,
   "id": "b8a79404",
   "metadata": {},
   "outputs": [],
   "source": [
    "np.polyval(f, 2)\n",
    "np.polyval(f, [1, 2])"
   ]
  },
  {
   "cell_type": "markdown",
   "id": "dab0acff-3124-45dd-929c-3adda9b44f8a",
   "metadata": {
    "slideshow": {
     "slide_type": "subslide"
    }
   },
   "source": [
    "#### **III. 多项式微分 polyder(p,m=1)**"
   ]
  },
  {
   "cell_type": "markdown",
   "id": "1b336162-4e69-48cf-8db2-56642780fae5",
   "metadata": {},
   "source": [
    "<img style=\"float:left;\" src=\"File&Figure\\Advanced\\5nplinalgpoly01.png\" width=\"25%\">\n",
    "<img style=\"float:left;\" src=\"File&Figure\\Advanced\\5nplinalgpoly11.png\" width=\"23%\">\n",
    "<img style=\"float:left;\" src=\"File&Figure\\Advanced\\5nplinalgpoly12.png\" width=\"18%\">"
   ]
  },
  {
   "cell_type": "code",
   "execution_count": null,
   "id": "caa63d08-bc18-44b3-88d7-3339cb2383e7",
   "metadata": {},
   "outputs": [],
   "source": [
    "np.polyder(f) #微分\n",
    "np.polyder(f, 2)"
   ]
  },
  {
   "cell_type": "markdown",
   "id": "8e6b82db-1c40-4641-a6f2-881bbf165931",
   "metadata": {
    "slideshow": {
     "slide_type": "subslide"
    }
   },
   "source": [
    "#### **IV. 多项式积分 polyint(p,m=1)**"
   ]
  },
  {
   "cell_type": "markdown",
   "id": "db31653a-2f1a-40fb-847b-7a3659b1ce00",
   "metadata": {},
   "source": [
    "<img style=\"float:left;\" src=\"File&Figure\\Advanced\\5nplinalgpoly01.png\" width=\"25%\">\n",
    "<img style=\"float:left;\" src=\"File&Figure\\Advanced\\5nplinalgpoly02.png\" width=\"35%\">\n",
    "<img style=\"float:left;\" src=\"File&Figure\\Advanced\\5nplinalgpoly03.png\" width=\"30%\">"
   ]
  },
  {
   "cell_type": "code",
   "execution_count": null,
   "id": "441208fc-86d1-4939-bd7d-7d09ee01dc28",
   "metadata": {},
   "outputs": [],
   "source": [
    "np.polyint(f)\n",
    "np.polyint(f, m=2)"
   ]
  },
  {
   "cell_type": "markdown",
   "id": "e3470261-f292-489b-ae7c-ec8c04789a30",
   "metadata": {
    "slideshow": {
     "slide_type": "subslide"
    }
   },
   "source": [
    "#### **V. 多项式的代数计算 polyadd() polysub() polymul() polydiv().**"
   ]
  },
  {
   "cell_type": "markdown",
   "id": "a45b83e8-8c34-4189-80f6-7ea515daf6a0",
   "metadata": {},
   "source": [
    "<img style=\"float:left;\" src=\"File&Figure\\Advanced\\5nplinalgpoly04.png\" width=\"25%\">\n",
    "<img style=\"float:left;\" src=\"File&Figure\\Advanced\\5nplinalgpoly05.png\" width=\"35%\">\n",
    "<img style=\"float:left;\" src=\"File&Figure\\Advanced\\5nplinalgpoly06.png\" width=\"38%\">"
   ]
  },
  {
   "cell_type": "code",
   "execution_count": null,
   "id": "567a2502-d4db-4bdd-afc6-3b00a7178345",
   "metadata": {
    "tags": []
   },
   "outputs": [],
   "source": [
    "p1 = np.poly1d(np.array([1, 2, 3]))\n",
    "p2 = np.poly1d(np.array([1, 2, 3, 4]))\n",
    "print(p1)\n",
    "print()\n",
    "print(p2)\n",
    "print()\n",
    "print(np.polyadd(p1, p2))"
   ]
  },
  {
   "cell_type": "markdown",
   "id": "f650a63e-f73e-4225-8e3f-f614bd23789c",
   "metadata": {
    "slideshow": {
     "slide_type": "subslide"
    }
   },
   "source": [
    "#### **VI. 多项式的拟合 polyfit(x,y,k)**"
   ]
  },
  {
   "cell_type": "code",
   "execution_count": null,
   "id": "c9e10637-2ce1-4f98-a44e-e3eeff2fdeda",
   "metadata": {
    "tags": []
   },
   "outputs": [],
   "source": [
    "## 多项式的拟合\n",
    "import matplotlib.pyplot as plt\n",
    "x = np.array([0.0, 1., 2., 3., 4., 5.])\n",
    "y = np.array([0.0, 0.8, 0.9, 0.1, -0.8, -1.0])\n",
    "parray = np.polyfit(x, y, 3)\n",
    "p = np.poly1d(parray)\n",
    "print('拟合函数系数的数组: \\n', parray)\n",
    "print('\\n拟合函数: \\n', p)\n"
   ]
  },
  {
   "cell_type": "code",
   "execution_count": null,
   "id": "df9036db",
   "metadata": {
    "slideshow": {
     "slide_type": "subslide"
    }
   },
   "outputs": [],
   "source": [
    "x2 = np.linspace(0, 5, 50)\n",
    "y2 = parray[0]*x2**3 + parray[1]*x2**2 + parray[2]*x2 + parray[3]\n",
    "fig = plt.figure(figsize=(5, 4))\n",
    "plt.plot(x, y, color=\"r\", linestyle=\"--\", marker=\"*\", linewidth=1.0)\n",
    "plt.plot(x2, y2, color=\"green\", linewidth=1.0)\n",
    "plt.grid()\n",
    "plt.show();"
   ]
  },
  {
   "cell_type": "markdown",
   "id": "f78de1e9-98ec-4109-a25e-5b19b7422875",
   "metadata": {
    "slideshow": {
     "slide_type": "slide"
    },
    "tags": [],
    "toc-hr-collapsed": true
   },
   "source": [
    "## **动手试一试5：多项式** "
   ]
  },
  {
   "cell_type": "markdown",
   "id": "e0c33565-74fc-4a9e-b858-27a92d7afe3a",
   "metadata": {},
   "source": [
    "### **(1)输出f(x)的一阶导数和二阶导数**"
   ]
  },
  {
   "cell_type": "markdown",
   "id": "d437462c-f7a9-42b2-9cce-0afd06b73500",
   "metadata": {},
   "source": [
    "**利用numpy库中的多项处理函数，计算函数**  \n",
    "<img style=\"float:left;\" src=\"File&Figure\\Advanced\\5nplinalgpoly08.png\" width=\"30%\">  \n",
    "**当x=2和x=5的值，并输出f(x)的一阶导数和二阶导数。**"
   ]
  },
  {
   "cell_type": "code",
   "execution_count": null,
   "id": "ff3e28a8-0a94-4f6e-9eb8-53d03c143974",
   "metadata": {
    "tags": []
   },
   "outputs": [],
   "source": []
  },
  {
   "cell_type": "markdown",
   "id": "bf32def6-c875-48ad-841e-6fb5637f333a",
   "metadata": {},
   "source": [
    "**f(x)的一阶导数和二阶导数的波形**"
   ]
  },
  {
   "cell_type": "code",
   "execution_count": null,
   "id": "7fe70691",
   "metadata": {
    "tags": []
   },
   "outputs": [],
   "source": []
  },
  {
   "cell_type": "markdown",
   "id": "6edb1768-3c4c-46d3-ab67-3bc931cd5433",
   "metadata": {
    "slideshow": {
     "slide_type": "slide"
    },
    "tags": [],
    "toc-hr-collapsed": true
   },
   "source": [
    "## **5.4 数组的输入与输出** "
   ]
  },
  {
   "cell_type": "markdown",
   "id": "6a65581b-61ff-4e7b-bd32-3e1304ddc082",
   "metadata": {},
   "source": [
    "|函数|描述|\n",
    "|---|---|\n",
    "|np.savetxt()|把一个一维或者二维数组写入一个指定的文本文件|\n",
    "|np.loadtxt()|从指定的文本文件中读取数据，并返回一个数组|\n",
    "|np.ndarray.tofile()|把数组写入指定文件|\n",
    "|np.fromfile()|从指定文件读取数据，返回一个一维数组|\n",
    "|np.save()|把数组以二进制格式写入一个扩展名为.npy的文件中|\n",
    "|np.load()|从扩展名为.npy的文件中读取数据，并返回一个原始形状的数组|"
   ]
  },
  {
   "cell_type": "markdown",
   "id": "e4898ada-438e-4acf-af8b-2b5b2690fed2",
   "metadata": {
    "slideshow": {
     "slide_type": "subslide"
    }
   },
   "source": [
    "### **1. np.savetxt(fname, X,fmt='%.18e', delimiter='')**"
   ]
  },
  {
   "cell_type": "code",
   "execution_count": null,
   "id": "57bb7cd1-2eff-4cb5-be73-5f2216af0a3e",
   "metadata": {
    "tags": []
   },
   "outputs": [],
   "source": [
    "data = np.arange(50).reshape(5, 10)\n",
    "np.savetxt('File&Figure\\data_txt.txt', data, fmt='%d',delimiter=',')\n",
    "np.savetxt('File&Figure\\data_txt.csv', data, fmt='%d')"
   ]
  },
  {
   "cell_type": "markdown",
   "id": "e964fb51-39a8-4b3d-bfd7-6ce9a0f6599d",
   "metadata": {
    "slideshow": {
     "slide_type": "subslide"
    }
   },
   "source": [
    "### **2. np.loadtxt(fname, dtype=np.float, delimiter=None)**"
   ]
  },
  {
   "cell_type": "code",
   "execution_count": null,
   "id": "7d12faf0-bf6a-4a0d-b4ed-8f4aaa5b0cce",
   "metadata": {
    "tags": []
   },
   "outputs": [],
   "source": [
    "data1fromfile = np.loadtxt('File&Figure\\data_txt.txt',delimiter=',')\n",
    "print('1:\\n', data1fromfile)\n",
    "data2fromfile = np.loadtxt('File&Figure\\data_txt.csv',dtype=np.int32)\n",
    "print('2:\\n', data2fromfile)"
   ]
  },
  {
   "cell_type": "markdown",
   "id": "bdc68eb3-37f7-4985-a501-9dc9e14811ce",
   "metadata": {
    "slideshow": {
     "slide_type": "subslide"
    }
   },
   "source": [
    "#### **3. np.ndarray.tofile(fname, sep='',format=\"%s\")**\n",
    "#### **4. np.ndarray.fromfile(fname, dtype= np.float,count=-1,sep='')**"
   ]
  },
  {
   "cell_type": "code",
   "execution_count": null,
   "id": "0eaf86cd-81bd-4422-9486-27d082cb3f19",
   "metadata": {
    "tags": []
   },
   "outputs": [],
   "source": [
    "data = np.arange(50).reshape(2, 5, 5)\n",
    "print('3: \\n', data)\n",
    "data.tofile(\"File&Figure\\data_tofile1.dat\", format='%d')\n",
    "\n",
    "dataNew = np.fromfile(\"File&Figure\\data_tofile1.dat\", dtype= np.int32).reshape(5,10)\n",
    "print('4: \\n', dataNew)\n",
    "dataShape = np.fromfile(\"File&Figure\\data_tofile1.dat\", dtype= np.int32).reshape(2,5,5)\n",
    "print('5: \\n', dataShape)"
   ]
  },
  {
   "cell_type": "markdown",
   "id": "7a02c6c0-a1df-4b84-b894-b9f8b3ddf9ae",
   "metadata": {
    "slideshow": {
     "slide_type": "subslide"
    }
   },
   "source": [
    "#### **5. np.save(fname,X)**\n",
    "#### **6. np.load(fname)**"
   ]
  },
  {
   "cell_type": "code",
   "execution_count": null,
   "id": "6a0d402c-1bef-40be-bc37-fe3d67b25c50",
   "metadata": {
    "tags": []
   },
   "outputs": [],
   "source": [
    "np.save(\"File&Figure\\data_save.npy\",dataNew)\n",
    "\n",
    "dataLoad = np.load(\"File&Figure\\data_save.npy\")\n",
    "dataLoad1 = np.load(\"File&Figure\\data_save.npy\").reshape((2,5,5))\n",
    "print('6: \\n', dataLoad)\n",
    "print('7: \\n', dataLoad1)"
   ]
  },
  {
   "cell_type": "markdown",
   "id": "56f23919",
   "metadata": {},
   "source": [
    "# **End**"
   ]
  },
  {
   "cell_type": "markdown",
   "id": "a3d044cc-d63b-41f3-a267-19fd0f7ed26e",
   "metadata": {
    "jupyter": {
     "source_hidden": true
    },
    "slideshow": {
     "slide_type": "slide"
    },
    "tags": []
   },
   "source": [
    "**计算如下算式**  \n",
    "**·基础运算：  \n",
    "·求元素之和：arr.sum() or np.sum(arr)  \n",
    "·求平均值：arr.mean() or np.mean(arr)  \n",
    "·求最大、最小值：  \n",
    "arr.max() or np.max(arr)  \n",
    "arr.min() or np.min(arr)  \n",
    "·求最大、最小值的下标索引：  \n",
    "arr.argmax() or np.argmax(arr)  \n",
    "arr.argmin() or np.argmin(arr)  \n",
    "·求标准差和方差：  \n",
    "标准差：arr.std() or np.std(arr)  \n",
    "方差：arr.var() or np.var(arr)  \n",
    "·求中位数：np.median(arr)  \n",
    "·any和all用法  \n",
    "·广播运算  \n",
    "·矩阵运算** "
   ]
  },
  {
   "cell_type": "code",
   "execution_count": null,
   "id": "713b340e-dfe5-4da4-8dd9-3bdcce0b2140",
   "metadata": {},
   "outputs": [],
   "source": []
  }
 ],
 "metadata": {
  "celltoolbar": "Slideshow",
  "kernelspec": {
   "display_name": "Python 3 (ipykernel)",
   "language": "python",
   "name": "python3"
  },
  "language_info": {
   "codemirror_mode": {
    "name": "ipython",
    "version": 3
   },
   "file_extension": ".py",
   "mimetype": "text/x-python",
   "name": "python",
   "nbconvert_exporter": "python",
   "pygments_lexer": "ipython3",
   "version": "3.11.1"
  }
 },
 "nbformat": 4,
 "nbformat_minor": 5
}
