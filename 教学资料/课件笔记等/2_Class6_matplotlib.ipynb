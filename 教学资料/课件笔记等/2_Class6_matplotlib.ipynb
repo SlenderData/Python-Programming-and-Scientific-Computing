{
 "cells": [
  {
   "cell_type": "code",
   "execution_count": null,
   "id": "a7bfd27e-25c5-45e6-9f6b-86380053d3b2",
   "metadata": {},
   "outputs": [],
   "source": [
    "#添加以下代码以显示单元格中的所有输出\n",
    "from IPython.core.interactiveshell import InteractiveShell\n",
    "InteractiveShell.ast_node_interactivity = \"all\"\n",
    "from matplotlib import pyplot as plt\n",
    "plt.rcParams['font.sans-serif'] = ['SimHei']   #显示中文\n",
    "plt.rcParams['axes.unicode_minus']=False       #显示负号"
   ]
  },
  {
   "cell_type": "markdown",
   "id": "a4490914-bf5d-4409-a8d1-20b8857a94b1",
   "metadata": {
    "slideshow": {
     "slide_type": "slide"
    }
   },
   "source": [
    "# **第6课 matplotlib库的使用**"
   ]
  },
  {
   "cell_type": "markdown",
   "id": "c35d2adc-b168-4302-a630-75c7b48dc7e3",
   "metadata": {},
   "source": [
    "**Matplotlib 的安装、升级、卸载和导入**"
   ]
  },
  {
   "cell_type": "markdown",
   "id": "d64dc4f2-f0a5-46b1-9dfa-91c1ff46a473",
   "metadata": {},
   "source": [
    "<img style='float:left;' src='File&Figure\\Advanced\\6pltfig01.png' width='40%'>"
   ]
  },
  {
   "cell_type": "markdown",
   "id": "01a61687-0fad-41e9-bf43-a34e33f37c49",
   "metadata": {
    "slideshow": {
     "slide_type": "subslide"
    }
   },
   "source": [
    "**常用的图表类型及其应用场景如下图所示**"
   ]
  },
  {
   "cell_type": "markdown",
   "id": "26900a49-c055-477b-a37f-c678a8de2d74",
   "metadata": {},
   "source": [
    "<img style='float:left;' src='File&Figure\\Advanced\\6pltfig02.png' width='40%'>"
   ]
  },
  {
   "cell_type": "markdown",
   "id": "70ae07b1-c60d-4177-9de4-ea733881bfab",
   "metadata": {
    "slideshow": {
     "slide_type": "slide"
    }
   },
   "source": [
    "## **§6.1 pyplot模块的使用** "
   ]
  },
  {
   "cell_type": "code",
   "execution_count": null,
   "id": "57bb7cd1-2eff-4cb5-be73-5f2216af0a3e",
   "metadata": {
    "slideshow": {
     "slide_type": "skip"
    },
    "tags": []
   },
   "outputs": [],
   "source": [
    "from mpl_toolkits.axisartist.axislines import AxesZero\n",
    "import numpy as np \n",
    "from matplotlib import pyplot as plt\n",
    "#plt.rcParams['font.sans-serif'] = ['SimHei'] #显示中文\n",
    "#plt.rcParams['axes.unicode_minus'] = False   #显示负号\n",
    "\n",
    "x = np.linspace(0, 10, 100)\n",
    "y = np.sin(x)\n",
    "fig = plt.figure(figsize=(3, 3))\n",
    "plt.plot(y, \"r\")\n",
    "plt.title(\"我是图标题\")\n",
    "plt.xlabel(\"我是x轴标签\")\n",
    "plt.ylabel(\"我是y轴标签\")\n",
    "plt.text(np.pi, 0.6, \"我是图文字\")\n",
    "plt.ylim(-1.2, 1.3)\n",
    "plt.legend(labels=[\"我是图例\"])\n",
    "plt.grid()"
   ]
  },
  {
   "cell_type": "markdown",
   "id": "640d1671-6e7c-4615-bb14-19c55bbd260a",
   "metadata": {
    "slideshow": {
     "slide_type": "-"
    }
   },
   "source": [
    "<img style='float:left;' src='File&Figure\\Advanced\\6pltfig110.png' width='40%'>\n",
    "<img style='float:left;' src='File&Figure\\Advanced\\6pltfig111.png' width='35%'>"
   ]
  },
  {
   "cell_type": "markdown",
   "id": "973526ec-a958-4d7f-acf6-fd0fa407de61",
   "metadata": {},
   "source": [
    "<img style='float:left;' src='File&Figure\\Advanced\\6pltfig10.png' width='40%'>\n",
    "<img style='float:left;' src='File&Figure\\Advanced\\6pltfig11.png' width='35%'>"
   ]
  },
  {
   "cell_type": "markdown",
   "id": "0387b789-92ea-41eb-80bb-e1e5f0a7085f",
   "metadata": {
    "slideshow": {
     "slide_type": "slide"
    }
   },
   "source": [
    "## **§6.2 plot()绘图函数的使用** "
   ]
  },
  {
   "cell_type": "markdown",
   "id": "83081992-776e-4abd-b4ee-a7969df1eb5d",
   "metadata": {},
   "source": [
    "**绘图函数语法格式: plot(x, y, s, linewidth)  \n",
    "s:  控制线型的格式字符串，可选，省略时，绘制的线型采用默认格式；  \n",
    "linewidth: 线的宽度** "
   ]
  },
  {
   "cell_type": "markdown",
   "id": "152a487b-e4c6-455e-8ec8-dd2629846acd",
   "metadata": {
    "slideshow": {
     "slide_type": "subslide"
    }
   },
   "source": [
    "<center><font face=\"黑体\" color=red>表9-6颜色字符 -------  表9-7 点风格字符  -------  表9-8 线风格字符</font></center>"
   ]
  },
  {
   "cell_type": "markdown",
   "id": "82ca3de5-8386-4420-a4f3-8fe1fda222d9",
   "metadata": {},
   "source": [
    "|字符|描述|  --------------  |字符|描述|  -------------   |字符|描述|\n",
    "|---|---| --- |---|---| --- |---|---|\n",
    "|r|红色| |.|小的实心点| |-|实线|\n",
    "|g|绿色| |o|大的实心点| |--|破折线|\n",
    "|b|蓝色| |v|倒三角| |:|虚线|\n",
    "|y|黄色| |^|上三角| |-.|点横线|\n",
    "|k|黑色| |+|十字| |None|没有线|\n",
    "|w|白色| |x|叉号| \n",
    "|c|蓝绿色| |d|菱形|\n",
    "|m|品红色| |+|十字|\n",
    "|#00FF11|RGB颜色| |s|正方形|"
   ]
  },
  {
   "cell_type": "markdown",
   "id": "6297c7ce-51c3-4c0d-96e9-31d80066221d",
   "metadata": {
    "slideshow": {
     "slide_type": "subslide"
    }
   },
   "source": [
    "### **plot()画图示例**"
   ]
  },
  {
   "cell_type": "code",
   "execution_count": null,
   "id": "06aab761-194d-485b-9de1-c825a2188ca0",
   "metadata": {
    "slideshow": {
     "slide_type": "skip"
    }
   },
   "outputs": [],
   "source": [
    "from mpl_toolkits.axisartist.axislines import AxesZero\n",
    "import matplotlib.pyplot as plt\n",
    "import numpy as np\n",
    "\n",
    "x = np.arange(10)\n",
    "y1 = x\n",
    "y2 = 2*x\n",
    "y3 = 3*x\n",
    "nymax = 30\n",
    "fig = plt.figure(figsize=(4, 4))\n",
    "plt.plot(x, y1, 'ro--', linewidth=0.6)\n",
    "plt.plot(x, y2, 'gv:', linewidth=1)\n",
    "plt.plot(x, y3, 'bs-', linewidth=3)\n",
    "#plt.axis('scaled')\n",
    "plt.xlim(0, 10)\n",
    "plt.ylim(0, nymax)\n",
    "xmin, xmax, ymin, ymax = plt.axis() \n",
    "print(\"x-axis[{}, {}],y-axis[{}, {}]\".format(xmin, xmax, ymin, ymax))\n",
    "plt.xticks([0, 1, 2, 3, 4, 5, 6, 7, 8, 9, 10])\n",
    "plt.yticks([0,5,10,15,20,25,30], ['0','a', 'b', 'c', 'd', 'e', 'f'])\n",
    "\n",
    "plt.xlabel(\"xlabel---x-axis\")\n",
    "plt.ylabel(\"ylabel---y-axis\")\n",
    "plt.legend([\"y1=x\", \"y2=2x\", \"y3=3x\"])\n",
    "plt.text(4, 2, \"text--TEXT\")\n",
    "plt.title('title--我是图例')\n",
    "plt.grid()\n",
    "plt.show();"
   ]
  },
  {
   "cell_type": "markdown",
   "id": "95cc431a",
   "metadata": {
    "slideshow": {
     "slide_type": "-"
    }
   },
   "source": [
    "<img style='float:left;' src='File&Figure\\Advanced\\6pltfig20.png' width='35%'>\n",
    "<img style='float:left;' src='File&Figure\\Advanced\\6pltfig21.png' width='40%'>"
   ]
  },
  {
   "cell_type": "markdown",
   "id": "cec667f8-cff4-47c4-9fbc-3be95bd75f81",
   "metadata": {
    "slideshow": {
     "slide_type": "slide"
    }
   },
   "source": [
    "## **§6.3 pyplot模块中坐标轴及标签等属性设置**"
   ]
  },
  {
   "cell_type": "raw",
   "id": "f1d4d98b-0605-4fb7-b2ca-1b9443afe837",
   "metadata": {
    "slideshow": {
     "slide_type": "skip"
    }
   },
   "source": [
    "(1) axis()函数： 获取或设置坐标轴属性\n",
    "(2) xlim()函数： 设置或者返回x轴的取值区间\n",
    "(3) ylim()函数\n",
    "(4) xticks()函数： 设置或者返回x轴的刻度值或标签\n",
    "(5) ytick()函数\n",
    "(6) xlabel()函数\n",
    "(7) ylabel()函数\n",
    "(8) legend()函数: 图例\n",
    "(9) text()函数: 在指定的坐标位置显示相应的文本\n",
    "(10) title()函数: 标题及显示的位置"
   ]
  },
  {
   "cell_type": "markdown",
   "id": "01cd993e-2f5a-4c2f-83f5-c9667bd85e2b",
   "metadata": {
    "slideshow": {
     "slide_type": "-"
    }
   },
   "source": [
    "<img style='float:left;' src='File&Figure\\Advanced\\6pltfig30.png' width='45%'>\n",
    "<img style='float:left;' src='File&Figure\\Advanced\\6pltfig31.png' width='35%'>"
   ]
  },
  {
   "cell_type": "code",
   "execution_count": null,
   "id": "023de38a-59cd-4653-a51f-c8129049a0cf",
   "metadata": {
    "slideshow": {
     "slide_type": "-"
    }
   },
   "outputs": [],
   "source": [
    "xmin, xmax, ymin, ymax = plt.axis(options) \n",
    "xmin, xmax, ymin, ymax = plt.axis() \n",
    "axis(xmin, xmax, ymin, ymax) "
   ]
  },
  {
   "cell_type": "markdown",
   "id": "811bf462-e1f0-478a-b5c6-6ef2c008d080",
   "metadata": {
    "slideshow": {
     "slide_type": "slide"
    }
   },
   "source": [
    "## **§6.4 pyplot模块中的绘图函数示例**"
   ]
  },
  {
   "cell_type": "markdown",
   "id": "1458934b-7ed1-44a3-8d28-968f63f8c80e",
   "metadata": {},
   "source": [
    "|函数名称|描述|\n",
    "|---|---|\n",
    "|Bar|绘制条形图|\n",
    "|Barh|绘制水平条形图|\n",
    "|Boxplot|绘制箱型图|\n",
    "|Hist|绘制直方图|\n",
    "|his2d|绘制2D直方图|\n",
    "|Pie|绘制饼状图|\n",
    "|Plot|在坐标轴上画线或者标记|\n",
    "|Polar|绘制极坐标图|\n",
    "|Scatter|绘制x与y的散点图|\n",
    "|Stackplot|绘制堆叠图|\n",
    "|stem|用来绘制二维离散数据绘制(又称为“火柴图”)|\n",
    "|Step|绘制阶梯图|\n",
    "|Quiver|绘制一个二维按箭头|"
   ]
  },
  {
   "cell_type": "code",
   "execution_count": null,
   "id": "546745af-406a-4017-904a-a4981afa838c",
   "metadata": {
    "slideshow": {
     "slide_type": "skip"
    }
   },
   "outputs": [],
   "source": [
    "plt.subplot(3, 3, 1)\n",
    "plt.plot(range(7), [3, 4, 7, 6, 2, 8, 9])\n",
    "plt.subplot(3, 3, 2)\n",
    "plt.stem(range(7), [3, 4, 7, 6, 2, 8, 9])\n",
    "plt.subplot(3, 3, 3)\n",
    "plt.scatter(range(7), [3, 4, 7, 6, 2, 8, 9])\n",
    "plt.subplot(3, 3, 4)\n",
    "plt.barh(range(7), [3, 4, 7, 6, 2, 8, 9])\n",
    "plt.subplot(3, 3, 5)\n",
    "plt.boxplot(range(7), [3, 4, 7, 6, 2, 8, 9])\n",
    "plt.subplot(3, 3, 6)\n",
    "plt.quiver(range(7), [3, 4, 7, 6, 2, 8, 9])\n",
    "plt.subplot(3, 3, 7)\n",
    "plt.stackplot(range(7), [3, 4, 7, 6, 2, 8, 9])\n",
    "plt.subplot(3, 3, 8)\n",
    "Labels = 'C_A', 'C_B', 'C_C', 'C_D', 'C_E', 'C_F', 'C_G'\n",
    "data = [3, 4, 7, 6, 2, 8, 9]\n",
    "Explode = (0, 0, 0.1, 0, 0, 0, 0)\n",
    "plt.pie(data, explode=Explode, labels=Labels)\n",
    "plt.subplot(3, 3, 9)\n",
    "plt.step(range(7), [3, 4, 7, 6, 2, 8, 9])\n",
    "plt.show()"
   ]
  },
  {
   "cell_type": "markdown",
   "id": "4cc218a5",
   "metadata": {
    "slideshow": {
     "slide_type": "subslide"
    }
   },
   "source": [
    "<img style='float:left;' src='File&Figure\\Advanced\\6pltfig40.png' width='40%'>\n",
    "<img style='float:left;' src='File&Figure\\Advanced\\6pltfig41.png' width='50%'>"
   ]
  },
  {
   "cell_type": "markdown",
   "id": "62ec2011-667c-431d-942b-fefb9b593292",
   "metadata": {
    "slideshow": {
     "slide_type": "slide"
    }
   },
   "source": [
    "## **动手试一试 1**"
   ]
  },
  {
   "cell_type": "markdown",
   "id": "7a30e066-73e1-4325-99c3-03dd7b8860e9",
   "metadata": {},
   "source": [
    "### **(1)绘制下列函数的图像：**  \n",
    "<img style=\"float:left;\" src=\"File&Figure\\Advanced\\5nplinalgpoly09.png\" width=\"35%\">"
   ]
  },
  {
   "cell_type": "code",
   "execution_count": null,
   "id": "da5f1094-b503-47ce-b55c-6bf8b9850432",
   "metadata": {},
   "outputs": [],
   "source": []
  },
  {
   "cell_type": "markdown",
   "id": "b1c7cd7f-358f-41ca-9d56-bf09b40a73df",
   "metadata": {
    "slideshow": {
     "slide_type": "subslide"
    }
   },
   "source": [
    "### **(2)利用matplotlib库中的pyplot模块，绘制x在[10,10]取值区间上的f(x)函数**  \n",
    "**f(x)的一阶导数和二阶导数的图形。要求：  \n",
    "绘制三幅图，分别放置上述的三个图形。  \n",
    "①第一幅图，标题为Polynomial,使用红色实线绘制。  \n",
    "②第二幅图，标题为FirstDerivative,使用蓝色虚线绘制。  \n",
    "③第三幅图，标题为SecondDerivative,使用绿色实心圆点绘制。**"
   ]
  },
  {
   "cell_type": "code",
   "execution_count": null,
   "id": "be4d968e-d2a8-4d4d-9094-62ca8ee21afc",
   "metadata": {
    "slideshow": {
     "slide_type": "subslide"
    },
    "tags": []
   },
   "outputs": [],
   "source": []
  },
  {
   "cell_type": "code",
   "execution_count": null,
   "id": "0fc0bf49-9b6a-435a-8388-017a4cc226d4",
   "metadata": {},
   "outputs": [],
   "source": []
  },
  {
   "cell_type": "markdown",
   "id": "a7022479-497c-4f98-b74d-51eec9d21b8d",
   "metadata": {
    "slideshow": {
     "slide_type": "slide"
    }
   },
   "source": [
    "## **§6.5 子图绘制----subplot()函数**"
   ]
  },
  {
   "cell_type": "markdown",
   "id": "ee2af52c-606d-4e67-8582-7d1ba66ec4a0",
   "metadata": {},
   "source": [
    "**1. plt.subplot(2, 2, 1)  \n",
    "2. ax4 = fig.add_subplot(221)  \n",
    "3. ax1 = fig.add_axes([0.0, 0.0, 0.42, 0.42])  \n",
    "4. fig, ax = plt.subplots(2, 2)**"
   ]
  },
  {
   "cell_type": "markdown",
   "id": "7e598af0-f38f-4bef-9761-42053df03e6f",
   "metadata": {
    "slideshow": {
     "slide_type": "skip"
    }
   },
   "source": [
    "### **1. plt.subplot(nrows, ncols, index)**"
   ]
  },
  {
   "cell_type": "code",
   "execution_count": null,
   "id": "bbdfb2c6-28f9-45fc-b339-92c9defc4b5a",
   "metadata": {
    "slideshow": {
     "slide_type": "skip"
    }
   },
   "outputs": [],
   "source": [
    "plt.subplot(2, 2, 1)\n",
    "plt.plot(range(7), [3, 4, 7, 6, 2, 8, 9])\n",
    "plt.subplot(2, 2, 2)\n",
    "plt.stem(range(7), [3, 4, 7, 6, 2, 8, 9])\n",
    "plt.subplot(2, 2, 3)\n",
    "plt.scatter(range(7), [3, 4, 7, 6, 2, 8, 9])\n",
    "plt.subplot(2, 2, 4)\n",
    "plt.barh(range(7), [3, 4, 7, 6, 2, 8, 9])"
   ]
  },
  {
   "cell_type": "markdown",
   "id": "997dfef7-d218-40e7-ae59-fc96a7d49eb7",
   "metadata": {
    "slideshow": {
     "slide_type": "subslide"
    }
   },
   "source": [
    "<img style='float:left;' src='File&Figure\\Advanced\\6pltfig591.png' width='45%'>\n",
    "<img style='float:left;' src='File&Figure\\Advanced\\6pltfig592.png' width='45%'>"
   ]
  },
  {
   "cell_type": "markdown",
   "id": "f78c9847-2637-4b63-8e96-5e5adac11259",
   "metadata": {
    "slideshow": {
     "slide_type": "subslide"
    }
   },
   "source": [
    "<img style='float:left;' src='File&Figure\\Advanced\\6pltfig593.png' width='45%'>\n",
    "<img style='float:left;' src='File&Figure\\Advanced\\6pltfig594.png' width='45%'>"
   ]
  },
  {
   "cell_type": "markdown",
   "id": "cd432ccf-7216-4169-be0f-d2cc599d2222",
   "metadata": {
    "slideshow": {
     "slide_type": "subslide"
    }
   },
   "source": [
    "<img style='float:left;' src='File&Figure\\Advanced\\6pltfig50.png' width='45%'>\n",
    "<img style='float:left;' src='File&Figure\\Advanced\\6pltfig51.png' width='45%'>"
   ]
  },
  {
   "cell_type": "markdown",
   "id": "a8b505e3-1f7d-4616-9902-a46e17863d44",
   "metadata": {
    "slideshow": {
     "slide_type": "skip"
    }
   },
   "source": [
    "### **2. ax4 = fig.add_subplot()**"
   ]
  },
  {
   "cell_type": "code",
   "execution_count": null,
   "id": "924736e6-a9c7-42db-a27e-c718af8d0807",
   "metadata": {
    "slideshow": {
     "slide_type": "skip"
    }
   },
   "outputs": [],
   "source": [
    "fig=plt.figure()\n",
    "ax4 = fig.add_subplot(221)\n",
    "ax5 = fig.add_subplot(222)\n",
    "ax6 = fig.add_subplot(223)\n",
    "ax7 = fig.add_subplot(224)\n",
    "\n",
    "ax4.plot(range(7), [3, 4, 7, 6, 2, 8, 9])\n",
    "ax5.stem(range(7), [3, 4, 7, 6, 2, 8, 9])\n",
    "ax6.scatter(range(7), [3, 4, 7, 6, 2, 8, 9])\n",
    "ax7.barh(range(7), [3, 4, 7, 6, 2, 8, 9])"
   ]
  },
  {
   "cell_type": "markdown",
   "id": "b5d46250-5872-43c2-9ab7-c282ad3e702e",
   "metadata": {
    "slideshow": {
     "slide_type": "skip"
    }
   },
   "source": [
    "### **3. ax1 = fig.add_axes()**"
   ]
  },
  {
   "cell_type": "code",
   "execution_count": null,
   "id": "48a12003-89cd-4a2c-aee8-95ddee6c7460",
   "metadata": {
    "slideshow": {
     "slide_type": "skip"
    }
   },
   "outputs": [],
   "source": [
    "fig=plt.figure(figsize=(5,3))\n",
    "ax4 = fig.add_axes([0.0, 0.0, 0.42, 0.42]) \n",
    "ax5 = fig.add_axes([0.5, 0.5, 0.42, 0.42]) \n",
    "ax6 = fig.add_axes([0.0, 0.5, 0.42, 0.42]) \n",
    "ax7 = fig.add_axes([0.5, 0.0, 0.42, 0.42]) \n",
    "\n",
    "ax6.plot(range(7), [3, 4, 7, 6, 2, 8, 9])\n",
    "ax5.stem(range(7), [3, 4, 7, 6, 2, 8, 9])\n",
    "ax4.scatter(range(7), [3, 4, 7, 6, 2, 8, 9])\n",
    "ax7.barh(range(7), [3, 4, 7, 6, 2, 8, 9])"
   ]
  },
  {
   "cell_type": "markdown",
   "id": "4af626b3-b5f6-48de-afb8-3e2c0afc0d48",
   "metadata": {
    "slideshow": {
     "slide_type": "skip"
    }
   },
   "source": [
    "### **4. fig, ax = plt.subplots(2, 2)**"
   ]
  },
  {
   "cell_type": "code",
   "execution_count": null,
   "id": "919a675e-2c3c-4b28-8622-8567e6cad45f",
   "metadata": {
    "slideshow": {
     "slide_type": "skip"
    }
   },
   "outputs": [],
   "source": [
    "fig, ax = plt.subplots(2, 2, figsize=(5,3))\n",
    "ax[0][0].plot(range(7), [3, 4, 7, 6, 2, 8, 9])\n",
    "ax[0][1].stem(range(7), [3, 4, 7, 6, 2, 8, 9])\n",
    "ax[1][0].scatter(range(7), [3, 4, 7, 6, 2, 8, 9])\n",
    "ax[1][1].barh(range(7), [3, 4, 7, 6, 2, 8, 9])"
   ]
  },
  {
   "cell_type": "markdown",
   "id": "db735d3b-bb96-49a2-ac3d-e3a3f40a8445",
   "metadata": {
    "slideshow": {
     "slide_type": "subslide"
    }
   },
   "source": [
    "### **5. 不规则图1**"
   ]
  },
  {
   "cell_type": "code",
   "execution_count": null,
   "id": "304a71be-7872-43f5-83de-ce970f035275",
   "metadata": {
    "slideshow": {
     "slide_type": "skip"
    }
   },
   "outputs": [],
   "source": [
    "import numpy as np\n",
    "import matplotlib.pyplot as plt\n",
    "\n",
    "def f(t):\n",
    "    return np.exp(-t) * np.cos(2*np.pi*t)\n",
    "\n",
    "t1 = np.arange(0.0, 3.0, 0.01)\n",
    "\n",
    "fig = plt.figure(figsize=(5,3.5))\n",
    "ax1 = plt.subplot(212)\n",
    "ax1.margins(0.05) \n",
    "ax1.plot(t1, f(t1))\n",
    "\n",
    "ax2 = plt.subplot(221)\n",
    "ax2.margins(2, 2) \n",
    "ax2.plot(t1, f(t1))\n",
    "ax2.set_title('Zoomed out')\n",
    "\n",
    "ax3 = plt.subplot(222)\n",
    "ax3.margins(x=0.1, y=-0.25) \n",
    "ax3.plot(t1, f(t1))\n",
    "ax3.set_title('Zoomed in')\n",
    "plt.show()"
   ]
  },
  {
   "cell_type": "markdown",
   "id": "0971bde3-9298-45ec-af7d-9c33dfb579a1",
   "metadata": {
    "slideshow": {
     "slide_type": "-"
    }
   },
   "source": [
    "<img style='float:left;' src='File&Figure\\Advanced\\6pltfig54.png' width='35%'>\n",
    "<img style='float:left;' src='File&Figure\\Advanced\\6pltfig52.png' width='50%'>"
   ]
  },
  {
   "cell_type": "markdown",
   "id": "23db754a-22cb-44a2-926a-c403a91e2b7f",
   "metadata": {
    "slideshow": {
     "slide_type": "subslide"
    }
   },
   "source": [
    "### **6. 不规则图2**"
   ]
  },
  {
   "cell_type": "code",
   "execution_count": null,
   "id": "556d29b1-4ecd-49ff-a68c-7400e21b6d4e",
   "metadata": {
    "slideshow": {
     "slide_type": "skip"
    }
   },
   "outputs": [],
   "source": [
    "import matplotlib.pyplot as plt\n",
    "from matplotlib.gridspec import GridSpec\n",
    "\n",
    "def format_axes(fig):\n",
    "    for i, ax in enumerate(fig.axes):\n",
    "        ax.text(0.5, 0.5, \"ax%d\" % (i+1), va=\"center\", ha=\"center\")\n",
    "        ax.tick_params(labelbottom=False, labelleft=False)\n",
    "\n",
    "fig = plt.figure(constrained_layout=True, figsize=(4,3))\n",
    "\n",
    "gs = GridSpec(3, 3, figure=fig)\n",
    "ax1 = fig.add_subplot(gs[0, :])\n",
    "# identical to ax1 = plt.subplot(gs.new_subplotspec((0, 0), colspan=3))\n",
    "ax2 = fig.add_subplot(gs[1, :-1])\n",
    "ax3 = fig.add_subplot(gs[1:, -1])\n",
    "ax4 = fig.add_subplot(gs[-1, 0])\n",
    "ax5 = fig.add_subplot(gs[-1, -2])\n",
    "\n",
    "fig.suptitle(\"GridSpec\")\n",
    "format_axes(fig)\n",
    "ax1.grid()\n",
    "ax2.grid()\n",
    "ax3.grid()\n",
    "ax4.grid()\n",
    "ax5.grid()\n",
    "plt.show()"
   ]
  },
  {
   "cell_type": "markdown",
   "id": "89bfb3cb",
   "metadata": {
    "slideshow": {
     "slide_type": "-"
    }
   },
   "source": [
    "<img style='float:left;' src='File&Figure\\Advanced\\6pltfig55.png' width='45%'>\n",
    "<img style='float:left;' src='File&Figure\\Advanced\\6pltfig53.png' width='50%'>"
   ]
  },
  {
   "cell_type": "markdown",
   "id": "378d704c-fb82-4af2-8e0d-14f6a67ca127",
   "metadata": {
    "slideshow": {
     "slide_type": "slide"
    }
   },
   "source": [
    "## **§6.6 matplotlib库的中文显示问题**"
   ]
  },
  {
   "cell_type": "markdown",
   "id": "28d482c1-add3-4a68-8490-00549c703ae6",
   "metadata": {
    "slideshow": {
     "slide_type": "slide"
    }
   },
   "source": [
    "<img style=\"float:left;\" src=\"File&Figure\\Advanced\\5nplinalgpoly09.png\" width=\"35%\">"
   ]
  },
  {
   "cell_type": "markdown",
   "id": "8f49cb24-dbfd-4b5c-88c6-08db218446d8",
   "metadata": {
    "slideshow": {
     "slide_type": "slide"
    }
   },
   "source": [
    "### **利用matplotlib库中的pyplot模块，绘制x在[10,10]取值区间上的f(x)函数**  \n",
    "**f(x)的一阶导数和二阶导数的图形。要求：  \n",
    "绘制六个子图，分别放置上述的六个图形。  \n",
    "第一个函数放在第1列：  \n",
    "①第一个子图区域，标题为Polynomial,使用红色实线绘制。  \n",
    "②第二个子图区域，标题为FirstDerivative,使用蓝色虚线绘制。  \n",
    "③第三个子图区域，标题为SecondDerivative,使用绿色实心圆点绘制。  \n",
    "第二个函数放在第2列：  \n",
    "①第一个子图区域，标题为Polynomial,使用红色实线绘制。  \n",
    "②第二个子图区域，标题为FirstDerivative,使用蓝色虚线绘制。  \n",
    "③第三个子图区域，标题为SecondDerivative,使用绿色实心圆点绘制。**"
   ]
  },
  {
   "cell_type": "code",
   "execution_count": null,
   "id": "bf3047e7-62ab-433b-a042-1f69b785f0ed",
   "metadata": {},
   "outputs": [],
   "source": []
  },
  {
   "cell_type": "markdown",
   "id": "7c4e203d-b6ff-43cb-98b4-0f05853b0057",
   "metadata": {
    "slideshow": {
     "slide_type": "slide"
    }
   },
   "source": [
    "## **§6.6 matplotlib库的中文显示问题**"
   ]
  },
  {
   "cell_type": "markdown",
   "id": "42d72a07-b977-4ac8-b376-607883844ff6",
   "metadata": {},
   "source": [
    "### **1.绘制文本**"
   ]
  },
  {
   "cell_type": "code",
   "execution_count": null,
   "id": "ef62e5ef-2123-47ce-aa11-3886fa5e721c",
   "metadata": {
    "slideshow": {
     "slide_type": "skip"
    }
   },
   "outputs": [],
   "source": [
    "import matplotlib.pyplot as plt\n",
    "plt.rcParams[\"font.sans-serif\"]=[\"SimHei\"] #设置字体\n",
    "plt.rcParams[\"axes.unicode_minus\"]=False #正常显示负号\n",
    "fig = plt.figure(figsize=(5,3))\n",
    "#添加绘图区域\n",
    "ax = fig.add_axes([0,0,1,1])\n",
    "#设置格式\n",
    "ax.set_title('axes title')\n",
    "ax.set_xlabel('xlabel')\n",
    "ax.set_ylabel('ylabel')\n",
    "# 3,8 表示x，y的坐标点；style设置字体样式为斜体；bbox用来设置盒子的属性，比如背景色\n",
    "ax.text(1.5, 8, 'C语言中网网，编程爱好者都喜欢的网站', \\\n",
    "        style='italic',bbox = {'facecolor': 'yellow'},fontsize=13)\n",
    "#绘制数学表达式,用$符包裹\n",
    "ax.text(2, 6, r'an equation: $E = mc^2$', fontsize = 15)\n",
    "#添加文字，并设置样式\n",
    "ax.text(4, 0.05, '网址：c.biancheng.net',verticalalignment = \\\n",
    "        'bottom', color = 'green', fontsize = 15)\n",
    "ax.plot([2], [1], 'o')\n",
    "#xy为点的坐标；xytext为注释内容坐标；arrowprops设置箭头的属性\n",
    "ax.annotate('C语言中文网', xy = (2, 1), xytext = (3, 4),\\\n",
    "            arrowprops = dict(facecolor = 'blue', shrink = 0.1))\n",
    "#设置坐标轴x,y\n",
    "ax.axis([0, 8, 0, 9])\n",
    "plt.show()"
   ]
  },
  {
   "cell_type": "markdown",
   "id": "7465b5e1-ce09-4dbb-91ba-14990ecebd2c",
   "metadata": {
    "slideshow": {
     "slide_type": "-"
    }
   },
   "source": [
    "<img style='float:left;' src='File&Figure\\Advanced\\6pltfig60.png' width='50%'>\n",
    "<img style='float:left;' src='File&Figure\\Advanced\\6pltfig61.png' width='50%'>"
   ]
  },
  {
   "cell_type": "markdown",
   "id": "438c6ef3-bbdf-4448-8e48-e7818cabc9db",
   "metadata": {
    "slideshow": {
     "slide_type": "subslide"
    }
   },
   "source": [
    "### **2. 数学表达式(r'$\\alpha > \\beta$')**"
   ]
  },
  {
   "cell_type": "code",
   "execution_count": null,
   "id": "d933567b-b80e-4e60-82b8-5890f6e56087",
   "metadata": {
    "slideshow": {
     "slide_type": "skip"
    }
   },
   "outputs": [],
   "source": [
    "#绘制表达式 r'$\\alpha_i> \\beta_i$'\n",
    "import numpy as np\n",
    "import matplotlib.pyplot as plt\n",
    "t = np.arange(0.0, 2.0, 0.01)\n",
    "s = np.sin(2*np.pi*t)\n",
    "#绘制函数图像\n",
    "fig = plt.figure(figsize=(4,3))\n",
    "plt.plot(t,s)\n",
    "#设置标题\n",
    "plt.title(r'$\\alpha_i> \\beta_i$', fontsize=12)\n",
    "#设置数学表达式\n",
    "plt.text(0.6, 0.6, r'$\\mathcal{A}\\mathrm{sin}(2 \\omega t)$', fontsize=12)\n",
    "#设置数学表达式\n",
    "plt.text(0.1, -0.5, r'$\\sqrt{2}$', fontsize=10)\n",
    "plt.xlabel('time (s)')\n",
    "plt.ylabel('volts (mV)')\n",
    "plt.show()"
   ]
  },
  {
   "cell_type": "code",
   "execution_count": null,
   "id": "b36fea9a-c7a3-4c03-87e7-87908cc48b77",
   "metadata": {},
   "outputs": [],
   "source": []
  },
  {
   "cell_type": "markdown",
   "id": "bd6f8c0c-571e-4097-ad36-ea45dddb59e5",
   "metadata": {
    "slideshow": {
     "slide_type": "-"
    }
   },
   "source": [
    "<img style='float:left;' src='File&Figure\\Advanced\\6pltfig63.png' width='45%'>\n",
    "<img style='float:left;' src='File&Figure\\Advanced\\6pltfig62.png' width='45%'>"
   ]
  },
  {
   "cell_type": "markdown",
   "id": "872b9860-8488-4c4e-ab67-e74d9ddd294b",
   "metadata": {
    "slideshow": {
     "slide_type": "slide"
    }
   },
   "source": [
    "## **§6.7 3D绘图与动画**"
   ]
  },
  {
   "cell_type": "markdown",
   "id": "c3148579-fd80-4e27-aadd-941cd9fc1335",
   "metadata": {},
   "source": [
    "### **1. 3D绘图1--colorhat$line3D**"
   ]
  },
  {
   "cell_type": "code",
   "execution_count": null,
   "id": "9389bfa1-0dc5-4969-840c-d43ea4458b35",
   "metadata": {
    "slideshow": {
     "slide_type": "skip"
    }
   },
   "outputs": [],
   "source": [
    "import matplotlib.pyplot as plt\n",
    "from matplotlib import cm\n",
    "import numpy as np\n",
    "from mpl_toolkits.mplot3d.axes3d import get_test_data\n",
    "\n",
    "# set up a figure twice as wide as it is tall\n",
    "fig = plt.figure(figsize=plt.figaspect(0.5))\n",
    "\n",
    "# 1. set up the axes for the first plot\n",
    "ax = fig.add_subplot(1, 2, 1, projection='3d')\n",
    "\n",
    "# plot a 3D surface like in the example mplot3d/surface3d_demo\n",
    "X = np.arange(-5, 5, 0.25)\n",
    "Y = np.arange(-5, 5, 0.25)\n",
    "X, Y = np.meshgrid(X, Y)\n",
    "R = np.sqrt(X**2 + Y**2)\n",
    "Z = np.sin(R)\n",
    "surf = ax.plot_surface(X, Y, Z, rstride=1, cstride=1, cmap=cm.coolwarm,\n",
    "                       linewidth=0, antialiased=False)\n",
    "ax.set_zlim(-1.01, 1.01)\n",
    "fig.colorbar(surf, shrink=0.5, aspect=10)\n",
    "\n",
    "# 2. set up the axes for the second plot\n",
    "ax = fig.add_subplot(1, 2, 2, projection='3d')\n",
    "\n",
    "# plot a 3D wireframe like in the example mplot3d/wire3d_demo\n",
    "X, Y, Z = get_test_data(0.05)\n",
    "ax.plot_wireframe(X, Y, Z, rstride=10, cstride=10)\n",
    "\n",
    "plt.show()"
   ]
  },
  {
   "cell_type": "markdown",
   "id": "6b155dae-fd87-4363-b107-99f7f32f87ce",
   "metadata": {
    "slideshow": {
     "slide_type": "-"
    }
   },
   "source": [
    "<img style='float:left;' src='File&Figure\\Advanced\\6pltfig71.png' width='70%'>"
   ]
  },
  {
   "cell_type": "markdown",
   "id": "4d09753f-eab3-4b53-92eb-0d41faf6db31",
   "metadata": {
    "slideshow": {
     "slide_type": "subslide"
    }
   },
   "source": [
    "### **2. 3D绘图2--steamedbread**"
   ]
  },
  {
   "cell_type": "code",
   "execution_count": null,
   "id": "4f63e801-0f8e-456c-a485-02d0435bf434",
   "metadata": {
    "slideshow": {
     "slide_type": "skip"
    }
   },
   "outputs": [],
   "source": [
    "import matplotlib.pyplot as plt\n",
    "import numpy as np\n",
    "\n",
    "ax = plt.figure().add_subplot(projection='3d')\n",
    "\n",
    "X, Y = np.mgrid[0:6*np.pi:0.25, 0:4*np.pi:0.25]\n",
    "Z = np.sqrt(np.abs(np.cos(X) + np.cos(Y)))\n",
    "\n",
    "ax.plot_surface(X + 1e5, Y + 1e5, Z, cmap='autumn', cstride=2, rstride=2)\n",
    "\n",
    "ax.set_xlabel(\"X label\")\n",
    "ax.set_ylabel(\"Y label\")\n",
    "ax.set_zlabel(\"Z label\")\n",
    "ax.set_zlim(0, 2)\n",
    "\n",
    "plt.show()"
   ]
  },
  {
   "cell_type": "markdown",
   "id": "3e7305df-dd1f-4030-bb93-ecd0ec7c7b83",
   "metadata": {
    "slideshow": {
     "slide_type": "-"
    }
   },
   "source": [
    "<img style='float:left;' src='File&Figure\\Advanced\\6pltfig72.png' width='45%'>"
   ]
  },
  {
   "cell_type": "markdown",
   "id": "867e5968-8120-40a6-b83d-34fa7d851ef1",
   "metadata": {
    "slideshow": {
     "slide_type": "subslide"
    }
   },
   "source": [
    "### **3. 3D绘图3--colorhat**"
   ]
  },
  {
   "cell_type": "code",
   "execution_count": null,
   "id": "cc3580d8-6811-44be-80e4-3bfb1fdb09ed",
   "metadata": {
    "slideshow": {
     "slide_type": "skip"
    }
   },
   "outputs": [],
   "source": [
    "import matplotlib.pyplot as plt\n",
    "from matplotlib import cm\n",
    "from matplotlib.ticker import LinearLocator\n",
    "import numpy as np\n",
    "\n",
    "fig, ax = plt.subplots(subplot_kw={\"projection\": \"3d\"})\n",
    "\n",
    "# Make data.\n",
    "X = np.arange(-5, 5, 0.25)\n",
    "Y = np.arange(-5, 5, 0.25)\n",
    "X, Y = np.meshgrid(X, Y)\n",
    "R = np.sqrt(X**2 + Y**2)\n",
    "Z = np.sin(R)\n",
    "\n",
    "# Plot the surface.\n",
    "surf = ax.plot_surface(X, Y, Z, cmap=cm.coolwarm,\n",
    "                       linewidth=0, antialiased=False)\n",
    "\n",
    "# Customize the z axis.\n",
    "ax.set_zlim(-1.01, 1.01)\n",
    "ax.zaxis.set_major_locator(LinearLocator(10))\n",
    "# A StrMethodFormatter is used automatically\n",
    "ax.zaxis.set_major_formatter('{x:.02f}')\n",
    "\n",
    "# Add a color bar which maps values to colors.\n",
    "fig.colorbar(surf, shrink=0.5, aspect=5)\n",
    "\n",
    "plt.show()"
   ]
  },
  {
   "cell_type": "markdown",
   "id": "dc17c4a4-de04-4fb8-9faf-ae40e2d472c7",
   "metadata": {
    "slideshow": {
     "slide_type": "-"
    }
   },
   "source": [
    "<img style='float:left;' src='File&Figure\\Advanced\\6pltfig73.png' width='50%'>"
   ]
  },
  {
   "cell_type": "markdown",
   "id": "f3e322ba-846b-4e39-be2f-bb9cdb188aa0",
   "metadata": {
    "slideshow": {
     "slide_type": "subslide"
    }
   },
   "source": [
    "### **5. 动画1--flycloud**"
   ]
  },
  {
   "cell_type": "code",
   "execution_count": null,
   "id": "78cb6eed-2d07-4b43-806e-4382a3d75fc9",
   "metadata": {
    "slideshow": {
     "slide_type": "skip"
    }
   },
   "outputs": [],
   "source": [
    "import numpy as np\n",
    "import matplotlib.pyplot as plt\n",
    "import matplotlib.animation as animation\n",
    "\n",
    "fig, ax = plt.subplots()\n",
    "\n",
    "def f(x, y):\n",
    "    return np.sin(x) + np.cos(y)\n",
    "\n",
    "x = np.linspace(0, 2 * np.pi, 120)\n",
    "y = np.linspace(0, 2 * np.pi, 100).reshape(-1, 1)\n",
    "\n",
    "# ims is a list of lists, each row is a list of artists to draw in the\n",
    "# current frame; here we are just animating one artist, the image, in\n",
    "# each frame\n",
    "ims = []\n",
    "for i in range(60):\n",
    "    x += np.pi / 15.\n",
    "    y += np.pi / 20.\n",
    "    im = ax.imshow(f(x, y), animated=True)\n",
    "    if i == 0:\n",
    "        ax.imshow(f(x, y))  # show an initial one first\n",
    "    ims.append([im])\n",
    "\n",
    "ani = animation.ArtistAnimation(fig, ims, interval=50, \n",
    "                         blit=True, repeat_delay=1000)\n",
    "ani.save(\"File&Figure/6plta1flycloud.gif\")"
   ]
  },
  {
   "cell_type": "markdown",
   "id": "4f24b87e-921f-407e-bae3-d335147723c7",
   "metadata": {
    "slideshow": {
     "slide_type": "-"
    }
   },
   "source": [
    "<img style='float:left;' src='File&Figure\\Advanced\\6plta1flycloud2.png' width='50%'>\n",
    "<img style='float:left;' src='File&Figure\\Advanced\\6plta1flycloud.gif' width='50%'>"
   ]
  },
  {
   "cell_type": "markdown",
   "id": "4fb04eea-7977-4959-9e92-d42723285d09",
   "metadata": {
    "slideshow": {
     "slide_type": "subslide"
    }
   },
   "source": [
    "### **6. 动画2----sint**"
   ]
  },
  {
   "cell_type": "code",
   "execution_count": null,
   "id": "44c6f34c-c90a-40eb-95fd-1195d51ad14a",
   "metadata": {
    "slideshow": {
     "slide_type": "skip"
    }
   },
   "outputs": [],
   "source": [
    "import itertools\n",
    "import numpy as np\n",
    "import matplotlib.pyplot as plt\n",
    "import matplotlib.animation as animation\n",
    "\n",
    "def data_gen():\n",
    "    for cnt in itertools.count():\n",
    "        t = cnt / 10\n",
    "        yield t, np.sin(2*np.pi*t) * np.exp(-t/10.)\n",
    "\n",
    "def init():\n",
    "    ax.set_ylim(-1.1, 1.1)\n",
    "    ax.set_xlim(0, 10)\n",
    "    del xdata[:]\n",
    "    del ydata[:]\n",
    "    line.set_data(xdata, ydata)\n",
    "    return line,\n",
    "\n",
    "fig, ax = plt.subplots()\n",
    "line, = ax.plot([], [], lw=2)\n",
    "ax.grid()\n",
    "xdata, ydata = [], []\n",
    "\n",
    "def run(data):\n",
    "    # update the data\n",
    "    t, y = data\n",
    "    xdata.append(t)\n",
    "    ydata.append(y)\n",
    "    xmin, xmax = ax.get_xlim()\n",
    "\n",
    "    if t >= xmax:\n",
    "        ax.set_xlim(xmin, 2*xmax)\n",
    "        ax.figure.canvas.draw()\n",
    "    line.set_data(xdata, ydata)\n",
    "\n",
    "    return line,\n",
    "\n",
    "ani = animation.FuncAnimation(fig, run, data_gen, \n",
    "                     interval=10, init_func=init)\n",
    "ani.save('File&Figure/6plta2sint.gif')"
   ]
  },
  {
   "cell_type": "markdown",
   "id": "682590a6-5be0-40ba-8187-2ebfe4765fef",
   "metadata": {
    "slideshow": {
     "slide_type": "-"
    }
   },
   "source": [
    "<img style='float:left;' src='File&Figure\\Advanced\\6plta2sint2.png' width='40%'>\n",
    "<img style='float:left;' src='File&Figure\\Advanced\\6plta2sint.gif' width='50%'>"
   ]
  },
  {
   "cell_type": "markdown",
   "id": "60eda363-c224-4738-a805-36f336510300",
   "metadata": {
    "slideshow": {
     "slide_type": "subslide"
    }
   },
   "source": [
    "### **7. 动画3--circlesint**"
   ]
  },
  {
   "cell_type": "code",
   "execution_count": null,
   "id": "62070a3c-373a-4a44-b695-d82a994ab8e1",
   "metadata": {
    "slideshow": {
     "slide_type": "skip"
    }
   },
   "outputs": [],
   "source": [
    "import numpy as np\n",
    "import matplotlib.pyplot as plt\n",
    "import matplotlib.animation as animation\n",
    "from matplotlib.patches import ConnectionPatch\n",
    "\n",
    "fig, (axl, axr) = plt.subplots(\n",
    "    ncols=2,\n",
    "    sharey=True,\n",
    "    figsize=(6, 2),\n",
    "    gridspec_kw=dict(width_ratios=[1, 3], wspace=0),\n",
    ")\n",
    "axl.set_aspect(1)\n",
    "axr.set_box_aspect(1 / 3)\n",
    "axr.yaxis.set_visible(False)\n",
    "axr.xaxis.set_ticks([0, np.pi, 2 * np.pi], [\"0\", r\"$\\pi$\", r\"$2\\pi$\"])\n",
    "\n",
    "# draw circle with initial point in left Axes\n",
    "x = np.linspace(0, 2 * np.pi, 50)\n",
    "axl.plot(np.cos(x), np.sin(x), \"k\", lw=0.3)\n",
    "point, = axl.plot(0, 0, \"o\")\n",
    "\n",
    "# draw full curve to set view limits in right Axes\n",
    "sine, = axr.plot(x, np.sin(x))\n",
    "\n",
    "# draw connecting line between both graphs\n",
    "con = ConnectionPatch(\n",
    "    (1, 0),      (0, 0),\n",
    "    \"data\",      \"data\",\n",
    "    axesA=axl,   axesB=axr,\n",
    "    color=\"C0\",  ls=\"dotted\",\n",
    ")\n",
    "fig.add_artist(con)\n",
    "\n",
    "def animate(i):\n",
    "    pos = np.cos(i), np.sin(i)\n",
    "    point.set_data(*pos)\n",
    "    x = np.linspace(0, i, int(i * 25 / np.pi))\n",
    "    sine.set_data(x, np.sin(x))\n",
    "    con.xy1 = pos\n",
    "    con.xy2 = i, pos[1]\n",
    "    return point, sine, con\n",
    "\n",
    "ani = animation.FuncAnimation(\n",
    "    fig,\n",
    "    animate,\n",
    "    interval=50,\n",
    "    blit=False,  # blitting can't be used with Figure artists\n",
    "    frames=x,\n",
    "    repeat_delay=100,\n",
    ")\n",
    "ani.save(\"File&Figure/6plta3circlesint.gif\")"
   ]
  },
  {
   "cell_type": "markdown",
   "id": "4a7c17fb-af81-4c65-bf44-aec781a5c900",
   "metadata": {
    "slideshow": {
     "slide_type": "-"
    }
   },
   "source": [
    "<img style='float:left;' src='File&Figure\\Advanced\\6plta3circlesint2.png' width='30%'>\n",
    "<img style='float:left;' src='File&Figure\\Advanced\\6plta3circlesint.gif' width='50%'>"
   ]
  },
  {
   "cell_type": "markdown",
   "id": "097d603f-d164-4a38-b1ae-47e4c529da15",
   "metadata": {
    "slideshow": {
     "slide_type": "subslide"
    }
   },
   "source": [
    "### **8. 动画4--shiftsint**"
   ]
  },
  {
   "cell_type": "code",
   "execution_count": null,
   "id": "743c0477-14fb-4247-a3ba-b58bfed24188",
   "metadata": {
    "slideshow": {
     "slide_type": "skip"
    }
   },
   "outputs": [],
   "source": [
    "import itertools\n",
    "\n",
    "import numpy as np\n",
    "import matplotlib.pyplot as plt\n",
    "import matplotlib.animation as animation\n",
    "\n",
    "def data_gen():\n",
    "    for cnt in itertools.count():\n",
    "        t = cnt / 10\n",
    "        yield t, np.sin(2*np.pi*t) * np.exp(-t/10.)\n",
    "\n",
    "def init():\n",
    "    ax.set_ylim(-1.1, 1.1)\n",
    "    ax.set_xlim(0, 1)\n",
    "    del xdata[:]\n",
    "    del ydata[:]\n",
    "    line.set_data(xdata, ydata)\n",
    "    return line,\n",
    "\n",
    "fig, ax = plt.subplots()\n",
    "line, = ax.plot([], [], lw=2)\n",
    "ax.grid()\n",
    "xdata, ydata = [], []\n",
    "\n",
    "def run(data):\n",
    "    # update the data\n",
    "    t, y = data\n",
    "    xdata.append(t)\n",
    "    ydata.append(y)\n",
    "    xmin, xmax = ax.get_xlim()\n",
    "    if t >= xmax:\n",
    "        ax.set_xlim(xmin, 2*xmax)\n",
    "        ax.figure.canvas.draw()\n",
    "    line.set_data(xdata, ydata)\n",
    "    return line,\n",
    "\n",
    "ani = animation.FuncAnimation(fig, run, data_gen, \n",
    "                    interval=100, init_func=init)\n",
    "ani.save(\"File&Figure/6plta4shiftsint.gif\")"
   ]
  },
  {
   "cell_type": "markdown",
   "id": "3c9a5b8a-3e11-4db6-a870-9896a0875f3e",
   "metadata": {
    "slideshow": {
     "slide_type": "-"
    }
   },
   "source": [
    "<img style='float:left;' src='File&Figure\\Advanced\\6plta4shiftsint2.png' width='27%'>\n",
    "<img style='float:left;' src='File&Figure\\Advanced\\6plta4shiftsint.gif' width='50%'>"
   ]
  },
  {
   "cell_type": "code",
   "execution_count": null,
   "id": "ca638363-e2ab-4295-99cc-a7a7d9e05878",
   "metadata": {},
   "outputs": [],
   "source": []
  }
 ],
 "metadata": {
  "celltoolbar": "Slideshow",
  "kernelspec": {
   "display_name": "Python 3 (ipykernel)",
   "language": "python",
   "name": "python3"
  },
  "language_info": {
   "codemirror_mode": {
    "name": "ipython",
    "version": 3
   },
   "file_extension": ".py",
   "mimetype": "text/x-python",
   "name": "python",
   "nbconvert_exporter": "python",
   "pygments_lexer": "ipython3",
   "version": "3.11.1"
  }
 },
 "nbformat": 4,
 "nbformat_minor": 5
}
