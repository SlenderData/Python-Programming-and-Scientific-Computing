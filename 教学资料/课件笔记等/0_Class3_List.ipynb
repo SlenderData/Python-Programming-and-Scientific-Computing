{
 "cells": [
  {
   "cell_type": "code",
   "execution_count": null,
   "id": "acfb2c82",
   "metadata": {},
   "outputs": [],
   "source": [
    "#添加以下代码以显示单元格中的所有输出\n",
    "from IPython.core.interactiveshell import InteractiveShell\n",
    "InteractiveShell.ast_node_interactivity = \"all\""
   ]
  },
  {
   "cell_type": "markdown",
   "id": "d9720876",
   "metadata": {
    "slideshow": {
     "slide_type": "slide"
    }
   },
   "source": [
    "## **第3课 列表字典与元组**"
   ]
  },
  {
   "cell_type": "markdown",
   "id": "752bd979",
   "metadata": {
    "slideshow": {
     "slide_type": "-"
    }
   },
   "source": [
    "**§3.1 列表与元素访问  \n",
    "§3.2 操作列表元素  \n",
    "§3.3 操作列表  \n",
    "§3.4 字典  \n",
    "§3.5 元组**"
   ]
  },
  {
   "cell_type": "markdown",
   "id": "ad02be1e",
   "metadata": {
    "slideshow": {
     "slide_type": "subslide"
    }
   },
   "source": [
    "### **§3.1 列表与元素访问**"
   ]
  },
  {
   "cell_type": "markdown",
   "id": "68af26d0",
   "metadata": {
    "tags": []
   },
   "source": [
    "#### **1.简介列表**"
   ]
  },
  {
   "cell_type": "markdown",
   "id": "ca38cd8f-2b83-42c5-a4f2-e94ecb3bd4fe",
   "metadata": {},
   "source": [
    "**I. 列表(list) 由一系列按特定顺序排列的元素组成。**  \n",
    "\n",
    "**II. 将一组相关数据放在一对方括号“[]”中即定义了一个列表。**\n",
    "\n",
    "**III. 方括号中的每个数据称为元素，元素和元素之间用“，”隔开。  \n",
    "     元素的个数称为列表的长度。**  \n",
    "     \n",
    "**IV. 列表也允许当元素。**"
   ]
  },
  {
   "cell_type": "markdown",
   "id": "44a7d19a",
   "metadata": {
    "slideshow": {
     "slide_type": "subslide"
    }
   },
   "source": [
    "**创建一个列表，只要把逗号分隔的不同的数据项使用方括号括起来即可。**"
   ]
  },
  {
   "cell_type": "code",
   "execution_count": null,
   "id": "8b38261e",
   "metadata": {
    "slideshow": {
     "slide_type": "fragment"
    }
   },
   "outputs": [],
   "source": [
    "## 列表的建立\n",
    "list1 = ['python', 'ShowMeAI', 1997, 2022]\n",
    "list2 = [1, 2, 3, 4, 5]\n",
    "list3 = [\"a\", \"b\", \"c\", \"d\"]\n",
    "list1\n",
    "list2\n",
    "list3"
   ]
  },
  {
   "cell_type": "markdown",
   "id": "1780b63a",
   "metadata": {
    "slideshow": {
     "slide_type": "subslide"
    }
   },
   "source": [
    "#### **2.元素访问 -- 索引和切片**"
   ]
  },
  {
   "cell_type": "markdown",
   "id": "0b6a1823-e841-40f9-942f-a9160e8e1c91",
   "metadata": {},
   "source": [
    "**要访问列表元素，可指出列表的名称，再指出元素的索引，并将后者放在方括号内**"
   ]
  },
  {
   "cell_type": "code",
   "execution_count": null,
   "id": "8a1d9e70",
   "metadata": {},
   "outputs": [],
   "source": [
    "list2 = [1, 2, 3, 4, 5]\n",
    "list2[2]"
   ]
  },
  {
   "cell_type": "markdown",
   "id": "8e8f87ca-70c7-4d8b-8176-97b64796ba7d",
   "metadata": {
    "slideshow": {
     "slide_type": "fragment"
    }
   },
   "source": [
    "**列表元素的索引是从0开始，向右依次加1进行编号的。  \n",
    "列表元素也有正向和反向两种索引方式。**"
   ]
  },
  {
   "cell_type": "markdown",
   "id": "88e4edf9",
   "metadata": {
    "slideshow": {
     "slide_type": "subslide"
    }
   },
   "source": [
    "||'S'| 'h'| 'o'| 'w'| 'M'| 'e'| 'A'| 'I'|\n",
    "|---|---|---|---|---|---|---|---|---|\n",
    "|正向索引|0|1|2|3|4|5|6|7|\n",
    "|反向索引|-8|-7|-6|-5|-4|-3|-2|-1|"
   ]
  },
  {
   "cell_type": "code",
   "execution_count": null,
   "id": "3e8739e3",
   "metadata": {},
   "outputs": [],
   "source": [
    "list3 = ['S', 'h', 'o', 'w', 'M', 'e', 'A', 'I']\n",
    "list3[1:3]\n",
    "list3[:4]\n",
    "list3[6:]\n",
    "list3[:]"
   ]
  },
  {
   "cell_type": "markdown",
   "id": "67925977",
   "metadata": {
    "slideshow": {
     "slide_type": "slide"
    },
    "tags": []
   },
   "source": [
    "### **动手试一试1 List**"
   ]
  },
  {
   "cell_type": "markdown",
   "id": "61c503b7-a691-4b06-b70b-f497352db506",
   "metadata": {},
   "source": [
    "**练习1：问候语 将一些朋友的姓名存储在一个列表中，并将其命名为names。  \n",
    "依次访问该列表中的每个元素，为每人打印一条消息。每条消息都包含相同的问候语，但抬头为相应朋友的姓名。**"
   ]
  },
  {
   "cell_type": "code",
   "execution_count": null,
   "id": "5e568066",
   "metadata": {
    "slideshow": {
     "slide_type": "fragment"
    }
   },
   "outputs": [],
   "source": [
    "names = ['ron', 'tyler', 'dani']\n",
    "for name in names:\n",
    "    print(f\"{name.title()}, how are you!\")"
   ]
  },
  {
   "cell_type": "markdown",
   "id": "37db347d",
   "metadata": {
    "slideshow": {
     "slide_type": "slide"
    },
    "tags": []
   },
   "source": [
    "####  §3.2 操作列表元素"
   ]
  },
  {
   "cell_type": "markdown",
   "id": "962c1a64",
   "metadata": {
    "slideshow": {
     "slide_type": "-"
    },
    "tags": []
   },
   "source": [
    "**1. 创建列表  \n",
    "2. 添加元素：末尾  append  \n",
    "            任意位置  insert(0,'X')**\n",
    "            \n",
    "**3. 修改列表元素-- 列表[索引]='X'**  \n",
    "\n",
    "**4. 删除元素：   \n",
    "    I. 任意位置 del 语句  \n",
    "    II. 末尾位置 pop()  \n",
    "    III. 任意位置 pop(2)  \n",
    "    IV.根据值删除元素 remove('XX')** "
   ]
  },
  {
   "cell_type": "markdown",
   "id": "673ca1f3",
   "metadata": {
    "slideshow": {
     "slide_type": "subslide"
    }
   },
   "source": [
    "#### **1. 创建  自行车 列表**"
   ]
  },
  {
   "cell_type": "code",
   "execution_count": null,
   "id": "fe9a3fda",
   "metadata": {
    "tags": []
   },
   "outputs": [],
   "source": [
    "bicycles = ['捷安特', '永久', '凤凰', '飞鸽', '美利达', '哈啰']\n",
    "msg = f\"我喜欢骑 {bicycles[2].title()} 自行车!\"\n",
    "msg"
   ]
  },
  {
   "cell_type": "markdown",
   "id": "9f4c630c",
   "metadata": {
    "slideshow": {
     "slide_type": "fragment"
    }
   },
   "source": [
    "#### **2. 添加元素 (1) 末尾  append  (2) 任意位置 insert(0,'')**"
   ]
  },
  {
   "cell_type": "code",
   "execution_count": null,
   "id": "77f09e9e",
   "metadata": {
    "tags": []
   },
   "outputs": [],
   "source": [
    "#bicycles = ['捷安特', '永久', '凤凰', '飞鸽', '美利达', '哈啰']\n",
    "bicycles.append('喜德盛')\n",
    "bicycles"
   ]
  },
  {
   "cell_type": "code",
   "execution_count": null,
   "id": "d5913146",
   "metadata": {
    "slideshow": {
     "slide_type": "fragment"
    },
    "tags": []
   },
   "outputs": [],
   "source": [
    "bicycles.insert(0, '崔克')\n",
    "bicycles"
   ]
  },
  {
   "cell_type": "markdown",
   "id": "a17737c1",
   "metadata": {
    "slideshow": {
     "slide_type": "subslide"
    }
   },
   "source": [
    "#### **3. 修改  自行车列表元素 列表[索引]**"
   ]
  },
  {
   "cell_type": "code",
   "execution_count": null,
   "id": "99cf514b",
   "metadata": {
    "tags": []
   },
   "outputs": [],
   "source": [
    "#bicycles = ['崔克', '捷安特', '永久', '凤凰', '飞鸽', '美利达', '哈啰', '喜德盛']\n",
    "bicycles[4] = '迪卡侬' #法国\n",
    "bicycles"
   ]
  },
  {
   "cell_type": "markdown",
   "id": "5fd8aea9",
   "metadata": {
    "slideshow": {
     "slide_type": "subslide"
    }
   },
   "source": [
    "#### **4. 删除元素： (I) 任意位置 del 语句 (II) 末尾位置pop()**"
   ]
  },
  {
   "cell_type": "code",
   "execution_count": null,
   "id": "aea476b5",
   "metadata": {
    "tags": []
   },
   "outputs": [],
   "source": [
    "#bicycles = ['崔克', '捷安特', '永久', '凤凰', '迪卡侬', '美利达', '哈啰', '喜德盛']\n",
    "del bicycles[0]\n",
    "bicycles"
   ]
  },
  {
   "cell_type": "code",
   "execution_count": null,
   "id": "e773b23d",
   "metadata": {
    "slideshow": {
     "slide_type": "fragment"
    },
    "tags": []
   },
   "outputs": [],
   "source": [
    "poped_bicycles = bicycles.pop()\n",
    "bicycles\n",
    "poped_bicycles"
   ]
  },
  {
   "cell_type": "markdown",
   "id": "e08a9a5b",
   "metadata": {
    "slideshow": {
     "slide_type": "subslide"
    }
   },
   "source": [
    "#### **4. 删除元素： (III) 任意位置pop(X) (IV) 根据值删除元素 remove('XX')**"
   ]
  },
  {
   "cell_type": "code",
   "execution_count": null,
   "id": "748dccf9",
   "metadata": {
    "tags": []
   },
   "outputs": [],
   "source": [
    "#bicycles = ['捷安特', '永久', '凤凰', '迪卡侬', '美利达', '哈啰']\n",
    "poped_bicycles = bicycles.pop(2)\n",
    "bicycles\n",
    "poped_bicycles"
   ]
  },
  {
   "cell_type": "code",
   "execution_count": null,
   "id": "94adb561",
   "metadata": {
    "slideshow": {
     "slide_type": "fragment"
    },
    "tags": []
   },
   "outputs": [],
   "source": [
    "poped_bicycles = bicycles.remove('美利达')\n",
    "bicycles\n",
    "poped_bicycles"
   ]
  },
  {
   "cell_type": "markdown",
   "id": "21d183f6",
   "metadata": {
    "slideshow": {
     "slide_type": "slide"
    },
    "tags": []
   },
   "source": [
    "### **动手试一试2 列表元素 操作**"
   ]
  },
  {
   "cell_type": "markdown",
   "id": "5040ac50-0817-4d3a-a671-2e3498121380",
   "metadata": {},
   "source": [
    "**练习2: 假设有列表list_student=[[“001”,”李元芳”，19],[“002”,”刘禅”,20],[“003”,”张三丰“，18]]，  \n",
    "依次存放了每名学生的学号、姓名和年龄。试编写程序，实现以下功能：  \n",
    " (a) 在列表末尾添加学生信息：学号“004”，姓名“柯镇恶”，年龄19；学号“006”，姓名“十三郎”，年龄20。  \n",
    " (b) 在列表的适当位置添加如下的学生信息：学号“005”，姓名“唐涤生”，年龄20。  \n",
    " (c) 输出学号为003的学生信息。  \n",
    " (d) 输出所有学生的姓名。  \n",
    " (e) 输出年龄大于19的所有学生的信息。**"
   ]
  },
  {
   "cell_type": "code",
   "execution_count": null,
   "id": "8794afb4",
   "metadata": {
    "slideshow": {
     "slide_type": "subslide"
    }
   },
   "outputs": [],
   "source": [
    "lst_student = [[\"001\", \"李元芳\", 19], [\"002\", \"刘禅\", 20], [\"003\", \"张三丰\", 18]]\n",
    "lst_student1 = [[\"004\", \"柯镇恶\", 19], [\"006\", \"十三郎\", 20]]\n",
    "lst_student.extend(lst_student1)\n",
    "add = [\"005\", \"唐涤生\", 20]\n",
    "lst_student.insert(4, add)\n",
    "print(lst_student[2])\n",
    "print(\"年龄大于19的所有学生的信息：\", [x for x in lst_student if x[2]>19])"
   ]
  },
  {
   "cell_type": "markdown",
   "id": "1696e28e",
   "metadata": {
    "slideshow": {
     "slide_type": "slide"
    },
    "tags": []
   },
   "source": [
    "### **§3.3 操作列表**\n",
    "**1.创建新表** \n",
    "\n",
    "**2.列表排序    \n",
    "    I. 方法sort()对列表永久排序  \n",
    "    II. 函数sorted()对列表临时排序**  \n",
    "    \n",
    "**3. 列表的统计操作(长度、最小值、最大值等)**  \n",
    "\n",
    "**4. 遍历整个列表**"
   ]
  },
  {
   "cell_type": "markdown",
   "id": "f6c3ef64",
   "metadata": {
    "slideshow": {
     "slide_type": "subslide"
    }
   },
   "source": [
    "#### **1.创建新表**  \n",
    "**I.不同的数据项使用方括号括起来  \n",
    "II.使用range() 创建数字列表  \n",
    "III. 利用列表推导式创建新列表  \n",
    "IV. 使用列表的一部分---切片  \n",
    "V. 使用列表的一部分---遍历切片  \n",
    "VI. 使用列表的一部分---复制列表**"
   ]
  },
  {
   "cell_type": "markdown",
   "id": "8a32c7be-ba19-48f1-ae8c-f7c5302d57db",
   "metadata": {
    "slideshow": {
     "slide_type": "subslide"
    }
   },
   "source": [
    "**I.不同的数据项使用方括号括起来**"
   ]
  },
  {
   "cell_type": "code",
   "execution_count": null,
   "id": "89a4d498",
   "metadata": {},
   "outputs": [],
   "source": [
    "list1 = ['python', 'ShowMeAI', 1997, 2022]\n",
    "list2 = [1, 2, 3, 4, 5]\n",
    "list3 = [\"a\", \"b\", \"c\", \"d\"]\n",
    "list4 = []\n",
    "list1\n",
    "list2\n",
    "list3\n",
    "list4"
   ]
  },
  {
   "cell_type": "markdown",
   "id": "27815973",
   "metadata": {
    "slideshow": {
     "slide_type": "subslide"
    }
   },
   "source": [
    "**II.使用range() 创建数字列表**"
   ]
  },
  {
   "cell_type": "code",
   "execution_count": null,
   "id": "e9443f7e",
   "metadata": {},
   "outputs": [],
   "source": [
    "numbers = list(range(1, 6))\n",
    "numbers"
   ]
  },
  {
   "cell_type": "markdown",
   "id": "79d7581b",
   "metadata": {
    "slideshow": {
     "slide_type": "subslide"
    }
   },
   "source": [
    "**III. 利用列表推导式创建新列表**"
   ]
  },
  {
   "cell_type": "code",
   "execution_count": null,
   "id": "103a5001",
   "metadata": {},
   "outputs": [],
   "source": [
    "list1 = [i for i in range(1, 21, 2)]\n",
    "list1"
   ]
  },
  {
   "cell_type": "code",
   "execution_count": null,
   "id": "cba07709",
   "metadata": {
    "slideshow": {
     "slide_type": "fragment"
    }
   },
   "outputs": [],
   "source": [
    "squares1 = [value**2 for value in range(1, 11)]\n",
    "squares1"
   ]
  },
  {
   "cell_type": "code",
   "execution_count": null,
   "id": "96caf133",
   "metadata": {
    "slideshow": {
     "slide_type": "fragment"
    }
   },
   "outputs": [],
   "source": [
    "squares2 = [i**2 for i in list1]\n",
    "squares2"
   ]
  },
  {
   "cell_type": "markdown",
   "id": "34354242",
   "metadata": {
    "slideshow": {
     "slide_type": "subslide"
    }
   },
   "source": [
    "**IV. 使用列表的一部分---切片**"
   ]
  },
  {
   "cell_type": "code",
   "execution_count": null,
   "id": "3d4c70e1",
   "metadata": {
    "tags": []
   },
   "outputs": [],
   "source": [
    "bicycles = ['捷安特', '永久', '凤凰', '飞鸽', '哈啰']\n",
    "bicycles[0:3]"
   ]
  },
  {
   "cell_type": "markdown",
   "id": "3494717f",
   "metadata": {
    "slideshow": {
     "slide_type": "fragment"
    }
   },
   "source": [
    "**V. 使用列表的一部分---遍历切片**"
   ]
  },
  {
   "cell_type": "code",
   "execution_count": null,
   "id": "128dbc79",
   "metadata": {
    "tags": []
   },
   "outputs": [],
   "source": [
    "bicycles = ['捷安特', '永久', '凤凰', '飞鸽', '哈啰']\n",
    "print(\"Here are the first three bicycles on my team:\")\n",
    "for bicycle in bicycles[:3]:\n",
    "    print(bicycle.title())"
   ]
  },
  {
   "cell_type": "markdown",
   "id": "5a8af0a2",
   "metadata": {
    "slideshow": {
     "slide_type": "subslide"
    }
   },
   "source": [
    "**VI. 使用列表的一部分---复制列表**"
   ]
  },
  {
   "cell_type": "code",
   "execution_count": null,
   "id": "daa1e087",
   "metadata": {
    "tags": []
   },
   "outputs": [],
   "source": [
    "list1 = [i for i in range(1, 11)]\n",
    "list1\n",
    "list2 = list1[:]\n",
    "list2\n",
    "list2 = list1[3:8]\n",
    "list2"
   ]
  },
  {
   "cell_type": "markdown",
   "id": "f6d326f4",
   "metadata": {
    "slideshow": {
     "slide_type": "subslide"
    }
   },
   "source": [
    "#### **2.列表排序**\n",
    "**I. 方法sort()对列表永久排序    \n",
    "II. 函数sorted()对列表临时排序**  "
   ]
  },
  {
   "cell_type": "code",
   "execution_count": null,
   "id": "85cccebe",
   "metadata": {
    "tags": []
   },
   "outputs": [],
   "source": [
    "import random\n",
    "random.seed(10)\n",
    "\n",
    "list1 = [random.randrange(0, 10, 1) for i in range(10)]\n",
    "list1\n",
    "list1.sort()\n",
    "list1\n",
    "list1.sort(reverse=True)\n",
    "list1"
   ]
  },
  {
   "cell_type": "markdown",
   "id": "e8c2b69b",
   "metadata": {
    "slideshow": {
     "slide_type": "subslide"
    }
   },
   "source": [
    "**II. 函数sorted()对列表临时排序**"
   ]
  },
  {
   "cell_type": "code",
   "execution_count": null,
   "id": "0db534a2",
   "metadata": {},
   "outputs": [],
   "source": [
    "import random\n",
    "random.seed(10)\n",
    "list1 = [random.randrange(0, 10, 1) for i in range(10)]\n",
    "\n",
    "list1\n",
    "sorted(list1, reverse=True)\n",
    "list1"
   ]
  },
  {
   "cell_type": "markdown",
   "id": "fd534042",
   "metadata": {
    "slideshow": {
     "slide_type": "subslide"
    }
   },
   "source": [
    "#### **3. 列表的统计操作(长度、最小值、最大值等)**"
   ]
  },
  {
   "cell_type": "code",
   "execution_count": null,
   "id": "abd2849d",
   "metadata": {},
   "outputs": [],
   "source": [
    "digits = [i for i in range(10)]\n",
    "digits\n",
    "len(digits)\n",
    "min(digits)\n",
    "max(digits)\n",
    "sum(digits)"
   ]
  },
  {
   "cell_type": "markdown",
   "id": "b638ef65",
   "metadata": {
    "slideshow": {
     "slide_type": "subslide"
    }
   },
   "source": [
    "#### **4. 遍历整个列表**"
   ]
  },
  {
   "cell_type": "code",
   "execution_count": null,
   "id": "b13caed2",
   "metadata": {},
   "outputs": [],
   "source": [
    "cars = ['bmw', 'audi', '比亚迪', '沃尔沃']\n",
    "for car in cars:\n",
    "    print(car)"
   ]
  },
  {
   "cell_type": "code",
   "execution_count": null,
   "id": "64605c09",
   "metadata": {
    "tags": []
   },
   "outputs": [],
   "source": [
    "cars = ['bmw', 'audi', '比亚迪', '沃尔沃']\n",
    "for car in cars:\n",
    "    print(f\"{car.title()}, 是一辆好车!\\n\")"
   ]
  },
  {
   "cell_type": "markdown",
   "id": "d5b69ea9",
   "metadata": {
    "slideshow": {
     "slide_type": "slide"
    },
    "tags": [],
    "toc-hr-collapsed": true
   },
   "source": [
    "### **动手试一试3 列表操作**"
   ]
  },
  {
   "cell_type": "markdown",
   "id": "bd03599c-3be0-4257-8f98-fe58cce1d821",
   "metadata": {},
   "source": [
    "**练习3: 编写程序，实现以下功能：创建一个列表，依次存放每个月对应的天数。\n",
    "假设2月份的天数固定为28天。根据用户输入的月份查询该月的天数并输出。**"
   ]
  },
  {
   "cell_type": "code",
   "execution_count": null,
   "id": "1e248411",
   "metadata": {
    "slideshow": {
     "slide_type": "fragment"
    }
   },
   "outputs": [],
   "source": [
    "month = [31, 28, 31, 30, 31, 30, 31, 31, 30, 31, 30, 31]\n",
    "a = int(input(\"请输入查询的月份：\"))\n",
    "if a <= 12 and a>0 :\n",
    "    print(\"这个月有\", month[a-1], \"天\")\n",
    "else:\n",
    "    print(\"输入数字出错\")"
   ]
  },
  {
   "cell_type": "markdown",
   "id": "f14236f6",
   "metadata": {
    "slideshow": {
     "slide_type": "slide"
    }
   },
   "source": [
    "### **§3.4 字典**"
   ]
  },
  {
   "cell_type": "markdown",
   "id": "7f6ac044-b39d-4e51-b55f-fb0b977fe948",
   "metadata": {
    "slideshow": {
     "slide_type": "-"
    }
   },
   "source": [
    "**字典是一种通过名字或者关键字引用的数据结构，  \n",
    "    其键可以是数字、字符串、元组，这种结构类型也称之为映射。  \n",
    "字典格式：{键1：值1，键2：值2，…}**"
   ]
  },
  {
   "cell_type": "markdown",
   "id": "5d72c8c5",
   "metadata": {
    "slideshow": {
     "slide_type": "subslide"
    }
   },
   "source": [
    "#### **1. 字典的概述**"
   ]
  },
  {
   "cell_type": "code",
   "execution_count": null,
   "id": "74d90a9a",
   "metadata": {},
   "outputs": [],
   "source": [
    "d = {'one': 1, 'two': 2, 'three': 3}"
   ]
  },
  {
   "cell_type": "markdown",
   "id": "5962776a-1ad7-4ba3-a6bb-948501b5416e",
   "metadata": {
    "slideshow": {
     "slide_type": "fragment"
    }
   },
   "source": [
    "**使用键读取字典的值**"
   ]
  },
  {
   "cell_type": "code",
   "execution_count": null,
   "id": "722e91b6",
   "metadata": {},
   "outputs": [],
   "source": [
    "d['one']\n",
    "d['two']\n",
    "d['three']"
   ]
  },
  {
   "cell_type": "markdown",
   "id": "8d973f4c",
   "metadata": {
    "slideshow": {
     "slide_type": "subslide"
    }
   },
   "source": [
    "#### **2. 使用字典**\n",
    "  **I.创建字典  \n",
    " II.添加键值对  \n",
    "III.访问字典中的值  \n",
    " IV.修改字典中的值  \n",
    "  V.删除键值对  \n",
    " VI.使用get() 来访问值**  "
   ]
  },
  {
   "cell_type": "markdown",
   "id": "287aafe9",
   "metadata": {
    "slideshow": {
     "slide_type": "subslide"
    }
   },
   "source": [
    "##### **I.创建字典**"
   ]
  },
  {
   "cell_type": "code",
   "execution_count": null,
   "id": "6c3a2114",
   "metadata": {},
   "outputs": [],
   "source": [
    "#### 内置函数dict()创建字典\n",
    "tuplekey = ('n1', 'n2', 'n3', 'n4', 'n5')\n",
    "listvalue = ['一', '二', '三', '四', '五']\n",
    "dict2 = dict(zip(tuplekey, listvalue))\n",
    "dict2"
   ]
  },
  {
   "cell_type": "code",
   "execution_count": null,
   "id": "c0b4c085",
   "metadata": {},
   "outputs": [],
   "source": [
    "#### 直接创建字典\n",
    "dicAreas = {}\n",
    "dicAreas"
   ]
  },
  {
   "cell_type": "markdown",
   "id": "272d8a3a",
   "metadata": {
    "slideshow": {
     "slide_type": "subslide"
    }
   },
   "source": [
    "##### **II.添加键值对**"
   ]
  },
  {
   "cell_type": "code",
   "execution_count": null,
   "id": "1bb89a55",
   "metadata": {},
   "outputs": [],
   "source": [
    "dicAreas['China'] = 960.1\n",
    "dicAreas['Canada'] = 991.7\n",
    "dicAreas['Russia'] = 1707.5\n",
    "dicAreas['Brazil'] = 856.7\n",
    "dicAreas"
   ]
  },
  {
   "cell_type": "markdown",
   "id": "07fd3d66",
   "metadata": {
    "slideshow": {
     "slide_type": "subslide"
    }
   },
   "source": [
    "##### **III.访问字典中的值**"
   ]
  },
  {
   "cell_type": "code",
   "execution_count": null,
   "id": "7fb1da7b",
   "metadata": {},
   "outputs": [],
   "source": [
    "dicAreas['China']\n",
    "dicAreas['Canada']\n",
    "dicAreas['Russia']\n",
    "dicAreas['Brazil']"
   ]
  },
  {
   "cell_type": "markdown",
   "id": "010627f1",
   "metadata": {
    "slideshow": {
     "slide_type": "subslide"
    }
   },
   "source": [
    "##### **IV.修改字典中的值**"
   ]
  },
  {
   "cell_type": "code",
   "execution_count": null,
   "id": "ba744b1e",
   "metadata": {},
   "outputs": [],
   "source": [
    "dicAreas['Brazil'] = 888.8\n",
    "dicAreas"
   ]
  },
  {
   "cell_type": "markdown",
   "id": "7e756c0f",
   "metadata": {},
   "source": [
    "##### **V.删除键值对**"
   ]
  },
  {
   "cell_type": "code",
   "execution_count": null,
   "id": "7d3fcfd2",
   "metadata": {},
   "outputs": [],
   "source": [
    "del dicAreas['Brazil']\n",
    "dicAreas"
   ]
  },
  {
   "cell_type": "markdown",
   "id": "88e2d7b0",
   "metadata": {
    "slideshow": {
     "slide_type": "subslide"
    }
   },
   "source": [
    "##### **VI.使用get() 来访问值**"
   ]
  },
  {
   "cell_type": "code",
   "execution_count": null,
   "id": "2098a777",
   "metadata": {},
   "outputs": [],
   "source": [
    "'China' in dicAreas\n",
    "dicAreas.get('China')"
   ]
  },
  {
   "cell_type": "markdown",
   "id": "42a90997",
   "metadata": {
    "slideshow": {
     "slide_type": "slide"
    }
   },
   "source": [
    "### **动手试一试4**"
   ]
  },
  {
   "cell_type": "markdown",
   "id": "f240d8b1-5a95-46b0-9683-3923e6295406",
   "metadata": {},
   "source": [
    "**练习4: 已知字符串s=”Whether the weather be fine, or whether the weather be not. Whether the weather be cold, or whether the weather be hot.We will weather the whether we like it or not.”,  \n",
    "存放了一个英文绕口令。试编写程序，统计该字符串中英文单词的个数（不区分大小写且不能重复）。**"
   ]
  },
  {
   "cell_type": "code",
   "execution_count": null,
   "id": "36f324cd",
   "metadata": {
    "slideshow": {
     "slide_type": "subslide"
    }
   },
   "outputs": [],
   "source": [
    "s = '''Whether the weather be fine, or whether the weather be not. \n",
    "     Whether the weather be cold, or whether the weather be hot. \n",
    "     We will weather the weather whether we like it or not.'''\n",
    "s = s.lower().replace(',','').replace('.','')\n",
    "lst = s.split(' ')\n",
    "wordSet = set(lst)\n",
    "print(wordSet)\n",
    "print(\"一共出现了{}个单词。\".format(len(wordSet)))"
   ]
  },
  {
   "cell_type": "markdown",
   "id": "a15ee988-1f7b-4b95-8df0-67b6f12aacf5",
   "metadata": {
    "slideshow": {
     "slide_type": "subslide"
    }
   },
   "source": [
    "**练习5: 编写程序，完成以下功能：  \n",
    "（a) 设计一个空字典，用于存放用户的通信录（包括姓名和电话号码）。  \n",
    "（b)程序运行后，显示用户选项：  \n",
    "①　新增联系人    \n",
    "②　查询联系人   \n",
    "③　删除联系人  \n",
    "④　退出程序  \n",
    "（c) 根据用户的选择，进入下一步，执行相应的功能，完成通信录的增加、查询、删除以及退出系统的功能。**"
   ]
  },
  {
   "cell_type": "code",
   "execution_count": null,
   "id": "71894346",
   "metadata": {
    "slideshow": {
     "slide_type": "subslide"
    }
   },
   "outputs": [],
   "source": [
    "phone = {}\n",
    "while 1:\n",
    "    choose = int(input(\"1.新增联系人  2. 查询联系人 3. 删除联系人 4.退出程序\"))\n",
    "    if choose == 1:\n",
    "        name = str(input(\"请输入姓名\"))\n",
    "        num = int(input(\"请输入电话号码\"))\n",
    "        phone[name] = num\n",
    "        print(\"添加成功当前通讯录\", phone)\n",
    "    elif choose == 2:\n",
    "        name = str(input(\"请输入姓名\"))\n",
    "        if name in phone:\n",
    "            print(phone[name])\n",
    "        else:\n",
    "            print(\"查无此人\")\n",
    "    elif choose == 3:\n",
    "        name = str(input(\"请输入姓名\"))\n",
    "        del phone[name]\n",
    "        print(\"删除成功当前通讯录\", phone)\n",
    "    elif choose == 4:\n",
    "        break\n",
    "    else:\n",
    "        print(\"请按要求输入操作数\")"
   ]
  },
  {
   "cell_type": "markdown",
   "id": "ae3f0a93",
   "metadata": {
    "slideshow": {
     "slide_type": "slide"
    }
   },
   "source": [
    "#### **3. 遍历字典**\n",
    "  **I. 遍历所有键值对  \n",
    " II. 遍历所有键  \n",
    "III. 遍历所有值  \n",
    " IV. 对遍历返回的键进行排序  \n",
    "  V. 遍历字典中的所有值且排序**"
   ]
  },
  {
   "cell_type": "code",
   "execution_count": null,
   "id": "498e55f1",
   "metadata": {},
   "outputs": [],
   "source": [
    "dicAreas = {}\n",
    "dicAreas['China'] = 960.1\n",
    "dicAreas['Canada'] = 991.7\n",
    "dicAreas['Russia'] = 1707.5\n",
    "dicAreas['Brazil'] = 856.7\n",
    "dicAreas"
   ]
  },
  {
   "cell_type": "markdown",
   "id": "bb477c60",
   "metadata": {
    "slideshow": {
     "slide_type": "subslide"
    }
   },
   "source": [
    "**I. 遍历所有键值对**"
   ]
  },
  {
   "cell_type": "code",
   "execution_count": null,
   "id": "c7d57a3a",
   "metadata": {},
   "outputs": [],
   "source": [
    "for item in dicAreas.items():\n",
    "    print(item)"
   ]
  },
  {
   "cell_type": "markdown",
   "id": "db9d03c4",
   "metadata": {
    "slideshow": {
     "slide_type": "fragment"
    }
   },
   "source": [
    "**II. 遍历所有键**"
   ]
  },
  {
   "cell_type": "code",
   "execution_count": null,
   "id": "a11f4ceb",
   "metadata": {},
   "outputs": [],
   "source": [
    "for key in dicAreas.keys():\n",
    "    key"
   ]
  },
  {
   "cell_type": "markdown",
   "id": "f6455823",
   "metadata": {
    "slideshow": {
     "slide_type": "subslide"
    }
   },
   "source": [
    "**III. 遍历所有值**"
   ]
  },
  {
   "cell_type": "code",
   "execution_count": null,
   "id": "3e5d1a91",
   "metadata": {},
   "outputs": [],
   "source": [
    "for value in dicAreas.values():\n",
    "    f\"{value}\" ##字符串\n",
    "value ##数值"
   ]
  },
  {
   "cell_type": "markdown",
   "id": "e7c134a4",
   "metadata": {
    "slideshow": {
     "slide_type": "subslide"
    }
   },
   "source": [
    "**IV. 对返回的键进行排序**"
   ]
  },
  {
   "cell_type": "code",
   "execution_count": null,
   "id": "df8c4791",
   "metadata": {},
   "outputs": [],
   "source": [
    "for name in sorted(dicAreas.keys(), reverse=True):\n",
    "    f\"{name.title()}\""
   ]
  },
  {
   "cell_type": "markdown",
   "id": "808e6187",
   "metadata": {
    "slideshow": {
     "slide_type": "subslide"
    }
   },
   "source": [
    "**V. 遍历字典中的所有值且排序**"
   ]
  },
  {
   "cell_type": "code",
   "execution_count": null,
   "id": "28fef3b5",
   "metadata": {},
   "outputs": [],
   "source": [
    "for value in sorted(dicAreas.values()):\n",
    "    f\"{value}\""
   ]
  },
  {
   "cell_type": "markdown",
   "id": "d54c8f50",
   "metadata": {
    "slideshow": {
     "slide_type": "subslide"
    }
   },
   "source": [
    "#### **4. 字典嵌套**"
   ]
  },
  {
   "cell_type": "markdown",
   "id": "e0df5a79-3037-4daa-a2eb-93a4e7fe121e",
   "metadata": {},
   "source": [
    "**将一系列字典存储在列表中，或将列表作为值存储在字典中，这称为嵌套  \n",
    "I. 字典列表  \n",
    "II. 在字典中存储列表  \n",
    "III. 在字典中存储字典**"
   ]
  },
  {
   "cell_type": "markdown",
   "id": "4dc6aae0",
   "metadata": {
    "slideshow": {
     "slide_type": "subslide"
    }
   },
   "source": [
    " **I. 字典列表**"
   ]
  },
  {
   "cell_type": "code",
   "execution_count": null,
   "id": "c1157c3e",
   "metadata": {
    "slideshow": {
     "slide_type": "-"
    }
   },
   "outputs": [],
   "source": [
    "#### 字典alien_X 包含一个外星人的各种信息\n",
    "alien_0 = {'color': 'green', 'points': 5}\n",
    "alien_1 = {'color': 'yellow', 'points': 10}\n",
    "alien_2 = {'color': 'red', 'points': 15}\n",
    "#### 管理成群结队的外星人\n",
    "aliens = [alien_0, alien_1, alien_2]"
   ]
  },
  {
   "cell_type": "code",
   "execution_count": null,
   "id": "f90e3195",
   "metadata": {
    "slideshow": {
     "slide_type": "subslide"
    }
   },
   "outputs": [],
   "source": [
    "aliens\n",
    "for alien in aliens:\n",
    "    print(alien)\n",
    "'''  '''\n",
    "for alien in aliens[:2]:\n",
    "    print(alien)"
   ]
  },
  {
   "cell_type": "markdown",
   "id": "cf0e0ccd",
   "metadata": {
    "slideshow": {
     "slide_type": "subslide"
    }
   },
   "source": [
    "**II. 在字典中存储列表**"
   ]
  },
  {
   "cell_type": "code",
   "execution_count": null,
   "id": "568afe05",
   "metadata": {
    "slideshow": {
     "slide_type": "-"
    },
    "tags": []
   },
   "outputs": [],
   "source": [
    "favorite_languages = {\n",
    "    '王': ['python', 'c++'],\n",
    "    '张': ['c'],\n",
    "    '李': ['ruby', 'go'],\n",
    "    '赵': ['python', 'C#', 'JAVA'],\n",
    "    }\n",
    "for name, languages in favorite_languages.items():\n",
    "    print(f\"\\n{name.title()}'s favorite languages are:\")\n",
    "    for language in languages:\n",
    "        print(f\"\\t{language.title()}\")"
   ]
  },
  {
   "cell_type": "markdown",
   "id": "3a50ac8a",
   "metadata": {
    "slideshow": {
     "slide_type": "subslide"
    }
   },
   "source": [
    "**III. 在字典中存储字典**"
   ]
  },
  {
   "cell_type": "code",
   "execution_count": null,
   "id": "249de793",
   "metadata": {},
   "outputs": [],
   "source": [
    "users = {'aeinstein': {\n",
    "            'first': 'albert',   'last': 'einstein',  'location': 'princeton', },\n",
    "         'mcurie': {\n",
    "            'first': 'marie',    'last': 'curie',   'location': 'paris',},\n",
    "}\n",
    "for username, user_info in users.items():\n",
    "    print(f\"\\nUsername:  {username}\")\n",
    "    full_name = f\"{user_info['first']} {user_info['last']}\"\n",
    "    location = user_info['location']\n",
    "    print(f\"\\tFull name:  {full_name.title()}\")\n",
    "    print(f\"\\tLocation:  {location.title()}\")"
   ]
  },
  {
   "cell_type": "markdown",
   "id": "139b3ae8",
   "metadata": {
    "slideshow": {
     "slide_type": "slide"
    }
   },
   "source": [
    "### **动手试一试5**"
   ]
  },
  {
   "cell_type": "markdown",
   "id": "3036c023-7fca-4dc1-a5ba-e270babc397c",
   "metadata": {},
   "source": [
    "**练习6：喜欢的地方  \n",
    "   创建一个名为avorite_places 的字典。在这个字典中，  \n",
    "将三个人的名字用作键，并存储每个人喜欢的1～3个地方。  \n",
    "为了让这个练习更有趣些，可以让一些朋友说出他们喜欢的  \n",
    "几个地方。遍历这个字典，并将其中每个人的名字及其喜欢的地方打印出来。**"
   ]
  },
  {
   "cell_type": "code",
   "execution_count": null,
   "id": "abf1b57b",
   "metadata": {
    "slideshow": {
     "slide_type": "subslide"
    }
   },
   "outputs": [],
   "source": [
    "favorite_places = {'张三': ['北京长城', '张家界', '黄果树'], \n",
    "                   '李四': ['夏威夷', '冰岛'], \n",
    "                   '王五': ['黄山', '峨眉山', '乐册大佛'] \n",
    "                  }\n",
    "\n",
    "for name, places in favorite_places.items(): \n",
    "    print(f\"\\n{name.title()} likes the following places:\") \n",
    "    for place in places: \n",
    "        print(f\"- {place.title()}\")"
   ]
  },
  {
   "cell_type": "markdown",
   "id": "263421d2",
   "metadata": {
    "slideshow": {
     "slide_type": "slide"
    },
    "tags": [],
    "toc-hr-collapsed": true
   },
   "source": [
    "### **§3.5 元组**"
   ]
  },
  {
   "cell_type": "markdown",
   "id": "471a1b5a",
   "metadata": {
    "tags": []
   },
   "source": [
    "**元组也是用来存放一组相关的数据。**"
   ]
  },
  {
   "cell_type": "markdown",
   "id": "fb4fe31d-65fc-4de3-8679-8487af62761f",
   "metadata": {},
   "source": [
    "**元组与列表的区别：  \n",
    "(1)元组使用圆括号()。列表使用方括号[]。  \n",
    "(2)元组的元素不能修改。**"
   ]
  },
  {
   "cell_type": "markdown",
   "id": "8db91d51",
   "metadata": {
    "slideshow": {
     "slide_type": "subslide"
    }
   },
   "source": [
    "#### **1. 定义元组**"
   ]
  },
  {
   "cell_type": "code",
   "execution_count": null,
   "id": "c724fe1b",
   "metadata": {},
   "outputs": [],
   "source": [
    "tuple1 = ('a', 'b', 'c', 'd', 'e')\n",
    "tuple1[0]\n",
    "tuple1[1]"
   ]
  },
  {
   "cell_type": "markdown",
   "id": "31e19d54",
   "metadata": {
    "slideshow": {
     "slide_type": "fragment"
    }
   },
   "source": [
    "#### **2. 遍历元组中的所有值**"
   ]
  },
  {
   "cell_type": "code",
   "execution_count": null,
   "id": "9109148a",
   "metadata": {
    "tags": []
   },
   "outputs": [],
   "source": [
    "## 修改整个元组值\n",
    "tuple1 = ('a', 'b', 'c', 'd', 'e')\n",
    "for tuple2 in tuple1:\n",
    "    print(tuple2)"
   ]
  },
  {
   "cell_type": "markdown",
   "id": "ba0b5d92",
   "metadata": {
    "slideshow": {
     "slide_type": "subslide"
    },
    "tags": []
   },
   "source": [
    "#### **3. 修改整个元组值**"
   ]
  },
  {
   "cell_type": "code",
   "execution_count": null,
   "id": "d86164c4",
   "metadata": {
    "tags": []
   },
   "outputs": [],
   "source": [
    "## 修改整个元组值\n",
    "tuple1 = ('a', 'b', 'c', 'd', 'e')\n",
    "tuple1\n",
    "    \n",
    "tuple1 = ('a1', 'b1', 'c1', 'd1')\n",
    "tuple1"
   ]
  },
  {
   "cell_type": "markdown",
   "id": "529ed921",
   "metadata": {
    "slideshow": {
     "slide_type": "slide"
    }
   },
   "source": [
    "### **动手试一试6**"
   ]
  },
  {
   "cell_type": "markdown",
   "id": "1bb30af8-c099-41fe-8b26-4c6b3b4ac2fc",
   "metadata": {},
   "source": [
    "**练习6：喜欢的地方  \n",
    "   创建一个名为avorite_places 的字典。在这个字典中，  \n",
    "将三个人的名字用作键，并存储每个人喜欢的1～3个地方。  \n",
    "为了让这个练习更有趣些，可以让一些朋友说出他们喜欢的  \n",
    "几个地方。遍历这个字典，并将其中每个人的名字及其喜欢的地方打印出来。**"
   ]
  },
  {
   "cell_type": "code",
   "execution_count": null,
   "id": "fa935611",
   "metadata": {
    "slideshow": {
     "slide_type": "subslide"
    },
    "tags": []
   },
   "outputs": [],
   "source": [
    "favorite_places = {'张三': ['北京长城', '张家界', '黄果树'], \n",
    "                   '李四': ['夏威夷', '冰岛'], \n",
    "                   '王五': ['黄山', '峨眉山', '乐册大佛'] \n",
    "                  }\n",
    "\n",
    "for name, places in favorite_places.items(): \n",
    "    print(f\"\\n{name.title()} likes the following places:\") \n",
    "    for place in places: \n",
    "        print(f\"- {place.title()}\")"
   ]
  },
  {
   "cell_type": "markdown",
   "id": "7b02a6a2",
   "metadata": {
    "slideshow": {
     "slide_type": "slide"
    }
   },
   "source": [
    "### **§3.6 集合**"
   ]
  },
  {
   "cell_type": "markdown",
   "id": "19e4dfdc-db9c-4481-85cd-7ff428751d07",
   "metadata": {},
   "source": [
    "**集合用来存放一组无序且互不相同的元素。  \n",
    "   组成集合的元素必须是不可变类型。**  \n",
    "**(1). 无序: 集合内的元素数据没有顺序  \n",
    "(2). 不可更改: 集合内的元素不可更改  \n",
    "(3). 无类型要求: 集合内的元素可以是各种类型的  \n",
    "(4). 唯一性: 集合不允许有重复的元素**"
   ]
  },
  {
   "cell_type": "markdown",
   "id": "e9546ee0",
   "metadata": {
    "slideshow": {
     "slide_type": "subslide"
    }
   },
   "source": [
    "**1. 集合的创建与访问  \n",
    "2. 集合的操作  \n",
    "I.添加元素  \n",
    "II.删除元素  \n",
    "III.集合的运算**"
   ]
  },
  {
   "cell_type": "markdown",
   "id": "bdae99a5-aa26-4135-b295-8ab2ffecde46",
   "metadata": {
    "slideshow": {
     "slide_type": "subslide"
    }
   },
   "source": [
    "#### **1. 集合的创建与访问**"
   ]
  },
  {
   "cell_type": "markdown",
   "id": "45574626",
   "metadata": {},
   "source": [
    "##### **I.集合的创建**"
   ]
  },
  {
   "cell_type": "markdown",
   "id": "d40dc4da-dd97-4b31-80a5-20c19f7c22ea",
   "metadata": {},
   "source": [
    "**(1). 元素必是不可变的，元素与元素间也要保证互不相同。  \n",
    "(2). set()函数在序列转换成集合时会自动去掉重复项。  \n",
    "(3). 不带参数的set()函数才能创建空集合**"
   ]
  },
  {
   "cell_type": "code",
   "execution_count": null,
   "id": "78b2394a",
   "metadata": {
    "slideshow": {
     "slide_type": "subslide"
    }
   },
   "outputs": [],
   "source": [
    "#### 直接创建\n",
    "set1 = {'春', '夏', '秋', '冬', '春', '夏', '秋'}\n",
    "set1\n",
    "#### 使用set()函数创建集合\n",
    "s1=set('hello,world!')\n",
    "s1\n",
    "#### 创建空集合\n",
    "s1={}\n",
    "s1"
   ]
  },
  {
   "cell_type": "markdown",
   "id": "4c1372fd",
   "metadata": {
    "slideshow": {
     "slide_type": "subslide"
    }
   },
   "source": [
    "##### **II.集合的访问**"
   ]
  },
  {
   "cell_type": "code",
   "execution_count": null,
   "id": "d490b942",
   "metadata": {},
   "outputs": [],
   "source": [
    "import random\n",
    "ls = []\n",
    "for i in range(20):\n",
    "    ls.append(random.randint(0, 20))\n",
    "\n",
    "s = set(ls)\n",
    "s1 = sorted(s)\n",
    "print(\"生成的20个0-20随机数为：\\n\", ls)\n",
    "print(\"\\n出现在集合中的数有：\\n\", s)\n",
    "print(\"\\n排序后的集合：\\n\", s1)"
   ]
  },
  {
   "cell_type": "markdown",
   "id": "da2772a6",
   "metadata": {
    "slideshow": {
     "slide_type": "subslide"
    }
   },
   "source": [
    "#### **2. 集合的基本操作**"
   ]
  },
  {
   "cell_type": "code",
   "execution_count": null,
   "id": "f33c0fc4",
   "metadata": {},
   "outputs": [],
   "source": [
    "set1 = {'春', '夏', '秋', '冬'}\n",
    "\n",
    "set2 = {3, 2, 1, 4, 5}\n",
    "\n",
    "list1 = ['东', '南', '西', '北']\n",
    "set3 = set(list1)\n",
    "\n",
    "set4 = set3\n",
    "###### set3和set4是指向同一地址的对象\n",
    "\n",
    "print('set1: ', set1)\n",
    "print('set2: ', set2)\n",
    "print('set3: ', set3)\n",
    "print('set4: ', set4)"
   ]
  },
  {
   "cell_type": "markdown",
   "id": "630b8884",
   "metadata": {
    "slideshow": {
     "slide_type": "subslide"
    }
   },
   "source": [
    "##### **I.添加元素 (1)S.add(item)  (2) S.update(items)**"
   ]
  },
  {
   "cell_type": "code",
   "execution_count": null,
   "id": "a38a1f5b",
   "metadata": {},
   "outputs": [],
   "source": [
    "set4.add('中')\n",
    "print('添加元素的set3:', set3)\n",
    "print('添加元素的set4:', set4)\n",
    "set4.update(set1)\n",
    "print('update的set4(set1):', set4)"
   ]
  },
  {
   "cell_type": "markdown",
   "id": "e25c0688",
   "metadata": {
    "slideshow": {
     "slide_type": "subslide"
    }
   },
   "source": [
    "##### **II.删除元素**\n",
    "**S.remove(items)， S.discard(item)，  S.pop()，  S.clear()**"
   ]
  },
  {
   "cell_type": "code",
   "execution_count": null,
   "id": "ffde4619",
   "metadata": {},
   "outputs": [],
   "source": [
    "set3.remove('中')\n",
    "print('删除元素的set3:', set3)\n",
    "set3.discard('南')\n",
    "print('discard的set3:', set3)\n",
    "set3.pop()\n",
    "print('pop的set3:', set3)\n",
    "set3.clear()\n",
    "print('clear的set3:', set3)"
   ]
  },
  {
   "cell_type": "markdown",
   "id": "6ab04a38-1bce-4e65-a5bb-001bd372d3f4",
   "metadata": {
    "slideshow": {
     "slide_type": "subslide"
    }
   },
   "source": [
    "##### **III.成员判断**\n",
    "**Item in S**"
   ]
  },
  {
   "cell_type": "code",
   "execution_count": null,
   "id": "668cef47-409a-4c4e-b822-3340ae91bb1e",
   "metadata": {
    "tags": []
   },
   "outputs": [],
   "source": [
    "set2 = {3, 2, 1, 4, 5}\n",
    "3 in set2"
   ]
  },
  {
   "cell_type": "markdown",
   "id": "573368a5",
   "metadata": {
    "slideshow": {
     "slide_type": "subslide"
    }
   },
   "source": [
    "#### **3. 集合的数学运算**\n",
    "**&  |  -**"
   ]
  },
  {
   "cell_type": "code",
   "execution_count": null,
   "id": "f72c3a04",
   "metadata": {},
   "outputs": [],
   "source": [
    "set3 = {'西', '南', '北', '东', '左', '右'}\n",
    "set4 = {'上', '下', '东', '西', '北', '南'}\n",
    "print('set3 & set4: ', set3 & set4)\n",
    "print('set3 | set4: ', set3 | set4)\n",
    "print('set3 - set4: ', set3 - set4)\n",
    "print('set4 - set3: ', set4 - set3)"
   ]
  },
  {
   "cell_type": "markdown",
   "id": "fab53cd5-b6cd-4ab7-9cfd-65a4a0483d70",
   "metadata": {
    "slideshow": {
     "slide_type": "subslide"
    }
   },
   "source": [
    "**(1) 交集: A.union(B)  \n",
    "(2) 并集; A.intersection(B)  \n",
    "(3) 差集:  A.difference(B)  \n",
    "(4) 对称差集:  A.symmetric_difference(B)**"
   ]
  },
  {
   "cell_type": "code",
   "execution_count": null,
   "id": "7edfc965-3ea3-4984-b3d7-871722914214",
   "metadata": {},
   "outputs": [],
   "source": [
    "print(\"set4 Before append: \", set4)\n",
    "print('set4.difference(set3): ', set4.difference(set3))\n",
    "print('set4.intersection(set3): ', set4.intersection(set3))\n",
    "print('set4.union(set3): ', set4.union(set3))"
   ]
  }
 ],
 "metadata": {
  "celltoolbar": "Slideshow",
  "kernelspec": {
   "display_name": "Python 3 (ipykernel)",
   "language": "python",
   "name": "python3"
  },
  "language_info": {
   "codemirror_mode": {
    "name": "ipython",
    "version": 3
   },
   "file_extension": ".py",
   "mimetype": "text/x-python",
   "name": "python",
   "nbconvert_exporter": "python",
   "pygments_lexer": "ipython3",
   "version": "3.11.1"
  }
 },
 "nbformat": 4,
 "nbformat_minor": 5
}
